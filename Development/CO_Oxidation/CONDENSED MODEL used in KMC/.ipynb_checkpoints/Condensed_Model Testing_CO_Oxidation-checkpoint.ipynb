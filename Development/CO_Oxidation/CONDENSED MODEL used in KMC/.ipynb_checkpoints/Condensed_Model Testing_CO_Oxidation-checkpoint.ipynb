{
 "cells": [
  {
   "cell_type": "markdown",
   "metadata": {},
   "source": [
    "***\n",
    "$$\\mathbf{\\text{Author: Kenneth Kusima}}$$<br>\n",
    "$$\\mathbf{\\text{Python MicroKinetics Code}}$$<br>\n",
    "$\\mathbf{\\text{Date: 09/22}}$<br>\n",
    "***"
   ]
  },
  {
   "cell_type": "code",
   "execution_count": null,
   "metadata": {},
   "outputs": [],
   "source": [
    "from main import *\n",
    "import numpy as np\n",
    "import matplotlib.pyplot as plt\n",
    "%matplotlib notebook"
   ]
  },
  {
   "cell_type": "markdown",
   "metadata": {},
   "source": [
    "## Model:"
   ]
  },
  {
   "cell_type": "markdown",
   "metadata": {},
   "source": [
    "# ***\n",
    "$\\mathbf{\\text{Micro Kinetic Model for (an 11-Step Mechanism) CO Oxidation}}:$<br>\n",
    "#### [Link to Relevant Paper](https://pubs.acs.org/doi/10.1021/cs500377j) \n",
    "***\n",
    "$$\\require{mhchem}$$       \n",
    "---\n",
    "Overall Reaction: \n",
    "$$ CO + \\frac{1}{2} O_2 {\\stackrel{\\tiny{\\textrm{Pt/Pd}}}{\\rightleftharpoons}} CO_2 $$\n",
    "$Ea = 80kJ{mol}^{-1}<->120kJ{mol}^{-1}$\n",
    "---\n",
    "Note Reations in the Reaction Mechanism may be reversible or irreversible\n",
    "\n",
    "Reaction 1:&emsp;Adsorption of CO / Desorption of CO* \n",
    "\n",
    "$$ CO(g) + * \\rightleftharpoons CO^{*} $$  <br> \n",
    "\n",
    "Reaction 2:&emsp;Adsorption of $O_2$ / Desorption of $O_2^*$ \n",
    "\n",
    "$$ {O_2}(g) + * \\rightleftharpoons {{O_2}^{*}} $$  <br> \n",
    "\n",
    "Reaction 3:&emsp;Dissociation of ${O_2}^*$ / Recombination of O* \n",
    "\n",
    "$$ {{O_2}^{*}} + *  \\rightleftharpoons {O^{*}} +  {O^{*}} $$  <br> \n",
    "\n",
    "Reaction 4:&emsp;CO Oxidation Reaction (Implied Adsorption of $CO_2$)\n",
    "\n",
    "$$ {{CO}^{*}} + {{O}^{*}} \\rightleftharpoons {{CO}_2}(g) + * + * $$  <br> \n",
    "\n",
    "***\n",
    "$\\mathbf{\\text{Modelling Proposed Reaction Mechanism}}:$<br>\n",
    "***\n",
    "${{k_i}^j= \\textrm{Rate constant/coefficient for reaction i,}} \\\\  \\hspace{0.5cm} \\textrm{for j = {f,r} ; where f = forward reaction and r  = the reverse reaction} \\\\ r_i = \\textrm{Rate of reaction for reaction i}$\n",
    "\n",
    "${\\theta_m = \\textrm{Surface Coverage of species m}} \\\\ \\sum_{m=1}^{N} \\theta_{m} = 1 \\\\ $\n",
    "\n",
    "\n",
    "### The Atomic/Species Matrix ($\\nu$):\n",
    "\n",
    "\n",
    "\\begin{equation}\n",
    "\\\n",
    "\\nu=\\begin{bmatrix}\n",
    "          &   CO    &   O_2   &   CO_2  &     {CO^*}    &    {O*}      & {O_2^*}     &   *  \\\\\n",
    "C         &   1     &   0     &   1     &      1        &    0         &     0       &    0\\\\\n",
    "O         &   1     &   2     &   2     &      1        &    1         &     2       &    0\\\\\n",
    "*         &   0     &   0     &   0     &      1        &    1         &     1       &    1\\end{bmatrix}\n",
    "\\\n",
    "\\end{equation}\n",
    "\n",
    "Atomic Matrix Size : (4x11)\n",
    "### The Stoichiometric Matrix (A):\n",
    "\n",
    "\\begin{equation}\n",
    "\\\n",
    "A=\\begin{bmatrix}\n",
    "    & P_{CO}  &P_{O_2} & P_{CO_2} & \\theta_{CO}    & \\theta_{O}     & \\theta_{O_2}  &\\theta_{*}\\\\\n",
    "r_1 &  -1     &   0     &   0     &      1          &      0         &     0          &  -1\\\\\n",
    "r_2 &   0     &  -1     &   0     &      0          &      0         &     1          &  -1\\\\\n",
    "r_3 &   0     &   0     &   0     &      0          &      2         &    -1          &  -1\\\\  \n",
    "r_4 &   0     &   0     &   1     &     -1          &     -1         &     0          &   2\\end{bmatrix} \n",
    "\\\n",
    "\\end{equation}\n",
    "\n",
    "Stoichiometric Matrix Size : (11x11)\n",
    "\n",
    "Note:\n",
    "\n",
    "- For Mass to be conserved:\n",
    "$$\\mathbf{A}\\mathbf{\\nu = 0}$$\n",
    "\n",
    "$i =$ species\n",
    "\n",
    "$j =$ reaction\n",
    "\n",
    "- To find the Rate of reaction of reaction j:\n",
    "\n",
    "$$ r_j = k_{j,f} \\prod_{i_f} P_{i,f} \\theta_{i,f}^{A_{i,j}} - k_{j,r} \\prod_{i_r} P_{i,r} \\theta_{i,r}^{A_{i,j}}  $$\n",
    "\n",
    "- To find the Rate of production of species i:\n",
    "$$R_{\\theta_i}=\\frac{d\\theta_i}{dt} = \\sum_j A_{j,i} \\cdot r_j $$"
   ]
  },
  {
   "cell_type": "code",
   "execution_count": null,
   "metadata": {},
   "outputs": [],
   "source": [
    "MKM1 = MKModel('Atomic.csv','Stoich.csv','Param.csv') #Defining the Model"
   ]
  },
  {
   "cell_type": "code",
   "execution_count": null,
   "metadata": {},
   "outputs": [],
   "source": [
    "MKM1.Atomic"
   ]
  },
  {
   "cell_type": "code",
   "execution_count": null,
   "metadata": {},
   "outputs": [],
   "source": [
    "MKM1.Stoich #prints out the Stoichiometric Matrix Used"
   ]
  },
  {
   "cell_type": "code",
   "execution_count": null,
   "metadata": {},
   "outputs": [],
   "source": [
    "MKM1.Param.iloc[5:13,1:3]"
   ]
  },
  {
   "cell_type": "code",
   "execution_count": null,
   "metadata": {},
   "outputs": [],
   "source": [
    "MKM1.k"
   ]
  },
  {
   "cell_type": "code",
   "execution_count": null,
   "metadata": {},
   "outputs": [],
   "source": [
    "# s = np.arange(4,13)\n",
    "# for i in s:\n",
    "#     MKM1.k[i] = MKM1.k[i]*0.002\n",
    "# MKM1.k[20] = MKM1.k[20]* 1e5"
   ]
  },
  {
   "cell_type": "code",
   "execution_count": null,
   "metadata": {},
   "outputs": [],
   "source": [
    "MKM1.set_initial_coverages(init=[0,0,0,1]) #Sets the initial coverages of all the surface species (Note: Empty Sites are calculated Automatically. If no option is entered, default initial coverage is zero surface species coverage on the surface)\n",
    "MKM1.set_rxnconditions(Pr=[2e-9,1e-5,1e-5]) #Sets the Pressures and Temperature as defined from the Param file. (Note: One can also enter them manually - See main.py for syntax)\n",
    "MKM1.set_limits_of_integration(Ti=0,Tf=4e8)#Sets the reange of time used in integration"
   ]
  },
  {
   "cell_type": "code",
   "execution_count": null,
   "metadata": {
    "scrolled": false
   },
   "outputs": [],
   "source": [
    "%%time\n",
    "sol1,solt1= MKM1.solve_coverage(plot=True) #Obtains the coverages(sol) with respect to time(solt) and plots them if plot=True (Note: Additional options can be set manually - See main.py for syntax)"
   ]
  },
  {
   "cell_type": "code",
   "execution_count": null,
   "metadata": {},
   "outputs": [],
   "source": [
    "%%time\n",
    "sol2,solt2= MKM1.solve_rate_production(plot=True) #Obtains the coverages(sol) with respect to time(solt) and plots them if plot=True (Note: Additional options can be set manually - See main.py for syntax)"
   ]
  },
  {
   "cell_type": "code",
   "execution_count": null,
   "metadata": {},
   "outputs": [],
   "source": [
    "# MKM1.k = MKM1.kextract()\n",
    "# s = np.arange(3,5)\n",
    "# print(s)\n",
    "# for i in s:\n",
    "# #     MKM1.k[i] = MKM1.k[i]*1e-5\n",
    "# # MKM1.k[20] = MKM1.k[20]* 1e5"
   ]
  },
  {
   "cell_type": "code",
   "execution_count": null,
   "metadata": {},
   "outputs": [],
   "source": [
    "print(MKM1.k)"
   ]
  },
  {
   "cell_type": "markdown",
   "metadata": {},
   "source": [
    "### Calculating the Degree of Rate Control\n",
    "\n",
    "$$ X_{RC} = \\frac{k_{i}^{o}}{r^o} (\\frac{dr}{dk_{i}} ) $$\n",
    "\n",
    "$$ X_{RC} ~ \\frac{r-r^o}{0.1*r^o} $$\n"
   ]
  },
  {
   "cell_type": "code",
   "execution_count": null,
   "metadata": {},
   "outputs": [],
   "source": [
    "print((MKM1.get_SS_X_RC(p_inc=0.1,k_o_inp=MKM1.k)))"
   ]
  },
  {
   "cell_type": "code",
   "execution_count": null,
   "metadata": {},
   "outputs": [],
   "source": [
    "#Constant Pressures\n",
    "P_O2 = 1e-5\n",
    "P_CO2 = 0#10e-9"
   ]
  },
  {
   "cell_type": "code",
   "execution_count": null,
   "metadata": {},
   "outputs": [],
   "source": [
    "%%time\n",
    "# MKM1.k = []\n",
    "CO_pressure = np.linspace(0,90,20)*1e-7 #Vector of CO_pressures\n",
    "CO_ss_covg = []\n",
    "O_ss_covg = []\n",
    "CO2_ss_rprod = []\n",
    "\n",
    "blockPrint() #Blocs the corresponding prints of the following code. i.e the status of steady state calculations from being displayed\n",
    "for i in np.arange(len(CO_pressure)):\n",
    "    MKM1.set_rxnconditions(Pr=[CO_pressure[i],P_O2,P_CO2]) #Sets the Pressures and Temperature as defined from the Param file. (Note: One can also enter them manually - See main.py for syntax)  \n",
    "    ss_covg = MKM1.get_SS_coverages()\n",
    "    ss_prod = MKM1.get_SS_rates_production()\n",
    "    CO_ss_covg.append(ss_covg[0]) #Extracting steady state CO Coverage\n",
    "    O_ss_covg.append(ss_covg[1]) #Extracting steady state O Coverage\n",
    "    CO2_ss_rprod.append(ss_prod[2]) #Extracting TOF of CO2\n",
    "\n",
    "enablePrint() #Re-enables priniting"
   ]
  },
  {
   "cell_type": "code",
   "execution_count": null,
   "metadata": {},
   "outputs": [],
   "source": [
    "fig,ax = plt.subplots()\n",
    "lns1 = ax.plot(CO_pressure,CO2_ss_rprod,'k-',label=r'$R_p$ of ${CO}_2$')\n",
    "ax.set_xlabel('CO pressure/bar')\n",
    "ax.set_ylabel(r'$R_p$ of $CO_2$ /(mol/s)')\n",
    "ax.set_title(r'P($CO_2$) = $10^{-9}$ bar ; P($O_2$) = $10^{-5}$ bar')\n",
    "ax.legend(loc='right')\n",
    "\n",
    "ax2 = ax.twinx()\n",
    "lns2 = ax2.plot(CO_pressure,CO_ss_covg,'b*-',label=r'$\\theta(CO^*)$')\n",
    "lns3 = ax2.plot(CO_pressure,O_ss_covg,'r*-',label=r'$\\theta(O^*)$')\n",
    "ax2.set_ylabel('Coverage of CO* and O*/ML')\n",
    "\n",
    "#For legend purposes:\n",
    "lns = lns1+lns2+lns3\n",
    "labs = [l.get_label() for l in lns]\n",
    "ax.legend(lns,labs,loc='center right')\n",
    "# ax.set_xscale('log')\n",
    "\n",
    "plt.show()\n"
   ]
  },
  {
   "cell_type": "code",
   "execution_count": null,
   "metadata": {},
   "outputs": [],
   "source": [
    "print(MKM1.get_SS_coverages()) #Printing the Steady state coverages (Note: Additional options can be set manually - See main.py for syntax)"
   ]
  },
  {
   "cell_type": "markdown",
   "metadata": {},
   "source": [
    "Other possible features that weren't used (but also work) include:\n",
    "- solve_rate_reaction(tf=None,initial_coverage=[],plot=False)\n",
    "- solve_rate_production(tf=None,initial_coverage=[],plot=False)\n",
    "- get_SS_rates_reaction(tf=None)\n",
    "- get_SS_rates_production(tf=None)"
   ]
  },
  {
   "cell_type": "markdown",
   "metadata": {},
   "source": [
    "### Dynamic Pressure Modulation"
   ]
  },
  {
   "cell_type": "code",
   "execution_count": null,
   "metadata": {},
   "outputs": [],
   "source": [
    "sol2,solt2 = MKM1.dynamic_transient_rates_production(State1=[0.2e-9,2e-6,1e-8],State2=[2e-9,2e-6,1e-8],plot=True) #Calculate the transient response from State 1 to State 2. State conditions (Pressures) can be entered as seen in this line, or if not entered, a prompt will appear asking for the relevant state conditions"
   ]
  },
  {
   "cell_type": "markdown",
   "metadata": {},
   "source": [
    "Other possible features that weren't used (but also work) include:\n",
    "- dynamic_transient_rates_reaction(State1=[],State2=[],plot=False)\n",
    "- dynamic_transient_rates_production(State1=[],State2=[],plot=False)"
   ]
  },
  {
   "cell_type": "markdown",
   "metadata": {},
   "source": [
    "### Including Coverage Dependance (Making use of the MKModel_wCD subpackage)"
   ]
  },
  {
   "cell_type": "code",
   "execution_count": null,
   "metadata": {},
   "outputs": [],
   "source": [
    "MKM1CD = MKModel_wCD('Atomic_1.csv','Stoich_1.csv','Param_1.csv') #Defining the Model"
   ]
  },
  {
   "cell_type": "code",
   "execution_count": null,
   "metadata": {},
   "outputs": [],
   "source": [
    "MKM1CD.set_initial_coverages(init=[0,0,0]) #Sets the initial coverages of all the surface species (Note: Empty Sites are calculated Automatically. If no option is entered, default initial coverage is zero surface species coverage on the surface)\n",
    "MKM1CD.set_rxnconditions() #Sets the Pressures and Temperature as defined from the Param file. (Note: One can also enter them manually - See main.py for syntax)\n",
    "MKM1CD.set_limits_of_integration(Ti=0,Tf=6e6)#Sets the reange of time used in integration"
   ]
  },
  {
   "cell_type": "code",
   "execution_count": null,
   "metadata": {},
   "outputs": [],
   "source": [
    "sol1CD,solt1CD= MKM1CD.solve_coverage(plot=True) #Obtains the coverages(sol) with respect to time(solt) and plots them if plot=True (Note: Additional options can be set manually - See main.py for syntax)"
   ]
  },
  {
   "cell_type": "code",
   "execution_count": null,
   "metadata": {},
   "outputs": [],
   "source": [
    "print(MKM1CD.get_SS_coverages()) #Printing the Steady state coverages (Note: Additional options can be set manually - See main.py for syntax)"
   ]
  },
  {
   "cell_type": "markdown",
   "metadata": {},
   "source": [
    "The same additional features also exist in this subpackage"
   ]
  },
  {
   "cell_type": "markdown",
   "metadata": {},
   "source": [
    "### Dynamic Pressure Modulation"
   ]
  },
  {
   "cell_type": "code",
   "execution_count": null,
   "metadata": {},
   "outputs": [],
   "source": [
    "MKM1CD.set_limits_of_integration(Ti=0,Tf=0.4e6) #Changing the time interval so as to view the plot better"
   ]
  },
  {
   "cell_type": "code",
   "execution_count": null,
   "metadata": {},
   "outputs": [],
   "source": [
    "sol2CD,solt2CD = MKM1CD.dynamic_transient_rates_production(State1=[0.2e-9,2e-6,1e-8],State2=[0.8e-5,2e-6,1e-8],plot=True) #Calculate the transient response from State 1 to State 2. State conditions (Pressures) can be entered as seen in this line, or if not entered, a prompt will appear asking for the relevant state conditions"
   ]
  },
  {
   "cell_type": "markdown",
   "metadata": {},
   "source": [
    "# ----------------------------------------------------------------------------------------"
   ]
  },
  {
   "cell_type": "markdown",
   "metadata": {},
   "source": [
    "# Fitting:\n",
    "\n",
    "## Without CD"
   ]
  },
  {
   "cell_type": "markdown",
   "metadata": {},
   "source": [
    "### Model 1:"
   ]
  },
  {
   "cell_type": "code",
   "execution_count": null,
   "metadata": {},
   "outputs": [],
   "source": [
    "%%time \n",
    "#Fitting for Model 1: (without CD) #using curve_fit\n",
    "fit1_a = Fitting('coverages_1_nCD.csv','Atomic_1.csv','Stoich_1.csv','Param_1_Guess.csv',CovgDep=False) #covgdep = Allowing for coverage dependance to be considered in the fit\n",
    "t1_a,covg1_a,fits1_a = fit1_a.fitting_rate_param(option='cf',plot=True) #cf stands for curve fit"
   ]
  },
  {
   "cell_type": "code",
   "execution_count": null,
   "metadata": {},
   "outputs": [],
   "source": [
    "%%time \n",
    "#Fitting for Model 1: (without CD) #using function minizer\n",
    "fit1_b = Fitting('coverages_1_nCD.csv','Atomic_1.csv','Stoich_1.csv','Param_1_Guess.csv',CovgDep=False) #covgdep = Allowing for coverage dependance to be considered in the fit\n",
    "t1_b,covg1_b,fits1_b = fit1_b.fitting_rate_param(option='min',plot=True) #min stands for minimize"
   ]
  }
 ],
 "metadata": {
  "kernelspec": {
   "display_name": "Python 3 (ipykernel)",
   "language": "python",
   "name": "python3"
  },
  "language_info": {
   "codemirror_mode": {
    "name": "ipython",
    "version": 3
   },
   "file_extension": ".py",
   "mimetype": "text/x-python",
   "name": "python",
   "nbconvert_exporter": "python",
   "pygments_lexer": "ipython3",
   "version": "3.9.7"
  }
 },
 "nbformat": 4,
 "nbformat_minor": 4
}
