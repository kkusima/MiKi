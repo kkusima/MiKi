{
 "cells": [
  {
   "cell_type": "markdown",
   "metadata": {},
   "source": [
    "***\n",
    "$$\\mathbf{\\text{Author: Kenneth Kusima}}$$<br>\n",
    "$$\\mathbf{\\text{Python Kinetics Code}}$$<br>\n",
    "$\\mathbf{\\text{Date: 10/01/22}}$<br>\n",
    "***"
   ]
  },
  {
   "cell_type": "markdown",
   "metadata": {},
   "source": [
    "***\n",
    "$\\mathbf{\\text{Simple Micro Kinetic Model for CO Oxidation}}:$<br>\n",
    "***\n",
    "$$\\require{mhchem}$$       \n",
    "---\n",
    "Overall Reaction: \n",
    "$$ CO + \\frac{1}{2} O_2 {\\stackrel{\\tiny{\\textrm{Pt/Pd}}}{\\rightleftharpoons}} CO_2 $$\n",
    "---\n",
    "Note Reations in the Reaction Mechanism may be reversible or irreversible\n",
    "\n",
    "Reaction 1:&emsp;Adsorption of CO\n",
    "\n",
    "$$ CO + * \\rightleftharpoons CO^{*} $$\n",
    "\n",
    "Reaction 2:&emsp;Adsorption of $O_2$\n",
    "\n",
    "$$ O_2 + * \\rightleftharpoons {O_2}^{*} $$\n",
    "\n",
    "Reaction 3:&emsp;Dissociation of ${O_2}^*$ \n",
    "\n",
    "$$ {O_2}^* + * \\rightleftharpoons 2{O}^* $$\n",
    "\n",
    "Reaction 4:&emsp;Surface Reaction of $CO$ and $O_2$  \n",
    "\n",
    "$$ {CO}^{*} + {O}^{*} \\rightleftharpoons CO_2 + 2* $$\n",
    "\n"
   ]
  },
  {
   "cell_type": "markdown",
   "metadata": {},
   "source": [
    "***\n",
    "$\\mathbf{\\text{Modelling Proposed Reaction Mechanism}}:$<br>\n",
    "***\n",
    "${{k_i}^j= \\textrm{Rate constant/coefficient for reaction i,}} \\\\  \\hspace{0.5cm} \\textrm{for j = {f,r} ; where f = forward reaction and r  = the reverse reaction} \\\\ r_i = \\textrm{Rate of reaction for reaction i}$\n",
    "\n",
    "${\\theta_m = \\textrm{Surface Coverage of species m}} \\\\ \\sum_{m=1}^{N} \\theta_{m} = 1 \\\\ \\hspace{1.3cm} =\n",
    "\\theta_{CO} + \\theta_{O_2} + \\theta_{O} + \\theta_{*}$\n",
    "\n",
    "### The Atomic/Species Matrix ($\\nu$):\n",
    "\n",
    "The participating species for this surface reaction mechanism are:\n",
    "1. CO\n",
    "2. $O_2$\n",
    "3. $CO_2$\n",
    "4. $CO^*$\n",
    "5. $O^*$\n",
    "6. ${O_2}^*$\n",
    "7. *\n",
    "\n",
    "\\begin{equation}\n",
    "\\\n",
    "\\nu=\\begin{bmatrix}\n",
    "    &   CO    &   O_2   &   CO_2  &      CO^*    &     O*     &    O_2^*     &   *\\\\\n",
    "C   &   1     &   0     &   1     &      1       &     0      &     0        &   0\\\\\n",
    "O   &   1     &   2     &   2     &      1       &     1      &     2        &   0\\\\\n",
    "*   &   0     &   0     &   0     &      1       &     1      &     1        &   1\\end{bmatrix} \n",
    "\\\n",
    "\\end{equation}\n",
    "\n",
    "Atomic Matrix Size : (3x7)\n",
    "### The Stoichiometric Matrix (A):\n",
    "\n",
    "\\begin{equation}\n",
    "\\\n",
    "A=\\begin{bmatrix}\n",
    "    & P_{CO} & P_{O_2} & P_{CO_2} & \\theta_{CO} & \\theta_{O} & \\theta_{O_2} &\\theta_{*}\\\\\n",
    "r_1 &  -1     &   0     &   0     &      1       &     0      &     0        &  -1\\\\\n",
    "r_2 &   0     &  -1     &   0     &      0       &     0      &     1        &  -1\\\\\n",
    "r_3 &   0     &   0     &   0     &      0       &     2      &    -1        &  -1\\\\     \n",
    "r_4 &   0     &   0     &   1     &     -1       &    -1      &     0        &   2\\end{bmatrix} \n",
    "\\\n",
    "\\end{equation}\n",
    "\n",
    "Stoichiometric Matrix Size : (4x7)\n",
    "\n",
    "Note:\n",
    "\n",
    "- For Mass to be conserved:\n",
    "$$\\mathbf{A}\\mathbf{\\nu = 0}$$\n",
    "\n",
    "$i =$ species\n",
    "\n",
    "$j =$ reaction\n",
    "\n",
    "- To find the Rate of reaction of reaction j:\n",
    "\n",
    "$$ r_j = k_{j,f} \\prod_{i_f} P_{i,f} \\theta_{i,f}^{\\nu_i} - k_{j,r} \\prod_{i_r} P_{i,r} \\theta_{i,r}^{\\nu_i}  $$\n",
    "\n",
    "- To find the Rate of production of species i:\n",
    "$$R_{\\theta_i}=\\frac{d\\theta_i}{dt} = \\sum_j A_{j,i} \\cdot r_j $$\n",
    "\n",
    "#### Therefore:\n",
    "\n",
    "Rate Equations:&emsp;\n",
    "\n",
    "$$r_1 = k_{1}^f \\cdot \\textrm{P}_{CO} \\cdot \\theta_{*} - k_{1}^r \\cdot \\theta_{CO} $$\n",
    "\n",
    "$$r_2 = k_{2}^f \\cdot \\textrm{P}_{O_2} \\cdot \\theta_{*} - k_{2}^r \\cdot \\theta_{O_{2}} $$\n",
    "\n",
    "$$r_3 = k_{3}^f \\cdot \\theta_{O_2} \\cdot \\theta_{*} - k_{3}^r \\cdot \\theta_{O}^2 $$\n",
    "\n",
    "$$r_4 = k_{4}^f \\cdot \\theta_{CO} \\cdot \\theta_{O} - k_{4}^r \\cdot \\textrm{P}_{{CO}_2} \\cdot \\theta_{*}^2 $$\n",
    "\n",
    "The Corresponding Differential Equations corresponding to the rate of formations/productions of the different coverages:\n",
    "\n",
    "$$R_{\\theta_{CO}} = \\frac{d\\theta_{CO}}{dt} = r_1 - r_4$$\n",
    "\n",
    "$$R_{\\theta_{O_2}} = \\frac{d\\theta_{O_2}}{dt} = r_2 - r_3 $$\n",
    "\n",
    "$$R_{\\theta_{O}} = \\frac{d\\theta_{O}}{dt} = 2 r_3 - r_4 $$\n",
    "\n",
    "$$R_{\\theta_{*}} = \\frac{d\\theta_{*}}{dt} = 2 r_4 - r_1 - r_2 - r_3 $$\n",
    "\n"
   ]
  },
  {
   "cell_type": "code",
   "execution_count": 1,
   "metadata": {},
   "outputs": [],
   "source": [
    "from main import *\n",
    "import numpy as np\n",
    "import matplotlib.pyplot as plt\n",
    "%matplotlib notebook"
   ]
  },
  {
   "cell_type": "code",
   "execution_count": 2,
   "metadata": {},
   "outputs": [],
   "source": [
    "# fit = Fitting('KMC_Coverages.csv','Atomic.csv','Stoich.csv','Param.csv',CovgDep=False) #covgdep = Allowing for coverage dependance to be considered in the fit\n",
    "\n",
    "# a = fit.Input.to_numpy()\n",
    "# b = fit.normalize(Ext_inp=a)\n",
    "# plt.plot(b[:,0],b[:,1],'x',b[:,0],b[:,2],'x',b[:,0],b[:,3],b[:,0],b[:,4])"
   ]
  },
  {
   "cell_type": "code",
   "execution_count": 3,
   "metadata": {},
   "outputs": [
    {
     "name": "stdout",
     "output_type": "stream",
     "text": [
      "Mass is conserved. \n",
      "\n",
      "CPU times: user 13.4 ms, sys: 2.34 ms, total: 15.7 ms\n",
      "Wall time: 15 ms\n"
     ]
    }
   ],
   "source": [
    "%%time \n",
    "#Fitting for Model 1: (without CD) #using curve_fit\n",
    "fit = Fitting('KMC_Coverages.csv','Atomic.csv','Stoich.csv','Param.csv',CovgDep=False) #covgdep = Allowing for coverage dependance to be considered in the fit\n",
    "fit.set_limits_of_integration(fit.Input.iloc[0,0],fit.Input.iloc[-1,0])\n",
    "fit.n_extract = 0.5"
   ]
  },
  {
   "cell_type": "code",
   "execution_count": null,
   "metadata": {},
   "outputs": [
    {
     "name": "stdout",
     "output_type": "stream",
     "text": [
      "[5.81e-02 6.65e-09 7.69e+02 1.15e+05 2.60e+05 2.14e-02 1.35e+00 5.00e+02]\n",
      "50.0 % of the Input dataset is being extracted for fitting (i.e 125 points are being extracted for fitting)\n",
      "\n",
      "An essentially zero vector is present and therefore cant be normalized. The same vector has been returned.\n",
      "\n",
      "Input dataset has been normalized for fitting\n",
      "Performing fitting using optimize.curve_fit:\n",
      "--------------------------------------------------\n",
      "-Using Method: trf\n"
     ]
    }
   ],
   "source": [
    "%%time \n",
    "#Fitting for Model 1: (without CD) #using curve_fit\n",
    "fit.k  #Resetting the rate constants used in MK model for fitting\n",
    "t1,covg1,fits1 = fit.fitting_rate_param(option='cf',plot=True) #cf stands for curve fit"
   ]
  },
  {
   "cell_type": "code",
   "execution_count": null,
   "metadata": {},
   "outputs": [],
   "source": [
    "%%time\n",
    "fit.k = fit.kextract() #Resetting the rate constants used in MK model for fitting\n",
    "t2,covg2,fits2 = fit.fitting_rate_param(option='min',plot=True) #cf stands for curve fit"
   ]
  },
  {
   "cell_type": "code",
   "execution_count": null,
   "metadata": {},
   "outputs": [],
   "source": [
    "%%time\n",
    "fit.k = fit.kextract() #Resetting the rate constants used in MK model for fitting\n",
    "t3,covg3,fits3 = fit.fitting_rate_param(option='ML',mdl='RandomForestRegressor',n=80,plot=True) #cf stands for curve fit"
   ]
  },
  {
   "cell_type": "code",
   "execution_count": null,
   "metadata": {},
   "outputs": [],
   "source": []
  }
 ],
 "metadata": {
  "kernelspec": {
   "display_name": "Python 3 (ipykernel)",
   "language": "python",
   "name": "python3"
  },
  "language_info": {
   "codemirror_mode": {
    "name": "ipython",
    "version": 3
   },
   "file_extension": ".py",
   "mimetype": "text/x-python",
   "name": "python",
   "nbconvert_exporter": "python",
   "pygments_lexer": "ipython3",
   "version": "3.9.7"
  }
 },
 "nbformat": 4,
 "nbformat_minor": 4
}
