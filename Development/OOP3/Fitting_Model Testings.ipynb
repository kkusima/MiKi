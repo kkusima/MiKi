{
 "cells": [
  {
   "cell_type": "markdown",
   "metadata": {},
   "source": [
    "***\n",
    "$$\\mathbf{\\text{Author: Kenneth Kusima}}$$<br>\n",
    "$$\\mathbf{\\text{Python MicroKinetics Code}}$$<br>\n",
    "$$\\mathbf{\\text{Testing out the Fitting subgroup}}$$<br>\n",
    "$\\mathbf{\\text{Date: 10/22}}$<br>\n",
    "***"
   ]
  },
  {
   "cell_type": "code",
   "execution_count": 1,
   "metadata": {},
   "outputs": [],
   "source": [
    "from main import *\n",
    "import numpy as np\n",
    "import matplotlib.pyplot as plt\n",
    "%matplotlib notebook\n",
    "num_dat_model_1 = 40 #for ML data generation\n",
    "filename_model_1='ML_dataset_1.xlsx'"
   ]
  },
  {
   "cell_type": "markdown",
   "metadata": {},
   "source": [
    "## Generating files for fitting:"
   ]
  },
  {
   "cell_type": "code",
   "execution_count": 2,
   "metadata": {},
   "outputs": [
    {
     "name": "stdout",
     "output_type": "stream",
     "text": [
      "Mass is conserved. \n",
      "\n"
     ]
    }
   ],
   "source": [
    "#For Model 1: (without CD) (i.e MKM1)\n",
    "MKM1 = MKModel('Atomic_1.csv','Stoich_1.csv','Param_1.csv') #Defining the Model\n",
    "#Intitializations\n",
    "MKM1.set_initial_coverages(init=[0,0,0,1]) #Sets the initial coverages of all the surface species\n",
    "MKM1.set_rxnconditions() #Sets the Pressures and Temperature as defined from the Param file. (Note: One can also enter them manually - See main.py for syntax)\n",
    "MKM1.set_limits_of_integration(Ti=0,Tf=6e6)#Sets the reange of time used in integration\n",
    "\n",
    "sol1,solt1= MKM1.solve_coverage(plot=False) #Coverages\n",
    "\n",
    "#Creating dataset for ML\n",
    "MKM1.create_csv(sol1,solt1,Name='coverages_1_nCD.csv',label='coverages') #sol1 = coverages, solt=corresponding time. These awere calculated before from MKM1"
   ]
  },
  {
   "cell_type": "code",
   "execution_count": 3,
   "metadata": {},
   "outputs": [
    {
     "name": "stdout",
     "output_type": "stream",
     "text": [
      "Mass is conserved. \n",
      "\n"
     ]
    }
   ],
   "source": [
    "#For Model 1: (with CD) (i.e MKM1CD)\n",
    "MKM1CD = MKModel('Atomic_1.csv','Stoich_1.csv','Param_1.csv') #Defining the Model\n",
    "MKM1CD.rate_const_correction='Forced_exp_CD'\n",
    "#Intitializations\n",
    "MKM1CD.set_initial_coverages(init=[0,0,0,1]) #Sets the initial coverages of all the surface species \n",
    "MKM1CD.set_rxnconditions() #Sets the Pressures and Temperature as defined from the Param file. (Note: One can also enter them manually - See main.py for syntax)\n",
    "MKM1CD.set_limits_of_integration(Ti=0,Tf=6e6)#Sets the reange of time used in integration\n",
    "\n",
    "sol1CD,solt1CD= MKM1CD.solve_coverage(plot=False)\n",
    "\n",
    "#Creating dataset for ML\n",
    "MKM1CD.create_csv(sol1CD,solt1CD,Name='coverages_1_wCD.csv',label='coverages')"
   ]
  },
  {
   "cell_type": "code",
   "execution_count": 4,
   "metadata": {},
   "outputs": [
    {
     "name": "stdout",
     "output_type": "stream",
     "text": [
      "Mass is conserved. \n",
      "\n"
     ]
    }
   ],
   "source": [
    "#For Model 2: (without CD) (i.e MKM2)\n",
    "MKM2 = MKModel('Atomic_2.csv','Stoich_2.csv','Param_2.csv') #Defining the Model\n",
    "#Intitializations\n",
    "MKM2.set_initial_coverages(init=[0.5,0.5,0,0,0,0,0])\n",
    "MKM2.set_rxnconditions()\n",
    "MKM2.set_limits_of_integration(Ti=0,Tf=4e-11)\n",
    "\n",
    "sol3,solt3= MKM2.solve_coverage(plot=False)\n",
    "\n",
    "#Creating dataset for ML\n",
    "MKM2.create_csv(sol3,solt3,Name='coverages_2_nCD.csv',label='coverages')"
   ]
  },
  {
   "cell_type": "code",
   "execution_count": 5,
   "metadata": {},
   "outputs": [
    {
     "name": "stdout",
     "output_type": "stream",
     "text": [
      "Mass is conserved. \n",
      "\n"
     ]
    }
   ],
   "source": [
    "#For Model 2: (with CD) (i.e MKM2CD)\n",
    "MKM2CD = MKModel('Atomic_2.csv','Stoich_2.csv','Param_2.csv')\n",
    "MKM2CD.rate_const_correction='Forced_exp_CD'\n",
    "#Intitializations\n",
    "MKM2CD.set_initial_coverages(init=[0.5,0.5,0,0,0,0,0])\n",
    "MKM2CD.set_rxnconditions()\n",
    "MKM2CD.set_limits_of_integration(Ti=0,Tf=4e-11)\n",
    "\n",
    "sol3CD,solt3CD= MKM2CD.solve_coverage(plot=False)\n",
    "\n",
    "#Creating dataset for ML\n",
    "MKM2CD.create_csv(sol3CD,solt3CD,Name='coverages_2_wCD.csv',label='coverages')"
   ]
  },
  {
   "cell_type": "markdown",
   "metadata": {},
   "source": [
    "## Model 1"
   ]
  },
  {
   "cell_type": "markdown",
   "metadata": {},
   "source": [
    "***\n",
    "$\\mathbf{\\text{Micro Kinetic Model for (a Simple 4-Step Mechanism) CO Oxidation}}:$<br>\n",
    "#### [Link to Relevant Paper](https://pubs.acs.org/doi/10.1021/cs500377j) \n",
    "***\n",
    "$$\\require{mhchem}$$       \n",
    "---\n",
    "Overall Reaction: \n",
    "$$ CO + \\frac{1}{2} O_2 {\\stackrel{\\tiny{\\textrm{Pt/Pd}}}{\\rightleftharpoons}} CO_2 $$\n",
    "$Ea = 80kJ{mol}^{-1}->120kJ{mol}^{-1}$\n",
    "---\n",
    "Note Reations in the Reaction Mechanism may be reversible or irreversible\n",
    "\n",
    "Reaction 1:&emsp;Adsorption of CO / Desorption of CO*\n",
    "\n",
    "$$ CO(g) + * \\rightleftharpoons CO^{*} $$  <br> \n",
    "\n",
    "Reaction 2:&emsp;Adsorption of $O_2$ / Desorption of $O_2^*$\n",
    "\n",
    "$$ {O_2}(g) + * \\rightleftharpoons {O_2}^{*} $$  <br> \n",
    "\n",
    "Reaction 3:&emsp;Dissociation of ${O_2}^*$ / Recombination of O*\n",
    "\n",
    "$$ {O_2}^* + * \\rightleftharpoons 2{O}^* $$  <br> \n",
    "\n",
    "Reaction 4:&emsp;Surface Reaction of CO* and ${O_2}^*$ / Adsorption of $CO_2$\n",
    "\n",
    "$$ {CO}^{*} + {O}^{*} \\rightleftharpoons {{CO}_2}(g) + 2* $$  <br> \n",
    "\n",
    "***\n",
    "$\\mathbf{\\text{Modelling Proposed Reaction Mechanism}}:$<br>\n",
    "***\n",
    "${{k_i}^j= \\textrm{Rate constant/coefficient for reaction i,}} \\\\  \\hspace{0.5cm} \\textrm{for j = {f,r} ; where f = forward reaction and r  = the reverse reaction} \\\\ r_i = \\textrm{Rate of reaction for reaction i}$\n",
    "\n",
    "${\\theta_m = \\textrm{Surface Coverage of species m}} \\\\ \\sum_{m=1}^{N} \\theta_{m} = 1 \\\\ \\hspace{1.3cm} =\n",
    "\\theta_{CO} + \\theta_{O_2} + \\theta_{O} + \\theta_{*}$\n",
    "\n",
    "### The Atomic/Species Matrix ($\\nu$):\n",
    "\n",
    "The participating species for this surface reaction mechanism are:\n",
    "1. CO\n",
    "2. $O_2$\n",
    "3. $CO_2$\n",
    "4. $CO^*$\n",
    "5. $O^*$\n",
    "6. ${O_2}^*$\n",
    "7. *\n",
    "\n",
    "\\begin{equation}\n",
    "\\\n",
    "\\nu=\\begin{bmatrix}\n",
    "    &   CO    &   O_2   &   CO_2  &      CO^*    &     O*     &    O_2^*     &   *\\\\\n",
    "C   &   1     &   0     &   1     &      1       &     0      &     0        &   0\\\\\n",
    "O   &   1     &   2     &   2     &      1       &     1      &     2        &   0\\\\\n",
    "*   &   0     &   0     &   0     &      1       &     1      &     1        &   1\\end{bmatrix} \n",
    "\\\n",
    "\\end{equation}\n",
    "\n",
    "Atomic Matrix Size : (3x7)\n",
    "### The Stoichiometric Matrix (A):\n",
    "\n",
    "\\begin{equation}\n",
    "\\\n",
    "A=\\begin{bmatrix}\n",
    "    & P_{CO} & P_{O_2} & P_{CO_2} & \\theta_{CO} & \\theta_{O} & \\theta_{O_2} &\\theta_{*}\\\\\n",
    "r_1 &  -1     &   0     &   0     &      1       &     0      &     0        &  -1\\\\\n",
    "r_2 &   0     &  -1     &   0     &      0       &     0      &     1        &  -1\\\\\n",
    "r_3 &   0     &   0     &   0     &      0       &     2      &    -1        &  -1\\\\     \n",
    "r_4 &   0     &   0     &   1     &     -1       &    -1      &     0        &   2\\end{bmatrix} \n",
    "\\\n",
    "\\end{equation}\n",
    "\n",
    "Stoichiometric Matrix Size : (4x7)\n",
    "\n",
    "Note:\n",
    "\n",
    "- For Mass to be conserved:\n",
    "$$\\mathbf{A}\\mathbf{\\nu = 0}$$\n",
    "\n",
    "$i =$ species\n",
    "\n",
    "$j =$ reaction\n",
    "\n",
    "- To find the Rate of reaction of reaction j:\n",
    "\n",
    "$$ r_j = k_{j,f} \\prod_{i_f} P_{i,f} \\theta_{i,f}^{A_{i,j}} - k_{j,r} \\prod_{i_r} P_{i,r} \\theta_{i,r}^{A_{i,j}}  $$\n",
    "\n",
    "- To find the Rate of production of species i:\n",
    "$$R_{\\theta_i}=\\frac{d\\theta_i}{dt} = \\sum_j A_{j,i} \\cdot r_j $$\n",
    "\n",
    "#### Therefore:\n",
    "\n",
    "Rate Equations:&emsp;\n",
    "\n",
    "$$r_1 = k_{1}^f \\cdot \\textrm{P}_{CO} \\cdot \\theta_{*} - k_{1}^r \\cdot \\theta_{CO} $$\n",
    "\n",
    "$$r_2 = k_{2}^f \\cdot \\textrm{P}_{O_2} \\cdot \\theta_{*} - k_{2}^r \\cdot \\theta_{O_{2}} $$\n",
    "\n",
    "$$r_3 = k_{3}^f \\cdot \\theta_{O_2} \\cdot \\theta_{*} - k_{3}^r \\cdot \\theta_{O}^2 $$\n",
    "\n",
    "$$r_4 = k_{4}^f \\cdot \\theta_{CO} \\cdot \\theta_{O} - k_{4}^r \\cdot \\textrm{P}_{{CO}_2} \\cdot \\theta_{*}^2 $$\n",
    "\n",
    "The Corresponding Differential Equations corresponding to the rate of formations/productions of the different coverages:\n",
    "\n",
    "$$R_{\\theta_{CO}} = \\frac{d\\theta_{CO}}{dt} = r_1 - r_4$$\n",
    "\n",
    "$$R_{\\theta_{O_2}} = \\frac{d\\theta_{O_2}}{dt} = r_2 - r_3 $$\n",
    "\n",
    "$$R_{\\theta_{O}} = \\frac{d\\theta_{O}}{dt} = 2 r_3 - r_4 $$\n",
    "\n",
    "$$R_{\\theta_{*}} = \\frac{d\\theta_{*}}{dt} = 2 r_4 - r_1 - r_2 - r_3 $$\n",
    "\n"
   ]
  },
  {
   "cell_type": "markdown",
   "metadata": {},
   "source": [
    "# ----------------------------------------------------------------------------------------"
   ]
  },
  {
   "cell_type": "markdown",
   "metadata": {},
   "source": [
    "## |--->Without CD"
   ]
  },
  {
   "cell_type": "code",
   "execution_count": null,
   "metadata": {
    "scrolled": false
   },
   "outputs": [
    {
     "name": "stdout",
     "output_type": "stream",
     "text": [
      "Mass is conserved. \n",
      "\n",
      "50.0 % of the Input dataset is being extracted for fitting (i.e 108 points are being extracted for fitting)\n",
      "\n",
      "An essentially zero vector is present and therefore cant be normalized. The same vector has been returned.\n",
      "\n",
      "Performing fitting using optimize.curve_fit:\n",
      "--------------------------------------------------\n",
      "-Using Method: trf\n"
     ]
    },
    {
     "name": "stderr",
     "output_type": "stream",
     "text": [
      "/Users/klkusima/opt/anaconda3/lib/python3.9/site-packages/scipy/optimize/_lsq/least_squares.py:110: UserWarning: Setting `ftol` below the machine epsilon (2.22e-16) effectively disables the corresponding termination condition.\n",
      "  warn(\"Setting `{}` below the machine epsilon ({:.2e}) effectively \"\n",
      "/Users/klkusima/opt/anaconda3/lib/python3.9/site-packages/scipy/optimize/_lsq/least_squares.py:110: UserWarning: Setting `xtol` below the machine epsilon (2.22e-16) effectively disables the corresponding termination condition.\n",
      "  warn(\"Setting `{}` below the machine epsilon ({:.2e}) effectively \"\n"
     ]
    }
   ],
   "source": [
    "%%time \n",
    "#Fitting for Model 1: (without CD) #using curve_fit\n",
    "fit1_a = Fitting('coverages_1_nCD.csv','Atomic_1.csv','Stoich_1.csv','Param_1_Guess.csv',CovgDep=False) #covgdep = Allowing for coverage dependance to be considered in the fit\n",
    "t1_a,covg1_a,fits1_a = fit1_a.fitting_rate_param(option='cf',xtol=1e-18,ftol=1e-18,plot_norm=True) #cf stands for curve fit"
   ]
  },
  {
   "cell_type": "code",
   "execution_count": null,
   "metadata": {},
   "outputs": [],
   "source": [
    "%%time \n",
    "#Fitting for Model 1: (without CD) #using function minizer\n",
    "fit1_b_a = Fitting('coverages_1_nCD.csv','Atomic_1.csv','Stoich_1.csv','Param_1_Guess.csv',CovgDep=False) #covgdep = Allowing for coverage dependance to be considered in the fit\n",
    "t1_b_a,covg1_b_a,fits1_b_a = fit1_b_a.fitting_rate_param(option='min',method_min='nelder-mead',maxiter=1e3,maxfun=1e3,plot_norm=True) #min stands for minimize"
   ]
  },
  {
   "cell_type": "code",
   "execution_count": null,
   "metadata": {},
   "outputs": [],
   "source": [
    "%%time \n",
    "#Fitting for Model 1: (without CD) #using function minizer\n",
    "fit1_b_b = Fitting('coverages_1_nCD.csv','Atomic_1.csv','Stoich_1.csv','Param_1_Guess.csv',CovgDep=False) #covgdep = Allowing for coverage dependance to be considered in the fit\n",
    "t1_b_b,covg1_b_b,fits1_b_b = fit1_b_b.fitting_rate_param(option='min',method_min='L-BFGS-B',gtol=1e-12,ftol=1e-8,tol=1e-8,maxiter=1e4,maxfun=1e4,plot_norm=True) #min stands for minimize"
   ]
  },
  {
   "cell_type": "code",
   "execution_count": null,
   "metadata": {},
   "outputs": [],
   "source": [
    "%%time \n",
    "#Fitting for Model 1: (without CD) #using ML_RandomForestRegressor\n",
    "fit1_c_a = Fitting('coverages_1_nCD.csv','Atomic_1.csv','Stoich_1.csv','Param_1_Guess.csv',CovgDep=False) #covgdep = Allowing for coverage dependance to be considered in the fit\n",
    "t1_c_a,covg1_c_a,fits1_c_a = fit1_c_a.fitting_rate_param(option='ML',mdl='RandomForestRegressor',n=num_dat_model_1,filename=filename_model_1,plot_norm=True) "
   ]
  },
  {
   "cell_type": "code",
   "execution_count": null,
   "metadata": {},
   "outputs": [],
   "source": [
    "%%time \n",
    "#Fitting for Model 1: (without CD) #using KNeighborsRegressor\n",
    "fit1_c_b = Fitting('coverages_1_nCD.csv','Atomic_1.csv','Stoich_1.csv','Param_1_Guess.csv',CovgDep=False) #covgdep = Allowing for coverage dependance to be considered in the fit\n",
    "t1_c_b,covg1_c_b,fits1_c_b = fit1_c_b.fitting_rate_param(option='ML',mdl='KNeighborsRegressor',n=num_dat_model_1,filename=filename_model_1,plot_norm=True)"
   ]
  },
  {
   "cell_type": "code",
   "execution_count": null,
   "metadata": {},
   "outputs": [],
   "source": [
    "%%time \n",
    "#Fitting for Model 1: (without CD) #using DecisionTreeRegressor\n",
    "fit1_c_c = Fitting('coverages_1_nCD.csv','Atomic_1.csv','Stoich_1.csv','Param_1_Guess.csv',CovgDep=False) #covgdep = Allowing for coverage dependance to be considered in the fit\n",
    "t1_c_c,covg1_c_c,fits1_c_c = fit1_c_c.fitting_rate_param(option='ML',mdl='DecisionTreeRegressor',n=num_dat_model_1,filename=filename_model_1,plot_norm=True) "
   ]
  },
  {
   "cell_type": "code",
   "execution_count": null,
   "metadata": {},
   "outputs": [],
   "source": [
    "%%time \n",
    "#Fitting for Model 1: (without CD) #using MLPRegressor\n",
    "fit1_c_d = Fitting('coverages_1_nCD.csv','Atomic_1.csv','Stoich_1.csv','Param_1_Guess.csv',CovgDep=False) #covgdep = Allowing for coverage dependance to be considered in the fit\n",
    "t1_c_d,covg1_c_d,fits1_c_d = fit1_c_d.fitting_rate_param(option='ML',mdl='MLPRegressor',n=num_dat_model_1,filename=filename_model_1,plot_norm=True)"
   ]
  },
  {
   "cell_type": "markdown",
   "metadata": {},
   "source": [
    "## |--->With CD"
   ]
  },
  {
   "cell_type": "code",
   "execution_count": null,
   "metadata": {},
   "outputs": [],
   "source": []
  },
  {
   "cell_type": "markdown",
   "metadata": {},
   "source": [
    "## Model 2"
   ]
  },
  {
   "cell_type": "markdown",
   "metadata": {},
   "source": [
    "***\n",
    "$\\mathbf{\\text{Micro Kinetic Model for (a 7 step Redox Mechanism) Water Gas Shift Reaction}}:$<br>\n",
    "#### [Link to Relevant Paper](https://www.mdpi.com/2673-4583/2/1/11) \n",
    "***\n",
    "$$\\require{mhchem}$$       \n",
    "---\n",
    "Overall Reaction: \n",
    "$$ CO + H_{2}O {\\stackrel{\\tiny{\\textrm{Ni/CeO_2}}}{\\rightleftharpoons}} CO_2 + H_2$$\n",
    "$Ea = -41kJ{mol}^{-1}$\n",
    "---\n",
    "Note Reations in the Reaction Mechanism may be reversible or irreversible\n",
    "\n",
    "Reaction 1:&emsp;Adsorption of $CO$ / Desorption of ${CO}^{*}$\n",
    "\n",
    "$$ {CO}(g) + * \\rightleftharpoons {CO}^{*} $$  <br> \n",
    "\n",
    "\n",
    "Reaction 2:&emsp;Adsorption of $H_{2}O$ / Desorption of ${H_{2}O}^{*}$\n",
    "\n",
    "$$ {H_{2}O}(g) + * \\rightleftharpoons {H_{2}O}^{*} $$  <br> \n",
    "\n",
    "\n",
    "Reaction 3:&emsp;Dissociation of ${H_{2}O}^*$ / Surface Reaction of ${OH}^{*}$ and $H^*$\n",
    "\n",
    "$$ {H_{2}O}^* + * \\rightleftharpoons {OH}^{*} + H^* $$  <br>\n",
    "\n",
    "\n",
    "Reaction 4:&emsp;Surface Reaction of ${CO}^{*}$ and ${OH}^*$ / Dissociation of ${COOH}^*$ (1)\n",
    "\n",
    "$$ {CO}^* + {OH}^* \\rightleftharpoons {COOH}^{*} + * $$  <br> \n",
    "\n",
    "\n",
    "Reaction 5:&emsp;Dissociation of ${COOH}^*$ (2) / Surface Reaction of ${CO_2}^{*}$ and ${H}^*$\n",
    "\n",
    "$$ {COOH}^* + * \\rightleftharpoons {CO_2}^* + {H}^* $$  <br> \n",
    "\n",
    "\n",
    "Reaction 6:&emsp;Desorption of $2H^*$ / Adsorption of $H_2$\n",
    "\n",
    "$$ 2H^{*} \\rightleftharpoons {H_2}(g) + 2^* $$  <br> \n",
    "\n",
    "\n",
    "Reaction 7:&emsp;Desorption of ${CO_2}^*$ / Adsorption of ${CO}_2$   \n",
    "\n",
    "$$ {{CO}_2}^{*} \\rightleftharpoons {CO_2}(g) + * $$  <br> \n",
    "\n",
    "***\n",
    "$\\mathbf{\\text{Modelling Proposed Reaction Mechanism}}:$<br>\n",
    "***\n",
    "${{k_i}^j= \\textrm{Rate constant/coefficient for reaction i,}} \\\\  \\hspace{0.5cm} \\textrm{for j = {f,r} ; where f = forward reaction and r  = the reverse reaction} \\\\ r_i = \\textrm{Rate of reaction for reaction i}$\n",
    "\n",
    "${\\theta_m = \\textrm{Surface Coverage of species m}} \\\\ \\sum_{m=1}^{N} \\theta_{m} = 1 \\\\ \\hspace{1.3cm} =\n",
    "\\theta_{CO} + \\theta_{O_2} + \\theta_{O} + \\theta_{*}$\n",
    "\n",
    "### The Atomic/Species Matrix ($\\nu$):\n",
    "\n",
    "The participating species for this surface reaction mechanism are:\n",
    "1. CO\n",
    "2. ${H_2}O$\n",
    "3. $CO_2$\n",
    "4. $H_2$\n",
    "5. ${CO}^*$\n",
    "6. ${{H_2}O}^*$\n",
    "7. $H^*$\n",
    "8. ${OH}^*$\n",
    "9. ${COOH}^*$\n",
    "10. ${CO_2}^*$\n",
    "11. *\n",
    "\n",
    "\\begin{equation}\n",
    "\\\n",
    "\\nu=\\begin{bmatrix}\n",
    "    &   CO  &  {H_2}O &   CO_2  &  H_2  &  {CO}^* & {H_2}O^* &   H^* & {OH}^* & {COOH}^* & {CO_2}^* & *\\\\\n",
    "H   &   0   &  2      &   0     &  2    &   0     &   2      &   1   &   1    &    1     &    0     & 0\\\\\n",
    "C   &   1   &  0      &   1     &  0    &   1     &   0      &   0   &   0    &    1     &    1     & 0\\\\\n",
    "O   &   1   &  1      &   2     &  0    &   1     &   1      &   0   &   1    &    2     &    2     & 0\\\\\n",
    "*   &   0   &  0      &   0     &  0    &   1     &   1      &   1   &   1    &    1     &    1     & 1\\end{bmatrix} \n",
    "\\\n",
    "\\end{equation}\n",
    "\n",
    "Atomic Matrix Size : (3x11)\n",
    "### The Stoichiometric Matrix (A):\n",
    "\n",
    "\\begin{equation}\n",
    "\\\n",
    "A=\\begin{bmatrix}\n",
    "    &P_{CO}&P_{{H_2}O}& P_{CO_2}&P_{H_2}&\\theta_{CO}&\\theta_{{H_2}O}&\\theta_{H}&\\theta_{OH}&\\theta_{COOH}&\\theta_{{CO}_2}&\\theta_*\\\\\n",
    "r1  &  -1   &  0       &   0     &  0    &   1       &   0           &   0      &   0    &    0     &    0     &-1\\\\\n",
    "r2  &   0   & -1       &   0     &  0    &   0       &   1           &   0      &   0    &    0     &    0     &-1\\\\\n",
    "r3  &   0   &  0       &   0     &  0    &   0       &  -1           &   1      &   1    &    0     &    0     &-1\\\\\n",
    "r4  &   0   &  0       &   0     &  0    &  -1       &   0           &   0      &  -1    &    1     &    0     & 1\\\\\n",
    "r5  &   0   &  0       &   0     &  0    &   0       &   0           &   1      &   0    &   -1     &    1     &-1\\\\\n",
    "r6  &   0   &  0       &   0     &  1    &   0       &   0           &  -2      &   0    &    0     &    0     & 2\\\\\n",
    "r7  &   0   &  0       &   1     &  0    &   0       &   0           &   0      &   0    &    0     &   -1     & 1\\end{bmatrix}  \n",
    "\\\n",
    "\\end{equation}\n",
    "\n",
    "Stoichiometric Matrix Size : (7x11)\n",
    "\n",
    "Note:\n",
    "\n",
    "- For Mass to be conserved:\n",
    "$$\\mathbf{A}\\mathbf{\\nu = 0}$$\n",
    "\n",
    "$i =$ species\n",
    "\n",
    "$j =$ reaction\n",
    "\n",
    "- To find the Rate of reaction of reaction j:\n",
    "\n",
    "$$ r_j = k_{j,f} \\prod_{i_f} P_{i,f} \\theta_{i,f}^{A_{i,j}} - k_{j,r} \\prod_{i_r} P_{i,r} \\theta_{i,r}^{A_{i,j}}  $$\n",
    "\n",
    "- To find the Rate of production of species i:\n",
    "$$R_{\\theta_i}=\\frac{d\\theta_i}{dt} = \\sum_j A_{j,i} \\cdot r_j $$\n",
    "\n",
    "#### Therefore:\n",
    "\n",
    "Rate Equations:&emsp;\n",
    "\n",
    "$$r_1 = k_{1}^f \\cdot \\textrm{P}_{CO} \\cdot \\theta_{*} - k_{1}^r \\cdot \\theta_{CO} $$\n",
    "\n",
    "$$r_2 = k_{2}^f \\cdot \\textrm{P}_{{H_2}O} \\cdot \\theta_{*} - k_{2}^r \\cdot \\theta_{{H_2}O} $$\n",
    "\n",
    "$$r_3 = k_{3}^f \\cdot \\theta_{{H_2}O} \\cdot \\theta_{*} - k_{3}^r \\cdot \\theta_{OH} \\cdot \\theta_{H}$$\n",
    "\n",
    "$$r_4 = k_{4}^f \\cdot \\theta_{CO} \\cdot \\theta_{OH} - k_{4}^r \\cdot \\theta_{COOH} \\cdot \\theta_{*} $$\n",
    "\n",
    "$$r_5 = k_{5}^f \\cdot \\theta_{COOH} \\cdot \\theta_{*} - k_{5}^r \\cdot \\theta_{{CO}_2} \\cdot \\theta_{H}$$\n",
    "\n",
    "$$r_6 = k_{6}^f \\cdot \\theta_{H}^2   - k_{6}^r \\cdot \\textrm{P}_{H_2} \\cdot \\theta_{*}^2 $$\n",
    "\n",
    "$$r_7 = k_{7}^f \\cdot \\theta_{{CO}_2}  - k_{7}^r \\cdot \\textrm{P}_{{CO}_2} \\cdot \\theta_{*}$$\n",
    "\n",
    "The Corresponding Differential Equations corresponding to the rate of formations/productions of the different coverages:\n",
    "\n",
    "$$R_{\\theta_{CO}} = \\frac{d\\theta_{CO}}{dt} = r_1 - r_4$$\n",
    "\n",
    "$$R_{\\theta_{{H_2}O}} = \\frac{d\\theta_{{H_2}O}}{dt} = r_2 - r_3 $$\n",
    "\n",
    "$$R_{\\theta_{H}} = \\frac{d\\theta_{H}}{dt} = r_3 + r_5 - 2 r_6 $$\n",
    "\n",
    "$$R_{\\theta_{OH}} = \\frac{d\\theta_{OH}}{dt} = r_3 - r_4 $$\n",
    "\n",
    "$$R_{\\theta_{COOH}} = \\frac{d\\theta_{COOH}}{dt} = r_4 - r_5 $$\n",
    "\n",
    "$$R_{\\theta_{{CO}_2}} = \\frac{d\\theta_{{CO}_2}}{dt} = r_5 - r_7 $$\n",
    "\n",
    "$$R_{\\theta_{*}} = \\frac{d\\theta_{*}}{dt} = r_7 + 2 r_6 + r_4 - r_6 - r_3 - r_2 - r_1 $$\n",
    "\n"
   ]
  },
  {
   "cell_type": "code",
   "execution_count": null,
   "metadata": {},
   "outputs": [],
   "source": [
    "num_dat_model_2 = 100 #for ML data generation\n",
    "filename_model_2='ML_dataset_2.xlsx'    "
   ]
  },
  {
   "cell_type": "markdown",
   "metadata": {},
   "source": [
    "## |--->Without CD"
   ]
  },
  {
   "cell_type": "code",
   "execution_count": null,
   "metadata": {},
   "outputs": [],
   "source": [
    "%%time \n",
    "#Fitting for Model 2: (without CD) #using curve fit\n",
    "fit2_a = Fitting('coverages_2_nCD.csv','Atomic_2.csv','Stoich_2.csv','Param_2_Guess.csv',CovgDep=False) #covgdep = Allowing for coverage dependance to be considered in the fit\n",
    "t2_a,covg2_a,fits2_a = fit2_a.fitting_rate_param(option='cf',plot=True,maxfev=1e15,xtol=1e-15,ftol=1e-15) #cf stands for curve fit"
   ]
  },
  {
   "cell_type": "code",
   "execution_count": null,
   "metadata": {},
   "outputs": [],
   "source": [
    "%%time \n",
    "#Fitting for Model 2: (without CD) #using function minizer\n",
    "fit2_b_a = Fitting('coverages_2_nCD.csv','Atomic_2.csv','Stoich_2.csv','Param_2_Guess.csv',CovgDep=False) #covgdep = Allowing for coverage dependance to be considered in the fit\n",
    "t2_b_a,covg2_b_a,fits2_b_a = fit2_b_a.fitting_rate_param(option='min',method_min='nelder-mead',maxiter=1e3,maxfun=1e3,plot=True) #min stands for minimize"
   ]
  },
  {
   "cell_type": "code",
   "execution_count": null,
   "metadata": {},
   "outputs": [],
   "source": [
    "%%time \n",
    "#Fitting for Model 2: (without CD) #using function minizer\n",
    "fit2_b_b = Fitting('coverages_2_nCD.csv','Atomic_2.csv','Stoich_2.csv','Param_2_Guess.csv',CovgDep=False) #covgdep = Allowing for coverage dependance to be considered in the fit\n",
    "t2_b_b,covg2_b_b,fits2_b_b = fit2_b_b.fitting_rate_param(option='min',method_min='L-BFGS-B',maxiter=1e3,maxfun=1e3,plot=True) #min stands for minimize"
   ]
  },
  {
   "cell_type": "code",
   "execution_count": null,
   "metadata": {},
   "outputs": [],
   "source": [
    "%%time \n",
    "#Fitting for Model 2: (without CD) #using ML_RandomForestRegressor\n",
    "fit2_c_a = Fitting('coverages_2_nCD.csv','Atomic_2.csv','Stoich_2.csv','Param_2_Guess.csv',CovgDep=False) #covgdep = Allowing for coverage dependance to be considered in the fit\n",
    "t2_c_a,covg2_c_a,fits2_c_a = fit2_c_a.fitting_rate_param(option='ML',mdl='RandomForestRegressor',n=num_dat_model_2,filename=filename_model_2,plot=True) "
   ]
  },
  {
   "cell_type": "code",
   "execution_count": null,
   "metadata": {},
   "outputs": [],
   "source": [
    "%%time \n",
    "#Fitting for Model 2: (without CD) #using KNeighborsRegressor\n",
    "fit2_c_b = Fitting('coverages_2_nCD.csv','Atomic_2.csv','Stoich_2.csv','Param_2_Guess.csv',CovgDep=False) #covgdep = Allowing for coverage dependance to be considered in the fit\n",
    "t2_c_b,covg2_c_b,fits2_c_b = fit2_c_b.fitting_rate_param(option='ML',mdl='KNeighborsRegressor',n=num_dat_model_2,filename=filename_model_2,plot=True)"
   ]
  },
  {
   "cell_type": "code",
   "execution_count": null,
   "metadata": {},
   "outputs": [],
   "source": [
    "%%time \n",
    "#Fitting for Model 2: (without CD) #using DecisionTreeRegressor\n",
    "fit2_c_c = Fitting('coverages_2_nCD.csv','Atomic_2.csv','Stoich_2.csv','Param_2_Guess.csv',CovgDep=False) #covgdep = Allowing for coverage dependance to be considered in the fit\n",
    "t2_c_c,covg2_c_c,fits2_c_c = fit2_c_c.fitting_rate_param(option='ML',mdl='DecisionTreeRegressor',n=num_dat_model_2,filename=filename_model_2,plot=True) "
   ]
  },
  {
   "cell_type": "code",
   "execution_count": null,
   "metadata": {},
   "outputs": [],
   "source": [
    "%%time \n",
    "#Fitting for Model 2: (without CD) #using MLPRegressor\n",
    "fit2_c_d = Fitting('coverages_2_nCD.csv','Atomic_2.csv','Stoich_2.csv','Param_2_Guess.csv',CovgDep=False) #covgdep = Allowing for coverage dependance to be considered in the fit\n",
    "t2_c_d,covg2_c_d,fits2_c_d = fit2_c_d.fitting_rate_param(option='ML',mdl='MLPRegressor',n=num_dat_model_2,filename=filename_model_2,plot=True)"
   ]
  },
  {
   "cell_type": "markdown",
   "metadata": {},
   "source": [
    "## |--->With CD"
   ]
  },
  {
   "cell_type": "code",
   "execution_count": null,
   "metadata": {},
   "outputs": [],
   "source": []
  }
 ],
 "metadata": {
  "kernelspec": {
   "display_name": "Python 3 (ipykernel)",
   "language": "python",
   "name": "python3"
  },
  "language_info": {
   "codemirror_mode": {
    "name": "ipython",
    "version": 3
   },
   "file_extension": ".py",
   "mimetype": "text/x-python",
   "name": "python",
   "nbconvert_exporter": "python",
   "pygments_lexer": "ipython3",
   "version": "3.9.7"
  }
 },
 "nbformat": 4,
 "nbformat_minor": 4
}
