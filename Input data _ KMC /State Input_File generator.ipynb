{
 "cells": [
  {
   "cell_type": "code",
   "execution_count": 52,
   "id": "f91a116c",
   "metadata": {},
   "outputs": [],
   "source": [
    "import os\n",
    "import matplotlib.pyplot as plt\n",
    "import numpy as np\n",
    "import pandas as pd\n",
    "import random"
   ]
  },
  {
   "cell_type": "code",
   "execution_count": 53,
   "id": "1cad75c4",
   "metadata": {},
   "outputs": [
    {
     "name": "stdout",
     "output_type": "stream",
     "text": [
      "CO*\n"
     ]
    },
    {
     "data": {
      "text/plain": [
       "array([0. , 0.5, 1. ])"
      ]
     },
     "execution_count": 53,
     "metadata": {},
     "output_type": "execute_result"
    }
   ],
   "source": [
    "no_sim=3 #Number of possible coverages for each species #This increases how many total folders are made.\n",
    "Tot_no_sites = 1500 #Total Number of sites\n",
    "A='CO*'; B='O*'\n",
    "\n",
    "print('%s' %(A))\n",
    "theta_A = np.linspace(0, 1, no_sim) #Coverages of A\n",
    "theta_A"
   ]
  },
  {
   "cell_type": "code",
   "execution_count": 54,
   "id": "e206af2b",
   "metadata": {},
   "outputs": [
    {
     "name": "stdout",
     "output_type": "stream",
     "text": [
      "Sim_A_0_B_0/state_input.dat\n",
      "--\n",
      "Sim_A_0_B_50/state_input.dat\n",
      "--\n",
      "Sim_A_0_B_100/state_input.dat\n",
      "--\n",
      "Sim_A_50_B_0/state_input.dat\n",
      "--\n",
      "Sim_A_50_B_50/state_input.dat\n",
      "--\n",
      "Sim_A_100_B_0/state_input.dat\n",
      "--\n",
      "Total number of new folders made: 6\n",
      "Total number of simulation folders in this directory: 6\n",
      "CPU times: user 936 ms, sys: 8.74 ms, total: 945 ms\n",
      "Wall time: 953 ms\n"
     ]
    }
   ],
   "source": [
    "%%time\n",
    "k=0 #Count for number of files created\n",
    "Array_tot_sites = np.arange(0,Tot_no_sites) #Array of all possible sites\n",
    "\n",
    "for i in np.arange(len(theta_A)):\n",
    "    if i==0:\n",
    "        theta_B = theta_A\n",
    "    else:\n",
    "        theta_B = theta_A[:-i]\n",
    "    for j in theta_B:\n",
    "        cov_A = theta_A[i]\n",
    "        cov_B = j  \n",
    "        cov_empty = 1-cov_A-cov_B\n",
    "        folder_name = (\"Sim_A_{}_B_{}\".format(int(cov_A*100),int(cov_B*100) ))\n",
    "        file_name = 'state_input.dat'\n",
    "        if not os.path.exists(folder_name):\n",
    "            os.makedirs(folder_name) #Making the simulation folder:\n",
    "            k += 1 #Counting how many simulation folders have been made\n",
    "            #Creating the state_input file accordingly\n",
    "            file_path = os.path.join(folder_name, file_name)\n",
    "#             print(file_path)\n",
    "            ofile=open(file_path,'w')\n",
    "            ofile.write(\"initial_state\\n\")\n",
    "            \n",
    "            occupied_loc = [] #All site locations that are occupied\n",
    "            \n",
    "            #For A : CO* #Choosing only x amount of active sites corresponds to A i.e based on the coverage\n",
    "            for m in np.arange(int(cov_A*Tot_no_sites)):\n",
    "                Available_loc = list(set(Array_tot_sites) - set(occupied_loc)) #List of available sites to choose from\n",
    "                if Available_loc!=[]: #Make sure there is something available\n",
    "                    loc_A = random.choice(Available_loc) #Extracting a random site location from the ones available\n",
    "                    occupied_loc.append(loc_A)\n",
    "                    ofile.write(\"   seed_on_sites %s %i\\n\" %(A,loc_A) ) \n",
    "               \n",
    "                    \n",
    "            #For B : O*\n",
    "            for n in np.arange(int(cov_B*Tot_no_sites)):\n",
    "                Available_loc = list(set(Array_tot_sites) - set(occupied_loc)) #List of available sites to choose from\n",
    "                if Available_loc!=[]: #Make sure there is something available\n",
    "                    loc_B = random.choice(Available_loc) #Extracting a random site location from the ones available\n",
    "                    occupied_loc.append(loc_B)\n",
    "                    ofile.write(\"   seed_on_sites %s %i\\n\" %(B,loc_B) )\n",
    "                \n",
    "\n",
    "            ofile.write(\"end_initial_state\") \n",
    "            ofile.close\n",
    "\n",
    "#             ofile=open(file_path,'r')\n",
    "#             file=ofile.readlines()\n",
    "#             print(file)\n",
    "#             print(len(file))\n",
    "#             ofile.close()\n",
    "            \n",
    "#             print('--')\n",
    "            \n",
    "print('Total number of new folders made:',k)\n",
    "count = 0\n",
    "for item in os.listdir():\n",
    "    if os.path.isdir(item) and item.startswith('Sim'):\n",
    "        count += 1\n",
    "print('Total number of simulation folders in this directory:',count)"
   ]
  },
  {
   "cell_type": "code",
   "execution_count": 47,
   "id": "fb09d93b",
   "metadata": {},
   "outputs": [
    {
     "name": "stdout",
     "output_type": "stream",
     "text": [
      "100\n"
     ]
    }
   ],
   "source": [
    "print(int(0.5*Tot_no_sites))"
   ]
  },
  {
   "cell_type": "code",
   "execution_count": 22,
   "id": "99fbbcb0",
   "metadata": {},
   "outputs": [
    {
     "ename": "IndexError",
     "evalue": "list index out of range",
     "output_type": "error",
     "traceback": [
      "\u001b[0;31m---------------------------------------------------------------------------\u001b[0m",
      "\u001b[0;31mIndexError\u001b[0m                                Traceback (most recent call last)",
      "\u001b[0;32m/var/folders/_p/qwgws2w95qxf051hv3d15ky5_tzjzl/T/ipykernel_15350/3905754254.py\u001b[0m in \u001b[0;36m<module>\u001b[0;34m\u001b[0m\n\u001b[0;32m----> 1\u001b[0;31m \u001b[0mrandom\u001b[0m\u001b[0;34m.\u001b[0m\u001b[0mchoice\u001b[0m\u001b[0;34m(\u001b[0m\u001b[0mAvailable_loc\u001b[0m\u001b[0;34m)\u001b[0m\u001b[0;34m\u001b[0m\u001b[0;34m\u001b[0m\u001b[0m\n\u001b[0m",
      "\u001b[0;32m~/opt/anaconda3/lib/python3.9/random.py\u001b[0m in \u001b[0;36mchoice\u001b[0;34m(self, seq)\u001b[0m\n\u001b[1;32m    344\u001b[0m         \u001b[0;34m\"\"\"Choose a random element from a non-empty sequence.\"\"\"\u001b[0m\u001b[0;34m\u001b[0m\u001b[0;34m\u001b[0m\u001b[0m\n\u001b[1;32m    345\u001b[0m         \u001b[0;31m# raises IndexError if seq is empty\u001b[0m\u001b[0;34m\u001b[0m\u001b[0;34m\u001b[0m\u001b[0m\n\u001b[0;32m--> 346\u001b[0;31m         \u001b[0;32mreturn\u001b[0m \u001b[0mseq\u001b[0m\u001b[0;34m[\u001b[0m\u001b[0mself\u001b[0m\u001b[0;34m.\u001b[0m\u001b[0m_randbelow\u001b[0m\u001b[0;34m(\u001b[0m\u001b[0mlen\u001b[0m\u001b[0;34m(\u001b[0m\u001b[0mseq\u001b[0m\u001b[0;34m)\u001b[0m\u001b[0;34m)\u001b[0m\u001b[0;34m]\u001b[0m\u001b[0;34m\u001b[0m\u001b[0;34m\u001b[0m\u001b[0m\n\u001b[0m\u001b[1;32m    347\u001b[0m \u001b[0;34m\u001b[0m\u001b[0m\n\u001b[1;32m    348\u001b[0m     \u001b[0;32mdef\u001b[0m \u001b[0mshuffle\u001b[0m\u001b[0;34m(\u001b[0m\u001b[0mself\u001b[0m\u001b[0;34m,\u001b[0m \u001b[0mx\u001b[0m\u001b[0;34m,\u001b[0m \u001b[0mrandom\u001b[0m\u001b[0;34m=\u001b[0m\u001b[0;32mNone\u001b[0m\u001b[0;34m)\u001b[0m\u001b[0;34m:\u001b[0m\u001b[0;34m\u001b[0m\u001b[0;34m\u001b[0m\u001b[0m\n",
      "\u001b[0;31mIndexError\u001b[0m: list index out of range"
     ]
    }
   ],
   "source": [
    "random.choice(Available_loc)"
   ]
  },
  {
   "cell_type": "code",
   "execution_count": 50,
   "id": "4347c29b",
   "metadata": {},
   "outputs": [],
   "source": [
    "import os\n",
    "import shutil\n",
    "def delete_folders(folder_name_prefix):\n",
    "    for item in os.listdir():\n",
    "        if os.path.isdir(item) and item.startswith(folder_name_prefix):\n",
    "            shutil.rmtree(item)\n"
   ]
  },
  {
   "cell_type": "code",
   "execution_count": 51,
   "id": "dca5a407",
   "metadata": {},
   "outputs": [],
   "source": [
    "delete_folders('Sim')"
   ]
  },
  {
   "cell_type": "code",
   "execution_count": 7,
   "id": "b58f1c0b",
   "metadata": {},
   "outputs": [
    {
     "data": {
      "text/plain": [
       "'True'"
      ]
     },
     "execution_count": 7,
     "metadata": {},
     "output_type": "execute_result"
    }
   ],
   "source": [
    "item_list = np.array(['item', 5, 'foo', 3.14, True])\n",
    "list_to_remove = ['item', 5, 'foo']\n",
    "\n",
    "final_list = list(set(item_list) - set(list_to_remove))\n",
    "random.choice(final_list)"
   ]
  },
  {
   "cell_type": "code",
   "execution_count": 30,
   "id": "568c25b3",
   "metadata": {},
   "outputs": [
    {
     "data": {
      "text/plain": [
       "2"
      ]
     },
     "execution_count": 30,
     "metadata": {},
     "output_type": "execute_result"
    }
   ],
   "source": [
    "random.randint(1,2)"
   ]
  },
  {
   "cell_type": "code",
   "execution_count": null,
   "id": "fd8df53c",
   "metadata": {},
   "outputs": [],
   "source": []
  }
 ],
 "metadata": {
  "kernelspec": {
   "display_name": "Python 3 (ipykernel)",
   "language": "python",
   "name": "python3"
  },
  "language_info": {
   "codemirror_mode": {
    "name": "ipython",
    "version": 3
   },
   "file_extension": ".py",
   "mimetype": "text/x-python",
   "name": "python",
   "nbconvert_exporter": "python",
   "pygments_lexer": "ipython3",
   "version": "3.9.7"
  }
 },
 "nbformat": 4,
 "nbformat_minor": 5
}
