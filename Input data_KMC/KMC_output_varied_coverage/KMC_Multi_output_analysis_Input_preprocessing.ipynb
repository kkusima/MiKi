{
 "cells": [
  {
   "cell_type": "code",
   "execution_count": 1,
   "id": "675875ee",
   "metadata": {},
   "outputs": [],
   "source": [
    "import glob, os\n",
    "import matplotlib.pyplot as plt\n",
    "import numpy as np\n",
    "import pandas as pd\n",
    "import shutil"
   ]
  },
  {
   "cell_type": "code",
   "execution_count": null,
   "id": "33a82539",
   "metadata": {},
   "outputs": [],
   "source": [
    "os.chdir(os.path.normpath(os.getcwd() + os.sep + os.pardir)) #Puts directory where this script is"
   ]
  },
  {
   "cell_type": "code",
   "execution_count": 4,
   "id": "52f1258f",
   "metadata": {},
   "outputs": [
    {
     "name": "stdout",
     "output_type": "stream",
     "text": [
      "55\n",
      "['Sim_A_0_B_77', 'Sim_A_44_B_55', 'Sim_A_55_B_22', 'Sim_A_22_B_77', 'Sim_A_88_B_11', 'Sim_A_22_B_22', 'Sim_A_33_B_0', 'Sim_A_33_B_55', 'Sim_A_0_B_22', 'Sim_A_22_B_0', 'Sim_A_66_B_11', 'Sim_A_11_B_44', 'Sim_A_11_B_88', 'Sim_A_11_B_11', 'Sim_A_0_B_100', 'Sim_A_77_B_11', 'Sim_A_11_B_33', 'Sim_A_11_B_66', 'Sim_A_66_B_33', 'Sim_A_44_B_0', 'Sim_A_44_B_22', 'Sim_A_55_B_0', 'Sim_A_100_B_0', 'Sim_A_22_B_55', 'Sim_A_0_B_55', 'Sim_A_33_B_22', 'Sim_A_33_B_66', 'Sim_A_0_B_11', 'Sim_A_44_B_33', 'Sim_A_55_B_44', 'Sim_A_66_B_0', 'Sim_A_0_B_0', 'Sim_A_22_B_11', 'Sim_A_55_B_11', 'Sim_A_22_B_44', 'Sim_A_33_B_33', 'Sim_A_0_B_88', 'Sim_A_0_B_44', 'Sim_A_11_B_22', 'Sim_A_66_B_22', 'Sim_A_11_B_77', 'Sim_A_77_B_0', 'Sim_A_88_B_0', 'Sim_A_11_B_0', 'Sim_A_11_B_55', 'Sim_A_77_B_22', 'Sim_A_44_B_44', 'Sim_A_0_B_66', 'Sim_A_33_B_11', 'Sim_A_22_B_66', 'Sim_A_55_B_33', 'Sim_A_22_B_33', 'Sim_A_44_B_11', 'Sim_A_0_B_33', 'Sim_A_33_B_44']\n",
      "CPU times: user 1.81 ms, sys: 1.8 ms, total: 3.61 ms\n",
      "Wall time: 2.2 ms\n"
     ]
    }
   ],
   "source": [
    "%%time\n",
    "Sim_folder_names = []\n",
    "i = 0\n",
    "for file in glob.glob(\"Sim_*\"):\n",
    "    Sim_folder_names.append(file)\n",
    "    i+=1\n",
    "print(i)\n",
    "print(Sim_folder_names)\n",
    "os.chdir(os.path.normpath(os.getcwd() + os.sep + os.pardir)) #Changes directory back to where this script is"
   ]
  },
  {
   "cell_type": "code",
   "execution_count": 35,
   "id": "ba4d6916",
   "metadata": {},
   "outputs": [
    {
     "data": {
      "text/plain": [
       "55"
      ]
     },
     "execution_count": 35,
     "metadata": {},
     "output_type": "execute_result"
    }
   ],
   "source": [
    "len(Sim_folder_names)"
   ]
  },
  {
   "cell_type": "code",
   "execution_count": 53,
   "id": "ee8046c7",
   "metadata": {},
   "outputs": [
    {
     "name": "stdout",
     "output_type": "stream",
     "text": [
      "[[  0.  77.   0.  23.]\n",
      " [ 44.  55.   0.   1.]\n",
      " [ 55.  22.   0.  23.]\n",
      " [ 22.  77.   0.   1.]\n",
      " [ 88.  11.   0.   1.]\n",
      " [ 22.  22.   0.  56.]\n",
      " [ 33.   0.   0.  67.]\n",
      " [ 33.  55.   0.  12.]\n",
      " [  0.  22.   0.  78.]\n",
      " [ 22.   0.   0.  78.]\n",
      " [ 66.  11.   0.  23.]\n",
      " [ 11.  44.   0.  45.]\n",
      " [ 11.  88.   0.   1.]\n",
      " [ 11.  11.   0.  78.]\n",
      " [  0. 100.   0.   0.]\n",
      " [ 77.  11.   0.  12.]\n",
      " [ 11.  33.   0.  56.]\n",
      " [ 11.  66.   0.  23.]\n",
      " [ 66.  33.   0.   1.]\n",
      " [ 44.   0.   0.  56.]\n",
      " [ 44.  22.   0.  34.]\n",
      " [ 55.   0.   0.  45.]\n",
      " [100.   0.   0.   0.]\n",
      " [ 22.  55.   0.  23.]\n",
      " [  0.  55.   0.  45.]\n",
      " [ 33.  22.   0.  45.]\n",
      " [ 33.  66.   0.   1.]\n",
      " [  0.  11.   0.  89.]\n",
      " [ 44.  33.   0.  23.]\n",
      " [ 55.  44.   0.   1.]\n",
      " [ 66.   0.   0.  34.]\n",
      " [  0.   0.   0. 100.]\n",
      " [ 22.  11.   0.  67.]\n",
      " [ 55.  11.   0.  34.]\n",
      " [ 22.  44.   0.  34.]\n",
      " [ 33.  33.   0.  34.]\n",
      " [  0.  88.   0.  12.]\n",
      " [  0.  44.   0.  56.]\n",
      " [ 11.  22.   0.  67.]\n",
      " [ 66.  22.   0.  12.]\n",
      " [ 11.  77.   0.  12.]\n",
      " [ 77.   0.   0.  23.]\n",
      " [ 88.   0.   0.  12.]\n",
      " [ 11.   0.   0.  89.]\n",
      " [ 11.  55.   0.  34.]\n",
      " [ 77.  22.   0.   1.]\n",
      " [ 44.  44.   0.  12.]\n",
      " [  0.  66.   0.  34.]\n",
      " [ 33.  11.   0.  56.]\n",
      " [ 22.  66.   0.  12.]\n",
      " [ 55.  33.   0.  12.]\n",
      " [ 22.  33.   0.  45.]\n",
      " [ 44.  11.   0.  45.]\n",
      " [  0.  33.   0.  67.]\n",
      " [ 33.  44.   0.  23.]]\n"
     ]
    }
   ],
   "source": [
    "set_init_coverages = np.empty([len(Sim_folder_names),4])\n",
    "#Remember: A='CO*'; B='O*'\n",
    "#Reading A and B initial coverages from the KMC simulation input coverage files\n",
    "c = 0 #counter\n",
    "for s in Sim_folder_names:\n",
    "    set_coverages = []\n",
    "    for i in np.arange(len(s)):\n",
    "        if i<(len(s)-2) and s[i].isdigit() and (s[i+1]).isdigit() and (s[i+2]).isdigit():\n",
    "            cov_triple = int(s[i:i+3])\n",
    "            set_coverages.append(cov_triple)\n",
    "            \n",
    "        elif i<(len(s)-1) and s[i].isdigit() and (s[i+1]).isdigit()and not((s[i-1]).isdigit()):\n",
    "            cov_double = int(s[i:i+2])\n",
    "            set_coverages.append(cov_double)\n",
    "            \n",
    "#             print(cov_double)\n",
    "        elif s[i].isdigit() and not((s[i-1]).isdigit()) and not((s[i-2]).isdigit()):\n",
    "            cov_single = int(s[i])\n",
    "            set_coverages.append(cov_single)\n",
    "                                #A_CO*_covg,     B_O*_covg,     O2*_covg,*_covg\n",
    "    set_init_coverages[c,:] = [set_coverages[0],set_coverages[1],0,100-sum(set_coverages)]\n",
    "    c+=1 #counter\n",
    "#     set_coverages = [int(i) for i in s if i.isdigit()]\n",
    "print(set_init_coverages)\n",
    "#     print(s)"
   ]
  },
  {
   "cell_type": "code",
   "execution_count": 92,
   "id": "74c34ff7",
   "metadata": {},
   "outputs": [
    {
     "data": {
      "text/plain": [
       "'/Users/klkusima/Desktop/RASH Research/CO_ox/Kinetics/OOP_Kinetics/MiKi/Input data_KMC/KMC_output_varied_coverage/Sim_A_0_B_77'"
      ]
     },
     "execution_count": 92,
     "metadata": {},
     "output_type": "execute_result"
    }
   ],
   "source": [
    "os.getcwd()"
   ]
  },
  {
   "cell_type": "code",
   "execution_count": 93,
   "id": "5cffaba7",
   "metadata": {},
   "outputs": [],
   "source": [
    "os.chdir(os.path.normpath(os.getcwd() + os.sep + os.pardir)) #Changes directory back to where this script is"
   ]
  },
  {
   "cell_type": "code",
   "execution_count": 94,
   "id": "fe3bb6a1",
   "metadata": {},
   "outputs": [
    {
     "name": "stdout",
     "output_type": "stream",
     "text": [
      "[0.0, 0.7777235243055556, 0.0, 0.22227647569444445]\n",
      "[0.4444444444444444, 0.5555013020833334, 0.0, 5.425347222222222e-05]\n",
      "[0.5555555555555556, 0.2222222222222222, 0.0, 0.2222222222222222]\n",
      "[0.2222222222222222, 0.7777235243055556, 0.0, 5.425347222222222e-05]\n",
      "[0.8888888888888888, 0.1110568576388889, 0.0, 5.425347222222222e-05]\n",
      "[0.2222222222222222, 0.2222222222222222, 0.0, 0.5555555555555556]\n",
      "[0.3333333333333333, 0.0, 0.0, 0.6666666666666666]\n",
      "[0.3333333333333333, 0.5555555555555556, 0.0, 0.1111111111111111]\n",
      "[0.0, 0.2222222222222222, 0.0, 0.7777777777777778]\n",
      "[0.2222222222222222, 0.0, 0.0, 0.7777777777777778]\n",
      "[0.6666666666666666, 0.1111111111111111, 0.0, 0.2222222222222222]\n",
      "[0.1111111111111111, 0.4444444444444444, 0.0, 0.4444444444444444]\n",
      "[0.1111111111111111, 0.8888346354166666, 0.0, 5.425347222222222e-05]\n",
      "[0.1111111111111111, 0.1111111111111111, 0.0, 0.7777777777777778]\n",
      "[0.0, 0.9999457465277778, 0.0, 5.425347222222222e-05]\n",
      "[0.7777235243055556, 0.1111111111111111, 0.0, 0.11116536458333333]\n",
      "[0.1111111111111111, 0.3333333333333333, 0.0, 0.5555555555555556]\n",
      "[0.1111111111111111, 0.6666666666666666, 0.0, 0.2222222222222222]\n",
      "[0.6666666666666666, 0.3332790798611111, 0.0, 5.425347222222222e-05]\n",
      "[0.4444444444444444, 0.0, 0.0, 0.5555555555555556]\n",
      "[0.4444444444444444, 0.2222222222222222, 0.0, 0.3333333333333333]\n",
      "[0.5555555555555556, 0.0, 0.0, 0.4444444444444444]\n",
      "[0.9918077256944444, 0.0, 0.0, 0.008192274305555556]\n",
      "[0.2222222222222222, 0.5555555555555556, 0.0, 0.2222222222222222]\n",
      "[0.0, 0.5555555555555556, 0.0, 0.4444444444444444]\n",
      "[0.3333333333333333, 0.2222222222222222, 0.0, 0.4444444444444444]\n",
      "[0.3333333333333333, 0.6666124131944444, 0.0, 5.425347222222222e-05]\n",
      "[0.0, 0.1111111111111111, 0.0, 0.8888888888888888]\n",
      "[0.4444444444444444, 0.3333333333333333, 0.0, 0.2222222222222222]\n",
      "[0.5555555555555556, 0.4443901909722222, 0.0, 5.425347222222222e-05]\n",
      "[0.6666666666666666, 0.0, 0.0, 0.3333333333333333]\n"
     ]
    },
    {
     "ename": "IndexError",
     "evalue": "single positional indexer is out-of-bounds",
     "output_type": "error",
     "traceback": [
      "\u001b[0;31m---------------------------------------------------------------------------\u001b[0m",
      "\u001b[0;31mIndexError\u001b[0m                                Traceback (most recent call last)",
      "\u001b[0;32m/var/folders/_p/qwgws2w95qxf051hv3d15ky5_tzjzl/T/ipykernel_39462/1875413623.py\u001b[0m in \u001b[0;36m<module>\u001b[0;34m\u001b[0m\n\u001b[1;32m     22\u001b[0m \u001b[0;34m\u001b[0m\u001b[0m\n\u001b[1;32m     23\u001b[0m     \u001b[0;31m#Finding number of surface species\u001b[0m\u001b[0;34m\u001b[0m\u001b[0;34m\u001b[0m\u001b[0m\n\u001b[0;32m---> 24\u001b[0;31m     \u001b[0mheadings\u001b[0m \u001b[0;34m=\u001b[0m \u001b[0;34m(\u001b[0m\u001b[0mo\u001b[0m\u001b[0;34m.\u001b[0m\u001b[0miloc\u001b[0m\u001b[0;34m[\u001b[0m\u001b[0;36m0\u001b[0m\u001b[0;34m,\u001b[0m\u001b[0;34m:\u001b[0m\u001b[0;34m]\u001b[0m\u001b[0;34m)\u001b[0m\u001b[0;34m\u001b[0m\u001b[0;34m\u001b[0m\u001b[0m\n\u001b[0m\u001b[1;32m     25\u001b[0m     \u001b[0mn_ss\u001b[0m \u001b[0;34m=\u001b[0m \u001b[0msum\u001b[0m\u001b[0;34m(\u001b[0m\u001b[0;34m'*'\u001b[0m \u001b[0;32min\u001b[0m \u001b[0mh\u001b[0m \u001b[0;32mfor\u001b[0m \u001b[0mh\u001b[0m \u001b[0;32min\u001b[0m \u001b[0mheadings\u001b[0m\u001b[0;34m)\u001b[0m \u001b[0;31m#Number of surface species\u001b[0m\u001b[0;34m\u001b[0m\u001b[0;34m\u001b[0m\u001b[0m\n\u001b[1;32m     26\u001b[0m \u001b[0;34m\u001b[0m\u001b[0m\n",
      "\u001b[0;32m~/opt/anaconda3/lib/python3.9/site-packages/pandas/core/indexing.py\u001b[0m in \u001b[0;36m__getitem__\u001b[0;34m(self, key)\u001b[0m\n\u001b[1;32m    923\u001b[0m                 \u001b[0;32mwith\u001b[0m \u001b[0msuppress\u001b[0m\u001b[0;34m(\u001b[0m\u001b[0mKeyError\u001b[0m\u001b[0;34m,\u001b[0m \u001b[0mIndexError\u001b[0m\u001b[0;34m)\u001b[0m\u001b[0;34m:\u001b[0m\u001b[0;34m\u001b[0m\u001b[0;34m\u001b[0m\u001b[0m\n\u001b[1;32m    924\u001b[0m                     \u001b[0;32mreturn\u001b[0m \u001b[0mself\u001b[0m\u001b[0;34m.\u001b[0m\u001b[0mobj\u001b[0m\u001b[0;34m.\u001b[0m\u001b[0m_get_value\u001b[0m\u001b[0;34m(\u001b[0m\u001b[0;34m*\u001b[0m\u001b[0mkey\u001b[0m\u001b[0;34m,\u001b[0m \u001b[0mtakeable\u001b[0m\u001b[0;34m=\u001b[0m\u001b[0mself\u001b[0m\u001b[0;34m.\u001b[0m\u001b[0m_takeable\u001b[0m\u001b[0;34m)\u001b[0m\u001b[0;34m\u001b[0m\u001b[0;34m\u001b[0m\u001b[0m\n\u001b[0;32m--> 925\u001b[0;31m             \u001b[0;32mreturn\u001b[0m \u001b[0mself\u001b[0m\u001b[0;34m.\u001b[0m\u001b[0m_getitem_tuple\u001b[0m\u001b[0;34m(\u001b[0m\u001b[0mkey\u001b[0m\u001b[0;34m)\u001b[0m\u001b[0;34m\u001b[0m\u001b[0;34m\u001b[0m\u001b[0m\n\u001b[0m\u001b[1;32m    926\u001b[0m         \u001b[0;32melse\u001b[0m\u001b[0;34m:\u001b[0m\u001b[0;34m\u001b[0m\u001b[0;34m\u001b[0m\u001b[0m\n\u001b[1;32m    927\u001b[0m             \u001b[0;31m# we by definition only have the 0th axis\u001b[0m\u001b[0;34m\u001b[0m\u001b[0;34m\u001b[0m\u001b[0m\n",
      "\u001b[0;32m~/opt/anaconda3/lib/python3.9/site-packages/pandas/core/indexing.py\u001b[0m in \u001b[0;36m_getitem_tuple\u001b[0;34m(self, tup)\u001b[0m\n\u001b[1;32m   1504\u001b[0m     \u001b[0;32mdef\u001b[0m \u001b[0m_getitem_tuple\u001b[0m\u001b[0;34m(\u001b[0m\u001b[0mself\u001b[0m\u001b[0;34m,\u001b[0m \u001b[0mtup\u001b[0m\u001b[0;34m:\u001b[0m \u001b[0mtuple\u001b[0m\u001b[0;34m)\u001b[0m\u001b[0;34m:\u001b[0m\u001b[0;34m\u001b[0m\u001b[0;34m\u001b[0m\u001b[0m\n\u001b[1;32m   1505\u001b[0m \u001b[0;34m\u001b[0m\u001b[0m\n\u001b[0;32m-> 1506\u001b[0;31m         \u001b[0mself\u001b[0m\u001b[0;34m.\u001b[0m\u001b[0m_has_valid_tuple\u001b[0m\u001b[0;34m(\u001b[0m\u001b[0mtup\u001b[0m\u001b[0;34m)\u001b[0m\u001b[0;34m\u001b[0m\u001b[0;34m\u001b[0m\u001b[0m\n\u001b[0m\u001b[1;32m   1507\u001b[0m         \u001b[0;32mwith\u001b[0m \u001b[0msuppress\u001b[0m\u001b[0;34m(\u001b[0m\u001b[0mIndexingError\u001b[0m\u001b[0;34m)\u001b[0m\u001b[0;34m:\u001b[0m\u001b[0;34m\u001b[0m\u001b[0;34m\u001b[0m\u001b[0m\n\u001b[1;32m   1508\u001b[0m             \u001b[0;32mreturn\u001b[0m \u001b[0mself\u001b[0m\u001b[0;34m.\u001b[0m\u001b[0m_getitem_lowerdim\u001b[0m\u001b[0;34m(\u001b[0m\u001b[0mtup\u001b[0m\u001b[0;34m)\u001b[0m\u001b[0;34m\u001b[0m\u001b[0;34m\u001b[0m\u001b[0m\n",
      "\u001b[0;32m~/opt/anaconda3/lib/python3.9/site-packages/pandas/core/indexing.py\u001b[0m in \u001b[0;36m_has_valid_tuple\u001b[0;34m(self, key)\u001b[0m\n\u001b[1;32m    752\u001b[0m         \u001b[0;32mfor\u001b[0m \u001b[0mi\u001b[0m\u001b[0;34m,\u001b[0m \u001b[0mk\u001b[0m \u001b[0;32min\u001b[0m \u001b[0menumerate\u001b[0m\u001b[0;34m(\u001b[0m\u001b[0mkey\u001b[0m\u001b[0;34m)\u001b[0m\u001b[0;34m:\u001b[0m\u001b[0;34m\u001b[0m\u001b[0;34m\u001b[0m\u001b[0m\n\u001b[1;32m    753\u001b[0m             \u001b[0;32mtry\u001b[0m\u001b[0;34m:\u001b[0m\u001b[0;34m\u001b[0m\u001b[0;34m\u001b[0m\u001b[0m\n\u001b[0;32m--> 754\u001b[0;31m                 \u001b[0mself\u001b[0m\u001b[0;34m.\u001b[0m\u001b[0m_validate_key\u001b[0m\u001b[0;34m(\u001b[0m\u001b[0mk\u001b[0m\u001b[0;34m,\u001b[0m \u001b[0mi\u001b[0m\u001b[0;34m)\u001b[0m\u001b[0;34m\u001b[0m\u001b[0;34m\u001b[0m\u001b[0m\n\u001b[0m\u001b[1;32m    755\u001b[0m             \u001b[0;32mexcept\u001b[0m \u001b[0mValueError\u001b[0m \u001b[0;32mas\u001b[0m \u001b[0merr\u001b[0m\u001b[0;34m:\u001b[0m\u001b[0;34m\u001b[0m\u001b[0;34m\u001b[0m\u001b[0m\n\u001b[1;32m    756\u001b[0m                 raise ValueError(\n",
      "\u001b[0;32m~/opt/anaconda3/lib/python3.9/site-packages/pandas/core/indexing.py\u001b[0m in \u001b[0;36m_validate_key\u001b[0;34m(self, key, axis)\u001b[0m\n\u001b[1;32m   1407\u001b[0m             \u001b[0;32mreturn\u001b[0m\u001b[0;34m\u001b[0m\u001b[0;34m\u001b[0m\u001b[0m\n\u001b[1;32m   1408\u001b[0m         \u001b[0;32melif\u001b[0m \u001b[0mis_integer\u001b[0m\u001b[0;34m(\u001b[0m\u001b[0mkey\u001b[0m\u001b[0;34m)\u001b[0m\u001b[0;34m:\u001b[0m\u001b[0;34m\u001b[0m\u001b[0;34m\u001b[0m\u001b[0m\n\u001b[0;32m-> 1409\u001b[0;31m             \u001b[0mself\u001b[0m\u001b[0;34m.\u001b[0m\u001b[0m_validate_integer\u001b[0m\u001b[0;34m(\u001b[0m\u001b[0mkey\u001b[0m\u001b[0;34m,\u001b[0m \u001b[0maxis\u001b[0m\u001b[0;34m)\u001b[0m\u001b[0;34m\u001b[0m\u001b[0;34m\u001b[0m\u001b[0m\n\u001b[0m\u001b[1;32m   1410\u001b[0m         \u001b[0;32melif\u001b[0m \u001b[0misinstance\u001b[0m\u001b[0;34m(\u001b[0m\u001b[0mkey\u001b[0m\u001b[0;34m,\u001b[0m \u001b[0mtuple\u001b[0m\u001b[0;34m)\u001b[0m\u001b[0;34m:\u001b[0m\u001b[0;34m\u001b[0m\u001b[0;34m\u001b[0m\u001b[0m\n\u001b[1;32m   1411\u001b[0m             \u001b[0;31m# a tuple should already have been caught by this point\u001b[0m\u001b[0;34m\u001b[0m\u001b[0;34m\u001b[0m\u001b[0m\n",
      "\u001b[0;32m~/opt/anaconda3/lib/python3.9/site-packages/pandas/core/indexing.py\u001b[0m in \u001b[0;36m_validate_integer\u001b[0;34m(self, key, axis)\u001b[0m\n\u001b[1;32m   1498\u001b[0m         \u001b[0mlen_axis\u001b[0m \u001b[0;34m=\u001b[0m \u001b[0mlen\u001b[0m\u001b[0;34m(\u001b[0m\u001b[0mself\u001b[0m\u001b[0;34m.\u001b[0m\u001b[0mobj\u001b[0m\u001b[0;34m.\u001b[0m\u001b[0m_get_axis\u001b[0m\u001b[0;34m(\u001b[0m\u001b[0maxis\u001b[0m\u001b[0;34m)\u001b[0m\u001b[0;34m)\u001b[0m\u001b[0;34m\u001b[0m\u001b[0;34m\u001b[0m\u001b[0m\n\u001b[1;32m   1499\u001b[0m         \u001b[0;32mif\u001b[0m \u001b[0mkey\u001b[0m \u001b[0;34m>=\u001b[0m \u001b[0mlen_axis\u001b[0m \u001b[0;32mor\u001b[0m \u001b[0mkey\u001b[0m \u001b[0;34m<\u001b[0m \u001b[0;34m-\u001b[0m\u001b[0mlen_axis\u001b[0m\u001b[0;34m:\u001b[0m\u001b[0;34m\u001b[0m\u001b[0;34m\u001b[0m\u001b[0m\n\u001b[0;32m-> 1500\u001b[0;31m             \u001b[0;32mraise\u001b[0m \u001b[0mIndexError\u001b[0m\u001b[0;34m(\u001b[0m\u001b[0;34m\"single positional indexer is out-of-bounds\"\u001b[0m\u001b[0;34m)\u001b[0m\u001b[0;34m\u001b[0m\u001b[0;34m\u001b[0m\u001b[0m\n\u001b[0m\u001b[1;32m   1501\u001b[0m \u001b[0;34m\u001b[0m\u001b[0m\n\u001b[1;32m   1502\u001b[0m     \u001b[0;31m# -------------------------------------------------------------------\u001b[0m\u001b[0;34m\u001b[0m\u001b[0;34m\u001b[0m\u001b[0m\n",
      "\u001b[0;31mIndexError\u001b[0m: single positional indexer is out-of-bounds"
     ]
    }
   ],
   "source": [
    "## Copying all the other input files into the different simulation folders\n",
    "# Extracting initial coverages\n",
    "#Remember: A='CO*'; B='O*'\n",
    "init_coverages = np.empty([len(Sim_folder_names),4])\n",
    "c = 0 #counter\n",
    "for s in Sim_folder_names:\n",
    "    os.chdir(s)\n",
    "    file=open('specnum_output.txt','r').readlines() #Reading in the relevant file\n",
    "    b=[]\n",
    "    for i in np.arange(len(file)): \n",
    "        b.append(file[i].split())                   #Dividing the rows into columns\n",
    "    o = pd.DataFrame(data=b)                        #Final output\n",
    "\n",
    "#     print(o)\n",
    "    #Extracting Number of Sites from the general_output file:\n",
    "    inp=open('general_output.txt','r').readlines()\n",
    "    for i in np.arange(len(inp)): \n",
    "        if 'Total number of lattice sites:' in inp[i]:\n",
    "            val = i  #Line in text file where sentence is present\n",
    "\n",
    "    sites = int(inp[val][35:])\n",
    "    \n",
    "    #Finding number of surface species\n",
    "    headings = (o.iloc[0,:])\n",
    "    n_ss = sum('*' in h for h in headings) #Number of surface species\n",
    "    \n",
    "    #Finding number of gas species\n",
    "    n_gs = len(headings)-5-n_ss\n",
    "    \n",
    "    #Adding column to calculate number of empty sites\n",
    "    n_c=(len(o.iloc[0,:])) #number of current columns\n",
    "    o[n_c]=\" \"           #Creating new empty column \n",
    "    o.iloc[0,n_c]=\"*\"    #Labelling the new empty column \n",
    "\n",
    "    st = 0 #Initializing empty site coverage vector\n",
    "\n",
    "\n",
    "    for i in range(len(o.iloc[1:])):\n",
    "        if n_ss==0:\n",
    "            site = sites\n",
    "        else:\n",
    "            for j in range(n_ss):\n",
    "                st = st + float(o.iloc[i+1,5+j]) #Calculating no. of empty sites #Asuming empty sites are first to be reportes (i.e @5)\n",
    "            site = sites - st\n",
    "            st = 0\n",
    "        o.iloc[i+1,n_c] = site\n",
    "    \n",
    "    Sspecies = []\n",
    "    for i in range(n_ss):\n",
    "        Sspecies.append(5+i) \n",
    "    Sspecies.append(len(o.iloc[1,:])-1)#Including empty sites\n",
    "\n",
    "    #Calculating itme:\n",
    "    Gtime = o[2][1:].astype(float) \n",
    "    #Calculating coverages:\n",
    "    Scoverages = np.empty([len(o.iloc[:,1])-1,len(Sspecies)])\n",
    "    for i in range(len(Scoverages[1,:])):\n",
    "        Scoverages[:,i] = o[Sspecies[i]][1:].astype(float)/sites\n",
    "        \n",
    "    int_covg = [Scoverages[0,1],Scoverages[0,0],Scoverages[0,2],Scoverages[0,3]]\n",
    "    print(int_covg)\n",
    "                        #A_CO*_covg,     B_O*_covg,     O2*_covg,*_covg\n",
    "    init_coverages[c,:]= [Scoverages[0,1],Scoverages[0,0],Scoverages[0,2],Scoverages[0,3]]\n",
    "    \n",
    "    c+=1\n",
    "    \n",
    "    os.chdir(os.path.normpath(os.getcwd() + os.sep + os.pardir)) #Changes directory back to where this script is"
   ]
  },
  {
   "cell_type": "code",
   "execution_count": 80,
   "id": "76ffa552",
   "metadata": {},
   "outputs": [
    {
     "data": {
      "text/html": [
       "<div>\n",
       "<style scoped>\n",
       "    .dataframe tbody tr th:only-of-type {\n",
       "        vertical-align: middle;\n",
       "    }\n",
       "\n",
       "    .dataframe tbody tr th {\n",
       "        vertical-align: top;\n",
       "    }\n",
       "\n",
       "    .dataframe thead th {\n",
       "        text-align: right;\n",
       "    }\n",
       "</style>\n",
       "<table border=\"1\" class=\"dataframe\">\n",
       "  <thead>\n",
       "    <tr style=\"text-align: right;\">\n",
       "      <th></th>\n",
       "    </tr>\n",
       "  </thead>\n",
       "  <tbody>\n",
       "  </tbody>\n",
       "</table>\n",
       "</div>"
      ],
      "text/plain": [
       "Empty DataFrame\n",
       "Columns: []\n",
       "Index: []"
      ]
     },
     "execution_count": 80,
     "metadata": {},
     "output_type": "execute_result"
    }
   ],
   "source": [
    "o.head()"
   ]
  },
  {
   "cell_type": "code",
   "execution_count": null,
   "id": "a8b86e16",
   "metadata": {},
   "outputs": [],
   "source": []
  },
  {
   "cell_type": "code",
   "execution_count": null,
   "id": "c6751401",
   "metadata": {},
   "outputs": [],
   "source": []
  }
 ],
 "metadata": {
  "kernelspec": {
   "display_name": "Python 3 (ipykernel)",
   "language": "python",
   "name": "python3"
  },
  "language_info": {
   "codemirror_mode": {
    "name": "ipython",
    "version": 3
   },
   "file_extension": ".py",
   "mimetype": "text/x-python",
   "name": "python",
   "nbconvert_exporter": "python",
   "pygments_lexer": "ipython3",
   "version": "3.9.7"
  }
 },
 "nbformat": 4,
 "nbformat_minor": 5
}
