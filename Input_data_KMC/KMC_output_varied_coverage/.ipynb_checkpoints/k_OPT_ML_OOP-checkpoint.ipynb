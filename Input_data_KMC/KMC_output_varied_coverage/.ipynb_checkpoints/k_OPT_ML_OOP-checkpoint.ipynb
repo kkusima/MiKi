{
 "cells": [
  {
   "cell_type": "code",
   "execution_count": 1,
   "id": "77a63c68",
   "metadata": {},
   "outputs": [],
   "source": [
    "import glob, os\n",
    "import matplotlib.pyplot as plt\n",
    "import numpy as np\n",
    "import pandas as pd\n",
    "import shutil"
   ]
  },
  {
   "cell_type": "code",
   "execution_count": null,
   "id": "6c342ff9",
   "metadata": {},
   "outputs": [
    {
     "name": "stdout",
     "output_type": "stream",
     "text": [
      "Mass is conserved. \n",
      "\n",
      "Mass is conserved. \n",
      "\n"
     ]
    }
   ],
   "source": [
    "%%time\n",
    "from main_ML import *\n",
    "ML = ML_Fitting('Atomic_sw.csv','Stoich_sw.csv','Param_sw.csv','KMC_NonDynamic_Data_iCovg_iRates_sw.csv','KMC')\n",
    "ML.MKM.set_rxnconditions(Pr=[(1.0e-4*0.1),(1.0e-4*1.0e-5), 0]) #From KMC #Make sure it matches 02 CO CO2\n",
    "ML.KMC_Input_Folders_Initialization()"
   ]
  },
  {
   "cell_type": "raw",
   "id": "07dcab1e",
   "metadata": {},
   "source": [
    "# Dictionaries to be used\n",
    "\n",
    "data_KMC_dict = {'init_covg': init_coverages, \n",
    "                    'sim_time': KMC_time_Array, \n",
    "                     'covg_prof': Covg, \n",
    "                     'iRates': Rates}\n",
    "         \n",
    "data_MKM_dict = {'init_covg': MKM_init_coverages, \n",
    "                    'sim_time': time_MKM_Array, \n",
    "                     'covg_prof': MKM_Covg, \n",
    "                     'iRates': MKM_Rates}"
   ]
  },
  {
   "cell_type": "code",
   "execution_count": null,
   "id": "aa81b5b2",
   "metadata": {},
   "outputs": [],
   "source": [
    "%%time\n",
    "KMC_data = ML.KMC_Dictionary()"
   ]
  },
  {
   "cell_type": "code",
   "execution_count": null,
   "id": "b144f2cd",
   "metadata": {},
   "outputs": [],
   "source": [
    "exp_df = ML.Exp_Dataframe()"
   ]
  },
  {
   "cell_type": "code",
   "execution_count": null,
   "id": "8c1eb96e",
   "metadata": {},
   "outputs": [],
   "source": [
    "exp_df"
   ]
  },
  {
   "cell_type": "code",
   "execution_count": null,
   "id": "004c0422",
   "metadata": {},
   "outputs": [],
   "source": [
    "%%time\n",
    "params_ = np.array([5.60983514e+07, 6.26873886e-10, 2.09163588e+04, 8.74022929e+09, 1.03443448e+10, 2.75903622e-01, 1.03031697e+08, 5.00000000e+02])\n",
    "\n",
    "exp_mkm_df = ML.Exp_MKM_Dataframe(params = params_)\n",
    "exp_mkm_df"
   ]
  },
  {
   "cell_type": "code",
   "execution_count": null,
   "id": "3058e769",
   "metadata": {
    "scrolled": true
   },
   "outputs": [],
   "source": [
    "%%time\n",
    "#Plotting  fit comparison\n",
    "ML.MKM.k = params_\n",
    "\n",
    "ML.Fit_Visualization(params = params_)"
   ]
  },
  {
   "cell_type": "code",
   "execution_count": null,
   "id": "fb0a63c4",
   "metadata": {},
   "outputs": [],
   "source": [
    "%%time\n",
    "%matplotlib notebook\n",
    "#plotting 3D KMC\n",
    "ML.three_d_plot_Exp_only(p_c = 0.1)"
   ]
  },
  {
   "cell_type": "code",
   "execution_count": null,
   "id": "65883a11",
   "metadata": {},
   "outputs": [],
   "source": [
    "%%time\n",
    "ML.three_d_plot_Covg(p_c = 0.1)"
   ]
  },
  {
   "cell_type": "code",
   "execution_count": null,
   "id": "b2c2ca00",
   "metadata": {},
   "outputs": [],
   "source": [
    "%%time\n",
    "ML.three_d_plot_iRates(p_c = 0.1)"
   ]
  },
  {
   "cell_type": "code",
   "execution_count": null,
   "id": "944294d7",
   "metadata": {},
   "outputs": [],
   "source": [
    "X_all,Y_all = ML.X_Y_full_dataset()\n",
    "\n",
    "X_all\n",
    "Y_all"
   ]
  },
  {
   "cell_type": "code",
   "execution_count": null,
   "id": "368c6a8a",
   "metadata": {},
   "outputs": [],
   "source": [
    "Ext = ML.External_Dataframe()\n",
    "Ext"
   ]
  },
  {
   "cell_type": "code",
   "execution_count": null,
   "id": "0f145719",
   "metadata": {},
   "outputs": [],
   "source": [
    "ML.ML_Fitting(self,algorithm = 'KNN', plot=True)"
   ]
  }
 ],
 "metadata": {
  "kernelspec": {
   "display_name": "Python 3 (ipykernel)",
   "language": "python",
   "name": "python3"
  },
  "language_info": {
   "codemirror_mode": {
    "name": "ipython",
    "version": 3
   },
   "file_extension": ".py",
   "mimetype": "text/x-python",
   "name": "python",
   "nbconvert_exporter": "python",
   "pygments_lexer": "ipython3",
   "version": "3.9.7"
  }
 },
 "nbformat": 4,
 "nbformat_minor": 5
}
