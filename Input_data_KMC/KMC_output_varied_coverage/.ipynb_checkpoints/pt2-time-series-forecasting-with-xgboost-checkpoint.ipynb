{
 "cells": [
  {
   "cell_type": "markdown",
   "id": "fb10898f",
   "metadata": {
    "_cell_guid": "b1076dfc-b9ad-4769-8c92-a6c4dae69d19",
    "_uuid": "8f2839f25d086af736a60e9eeb907d3b93b6e0e5",
    "papermill": {
     "duration": 0.010337,
     "end_time": "2022-08-01T21:29:32.134789",
     "exception": false,
     "start_time": "2022-08-01T21:29:32.124452",
     "status": "completed"
    },
    "tags": []
   },
   "source": [
    "# PART 2!\n",
    "# Time Series Forecasting Youtube Tutorial\n",
    "## Using Machine Learning to Forecast Energy Consumption\n",
    "\n",
    "\n",
    "This notebook is accompanied by a Youtube tutorial.\n",
    "\n",
    "[WATCH THE FIRST VIDEO HERE](https://youtu.be/vV12dGe_Fho)\n",
    "\n",
    "[You can find it on my channel here!](https://www.youtube.com/channel/UCxladMszXan-jfgzyeIMyvw)\n",
    "\n",
    "![](https://res.cloudinary.com/monday-blogs/w_768,h_384,c_fit/fl_lossy,f_auto,q_auto/wp-blog/2021/05/sales-forecasting-software.jpg)"
   ]
  },
  {
   "cell_type": "code",
   "execution_count": 1,
   "id": "e011f70b",
   "metadata": {
    "execution": {
     "iopub.execute_input": "2022-08-01T21:29:32.155670Z",
     "iopub.status.busy": "2022-08-01T21:29:32.155189Z",
     "iopub.status.idle": "2022-08-01T21:29:33.685474Z",
     "shell.execute_reply": "2022-08-01T21:29:33.684378Z"
    },
    "papermill": {
     "duration": 1.544153,
     "end_time": "2022-08-01T21:29:33.688570",
     "exception": false,
     "start_time": "2022-08-01T21:29:32.144417",
     "status": "completed"
    },
    "tags": []
   },
   "outputs": [],
   "source": [
    "import pandas as pd\n",
    "import numpy as np\n",
    "import matplotlib.pyplot as plt\n",
    "import seaborn as sns\n",
    "\n",
    "import xgboost as xgb\n",
    "from sklearn.metrics import mean_squared_error\n",
    "color_pal = sns.color_palette()\n",
    "plt.style.use('fivethirtyeight')"
   ]
  },
  {
   "cell_type": "code",
   "execution_count": 2,
   "id": "b08858ec",
   "metadata": {
    "execution": {
     "iopub.execute_input": "2022-08-01T21:29:33.708734Z",
     "iopub.status.busy": "2022-08-01T21:29:33.708337Z",
     "iopub.status.idle": "2022-08-01T21:29:33.962861Z",
     "shell.execute_reply": "2022-08-01T21:29:33.961793Z"
    },
    "papermill": {
     "duration": 0.268166,
     "end_time": "2022-08-01T21:29:33.965715",
     "exception": false,
     "start_time": "2022-08-01T21:29:33.697549",
     "status": "completed"
    },
    "tags": []
   },
   "outputs": [
    {
     "ename": "FileNotFoundError",
     "evalue": "[Errno 2] No such file or directory: '../input/hourly-energy-consumption/PJME_hourly.csv'",
     "output_type": "error",
     "traceback": [
      "\u001b[0;31m---------------------------------------------------------------------------\u001b[0m",
      "\u001b[0;31mFileNotFoundError\u001b[0m                         Traceback (most recent call last)",
      "Cell \u001b[0;32mIn[2], line 1\u001b[0m\n\u001b[0;32m----> 1\u001b[0m df \u001b[38;5;241m=\u001b[39m \u001b[43mpd\u001b[49m\u001b[38;5;241;43m.\u001b[39;49m\u001b[43mread_csv\u001b[49m\u001b[43m(\u001b[49m\u001b[38;5;124;43m'\u001b[39;49m\u001b[38;5;124;43m../input/hourly-energy-consumption/PJME_hourly.csv\u001b[39;49m\u001b[38;5;124;43m'\u001b[39;49m\u001b[43m)\u001b[49m\n\u001b[1;32m      2\u001b[0m df \u001b[38;5;241m=\u001b[39m df\u001b[38;5;241m.\u001b[39mset_index(\u001b[38;5;124m'\u001b[39m\u001b[38;5;124mDatetime\u001b[39m\u001b[38;5;124m'\u001b[39m)\n\u001b[1;32m      3\u001b[0m df\u001b[38;5;241m.\u001b[39mindex \u001b[38;5;241m=\u001b[39m pd\u001b[38;5;241m.\u001b[39mto_datetime(df\u001b[38;5;241m.\u001b[39mindex)\n",
      "File \u001b[0;32m~/opt/anaconda3/lib/python3.9/site-packages/pandas/util/_decorators.py:311\u001b[0m, in \u001b[0;36mdeprecate_nonkeyword_arguments.<locals>.decorate.<locals>.wrapper\u001b[0;34m(*args, **kwargs)\u001b[0m\n\u001b[1;32m    305\u001b[0m \u001b[38;5;28;01mif\u001b[39;00m \u001b[38;5;28mlen\u001b[39m(args) \u001b[38;5;241m>\u001b[39m num_allow_args:\n\u001b[1;32m    306\u001b[0m     warnings\u001b[38;5;241m.\u001b[39mwarn(\n\u001b[1;32m    307\u001b[0m         msg\u001b[38;5;241m.\u001b[39mformat(arguments\u001b[38;5;241m=\u001b[39marguments),\n\u001b[1;32m    308\u001b[0m         \u001b[38;5;167;01mFutureWarning\u001b[39;00m,\n\u001b[1;32m    309\u001b[0m         stacklevel\u001b[38;5;241m=\u001b[39mstacklevel,\n\u001b[1;32m    310\u001b[0m     )\n\u001b[0;32m--> 311\u001b[0m \u001b[38;5;28;01mreturn\u001b[39;00m \u001b[43mfunc\u001b[49m\u001b[43m(\u001b[49m\u001b[38;5;241;43m*\u001b[39;49m\u001b[43margs\u001b[49m\u001b[43m,\u001b[49m\u001b[43m \u001b[49m\u001b[38;5;241;43m*\u001b[39;49m\u001b[38;5;241;43m*\u001b[39;49m\u001b[43mkwargs\u001b[49m\u001b[43m)\u001b[49m\n",
      "File \u001b[0;32m~/opt/anaconda3/lib/python3.9/site-packages/pandas/io/parsers/readers.py:586\u001b[0m, in \u001b[0;36mread_csv\u001b[0;34m(filepath_or_buffer, sep, delimiter, header, names, index_col, usecols, squeeze, prefix, mangle_dupe_cols, dtype, engine, converters, true_values, false_values, skipinitialspace, skiprows, skipfooter, nrows, na_values, keep_default_na, na_filter, verbose, skip_blank_lines, parse_dates, infer_datetime_format, keep_date_col, date_parser, dayfirst, cache_dates, iterator, chunksize, compression, thousands, decimal, lineterminator, quotechar, quoting, doublequote, escapechar, comment, encoding, encoding_errors, dialect, error_bad_lines, warn_bad_lines, on_bad_lines, delim_whitespace, low_memory, memory_map, float_precision, storage_options)\u001b[0m\n\u001b[1;32m    571\u001b[0m kwds_defaults \u001b[38;5;241m=\u001b[39m _refine_defaults_read(\n\u001b[1;32m    572\u001b[0m     dialect,\n\u001b[1;32m    573\u001b[0m     delimiter,\n\u001b[0;32m   (...)\u001b[0m\n\u001b[1;32m    582\u001b[0m     defaults\u001b[38;5;241m=\u001b[39m{\u001b[38;5;124m\"\u001b[39m\u001b[38;5;124mdelimiter\u001b[39m\u001b[38;5;124m\"\u001b[39m: \u001b[38;5;124m\"\u001b[39m\u001b[38;5;124m,\u001b[39m\u001b[38;5;124m\"\u001b[39m},\n\u001b[1;32m    583\u001b[0m )\n\u001b[1;32m    584\u001b[0m kwds\u001b[38;5;241m.\u001b[39mupdate(kwds_defaults)\n\u001b[0;32m--> 586\u001b[0m \u001b[38;5;28;01mreturn\u001b[39;00m \u001b[43m_read\u001b[49m\u001b[43m(\u001b[49m\u001b[43mfilepath_or_buffer\u001b[49m\u001b[43m,\u001b[49m\u001b[43m \u001b[49m\u001b[43mkwds\u001b[49m\u001b[43m)\u001b[49m\n",
      "File \u001b[0;32m~/opt/anaconda3/lib/python3.9/site-packages/pandas/io/parsers/readers.py:482\u001b[0m, in \u001b[0;36m_read\u001b[0;34m(filepath_or_buffer, kwds)\u001b[0m\n\u001b[1;32m    479\u001b[0m _validate_names(kwds\u001b[38;5;241m.\u001b[39mget(\u001b[38;5;124m\"\u001b[39m\u001b[38;5;124mnames\u001b[39m\u001b[38;5;124m\"\u001b[39m, \u001b[38;5;28;01mNone\u001b[39;00m))\n\u001b[1;32m    481\u001b[0m \u001b[38;5;66;03m# Create the parser.\u001b[39;00m\n\u001b[0;32m--> 482\u001b[0m parser \u001b[38;5;241m=\u001b[39m \u001b[43mTextFileReader\u001b[49m\u001b[43m(\u001b[49m\u001b[43mfilepath_or_buffer\u001b[49m\u001b[43m,\u001b[49m\u001b[43m \u001b[49m\u001b[38;5;241;43m*\u001b[39;49m\u001b[38;5;241;43m*\u001b[39;49m\u001b[43mkwds\u001b[49m\u001b[43m)\u001b[49m\n\u001b[1;32m    484\u001b[0m \u001b[38;5;28;01mif\u001b[39;00m chunksize \u001b[38;5;129;01mor\u001b[39;00m iterator:\n\u001b[1;32m    485\u001b[0m     \u001b[38;5;28;01mreturn\u001b[39;00m parser\n",
      "File \u001b[0;32m~/opt/anaconda3/lib/python3.9/site-packages/pandas/io/parsers/readers.py:811\u001b[0m, in \u001b[0;36mTextFileReader.__init__\u001b[0;34m(self, f, engine, **kwds)\u001b[0m\n\u001b[1;32m    808\u001b[0m \u001b[38;5;28;01mif\u001b[39;00m \u001b[38;5;124m\"\u001b[39m\u001b[38;5;124mhas_index_names\u001b[39m\u001b[38;5;124m\"\u001b[39m \u001b[38;5;129;01min\u001b[39;00m kwds:\n\u001b[1;32m    809\u001b[0m     \u001b[38;5;28mself\u001b[39m\u001b[38;5;241m.\u001b[39moptions[\u001b[38;5;124m\"\u001b[39m\u001b[38;5;124mhas_index_names\u001b[39m\u001b[38;5;124m\"\u001b[39m] \u001b[38;5;241m=\u001b[39m kwds[\u001b[38;5;124m\"\u001b[39m\u001b[38;5;124mhas_index_names\u001b[39m\u001b[38;5;124m\"\u001b[39m]\n\u001b[0;32m--> 811\u001b[0m \u001b[38;5;28mself\u001b[39m\u001b[38;5;241m.\u001b[39m_engine \u001b[38;5;241m=\u001b[39m \u001b[38;5;28;43mself\u001b[39;49m\u001b[38;5;241;43m.\u001b[39;49m\u001b[43m_make_engine\u001b[49m\u001b[43m(\u001b[49m\u001b[38;5;28;43mself\u001b[39;49m\u001b[38;5;241;43m.\u001b[39;49m\u001b[43mengine\u001b[49m\u001b[43m)\u001b[49m\n",
      "File \u001b[0;32m~/opt/anaconda3/lib/python3.9/site-packages/pandas/io/parsers/readers.py:1040\u001b[0m, in \u001b[0;36mTextFileReader._make_engine\u001b[0;34m(self, engine)\u001b[0m\n\u001b[1;32m   1036\u001b[0m     \u001b[38;5;28;01mraise\u001b[39;00m \u001b[38;5;167;01mValueError\u001b[39;00m(\n\u001b[1;32m   1037\u001b[0m         \u001b[38;5;124mf\u001b[39m\u001b[38;5;124m\"\u001b[39m\u001b[38;5;124mUnknown engine: \u001b[39m\u001b[38;5;132;01m{\u001b[39;00mengine\u001b[38;5;132;01m}\u001b[39;00m\u001b[38;5;124m (valid options are \u001b[39m\u001b[38;5;132;01m{\u001b[39;00mmapping\u001b[38;5;241m.\u001b[39mkeys()\u001b[38;5;132;01m}\u001b[39;00m\u001b[38;5;124m)\u001b[39m\u001b[38;5;124m\"\u001b[39m\n\u001b[1;32m   1038\u001b[0m     )\n\u001b[1;32m   1039\u001b[0m \u001b[38;5;66;03m# error: Too many arguments for \"ParserBase\"\u001b[39;00m\n\u001b[0;32m-> 1040\u001b[0m \u001b[38;5;28;01mreturn\u001b[39;00m \u001b[43mmapping\u001b[49m\u001b[43m[\u001b[49m\u001b[43mengine\u001b[49m\u001b[43m]\u001b[49m\u001b[43m(\u001b[49m\u001b[38;5;28;43mself\u001b[39;49m\u001b[38;5;241;43m.\u001b[39;49m\u001b[43mf\u001b[49m\u001b[43m,\u001b[49m\u001b[43m \u001b[49m\u001b[38;5;241;43m*\u001b[39;49m\u001b[38;5;241;43m*\u001b[39;49m\u001b[38;5;28;43mself\u001b[39;49m\u001b[38;5;241;43m.\u001b[39;49m\u001b[43moptions\u001b[49m\u001b[43m)\u001b[49m\n",
      "File \u001b[0;32m~/opt/anaconda3/lib/python3.9/site-packages/pandas/io/parsers/c_parser_wrapper.py:51\u001b[0m, in \u001b[0;36mCParserWrapper.__init__\u001b[0;34m(self, src, **kwds)\u001b[0m\n\u001b[1;32m     48\u001b[0m kwds[\u001b[38;5;124m\"\u001b[39m\u001b[38;5;124musecols\u001b[39m\u001b[38;5;124m\"\u001b[39m] \u001b[38;5;241m=\u001b[39m \u001b[38;5;28mself\u001b[39m\u001b[38;5;241m.\u001b[39musecols\n\u001b[1;32m     50\u001b[0m \u001b[38;5;66;03m# open handles\u001b[39;00m\n\u001b[0;32m---> 51\u001b[0m \u001b[38;5;28;43mself\u001b[39;49m\u001b[38;5;241;43m.\u001b[39;49m\u001b[43m_open_handles\u001b[49m\u001b[43m(\u001b[49m\u001b[43msrc\u001b[49m\u001b[43m,\u001b[49m\u001b[43m \u001b[49m\u001b[43mkwds\u001b[49m\u001b[43m)\u001b[49m\n\u001b[1;32m     52\u001b[0m \u001b[38;5;28;01massert\u001b[39;00m \u001b[38;5;28mself\u001b[39m\u001b[38;5;241m.\u001b[39mhandles \u001b[38;5;129;01mis\u001b[39;00m \u001b[38;5;129;01mnot\u001b[39;00m \u001b[38;5;28;01mNone\u001b[39;00m\n\u001b[1;32m     54\u001b[0m \u001b[38;5;66;03m# Have to pass int, would break tests using TextReader directly otherwise :(\u001b[39;00m\n",
      "File \u001b[0;32m~/opt/anaconda3/lib/python3.9/site-packages/pandas/io/parsers/base_parser.py:222\u001b[0m, in \u001b[0;36mParserBase._open_handles\u001b[0;34m(self, src, kwds)\u001b[0m\n\u001b[1;32m    218\u001b[0m \u001b[38;5;28;01mdef\u001b[39;00m \u001b[38;5;21m_open_handles\u001b[39m(\u001b[38;5;28mself\u001b[39m, src: FilePathOrBuffer, kwds: \u001b[38;5;28mdict\u001b[39m[\u001b[38;5;28mstr\u001b[39m, Any]) \u001b[38;5;241m-\u001b[39m\u001b[38;5;241m>\u001b[39m \u001b[38;5;28;01mNone\u001b[39;00m:\n\u001b[1;32m    219\u001b[0m     \u001b[38;5;124;03m\"\"\"\u001b[39;00m\n\u001b[1;32m    220\u001b[0m \u001b[38;5;124;03m    Let the readers open IOHandles after they are done with their potential raises.\u001b[39;00m\n\u001b[1;32m    221\u001b[0m \u001b[38;5;124;03m    \"\"\"\u001b[39;00m\n\u001b[0;32m--> 222\u001b[0m     \u001b[38;5;28mself\u001b[39m\u001b[38;5;241m.\u001b[39mhandles \u001b[38;5;241m=\u001b[39m \u001b[43mget_handle\u001b[49m\u001b[43m(\u001b[49m\n\u001b[1;32m    223\u001b[0m \u001b[43m        \u001b[49m\u001b[43msrc\u001b[49m\u001b[43m,\u001b[49m\n\u001b[1;32m    224\u001b[0m \u001b[43m        \u001b[49m\u001b[38;5;124;43m\"\u001b[39;49m\u001b[38;5;124;43mr\u001b[39;49m\u001b[38;5;124;43m\"\u001b[39;49m\u001b[43m,\u001b[49m\n\u001b[1;32m    225\u001b[0m \u001b[43m        \u001b[49m\u001b[43mencoding\u001b[49m\u001b[38;5;241;43m=\u001b[39;49m\u001b[43mkwds\u001b[49m\u001b[38;5;241;43m.\u001b[39;49m\u001b[43mget\u001b[49m\u001b[43m(\u001b[49m\u001b[38;5;124;43m\"\u001b[39;49m\u001b[38;5;124;43mencoding\u001b[39;49m\u001b[38;5;124;43m\"\u001b[39;49m\u001b[43m,\u001b[49m\u001b[43m \u001b[49m\u001b[38;5;28;43;01mNone\u001b[39;49;00m\u001b[43m)\u001b[49m\u001b[43m,\u001b[49m\n\u001b[1;32m    226\u001b[0m \u001b[43m        \u001b[49m\u001b[43mcompression\u001b[49m\u001b[38;5;241;43m=\u001b[39;49m\u001b[43mkwds\u001b[49m\u001b[38;5;241;43m.\u001b[39;49m\u001b[43mget\u001b[49m\u001b[43m(\u001b[49m\u001b[38;5;124;43m\"\u001b[39;49m\u001b[38;5;124;43mcompression\u001b[39;49m\u001b[38;5;124;43m\"\u001b[39;49m\u001b[43m,\u001b[49m\u001b[43m \u001b[49m\u001b[38;5;28;43;01mNone\u001b[39;49;00m\u001b[43m)\u001b[49m\u001b[43m,\u001b[49m\n\u001b[1;32m    227\u001b[0m \u001b[43m        \u001b[49m\u001b[43mmemory_map\u001b[49m\u001b[38;5;241;43m=\u001b[39;49m\u001b[43mkwds\u001b[49m\u001b[38;5;241;43m.\u001b[39;49m\u001b[43mget\u001b[49m\u001b[43m(\u001b[49m\u001b[38;5;124;43m\"\u001b[39;49m\u001b[38;5;124;43mmemory_map\u001b[39;49m\u001b[38;5;124;43m\"\u001b[39;49m\u001b[43m,\u001b[49m\u001b[43m \u001b[49m\u001b[38;5;28;43;01mFalse\u001b[39;49;00m\u001b[43m)\u001b[49m\u001b[43m,\u001b[49m\n\u001b[1;32m    228\u001b[0m \u001b[43m        \u001b[49m\u001b[43mstorage_options\u001b[49m\u001b[38;5;241;43m=\u001b[39;49m\u001b[43mkwds\u001b[49m\u001b[38;5;241;43m.\u001b[39;49m\u001b[43mget\u001b[49m\u001b[43m(\u001b[49m\u001b[38;5;124;43m\"\u001b[39;49m\u001b[38;5;124;43mstorage_options\u001b[39;49m\u001b[38;5;124;43m\"\u001b[39;49m\u001b[43m,\u001b[49m\u001b[43m \u001b[49m\u001b[38;5;28;43;01mNone\u001b[39;49;00m\u001b[43m)\u001b[49m\u001b[43m,\u001b[49m\n\u001b[1;32m    229\u001b[0m \u001b[43m        \u001b[49m\u001b[43merrors\u001b[49m\u001b[38;5;241;43m=\u001b[39;49m\u001b[43mkwds\u001b[49m\u001b[38;5;241;43m.\u001b[39;49m\u001b[43mget\u001b[49m\u001b[43m(\u001b[49m\u001b[38;5;124;43m\"\u001b[39;49m\u001b[38;5;124;43mencoding_errors\u001b[39;49m\u001b[38;5;124;43m\"\u001b[39;49m\u001b[43m,\u001b[49m\u001b[43m \u001b[49m\u001b[38;5;124;43m\"\u001b[39;49m\u001b[38;5;124;43mstrict\u001b[39;49m\u001b[38;5;124;43m\"\u001b[39;49m\u001b[43m)\u001b[49m\u001b[43m,\u001b[49m\n\u001b[1;32m    230\u001b[0m \u001b[43m    \u001b[49m\u001b[43m)\u001b[49m\n",
      "File \u001b[0;32m~/opt/anaconda3/lib/python3.9/site-packages/pandas/io/common.py:702\u001b[0m, in \u001b[0;36mget_handle\u001b[0;34m(path_or_buf, mode, encoding, compression, memory_map, is_text, errors, storage_options)\u001b[0m\n\u001b[1;32m    697\u001b[0m \u001b[38;5;28;01melif\u001b[39;00m \u001b[38;5;28misinstance\u001b[39m(handle, \u001b[38;5;28mstr\u001b[39m):\n\u001b[1;32m    698\u001b[0m     \u001b[38;5;66;03m# Check whether the filename is to be opened in binary mode.\u001b[39;00m\n\u001b[1;32m    699\u001b[0m     \u001b[38;5;66;03m# Binary mode does not support 'encoding' and 'newline'.\u001b[39;00m\n\u001b[1;32m    700\u001b[0m     \u001b[38;5;28;01mif\u001b[39;00m ioargs\u001b[38;5;241m.\u001b[39mencoding \u001b[38;5;129;01mand\u001b[39;00m \u001b[38;5;124m\"\u001b[39m\u001b[38;5;124mb\u001b[39m\u001b[38;5;124m\"\u001b[39m \u001b[38;5;129;01mnot\u001b[39;00m \u001b[38;5;129;01min\u001b[39;00m ioargs\u001b[38;5;241m.\u001b[39mmode:\n\u001b[1;32m    701\u001b[0m         \u001b[38;5;66;03m# Encoding\u001b[39;00m\n\u001b[0;32m--> 702\u001b[0m         handle \u001b[38;5;241m=\u001b[39m \u001b[38;5;28;43mopen\u001b[39;49m\u001b[43m(\u001b[49m\n\u001b[1;32m    703\u001b[0m \u001b[43m            \u001b[49m\u001b[43mhandle\u001b[49m\u001b[43m,\u001b[49m\n\u001b[1;32m    704\u001b[0m \u001b[43m            \u001b[49m\u001b[43mioargs\u001b[49m\u001b[38;5;241;43m.\u001b[39;49m\u001b[43mmode\u001b[49m\u001b[43m,\u001b[49m\n\u001b[1;32m    705\u001b[0m \u001b[43m            \u001b[49m\u001b[43mencoding\u001b[49m\u001b[38;5;241;43m=\u001b[39;49m\u001b[43mioargs\u001b[49m\u001b[38;5;241;43m.\u001b[39;49m\u001b[43mencoding\u001b[49m\u001b[43m,\u001b[49m\n\u001b[1;32m    706\u001b[0m \u001b[43m            \u001b[49m\u001b[43merrors\u001b[49m\u001b[38;5;241;43m=\u001b[39;49m\u001b[43merrors\u001b[49m\u001b[43m,\u001b[49m\n\u001b[1;32m    707\u001b[0m \u001b[43m            \u001b[49m\u001b[43mnewline\u001b[49m\u001b[38;5;241;43m=\u001b[39;49m\u001b[38;5;124;43m\"\u001b[39;49m\u001b[38;5;124;43m\"\u001b[39;49m\u001b[43m,\u001b[49m\n\u001b[1;32m    708\u001b[0m \u001b[43m        \u001b[49m\u001b[43m)\u001b[49m\n\u001b[1;32m    709\u001b[0m     \u001b[38;5;28;01melse\u001b[39;00m:\n\u001b[1;32m    710\u001b[0m         \u001b[38;5;66;03m# Binary mode\u001b[39;00m\n\u001b[1;32m    711\u001b[0m         handle \u001b[38;5;241m=\u001b[39m \u001b[38;5;28mopen\u001b[39m(handle, ioargs\u001b[38;5;241m.\u001b[39mmode)\n",
      "\u001b[0;31mFileNotFoundError\u001b[0m: [Errno 2] No such file or directory: '../input/hourly-energy-consumption/PJME_hourly.csv'"
     ]
    }
   ],
   "source": [
    "df = pd.read_csv('../input/hourly-energy-consumption/PJME_hourly.csv')\n",
    "df = df.set_index('Datetime')\n",
    "df.index = pd.to_datetime(df.index)"
   ]
  },
  {
   "cell_type": "code",
   "execution_count": null,
   "id": "93d54759",
   "metadata": {
    "execution": {
     "iopub.execute_input": "2022-08-01T21:29:33.986192Z",
     "iopub.status.busy": "2022-08-01T21:29:33.985768Z",
     "iopub.status.idle": "2022-08-01T21:29:35.472556Z",
     "shell.execute_reply": "2022-08-01T21:29:35.471157Z"
    },
    "papermill": {
     "duration": 1.501337,
     "end_time": "2022-08-01T21:29:35.476101",
     "exception": false,
     "start_time": "2022-08-01T21:29:33.974764",
     "status": "completed"
    },
    "tags": []
   },
   "outputs": [],
   "source": [
    "df.plot(style='.',\n",
    "        figsize=(15, 5),\n",
    "        color=color_pal[0],\n",
    "        title='PJME Energy Use in MW')\n",
    "plt.show()"
   ]
  },
  {
   "cell_type": "markdown",
   "id": "694edfba",
   "metadata": {
    "papermill": {
     "duration": 0.010395,
     "end_time": "2022-08-01T21:29:35.496942",
     "exception": false,
     "start_time": "2022-08-01T21:29:35.486547",
     "status": "completed"
    },
    "tags": []
   },
   "source": [
    "# 1. Outlier Analysis and removal"
   ]
  },
  {
   "cell_type": "code",
   "execution_count": null,
   "id": "41c63221",
   "metadata": {
    "execution": {
     "iopub.execute_input": "2022-08-01T21:29:35.520674Z",
     "iopub.status.busy": "2022-08-01T21:29:35.519981Z",
     "iopub.status.idle": "2022-08-01T21:29:36.743780Z",
     "shell.execute_reply": "2022-08-01T21:29:36.742417Z"
    },
    "papermill": {
     "duration": 1.238946,
     "end_time": "2022-08-01T21:29:36.746421",
     "exception": false,
     "start_time": "2022-08-01T21:29:35.507475",
     "status": "completed"
    },
    "tags": []
   },
   "outputs": [],
   "source": [
    "df['PJME_MW'].plot(kind='hist', bins=500)"
   ]
  },
  {
   "cell_type": "code",
   "execution_count": null,
   "id": "f88e4206",
   "metadata": {
    "execution": {
     "iopub.execute_input": "2022-08-01T21:29:36.770352Z",
     "iopub.status.busy": "2022-08-01T21:29:36.769371Z",
     "iopub.status.idle": "2022-08-01T21:29:37.041696Z",
     "shell.execute_reply": "2022-08-01T21:29:37.040370Z"
    },
    "papermill": {
     "duration": 0.287184,
     "end_time": "2022-08-01T21:29:37.044276",
     "exception": false,
     "start_time": "2022-08-01T21:29:36.757092",
     "status": "completed"
    },
    "tags": []
   },
   "outputs": [],
   "source": [
    "df.query('PJME_MW < 19_000')['PJME_MW'] \\\n",
    "    .plot(style='.',\n",
    "          figsize=(15, 5),\n",
    "          color=color_pal[5],\n",
    "          title='Outliers')"
   ]
  },
  {
   "cell_type": "code",
   "execution_count": null,
   "id": "26767555",
   "metadata": {
    "execution": {
     "iopub.execute_input": "2022-08-01T21:29:37.069051Z",
     "iopub.status.busy": "2022-08-01T21:29:37.068611Z",
     "iopub.status.idle": "2022-08-01T21:29:37.081592Z",
     "shell.execute_reply": "2022-08-01T21:29:37.080328Z"
    },
    "papermill": {
     "duration": 0.0286,
     "end_time": "2022-08-01T21:29:37.084401",
     "exception": false,
     "start_time": "2022-08-01T21:29:37.055801",
     "status": "completed"
    },
    "tags": []
   },
   "outputs": [],
   "source": [
    "df = df.query('PJME_MW > 19_000').copy()"
   ]
  },
  {
   "cell_type": "markdown",
   "id": "58890502",
   "metadata": {
    "papermill": {
     "duration": 0.011292,
     "end_time": "2022-08-01T21:29:37.107208",
     "exception": false,
     "start_time": "2022-08-01T21:29:37.095916",
     "status": "completed"
    },
    "tags": []
   },
   "source": [
    "# Reviewing: Train / Test Split"
   ]
  },
  {
   "cell_type": "code",
   "execution_count": null,
   "id": "8d2db883",
   "metadata": {
    "execution": {
     "iopub.execute_input": "2022-08-01T21:29:37.132871Z",
     "iopub.status.busy": "2022-08-01T21:29:37.132161Z",
     "iopub.status.idle": "2022-08-01T21:29:39.075596Z",
     "shell.execute_reply": "2022-08-01T21:29:39.074256Z"
    },
    "papermill": {
     "duration": 1.95981,
     "end_time": "2022-08-01T21:29:39.078650",
     "exception": false,
     "start_time": "2022-08-01T21:29:37.118840",
     "status": "completed"
    },
    "tags": []
   },
   "outputs": [],
   "source": [
    "train = df.loc[df.index < '01-01-2015']\n",
    "test = df.loc[df.index >= '01-01-2015']\n",
    "\n",
    "fig, ax = plt.subplots(figsize=(15, 5))\n",
    "train.plot(ax=ax, label='Training Set', title='Data Train/Test Split')\n",
    "test.plot(ax=ax, label='Test Set')\n",
    "ax.axvline('01-01-2015', color='black', ls='--')\n",
    "ax.legend(['Training Set', 'Test Set'])\n",
    "plt.show()"
   ]
  },
  {
   "cell_type": "markdown",
   "id": "bda23e9e",
   "metadata": {
    "papermill": {
     "duration": 0.013007,
     "end_time": "2022-08-01T21:29:39.104117",
     "exception": false,
     "start_time": "2022-08-01T21:29:39.091110",
     "status": "completed"
    },
    "tags": []
   },
   "source": [
    "# 1. Time Series Cross Validation"
   ]
  },
  {
   "cell_type": "code",
   "execution_count": null,
   "id": "7b9533fc",
   "metadata": {
    "execution": {
     "iopub.execute_input": "2022-08-01T21:29:39.131748Z",
     "iopub.status.busy": "2022-08-01T21:29:39.130975Z",
     "iopub.status.idle": "2022-08-01T21:29:39.146485Z",
     "shell.execute_reply": "2022-08-01T21:29:39.145582Z"
    },
    "papermill": {
     "duration": 0.032356,
     "end_time": "2022-08-01T21:29:39.149069",
     "exception": false,
     "start_time": "2022-08-01T21:29:39.116713",
     "status": "completed"
    },
    "tags": []
   },
   "outputs": [],
   "source": [
    "from sklearn.model_selection import TimeSeriesSplit\n",
    "\n",
    "tss = TimeSeriesSplit(n_splits=5, test_size=24*365*1, gap=24)\n",
    "df = df.sort_index()"
   ]
  },
  {
   "cell_type": "code",
   "execution_count": null,
   "id": "7a152c0f",
   "metadata": {
    "execution": {
     "iopub.execute_input": "2022-08-01T21:29:39.176806Z",
     "iopub.status.busy": "2022-08-01T21:29:39.175556Z",
     "iopub.status.idle": "2022-08-01T21:29:45.836161Z",
     "shell.execute_reply": "2022-08-01T21:29:45.834959Z"
    },
    "papermill": {
     "duration": 6.678505,
     "end_time": "2022-08-01T21:29:45.840063",
     "exception": false,
     "start_time": "2022-08-01T21:29:39.161558",
     "status": "completed"
    },
    "tags": []
   },
   "outputs": [],
   "source": [
    "fig, axs = plt.subplots(5, 1, figsize=(15, 15), sharex=True)\n",
    "\n",
    "fold = 0\n",
    "for train_idx, val_idx in tss.split(df):\n",
    "    train = df.iloc[train_idx]\n",
    "    test = df.iloc[val_idx]\n",
    "    train['PJME_MW'].plot(ax=axs[fold],\n",
    "                          label='Training Set',\n",
    "                          title=f'Data Train/Test Split Fold {fold}')\n",
    "    test['PJME_MW'].plot(ax=axs[fold],\n",
    "                         label='Test Set')\n",
    "    axs[fold].axvline(test.index.min(), color='black', ls='--')\n",
    "    fold += 1\n",
    "plt.show()"
   ]
  },
  {
   "cell_type": "markdown",
   "id": "f2be8982",
   "metadata": {
    "papermill": {
     "duration": 0.015074,
     "end_time": "2022-08-01T21:29:45.870913",
     "exception": false,
     "start_time": "2022-08-01T21:29:45.855839",
     "status": "completed"
    },
    "tags": []
   },
   "source": [
    "# 2. Forecasting Horizon Explained\n",
    "**The forecast horizon is the length of time into the future for which forecasts are to be prepared. These generally vary from short-term forecasting horizons (less than three months) to long-term horizons (more than two years).**"
   ]
  },
  {
   "cell_type": "code",
   "execution_count": null,
   "id": "45efaebc",
   "metadata": {
    "execution": {
     "iopub.execute_input": "2022-08-01T21:29:45.904240Z",
     "iopub.status.busy": "2022-08-01T21:29:45.903795Z",
     "iopub.status.idle": "2022-08-01T21:29:46.086205Z",
     "shell.execute_reply": "2022-08-01T21:29:46.084980Z"
    },
    "papermill": {
     "duration": 0.202113,
     "end_time": "2022-08-01T21:29:46.088934",
     "exception": false,
     "start_time": "2022-08-01T21:29:45.886821",
     "status": "completed"
    },
    "tags": []
   },
   "outputs": [],
   "source": [
    "def create_features(df):\n",
    "    \"\"\"\n",
    "    Create time series features based on time series index.\n",
    "    \"\"\"\n",
    "    df = df.copy()\n",
    "    df['hour'] = df.index.hour\n",
    "    df['dayofweek'] = df.index.dayofweek\n",
    "    df['quarter'] = df.index.quarter\n",
    "    df['month'] = df.index.month\n",
    "    df['year'] = df.index.year\n",
    "    df['dayofyear'] = df.index.dayofyear\n",
    "    df['dayofmonth'] = df.index.day\n",
    "    df['weekofyear'] = df.index.isocalendar().week\n",
    "    return df\n",
    "\n",
    "df = create_features(df)"
   ]
  },
  {
   "cell_type": "markdown",
   "id": "ada92525",
   "metadata": {
    "papermill": {
     "duration": 0.014403,
     "end_time": "2022-08-01T21:29:46.118139",
     "exception": false,
     "start_time": "2022-08-01T21:29:46.103736",
     "status": "completed"
    },
    "tags": []
   },
   "source": [
    "# 3. Lag Features\n",
    "- What was the target (x) days in the past."
   ]
  },
  {
   "cell_type": "code",
   "execution_count": null,
   "id": "7e64bc34",
   "metadata": {
    "execution": {
     "iopub.execute_input": "2022-08-01T21:29:46.150142Z",
     "iopub.status.busy": "2022-08-01T21:29:46.149341Z",
     "iopub.status.idle": "2022-08-01T21:29:46.156627Z",
     "shell.execute_reply": "2022-08-01T21:29:46.155745Z"
    },
    "papermill": {
     "duration": 0.026134,
     "end_time": "2022-08-01T21:29:46.159093",
     "exception": false,
     "start_time": "2022-08-01T21:29:46.132959",
     "status": "completed"
    },
    "tags": []
   },
   "outputs": [],
   "source": [
    "def add_lags(df):\n",
    "    target_map = df['PJME_MW'].to_dict()\n",
    "    df['lag1'] = (df.index - pd.Timedelta('364 days')).map(target_map)\n",
    "    df['lag2'] = (df.index - pd.Timedelta('728 days')).map(target_map)\n",
    "    df['lag3'] = (df.index - pd.Timedelta('1092 days')).map(target_map)\n",
    "    return df"
   ]
  },
  {
   "cell_type": "code",
   "execution_count": null,
   "id": "4a9a213a",
   "metadata": {
    "execution": {
     "iopub.execute_input": "2022-08-01T21:29:46.191003Z",
     "iopub.status.busy": "2022-08-01T21:29:46.190189Z",
     "iopub.status.idle": "2022-08-01T21:29:51.774865Z",
     "shell.execute_reply": "2022-08-01T21:29:51.773697Z"
    },
    "papermill": {
     "duration": 5.604195,
     "end_time": "2022-08-01T21:29:51.777985",
     "exception": false,
     "start_time": "2022-08-01T21:29:46.173790",
     "status": "completed"
    },
    "tags": []
   },
   "outputs": [],
   "source": [
    "df = add_lags(df)"
   ]
  },
  {
   "cell_type": "markdown",
   "id": "14c8db19",
   "metadata": {
    "papermill": {
     "duration": 0.014748,
     "end_time": "2022-08-01T21:29:51.808009",
     "exception": false,
     "start_time": "2022-08-01T21:29:51.793261",
     "status": "completed"
    },
    "tags": []
   },
   "source": [
    "## Train Using Cross Validation"
   ]
  },
  {
   "cell_type": "code",
   "execution_count": null,
   "id": "03c9d9c7",
   "metadata": {
    "execution": {
     "iopub.execute_input": "2022-08-01T21:29:51.841080Z",
     "iopub.status.busy": "2022-08-01T21:29:51.840039Z",
     "iopub.status.idle": "2022-08-01T21:32:14.136472Z",
     "shell.execute_reply": "2022-08-01T21:32:14.135278Z"
    },
    "papermill": {
     "duration": 142.316853,
     "end_time": "2022-08-01T21:32:14.140001",
     "exception": false,
     "start_time": "2022-08-01T21:29:51.823148",
     "status": "completed"
    },
    "tags": []
   },
   "outputs": [],
   "source": [
    "tss = TimeSeriesSplit(n_splits=5, test_size=24*365*1, gap=24)\n",
    "df = df.sort_index()\n",
    "\n",
    "\n",
    "fold = 0\n",
    "preds = []\n",
    "scores = []\n",
    "for train_idx, val_idx in tss.split(df):\n",
    "    train = df.iloc[train_idx]\n",
    "    test = df.iloc[val_idx]\n",
    "\n",
    "    train = create_features(train)\n",
    "    test = create_features(test)\n",
    "\n",
    "    FEATURES = ['dayofyear', 'hour', 'dayofweek', 'quarter', 'month','year',\n",
    "                'lag1','lag2','lag3']\n",
    "    TARGET = 'PJME_MW'\n",
    "\n",
    "    X_train = train[FEATURES]\n",
    "    y_train = train[TARGET]\n",
    "\n",
    "    X_test = test[FEATURES]\n",
    "    y_test = test[TARGET]\n",
    "\n",
    "    reg = xgb.XGBRegressor(base_score=0.5, booster='gbtree',    \n",
    "                           n_estimators=1000,\n",
    "                           early_stopping_rounds=50,\n",
    "                           objective='reg:linear',\n",
    "                           max_depth=3,\n",
    "                           learning_rate=0.01)\n",
    "    reg.fit(X_train, y_train,\n",
    "            eval_set=[(X_train, y_train), (X_test, y_test)],\n",
    "            verbose=100)\n",
    "\n",
    "    y_pred = reg.predict(X_test)\n",
    "    preds.append(y_pred)\n",
    "    score = np.sqrt(mean_squared_error(y_test, y_pred))\n",
    "    scores.append(score)"
   ]
  },
  {
   "cell_type": "code",
   "execution_count": null,
   "id": "0f942add",
   "metadata": {
    "execution": {
     "iopub.execute_input": "2022-08-01T21:32:14.179492Z",
     "iopub.status.busy": "2022-08-01T21:32:14.179105Z",
     "iopub.status.idle": "2022-08-01T21:32:14.185081Z",
     "shell.execute_reply": "2022-08-01T21:32:14.183842Z"
    },
    "papermill": {
     "duration": 0.027974,
     "end_time": "2022-08-01T21:32:14.188198",
     "exception": false,
     "start_time": "2022-08-01T21:32:14.160224",
     "status": "completed"
    },
    "tags": []
   },
   "outputs": [],
   "source": [
    "print(f'Score across folds {np.mean(scores):0.4f}')\n",
    "print(f'Fold scores:{scores}')"
   ]
  },
  {
   "cell_type": "markdown",
   "id": "9a7e71ba",
   "metadata": {
    "papermill": {
     "duration": 0.01755,
     "end_time": "2022-08-01T21:32:14.223326",
     "exception": false,
     "start_time": "2022-08-01T21:32:14.205776",
     "status": "completed"
    },
    "tags": []
   },
   "source": [
    "# 4. Predicting the Future\n",
    "- Retraining on all data\n",
    "- To Predict the future we need an emtpy dataframe for future date ranges.\n",
    "- Run those dates through our feature creation code + lag creation"
   ]
  },
  {
   "cell_type": "code",
   "execution_count": null,
   "id": "c8de2992",
   "metadata": {
    "execution": {
     "iopub.execute_input": "2022-08-01T21:32:14.260806Z",
     "iopub.status.busy": "2022-08-01T21:32:14.260005Z",
     "iopub.status.idle": "2022-08-01T21:32:42.222502Z",
     "shell.execute_reply": "2022-08-01T21:32:42.221534Z"
    },
    "papermill": {
     "duration": 27.983904,
     "end_time": "2022-08-01T21:32:42.225051",
     "exception": false,
     "start_time": "2022-08-01T21:32:14.241147",
     "status": "completed"
    },
    "tags": []
   },
   "outputs": [],
   "source": [
    "# Retrain on all data\n",
    "df = create_features(df)\n",
    "\n",
    "FEATURES = ['dayofyear', 'hour', 'dayofweek', 'quarter', 'month', 'year',\n",
    "            'lag1','lag2','lag3']\n",
    "TARGET = 'PJME_MW'\n",
    "\n",
    "X_all = df[FEATURES]\n",
    "y_all = df[TARGET]\n",
    "\n",
    "reg = xgb.XGBRegressor(base_score=0.5,\n",
    "                       booster='gbtree',    \n",
    "                       n_estimators=500,\n",
    "                       objective='reg:linear',\n",
    "                       max_depth=3,\n",
    "                       learning_rate=0.01)\n",
    "reg.fit(X_all, y_all,\n",
    "        eval_set=[(X_all, y_all)],\n",
    "        verbose=100)"
   ]
  },
  {
   "cell_type": "code",
   "execution_count": null,
   "id": "d4ab28df",
   "metadata": {
    "execution": {
     "iopub.execute_input": "2022-08-01T21:32:42.264921Z",
     "iopub.status.busy": "2022-08-01T21:32:42.263037Z",
     "iopub.status.idle": "2022-08-01T21:32:42.273063Z",
     "shell.execute_reply": "2022-08-01T21:32:42.271787Z"
    },
    "papermill": {
     "duration": 0.032536,
     "end_time": "2022-08-01T21:32:42.275601",
     "exception": false,
     "start_time": "2022-08-01T21:32:42.243065",
     "status": "completed"
    },
    "tags": []
   },
   "outputs": [],
   "source": [
    "df.index.max()"
   ]
  },
  {
   "cell_type": "code",
   "execution_count": null,
   "id": "a754563a",
   "metadata": {
    "execution": {
     "iopub.execute_input": "2022-08-01T21:32:42.314992Z",
     "iopub.status.busy": "2022-08-01T21:32:42.314159Z",
     "iopub.status.idle": "2022-08-01T21:32:48.307293Z",
     "shell.execute_reply": "2022-08-01T21:32:48.306125Z"
    },
    "papermill": {
     "duration": 6.016331,
     "end_time": "2022-08-01T21:32:48.310108",
     "exception": false,
     "start_time": "2022-08-01T21:32:42.293777",
     "status": "completed"
    },
    "tags": []
   },
   "outputs": [],
   "source": [
    "# Create future dataframe\n",
    "future = pd.date_range('2018-08-03','2019-08-01', freq='1h')\n",
    "future_df = pd.DataFrame(index=future)\n",
    "future_df['isFuture'] = True\n",
    "df['isFuture'] = False\n",
    "df_and_future = pd.concat([df, future_df])\n",
    "df_and_future = create_features(df_and_future)\n",
    "df_and_future = add_lags(df_and_future)"
   ]
  },
  {
   "cell_type": "code",
   "execution_count": null,
   "id": "ad259cd9",
   "metadata": {
    "execution": {
     "iopub.execute_input": "2022-08-01T21:32:48.349369Z",
     "iopub.status.busy": "2022-08-01T21:32:48.348781Z",
     "iopub.status.idle": "2022-08-01T21:32:48.366825Z",
     "shell.execute_reply": "2022-08-01T21:32:48.365400Z"
    },
    "papermill": {
     "duration": 0.041077,
     "end_time": "2022-08-01T21:32:48.370043",
     "exception": false,
     "start_time": "2022-08-01T21:32:48.328966",
     "status": "completed"
    },
    "tags": []
   },
   "outputs": [],
   "source": [
    "future_w_features = df_and_future.query('isFuture').copy()"
   ]
  },
  {
   "cell_type": "markdown",
   "id": "6d7b89da",
   "metadata": {
    "papermill": {
     "duration": 0.024519,
     "end_time": "2022-08-01T21:32:48.417057",
     "exception": false,
     "start_time": "2022-08-01T21:32:48.392538",
     "status": "completed"
    },
    "tags": []
   },
   "source": [
    "## Predict the future"
   ]
  },
  {
   "cell_type": "code",
   "execution_count": null,
   "id": "99660fb2",
   "metadata": {
    "execution": {
     "iopub.execute_input": "2022-08-01T21:32:48.462699Z",
     "iopub.status.busy": "2022-08-01T21:32:48.461645Z",
     "iopub.status.idle": "2022-08-01T21:32:48.498718Z",
     "shell.execute_reply": "2022-08-01T21:32:48.497342Z"
    },
    "papermill": {
     "duration": 0.0637,
     "end_time": "2022-08-01T21:32:48.501748",
     "exception": false,
     "start_time": "2022-08-01T21:32:48.438048",
     "status": "completed"
    },
    "tags": []
   },
   "outputs": [],
   "source": [
    "future_w_features['pred'] = reg.predict(future_w_features[FEATURES])"
   ]
  },
  {
   "cell_type": "code",
   "execution_count": null,
   "id": "af0948a4",
   "metadata": {
    "execution": {
     "iopub.execute_input": "2022-08-01T21:32:48.541661Z",
     "iopub.status.busy": "2022-08-01T21:32:48.541240Z",
     "iopub.status.idle": "2022-08-01T21:32:48.997982Z",
     "shell.execute_reply": "2022-08-01T21:32:48.996980Z"
    },
    "papermill": {
     "duration": 0.478984,
     "end_time": "2022-08-01T21:32:49.000788",
     "exception": false,
     "start_time": "2022-08-01T21:32:48.521804",
     "status": "completed"
    },
    "tags": []
   },
   "outputs": [],
   "source": [
    "future_w_features['pred'].plot(figsize=(10, 5),\n",
    "                               color=color_pal[4],\n",
    "                               ms=1,\n",
    "                               lw=1,\n",
    "                               title='Future Predictions')\n",
    "plt.show()"
   ]
  },
  {
   "cell_type": "markdown",
   "id": "4ec16ea2",
   "metadata": {
    "papermill": {
     "duration": 0.019116,
     "end_time": "2022-08-01T21:32:49.040109",
     "exception": false,
     "start_time": "2022-08-01T21:32:49.020993",
     "status": "completed"
    },
    "tags": []
   },
   "source": [
    "# Bonus: Saving Model For later"
   ]
  },
  {
   "cell_type": "code",
   "execution_count": null,
   "id": "3ad2e6c4",
   "metadata": {
    "execution": {
     "iopub.execute_input": "2022-08-01T21:32:49.081582Z",
     "iopub.status.busy": "2022-08-01T21:32:49.080847Z",
     "iopub.status.idle": "2022-08-01T21:32:49.110592Z",
     "shell.execute_reply": "2022-08-01T21:32:49.109495Z"
    },
    "papermill": {
     "duration": 0.053651,
     "end_time": "2022-08-01T21:32:49.113432",
     "exception": false,
     "start_time": "2022-08-01T21:32:49.059781",
     "status": "completed"
    },
    "tags": []
   },
   "outputs": [],
   "source": [
    "# Save model\n",
    "reg.save_model('model.json')"
   ]
  },
  {
   "cell_type": "code",
   "execution_count": null,
   "id": "dd40f715",
   "metadata": {
    "execution": {
     "iopub.execute_input": "2022-08-01T21:32:49.154360Z",
     "iopub.status.busy": "2022-08-01T21:32:49.153318Z",
     "iopub.status.idle": "2022-08-01T21:32:49.934952Z",
     "shell.execute_reply": "2022-08-01T21:32:49.933481Z"
    },
    "papermill": {
     "duration": 0.805233,
     "end_time": "2022-08-01T21:32:49.937800",
     "exception": false,
     "start_time": "2022-08-01T21:32:49.132567",
     "status": "completed"
    },
    "tags": []
   },
   "outputs": [],
   "source": [
    "!ls -lh"
   ]
  },
  {
   "cell_type": "code",
   "execution_count": null,
   "id": "c29991d0",
   "metadata": {
    "execution": {
     "iopub.execute_input": "2022-08-01T21:32:49.980252Z",
     "iopub.status.busy": "2022-08-01T21:32:49.979778Z",
     "iopub.status.idle": "2022-08-01T21:32:50.524190Z",
     "shell.execute_reply": "2022-08-01T21:32:50.522946Z"
    },
    "papermill": {
     "duration": 0.568913,
     "end_time": "2022-08-01T21:32:50.526941",
     "exception": false,
     "start_time": "2022-08-01T21:32:49.958028",
     "status": "completed"
    },
    "tags": []
   },
   "outputs": [],
   "source": [
    "reg_new = xgb.XGBRegressor()\n",
    "reg_new.load_model('model.json')\n",
    "future_w_features['pred'] = reg_new.predict(future_w_features[FEATURES])\n",
    "future_w_features['pred'].plot(figsize=(10, 5),\n",
    "                               color=color_pal[4],\n",
    "                               ms=1, lw=1,\n",
    "                               title='Future Predictions')"
   ]
  },
  {
   "cell_type": "markdown",
   "id": "411a58af",
   "metadata": {
    "papermill": {
     "duration": 0.020309,
     "end_time": "2022-08-01T21:32:50.568376",
     "exception": false,
     "start_time": "2022-08-01T21:32:50.548067",
     "status": "completed"
    },
    "tags": []
   },
   "source": [
    "# The End"
   ]
  }
 ],
 "metadata": {
  "kernelspec": {
   "display_name": "Python 3 (ipykernel)",
   "language": "python",
   "name": "python3"
  },
  "language_info": {
   "codemirror_mode": {
    "name": "ipython",
    "version": 3
   },
   "file_extension": ".py",
   "mimetype": "text/x-python",
   "name": "python",
   "nbconvert_exporter": "python",
   "pygments_lexer": "ipython3",
   "version": "3.9.7"
  },
  "papermill": {
   "default_parameters": {},
   "duration": 211.286735,
   "end_time": "2022-08-01T21:32:51.813564",
   "environment_variables": {},
   "exception": null,
   "input_path": "__notebook__.ipynb",
   "output_path": "__notebook__.ipynb",
   "parameters": {},
   "start_time": "2022-08-01T21:29:20.526829",
   "version": "2.3.4"
  }
 },
 "nbformat": 4,
 "nbformat_minor": 5
}
