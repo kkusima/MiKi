{
 "cells": [
  {
   "cell_type": "markdown",
   "id": "075be2d6",
   "metadata": {},
   "source": [
    "## Input Preprocessing File for Non-Dynamic KMC Simulation Output\n",
    "##### This code requires the following KMC Output Files to be in the same folder:\n",
    "- \"specnum_output.txt\"\n",
    "- \"general_output.txt\""
   ]
  },
  {
   "cell_type": "code",
   "execution_count": 1,
   "id": "e3651ca1",
   "metadata": {},
   "outputs": [],
   "source": [
    "import matplotlib.pyplot as plt\n",
    "import numpy as np\n",
    "import pandas as pd"
   ]
  },
  {
   "cell_type": "markdown",
   "id": "b3f80f06",
   "metadata": {},
   "source": [
    "***\n",
    "$\\mathbf{\\text{Extracting the specnum_output file: }}$<br>\n",
    "***"
   ]
  },
  {
   "cell_type": "code",
   "execution_count": 2,
   "id": "503d7849",
   "metadata": {},
   "outputs": [
    {
     "name": "stdout",
     "output_type": "stream",
     "text": [
      "      0        1                       2                       3   \\\n",
      "0  Entry  Nevents                    Time             Temperature   \n",
      "1      1        0  0.0000000000000000E+00  4.2300000000000000E+02   \n",
      "2      2   383865  1.0000000000000001E-01  4.2300000000000000E+02   \n",
      "3      3   592768  2.0000000000000001E-01  4.2300000000000000E+02   \n",
      "\n",
      "                        4     5    6    7     8     9    10  \n",
      "0                   Energy    O*  CO*  O2*    O2    CO  CO2  \n",
      "1  -5.5295999999999999E+01     0    0    0     0     0    0  \n",
      "2  -8.3522940000001017E+02   562  112    0  -281  -112    0  \n",
      "3  -1.4771138000000217E+03  1024  203    0  -517  -213   10  \n",
      "252\n",
      "\n",
      " Number of sites: 18432\n"
     ]
    }
   ],
   "source": [
    "#%matplotlib notebook\n",
    "file=open('specnum_output.txt','r').readlines() #Reading in the relevant file\n",
    "b=[]\n",
    "for i in np.arange(len(file)): \n",
    "    b.append(file[i].split())                   #Dividing the rows into columns\n",
    "o = pd.DataFrame(data=b)                        #Final output\n",
    "print(o.head(4))\n",
    "print(len(o))\n",
    "\n",
    "\n",
    "#Extracting Number of Sites from the general_output file:\n",
    "inp=open('general_output.txt','r').readlines()\n",
    "for i in np.arange(len(inp)): \n",
    "    if 'Number of lattice sites' in inp[i]:\n",
    "        val = i  #Line in text file where sentence is present\n",
    "\n",
    "sites = int(inp[val][28:])\n",
    "print('\\n Number of sites:', sites)"
   ]
  },
  {
   "cell_type": "markdown",
   "id": "55604d1e",
   "metadata": {},
   "source": [
    "#### Finding number of surface species"
   ]
  },
  {
   "cell_type": "code",
   "execution_count": 3,
   "id": "a8e6a522",
   "metadata": {},
   "outputs": [
    {
     "name": "stdout",
     "output_type": "stream",
     "text": [
      "Number of surface species: 3\n"
     ]
    }
   ],
   "source": [
    "headings = (o.iloc[0,:])\n",
    "n_ss = sum('*' in s for s in headings) #Number of surface species\n",
    "print('Number of surface species:',n_ss)"
   ]
  },
  {
   "cell_type": "markdown",
   "id": "64a0d60d",
   "metadata": {},
   "source": [
    "#### Finding number of gas species"
   ]
  },
  {
   "cell_type": "code",
   "execution_count": 4,
   "id": "02f8252c",
   "metadata": {},
   "outputs": [
    {
     "name": "stdout",
     "output_type": "stream",
     "text": [
      "Number of gas species: 3\n"
     ]
    }
   ],
   "source": [
    "n_gs = len(headings)-5-n_ss\n",
    "print('Number of gas species:',n_gs)"
   ]
  },
  {
   "cell_type": "markdown",
   "id": "b58c4f22",
   "metadata": {},
   "source": [
    "#### Adding column to calculate number of empty sites"
   ]
  },
  {
   "cell_type": "code",
   "execution_count": 5,
   "id": "9d4394e7",
   "metadata": {},
   "outputs": [
    {
     "name": "stdout",
     "output_type": "stream",
     "text": [
      "      0        1                       2                       3   \\\n",
      "0  Entry  Nevents                    Time             Temperature   \n",
      "1      1        0  0.0000000000000000E+00  4.2300000000000000E+02   \n",
      "2      2   383865  1.0000000000000001E-01  4.2300000000000000E+02   \n",
      "3      3   592768  2.0000000000000001E-01  4.2300000000000000E+02   \n",
      "\n",
      "                        4     5    6    7     8     9    10 11  \n",
      "0                   Energy    O*  CO*  O2*    O2    CO  CO2  *  \n",
      "1  -5.5295999999999999E+01     0    0    0     0     0    0     \n",
      "2  -8.3522940000001017E+02   562  112    0  -281  -112    0     \n",
      "3  -1.4771138000000217E+03  1024  203    0  -517  -213   10     \n",
      "      0        1                       2                       3   \\\n",
      "0  Entry  Nevents                    Time             Temperature   \n",
      "1      1        0  0.0000000000000000E+00  4.2300000000000000E+02   \n",
      "2      2   383865  1.0000000000000001E-01  4.2300000000000000E+02   \n",
      "3      3   592768  2.0000000000000001E-01  4.2300000000000000E+02   \n",
      "\n",
      "                        4     5    6    7     8     9    10       11  \n",
      "0                   Energy    O*  CO*  O2*    O2    CO  CO2        *  \n",
      "1  -5.5295999999999999E+01     0    0    0     0     0    0  18432.0  \n",
      "2  -8.3522940000001017E+02   562  112    0  -281  -112    0  17758.0  \n",
      "3  -1.4771138000000217E+03  1024  203    0  -517  -213   10  17205.0  \n"
     ]
    }
   ],
   "source": [
    "n_c=(len(o.iloc[0,:])) #number of current columns\n",
    "o[n_c]=\" \"           #Creating new empty column \n",
    "o.iloc[0,n_c]=\"*\"    #Labelling the new empty column \n",
    "\n",
    "print(o.head(4))\n",
    "st = 0 #Initializing empty site coverage vector\n",
    "\n",
    "\n",
    "for i in range(len(o.iloc[1:])):\n",
    "    if n_ss==0:\n",
    "        site = sites\n",
    "    else:\n",
    "        for j in range(n_ss):\n",
    "            st = st + float(o.iloc[i+1,5+j]) #Calculating no. of empty sites #Asuming empty sites are first to be reportes (i.e @5)\n",
    "        site = sites - st\n",
    "        st = 0\n",
    "    o.iloc[i+1,n_c] = site\n",
    "    \n",
    "print(o.head(4))"
   ]
  },
  {
   "cell_type": "markdown",
   "id": "6aa2fef9",
   "metadata": {},
   "source": [
    "***\n",
    "$\\mathbf{\\text{Plotting transient coverage of various species: }}$<br>\n",
    "***"
   ]
  },
  {
   "cell_type": "markdown",
   "id": "5489cbdd",
   "metadata": {},
   "source": [
    "### Surface Species (COVERAGES): "
   ]
  },
  {
   "cell_type": "code",
   "execution_count": 6,
   "id": "e65de29f",
   "metadata": {},
   "outputs": [
    {
     "name": "stdout",
     "output_type": "stream",
     "text": [
      "Column Location of Surface Species [5, 6, 7, 11]\n"
     ]
    },
    {
     "data": {
      "text/plain": [
       "Text(0, 0.5, 'Coverage (ML)')"
      ]
     },
     "execution_count": 6,
     "metadata": {},
     "output_type": "execute_result"
    },
    {
     "data": {
      "image/png": "[encoded data removed]",
      "text/plain": [
       "<Figure size 640x480 with 1 Axes>"
      ]
     },
     "metadata": {},
     "output_type": "display_data"
    }
   ],
   "source": [
    "Sspecies = []\n",
    "for i in range(n_ss):\n",
    "    Sspecies.append(5+i) \n",
    "Sspecies.append(len(o.iloc[1,:])-1)#Including empty sites\n",
    "    \n",
    "print('Column Location of Surface Species',Sspecies) #in this eg, # 5 = O* ; 6 = CO* ; 7 = O2* ; 8 = O2 ; 9 = CO ; 10 = CO2 ; 11 = * {As seen from dataset}\n",
    "\n",
    "#Calculating itme:\n",
    "Gtime = o[2][1:].astype(float) \n",
    "#Calculating coverages:\n",
    "Scoverages = np.empty([len(o.iloc[:,1])-1,len(Sspecies)])\n",
    "for i in range(len(Scoverages[1,:])):\n",
    "    Scoverages[:,i] = o[Sspecies[i]][1:].astype(float)/sites\n",
    "\n",
    "#Plotting of effects of Time in seconds -> o[2]:\n",
    "plt.figure()\n",
    "for i in range(len(Sspecies)):\n",
    "    #Plotting Time = x ; Coverage of species i = y\n",
    "    plt.plot(Gtime,Scoverages[:,i],label=o.iloc[0,Sspecies[i]]) \n",
    "\n",
    "plt.legend(fontsize=15, loc='best')\n",
    "plt.xlabel((r'Time (s)'),size = '15.0')\n",
    "plt.ylabel('Coverage (ML)',size = '15.0')\n",
    "#plt.show()"
   ]
  },
  {
   "cell_type": "markdown",
   "id": "ba4c34d5",
   "metadata": {},
   "source": [
    "### GAS SPECIES (No. of Molecules):"
   ]
  },
  {
   "cell_type": "code",
   "execution_count": 7,
   "id": "a96b006c",
   "metadata": {
    "scrolled": false
   },
   "outputs": [
    {
     "name": "stdout",
     "output_type": "stream",
     "text": [
      "Column Location of Gas Species [8, 9, 10]\n"
     ]
    },
    {
     "data": {
      "text/plain": [
       "Text(0, 0.5, 'Number of Gas species molcs.')"
      ]
     },
     "execution_count": 7,
     "metadata": {},
     "output_type": "execute_result"
    },
    {
     "data": {
      "image/png": "[encoded data removed]",
      "text/plain": [
       "<Figure size 640x480 with 1 Axes>"
      ]
     },
     "metadata": {},
     "output_type": "display_data"
    }
   ],
   "source": [
    "Gspecies = []\n",
    "for i in range(n_gs):\n",
    "    Gspecies.append(5+n_ss+i) \n",
    "    \n",
    "print('Column Location of Gas Species',Gspecies) #in this eg, # 5 = O* ; 6 = CO* ; 7 = O2* ; 8 = O2 ; 9 = CO ; 10 = CO2 ; 11 = * {As seen from dataset}\n",
    "\n",
    "#Calculating itme:\n",
    "Gtime = o[2][1:].astype(float) \n",
    "#Extracting the number of gas species molecules:\n",
    "Gnmol = np.empty([len(o.iloc[:,1])-1,len(Gspecies)])\n",
    "for i in range(len(Gnmol[1,:])):\n",
    "    Gnmol[:,i] = o[Gspecies[i]][1:].astype(float) #NEGATIVE INDICATES REACTANT SPECIES (Helpful for calculating rate of consumption)\n",
    "\n",
    "#Plotting of effects of Time in seconds -> o[2]:\n",
    "plt.figure()\n",
    "for i in range(len(Gspecies)):\n",
    "    #Plotting Time = x ; No of molecules of gas species i = y\n",
    "    plt.plot(Gtime,Gnmol[:,i],label=o.iloc[0,Gspecies[i]]) \n",
    "\n",
    "plt.legend(fontsize=15, loc='best')\n",
    "plt.xlabel((r'Time (s)'),size = '15.0')\n",
    "plt.ylabel('Number of Gas species molcs.',size = '15.0')\n",
    "#plt.show()"
   ]
  },
  {
   "cell_type": "markdown",
   "id": "977031a0",
   "metadata": {},
   "source": [
    "***\n",
    "$\\mathbf{\\text{Printing steady rates of productions (TOF) of various species: }}$<br>\n",
    "***"
   ]
  },
  {
   "cell_type": "markdown",
   "id": "4a55ade1",
   "metadata": {},
   "source": [
    "### GAS SPECIES (Steady State [TOF](https://zacros.org/files/kmc_workshop/Zacros_Tutorial_01.pdf)):"
   ]
  },
  {
   "cell_type": "code",
   "execution_count": 8,
   "id": "ee9c7d4f",
   "metadata": {},
   "outputs": [],
   "source": [
    "### Calculating the instantaneous rates of profuction (i.e grad/sites)\n",
    "TOF_GS = np.empty([len(o.iloc[:,1])-1,len(Gspecies)]) #initializing an array of instantaneous TOFs for gaseous species\n",
    "# grads = np.empty([len(o.iloc[:,1])-1,1])\n",
    "for i in np.arange(len(Gspecies)):\n",
    "    grads = np.gradient(Gnmol[:,i],Gtime,edge_order=2)\n",
    "    TOF_GS[:,i] = grads/sites"
   ]
  },
  {
   "cell_type": "markdown",
   "id": "e06581e9",
   "metadata": {},
   "source": [
    "## Creating extractable file for fitting purposes \n",
    "\n",
    "### Make sure the ORDER of species matches the parameter/modelling inputs and vice-versa"
   ]
  },
  {
   "cell_type": "markdown",
   "id": "f6d2030e",
   "metadata": {},
   "source": [
    "## ** NON-DYNAMIC KMC **"
   ]
  },
  {
   "cell_type": "code",
   "execution_count": 9,
   "id": "bd8542bf",
   "metadata": {},
   "outputs": [],
   "source": [
    "C_CO = pd.Series(Scoverages[:,1])\n",
    "C_O = pd.Series(Scoverages[:,0])\n",
    "C_O2 = pd.Series(Scoverages[:,2])\n",
    "C_E = pd.Series(Scoverages[:,3])\n",
    "time_c = pd.Series(Gtime)\n",
    "    \n",
    "Covg = pd.DataFrame(list(zip(time_c, C_O, C_CO, C_O2, C_E)),\n",
    "               columns =['Time', 'O*','CO*', 'O2*', '*'])\n",
    "\n",
    "STOF_O2 = pd.Series(TOF_GS[:,0])\n",
    "STOF_CO = pd.Series(TOF_GS[:,1])\n",
    "STOF_CO2 = pd.Series(TOF_GS[:,2])\n",
    "Rates_p = pd.DataFrame(list(zip( STOF_O2,STOF_CO, STOF_CO2)),\n",
    "                columns =[ 'R_O2','R_CO', 'R_CO2'])\n",
    "    \n",
    "\n",
    "Kinetic_Info= pd.concat([Covg, Rates_p], axis=1) \n",
    "\n",
    "Kinetic_Info.to_csv('KMC_NonDynamic_Data_iCovg_iRates_rw.csv',index=False)"
   ]
  },
  {
   "cell_type": "code",
   "execution_count": 10,
   "id": "49d7eccd",
   "metadata": {},
   "outputs": [
    {
     "data": {
      "text/html": [
       "<div>\n",
       "<style scoped>\n",
       "    .dataframe tbody tr th:only-of-type {\n",
       "        vertical-align: middle;\n",
       "    }\n",
       "\n",
       "    .dataframe tbody tr th {\n",
       "        vertical-align: top;\n",
       "    }\n",
       "\n",
       "    .dataframe thead th {\n",
       "        text-align: right;\n",
       "    }\n",
       "</style>\n",
       "<table border=\"1\" class=\"dataframe\">\n",
       "  <thead>\n",
       "    <tr style=\"text-align: right;\">\n",
       "      <th></th>\n",
       "      <th>Time</th>\n",
       "      <th>O*</th>\n",
       "      <th>CO*</th>\n",
       "      <th>O2*</th>\n",
       "      <th>*</th>\n",
       "      <th>R_O2</th>\n",
       "      <th>R_CO</th>\n",
       "      <th>R_CO2</th>\n",
       "    </tr>\n",
       "  </thead>\n",
       "  <tbody>\n",
       "    <tr>\n",
       "      <th>0</th>\n",
       "      <td>0.0</td>\n",
       "      <td>0.000000</td>\n",
       "      <td>0.000000</td>\n",
       "      <td>0.0</td>\n",
       "      <td>1.000000</td>\n",
       "      <td>-0.164659</td>\n",
       "      <td>-0.063748</td>\n",
       "      <td>-0.002713</td>\n",
       "    </tr>\n",
       "    <tr>\n",
       "      <th>1</th>\n",
       "      <td>0.1</td>\n",
       "      <td>0.030490</td>\n",
       "      <td>0.006076</td>\n",
       "      <td>0.0</td>\n",
       "      <td>0.963433</td>\n",
       "      <td>-0.140245</td>\n",
       "      <td>-0.057780</td>\n",
       "      <td>0.002713</td>\n",
       "    </tr>\n",
       "    <tr>\n",
       "      <th>2</th>\n",
       "      <td>0.2</td>\n",
       "      <td>0.055556</td>\n",
       "      <td>0.011013</td>\n",
       "      <td>0.0</td>\n",
       "      <td>0.933431</td>\n",
       "      <td>-0.116916</td>\n",
       "      <td>-0.049099</td>\n",
       "      <td>0.007324</td>\n",
       "    </tr>\n",
       "    <tr>\n",
       "      <th>3</th>\n",
       "      <td>0.3</td>\n",
       "      <td>0.075792</td>\n",
       "      <td>0.014431</td>\n",
       "      <td>0.0</td>\n",
       "      <td>0.909776</td>\n",
       "      <td>-0.112576</td>\n",
       "      <td>-0.050998</td>\n",
       "      <td>0.011122</td>\n",
       "    </tr>\n",
       "    <tr>\n",
       "      <th>4</th>\n",
       "      <td>0.4</td>\n",
       "      <td>0.098362</td>\n",
       "      <td>0.018989</td>\n",
       "      <td>0.0</td>\n",
       "      <td>0.882650</td>\n",
       "      <td>-0.113932</td>\n",
       "      <td>-0.052355</td>\n",
       "      <td>0.013563</td>\n",
       "    </tr>\n",
       "  </tbody>\n",
       "</table>\n",
       "</div>"
      ],
      "text/plain": [
       "   Time        O*       CO*  O2*         *      R_O2      R_CO     R_CO2\n",
       "0   0.0  0.000000  0.000000  0.0  1.000000 -0.164659 -0.063748 -0.002713\n",
       "1   0.1  0.030490  0.006076  0.0  0.963433 -0.140245 -0.057780  0.002713\n",
       "2   0.2  0.055556  0.011013  0.0  0.933431 -0.116916 -0.049099  0.007324\n",
       "3   0.3  0.075792  0.014431  0.0  0.909776 -0.112576 -0.050998  0.011122\n",
       "4   0.4  0.098362  0.018989  0.0  0.882650 -0.113932 -0.052355  0.013563"
      ]
     },
     "execution_count": 10,
     "metadata": {},
     "output_type": "execute_result"
    }
   ],
   "source": [
    "Kinetic_Info.head()"
   ]
  },
  {
   "cell_type": "code",
   "execution_count": 11,
   "id": "e6cd8dc5",
   "metadata": {},
   "outputs": [
    {
     "data": {
      "text/html": [
       "<div>\n",
       "<style scoped>\n",
       "    .dataframe tbody tr th:only-of-type {\n",
       "        vertical-align: middle;\n",
       "    }\n",
       "\n",
       "    .dataframe tbody tr th {\n",
       "        vertical-align: top;\n",
       "    }\n",
       "\n",
       "    .dataframe thead th {\n",
       "        text-align: right;\n",
       "    }\n",
       "</style>\n",
       "<table border=\"1\" class=\"dataframe\">\n",
       "  <thead>\n",
       "    <tr style=\"text-align: right;\">\n",
       "      <th></th>\n",
       "      <th>Time</th>\n",
       "      <th>O*</th>\n",
       "      <th>CO*</th>\n",
       "      <th>O2*</th>\n",
       "      <th>*</th>\n",
       "      <th>R_O2</th>\n",
       "      <th>R_CO</th>\n",
       "      <th>R_CO2</th>\n",
       "    </tr>\n",
       "  </thead>\n",
       "  <tbody>\n",
       "    <tr>\n",
       "      <th>0</th>\n",
       "      <td>0.0</td>\n",
       "      <td>0.000000</td>\n",
       "      <td>0.000000</td>\n",
       "      <td>0.0</td>\n",
       "      <td>1.000000</td>\n",
       "      <td>-0.164659</td>\n",
       "      <td>-0.063748</td>\n",
       "      <td>-0.002713</td>\n",
       "    </tr>\n",
       "    <tr>\n",
       "      <th>1</th>\n",
       "      <td>0.1</td>\n",
       "      <td>0.030490</td>\n",
       "      <td>0.006076</td>\n",
       "      <td>0.0</td>\n",
       "      <td>0.963433</td>\n",
       "      <td>-0.140245</td>\n",
       "      <td>-0.057780</td>\n",
       "      <td>0.002713</td>\n",
       "    </tr>\n",
       "    <tr>\n",
       "      <th>2</th>\n",
       "      <td>0.2</td>\n",
       "      <td>0.055556</td>\n",
       "      <td>0.011013</td>\n",
       "      <td>0.0</td>\n",
       "      <td>0.933431</td>\n",
       "      <td>-0.116916</td>\n",
       "      <td>-0.049099</td>\n",
       "      <td>0.007324</td>\n",
       "    </tr>\n",
       "    <tr>\n",
       "      <th>3</th>\n",
       "      <td>0.3</td>\n",
       "      <td>0.075792</td>\n",
       "      <td>0.014431</td>\n",
       "      <td>0.0</td>\n",
       "      <td>0.909776</td>\n",
       "      <td>-0.112576</td>\n",
       "      <td>-0.050998</td>\n",
       "      <td>0.011122</td>\n",
       "    </tr>\n",
       "    <tr>\n",
       "      <th>4</th>\n",
       "      <td>0.4</td>\n",
       "      <td>0.098362</td>\n",
       "      <td>0.018989</td>\n",
       "      <td>0.0</td>\n",
       "      <td>0.882650</td>\n",
       "      <td>-0.113932</td>\n",
       "      <td>-0.052355</td>\n",
       "      <td>0.013563</td>\n",
       "    </tr>\n",
       "    <tr>\n",
       "      <th>...</th>\n",
       "      <td>...</td>\n",
       "      <td>...</td>\n",
       "      <td>...</td>\n",
       "      <td>...</td>\n",
       "      <td>...</td>\n",
       "      <td>...</td>\n",
       "      <td>...</td>\n",
       "      <td>...</td>\n",
       "    </tr>\n",
       "    <tr>\n",
       "      <th>246</th>\n",
       "      <td>24.6</td>\n",
       "      <td>0.442763</td>\n",
       "      <td>0.008464</td>\n",
       "      <td>0.0</td>\n",
       "      <td>0.548774</td>\n",
       "      <td>-0.015191</td>\n",
       "      <td>-0.030653</td>\n",
       "      <td>0.036079</td>\n",
       "    </tr>\n",
       "    <tr>\n",
       "      <th>247</th>\n",
       "      <td>24.7</td>\n",
       "      <td>0.442274</td>\n",
       "      <td>0.007541</td>\n",
       "      <td>0.0</td>\n",
       "      <td>0.550184</td>\n",
       "      <td>-0.015462</td>\n",
       "      <td>-0.030111</td>\n",
       "      <td>0.032281</td>\n",
       "    </tr>\n",
       "    <tr>\n",
       "      <th>248</th>\n",
       "      <td>24.8</td>\n",
       "      <td>0.442491</td>\n",
       "      <td>0.008030</td>\n",
       "      <td>0.0</td>\n",
       "      <td>0.549479</td>\n",
       "      <td>-0.013021</td>\n",
       "      <td>-0.031467</td>\n",
       "      <td>0.028754</td>\n",
       "    </tr>\n",
       "    <tr>\n",
       "      <th>249</th>\n",
       "      <td>24.9</td>\n",
       "      <td>0.441732</td>\n",
       "      <td>0.008084</td>\n",
       "      <td>0.0</td>\n",
       "      <td>0.550184</td>\n",
       "      <td>-0.014648</td>\n",
       "      <td>-0.028754</td>\n",
       "      <td>0.029839</td>\n",
       "    </tr>\n",
       "    <tr>\n",
       "      <th>250</th>\n",
       "      <td>25.0</td>\n",
       "      <td>0.442383</td>\n",
       "      <td>0.007812</td>\n",
       "      <td>0.0</td>\n",
       "      <td>0.549805</td>\n",
       "      <td>-0.021159</td>\n",
       "      <td>-0.024414</td>\n",
       "      <td>0.028754</td>\n",
       "    </tr>\n",
       "  </tbody>\n",
       "</table>\n",
       "<p>251 rows × 8 columns</p>\n",
       "</div>"
      ],
      "text/plain": [
       "     Time        O*       CO*  O2*         *      R_O2      R_CO     R_CO2\n",
       "0     0.0  0.000000  0.000000  0.0  1.000000 -0.164659 -0.063748 -0.002713\n",
       "1     0.1  0.030490  0.006076  0.0  0.963433 -0.140245 -0.057780  0.002713\n",
       "2     0.2  0.055556  0.011013  0.0  0.933431 -0.116916 -0.049099  0.007324\n",
       "3     0.3  0.075792  0.014431  0.0  0.909776 -0.112576 -0.050998  0.011122\n",
       "4     0.4  0.098362  0.018989  0.0  0.882650 -0.113932 -0.052355  0.013563\n",
       "..    ...       ...       ...  ...       ...       ...       ...       ...\n",
       "246  24.6  0.442763  0.008464  0.0  0.548774 -0.015191 -0.030653  0.036079\n",
       "247  24.7  0.442274  0.007541  0.0  0.550184 -0.015462 -0.030111  0.032281\n",
       "248  24.8  0.442491  0.008030  0.0  0.549479 -0.013021 -0.031467  0.028754\n",
       "249  24.9  0.441732  0.008084  0.0  0.550184 -0.014648 -0.028754  0.029839\n",
       "250  25.0  0.442383  0.007812  0.0  0.549805 -0.021159 -0.024414  0.028754\n",
       "\n",
       "[251 rows x 8 columns]"
      ]
     },
     "execution_count": 11,
     "metadata": {},
     "output_type": "execute_result"
    }
   ],
   "source": [
    "pd.read_csv('KMC_NonDynamic_Data_iCovg_iRates_rw.csv')"
   ]
  },
  {
   "cell_type": "code",
   "execution_count": 12,
   "id": "f18f3cad",
   "metadata": {},
   "outputs": [
    {
     "data": {
      "image/png": "[encoded data removed]",
      "text/plain": [
       "<Figure size 640x480 with 1 Axes>"
      ]
     },
     "metadata": {},
     "output_type": "display_data"
    }
   ],
   "source": [
    "plt.figure()\n",
    "plt.plot(Kinetic_Info.values[:,0], Kinetic_Info.values[:,5],'r*', label='O2_kMC')        \n",
    "plt.plot(Kinetic_Info.values[:,0], Kinetic_Info.values[:,6],'g*', label='CO_kMC') \n",
    "plt.plot(Kinetic_Info.values[:,0], Kinetic_Info.values[:,7], 'b*', label='CO2_kMC') \n",
    "plt.show()"
   ]
  },
  {
   "cell_type": "code",
   "execution_count": null,
   "id": "847407be",
   "metadata": {},
   "outputs": [],
   "source": []
  },
  {
   "cell_type": "code",
   "execution_count": null,
   "id": "3a5fb910",
   "metadata": {},
   "outputs": [],
   "source": []
  }
 ],
 "metadata": {
  "kernelspec": {
   "display_name": "Python 3 (ipykernel)",
   "language": "python",
   "name": "python3"
  },
  "language_info": {
   "codemirror_mode": {
    "name": "ipython",
    "version": 3
   },
   "file_extension": ".py",
   "mimetype": "text/x-python",
   "name": "python",
   "nbconvert_exporter": "python",
   "pygments_lexer": "ipython3",
   "version": "3.9.7"
  }
 },
 "nbformat": 4,
 "nbformat_minor": 5
}
