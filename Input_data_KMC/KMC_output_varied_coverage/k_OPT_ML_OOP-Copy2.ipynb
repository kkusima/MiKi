{
 "cells": [
  {
   "cell_type": "code",
   "execution_count": 1,
   "id": "77a63c68",
   "metadata": {},
   "outputs": [],
   "source": [
    "import glob, os\n",
    "import matplotlib.pyplot as plt\n",
    "import numpy as np\n",
    "import pandas as pd\n",
    "import shutil"
   ]
  },
  {
   "cell_type": "code",
   "execution_count": null,
   "id": "6c342ff9",
   "metadata": {},
   "outputs": [
    {
     "name": "stdout",
     "output_type": "stream",
     "text": [
      "Mass is conserved. \n",
      "\n",
      "Mass is conserved. \n",
      "\n",
      "\n",
      " Number of simulations: 54 \n",
      " Input Files are Initialized. \n",
      " SIMULATIONS MATCH AS EXPECTED \n",
      "\n"
     ]
    }
   ],
   "source": [
    "%%time\n",
    "from main_ML import *\n",
    "ML = ML_Fitting('Atomic_sw.csv','Stoich_sw.csv','Param_sw.csv','KMC_NonDynamic_Data_iCovg_iRates_sw.csv','KMC')\n",
    "ML.MKM.set_rxnconditions(Pr=[(1.0e-4*0.1),(1.0e-4*1.0e-5), 0]) #From KMC #Make sure it matches 02 CO CO2\n",
    "ML.KMC_Input_Folders_Initialization()"
   ]
  },
  {
   "cell_type": "raw",
   "id": "6e04d94f",
   "metadata": {},
   "source": [
    "# Dictionaries to be used\n",
    "\n",
    "data_KMC_dict = {'init_covg': init_coverages, \n",
    "                    'sim_time': KMC_time_Array, \n",
    "                     'covg_prof': Covg, \n",
    "                     'iRates': Rates}\n",
    "         \n",
    "data_MKM_dict = {'init_covg': MKM_init_coverages, \n",
    "                    'sim_time': time_MKM_Array, \n",
    "                     'covg_prof': MKM_Covg, \n",
    "                     'iRates': MKM_Rates}"
   ]
  },
  {
   "cell_type": "code",
   "execution_count": null,
   "id": "aa81b5b2",
   "metadata": {},
   "outputs": [],
   "source": [
    "%%time\n",
    "KMC_data = ML.KMC_Dictionary()"
   ]
  },
  {
   "cell_type": "code",
   "execution_count": null,
   "id": "b144f2cd",
   "metadata": {},
   "outputs": [],
   "source": [
    "exp_df = ML.Exp_Dataframe()"
   ]
  },
  {
   "cell_type": "code",
   "execution_count": null,
   "id": "8c1eb96e",
   "metadata": {},
   "outputs": [],
   "source": [
    "exp_df"
   ]
  },
  {
   "cell_type": "code",
   "execution_count": null,
   "id": "f1688691",
   "metadata": {},
   "outputs": [],
   "source": [
    "%%time\n",
    "params_ = np.array([5.60983514e+07, 6.26873886e-10, 2.09163588e+04, 8.74022929e+09, 1.03443448e+10, 2.75903622e-01, 1.03031697e+08, 5.00000000e+02])\n",
    "\n",
    "exp_mkm_df = ML.Exp_MKM_Dataframe(params = params_)\n",
    "exp_mkm_df"
   ]
  },
  {
   "cell_type": "code",
   "execution_count": null,
   "id": "9b026856",
   "metadata": {
    "scrolled": true
   },
   "outputs": [],
   "source": [
    "# %%time\n",
    "# #Plotting  fit comparison\n",
    "# ML.MKM.k = params_The \n",
    "\n",
    "# ML.Fit_Visualization(params = params_,Comp='Covg')"
   ]
  },
  {
   "cell_type": "code",
   "execution_count": null,
   "id": "ed513117",
   "metadata": {
    "scrolled": true
   },
   "outputs": [],
   "source": [
    "# %%time\n",
    "# #Plotting  fit comparison\n",
    "# ML.MKM.k = params_\n",
    "\n",
    "# ML.Fit_Visualization(params = params_,Comp='iRates')"
   ]
  },
  {
   "cell_type": "code",
   "execution_count": null,
   "id": "aaeb53a9",
   "metadata": {
    "scrolled": false
   },
   "outputs": [],
   "source": [
    "# %%time\n",
    "# %matplotlib notebook\n",
    "# #plotting 3D KMC\n",
    "# ML.three_d_plot_Exp_only(p_c = 0.1,Comp='Covg')"
   ]
  },
  {
   "cell_type": "code",
   "execution_count": null,
   "id": "dac9641d",
   "metadata": {},
   "outputs": [],
   "source": [
    "# %%time\n",
    "# %matplotlib notebook\n",
    "# #plotting 3D KMC\n",
    "# ML.three_d_plot_Exp_only(p_c = 0.1,Comp='iRates')"
   ]
  },
  {
   "cell_type": "code",
   "execution_count": null,
   "id": "5a74c68b",
   "metadata": {},
   "outputs": [],
   "source": [
    "# %%time\n",
    "# ML.three_d_plot_Covg(p_c = 0.1)"
   ]
  },
  {
   "cell_type": "code",
   "execution_count": null,
   "id": "135f74a6",
   "metadata": {},
   "outputs": [],
   "source": [
    "# %%time\n",
    "# ML.three_d_plot_iRates(p_c = 0.1)"
   ]
  },
  {
   "cell_type": "code",
   "execution_count": null,
   "id": "5448113b",
   "metadata": {},
   "outputs": [],
   "source": [
    "# %%time\n",
    "# X_all,Y_all = ML.X_Y_full_dataset() #Full Regression Dataset for ML"
   ]
  },
  {
   "cell_type": "code",
   "execution_count": null,
   "id": "30c8de0d",
   "metadata": {},
   "outputs": [],
   "source": [
    "# X_all"
   ]
  },
  {
   "cell_type": "code",
   "execution_count": null,
   "id": "b0fbb378",
   "metadata": {},
   "outputs": [],
   "source": [
    "# Y_all"
   ]
  },
  {
   "cell_type": "code",
   "execution_count": null,
   "id": "67c06d85",
   "metadata": {},
   "outputs": [],
   "source": [
    "# %%time\n",
    "# Ext = ML.External_Dataframe() #corresponding MKM Dataframe corresponding to obtained as a result of external input file to be used on ML model\n",
    "# Ext"
   ]
  },
  {
   "cell_type": "code",
   "execution_count": null,
   "id": "70ba605b",
   "metadata": {},
   "outputs": [],
   "source": [
    "# %%time\n",
    "# RMSE_Dataframe = ML.Fit_Evaluation_RMSE()\n",
    "# RMSE_Dataframe"
   ]
  },
  {
   "cell_type": "code",
   "execution_count": null,
   "id": "3fb28633",
   "metadata": {},
   "outputs": [],
   "source": [
    "%%time\n",
    "ML.ML_Fitting(alg = 'KNN', test_train_split=0.10, plot=True)"
   ]
  },
  {
   "cell_type": "code",
   "execution_count": null,
   "id": "66fbc86d",
   "metadata": {},
   "outputs": [],
   "source": [
    "print(ML.ML_algorithm)"
   ]
  },
  {
   "cell_type": "code",
   "execution_count": null,
   "id": "5f743554",
   "metadata": {},
   "outputs": [],
   "source": []
  }
 ],
 "metadata": {
  "kernelspec": {
   "display_name": "Python 3 (ipykernel)",
   "language": "python",
   "name": "python3"
  },
  "language_info": {
   "codemirror_mode": {
    "name": "ipython",
    "version": 3
   },
   "file_extension": ".py",
   "mimetype": "text/x-python",
   "name": "python",
   "nbconvert_exporter": "python",
   "pygments_lexer": "ipython3",
   "version": "3.9.7"
  }
 },
 "nbformat": 4,
 "nbformat_minor": 5
}
