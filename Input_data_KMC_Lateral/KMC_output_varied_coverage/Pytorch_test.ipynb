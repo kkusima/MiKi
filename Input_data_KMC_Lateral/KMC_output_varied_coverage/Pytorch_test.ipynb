{
 "cells": [
  {
   "cell_type": "code",
   "execution_count": 1,
   "id": "392f9cd6",
   "metadata": {},
   "outputs": [],
   "source": [
    "import numpy as np"
   ]
  },
  {
   "cell_type": "code",
   "execution_count": 2,
   "id": "0172b1cb",
   "metadata": {},
   "outputs": [
    {
     "data": {
      "image/png": "[encoded data removed]",
      "text/plain": [
       "<Figure size 640x480 with 1 Axes>"
      ]
     },
     "metadata": {},
     "output_type": "display_data"
    }
   ],
   "source": [
    "t_c = [0.5,  14.0, 15.0, 28.0, 11.0,  8.0,  3.0, -4.0,  6.0, 13.0, 21.0]\n",
    "t_u = [35.7, 55.9, 58.2, 81.9, 56.3, 48.9, 33.9, 21.8, 48.4, 60.4, 68.4]\n",
    "\n",
    "#Plotting the data\n",
    "import matplotlib.pyplot as plt\n",
    "\n",
    "plt.plot(t_c, t_u, 'ro')\n",
    "plt.xlabel('t_c')\n",
    "plt.ylabel('t_u')\n",
    "plt.show()"
   ]
  },
  {
   "cell_type": "code",
   "execution_count": 3,
   "id": "4897b1cf",
   "metadata": {},
   "outputs": [],
   "source": [
    "#Definining the physical model\n",
    "def model(t_u, w, b): # = t_c\n",
    "    return w * t_u + b"
   ]
  },
  {
   "cell_type": "code",
   "execution_count": 27,
   "id": "64c524ba",
   "metadata": {},
   "outputs": [],
   "source": [
    "#Defining the loss/cost function\n",
    "#Root Mean Square Error\n",
    "def loss_fn(y_pred,y_true): #RMSE\n",
    "    # Calculate RMSE\n",
    "    rmse = np.sqrt(np.mean((y_true - y_pred)**2, axis=0))\n",
    "    return rmse\n",
    "    "
   ]
  },
  {
   "cell_type": "code",
   "execution_count": 28,
   "id": "b7ff2460",
   "metadata": {},
   "outputs": [
    {
     "data": {
      "text/plain": [
       "array([35.7, 55.9, 58.2, 81.9, 56.3, 48.9, 33.9, 21.8, 48.4, 60.4, 68.4])"
      ]
     },
     "execution_count": 28,
     "metadata": {},
     "output_type": "execute_result"
    }
   ],
   "source": [
    "w = np.ones(()) #w = 1\n",
    "b = np.zeros(()) #b = 0\n",
    "\n",
    "t_p = model(t_u, w, b)\n",
    "t_p"
   ]
  },
  {
   "cell_type": "code",
   "execution_count": 29,
   "id": "2bb69217",
   "metadata": {},
   "outputs": [
    {
     "data": {
      "text/plain": [
       "41.99862551863508"
      ]
     },
     "execution_count": 29,
     "metadata": {},
     "output_type": "execute_result"
    }
   ],
   "source": [
    "loss = loss_fn(t_p, t_c)\n",
    "loss"
   ]
  },
  {
   "cell_type": "code",
   "execution_count": null,
   "id": "34e0efc8",
   "metadata": {},
   "outputs": [],
   "source": [
    "#Updating values based on the loss function\n",
    "delta = 0.1\n",
    "#dlw_dt : Loss rate of change of w #i.e finding the gradient of the loss function with respect to each parameter!\n",
    "dlw_dt = (loss_fn(model(t_u, w + delta, b), t_c) - loss_fn(model(t_u,w-delta, b), t_c)) / (2.0 * delta)\n",
    "dlb_dt =   (loss_fn(model(t_u, w, b + delta), t_c)- loss_fn(model(t_u, w, b - delta), t_c)) / (2.0 * delta)\n",
    "\n",
    "b = b- learning_rate * loss_rate_of_change_b\n",
    "#Gradient Descent\n",
    "learning_rate = 1e-2\n",
    "\n",
    "w = w - learning_rate * dlw_dt\n",
    "b = b - learning_rate * dlb_dt"
   ]
  },
  {
   "cell_type": "code",
   "execution_count": null,
   "id": "1f4f0689",
   "metadata": {},
   "outputs": [],
   "source": []
  },
  {
   "cell_type": "code",
   "execution_count": 31,
   "id": "e9daeae1",
   "metadata": {},
   "outputs": [
    {
     "name": "stdout",
     "output_type": "stream",
     "text": [
      "Derivative of f(x) at x=2: 70.00000000445539\n"
     ]
    }
   ],
   "source": [
    "def derivative(func, x, h=1e-6):\n",
    "    \"\"\"\n",
    "    Numerically approximate the derivative of a function at a given point using finite differences.\n",
    "    \n",
    "    Parameters:\n",
    "        func (callable): The function to differentiate.\n",
    "        x (float): The point at which to compute the derivative.\n",
    "        h (float): The step size for finite differences (default is 1e-6).\n",
    "    \n",
    "    Returns:\n",
    "        float: The approximate derivative of the function at the given point.\n",
    "    \"\"\"\n",
    "    return (func(x + h) - func(x - h)) / (2 * h)\n",
    "\n",
    "# Example usage:\n",
    "# Define a function\n",
    "def f(x):\n",
    "    return (x+1 + x**2)**2\n",
    "\n",
    "# Compute the derivative of the function f(x) at x=2\n",
    "x = 2\n",
    "derivative_value = derivative(f, x)\n",
    "print(\"Derivative of f(x) at x=2:\", derivative_value)"
   ]
  },
  {
   "cell_type": "code",
   "execution_count": null,
   "id": "2fe4af21",
   "metadata": {},
   "outputs": [],
   "source": []
  },
  {
   "cell_type": "code",
   "execution_count": 32,
   "id": "768b6f25",
   "metadata": {
    "scrolled": false
   },
   "outputs": [
    {
     "data": {
      "image/png": "[encoded data removed]",
      "text/plain": [
       "<Figure size 640x480 with 1 Axes>"
      ]
     },
     "metadata": {},
     "output_type": "display_data"
    },
    {
     "name": "stdout",
     "output_type": "stream",
     "text": [
      "x :  torch.Size([]) y :  torch.Size([3, 1])\n",
      "z :  torch.Size([1, 3]) a :  torch.Size([2, 1, 1])\n",
      "x * y :  torch.Size([3, 1])\n",
      "y * z :  torch.Size([3, 3])\n",
      "y * z * a :  torch.Size([2, 3, 3])\n",
      "Epoch loss : 1  loss  80.36434173583984\n",
      "  params:  tensor([1.7761, 0.1064])\n",
      "  grad:  tensor([-77.6140, -10.6400])\n",
      "Epoch loss : 2  loss  37.574913024902344\n",
      "  params:  tensor([2.0848, 0.1303])\n",
      "  grad:  tensor([-30.8623,  -2.3864])\n",
      "Epoch loss : 3  loss  30.871076583862305\n",
      "  params:  tensor([2.2094, 0.1217])\n",
      "  grad:  tensor([-12.4631,   0.8587])\n",
      "...\n",
      "Epoch loss : 10  loss  29.030488967895508\n",
      "  params:  tensor([ 2.3232, -0.0710])\n",
      "  grad:  tensor([-0.5355,  2.9295])\n",
      "Epoch loss : 11  loss  28.941877365112305\n",
      "  params:  tensor([ 2.3284, -0.1003])\n",
      "  grad:  tensor([-0.5240,  2.9264])\n",
      "...\n",
      "Epoch loss : 99  loss  22.21418571472168\n",
      "  params:  tensor([ 2.7508, -2.4910])\n",
      "  grad:  tensor([-0.4453,  2.5208])\n",
      "Epoch loss : 100  loss  22.148710250854492\n",
      "  params:  tensor([ 2.7553, -2.5162])\n",
      "  grad:  tensor([-0.4446,  2.5165])\n"
     ]
    }
   ],
   "source": [
    "t_c = [0.5,  14.0, 15.0, 28.0, 11.0,  8.0,  3.0, -4.0,  6.0, 13.0, 21.0]\n",
    "t_u = [35.7, 55.9, 58.2, 81.9, 56.3, 48.9, 33.9, 21.8, 48.4, 60.4, 68.4]\n",
    "t_c = torch.tensor(t_c)\n",
    "t_u = torch.tensor(t_u)\n",
    "\n",
    "\n",
    "import matplotlib.pyplot as plt\n",
    "\n",
    "plt.plot(t_c, t_u, 'ro')\n",
    "plt.show()\n",
    "\n",
    "\n",
    "def model(t_u, w, b): # = t_c\n",
    "    return w * t_u + b\n",
    "\n",
    "#Root Mean Square Error\n",
    "def loss_fn(t_p, t_c):\n",
    "    squared_diffs = (t_p - t_c)**2\n",
    "    return np.sqrt(squared_diffs.mean())\n",
    "\n",
    "\n",
    "w = torch.ones(())\n",
    "b = torch.zeros(())\n",
    "\n",
    "t_p = model(t_u, w, b)\n",
    "t_p\n",
    "\n",
    "\n",
    "loss = loss_fn(t_p, t_c)\n",
    "loss\n",
    "\n",
    "x = torch.ones(())\n",
    "y = torch.ones(3,1)\n",
    "z = torch.ones(1,3)\n",
    "a = torch.ones(2,1,1)\n",
    "\n",
    "print(\"x : \", x.shape,\"y : \", y.shape)\n",
    "print(\"z : \", z.shape,\"a : \", a.shape)\n",
    "\n",
    "print(\"x * y : \", (x * y).shape)\n",
    "print(\"y * z : \",(y * z).shape)\n",
    "print(\"y * z * a : \", (y * z * a).shape)\n",
    "    \n",
    "delta = 0.1\n",
    "\n",
    "loss_rate_of_change_w = \\\n",
    "    (loss_fn(model(t_u, w + delta, b), t_c) - \n",
    "    loss_fn(model(t_u,w-delta, b), t_c)) / (2.0 * delta)\n",
    "\n",
    "learning_rate = 1e-2\n",
    "\n",
    "w = w - learning_rate * loss_rate_of_change_w\n",
    "loss_rate_of_change_b = \\\n",
    "    (loss_fn(model(t_u, w, b + delta), t_c)-\n",
    "     loss_fn(model(t_u, w, b - delta), t_c)) / (2.0 * delta)\n",
    "\n",
    "b = b- learning_rate * loss_rate_of_change_b\n",
    "\n",
    "# derivative of loss \n",
    "def dloss_fn(t_p, t_c):\n",
    "    # same as\n",
    "    # sqared_diffs = (t_p - t_c)**2\n",
    "    # return squred_diffs.mean()\n",
    "    dsq_diffs = 2 * (t_p - t_c) / t_p.size(0)\n",
    "    return dsq_diffs\n",
    "# derivative of model w.r.t w\n",
    "def dmodel_dw(t_u, w, b):\n",
    "    return t_u\n",
    "# derivativ of model w.r.t b\n",
    "def dmodel_db(t_u, w, b):\n",
    "    return 1.0\n",
    "\n",
    "# chain rule in action\n",
    "def grad_dn(t_u, t_c, t_p, w, b):\n",
    "    dloss_dtp = dloss_fn(t_p, t_c)\n",
    "    dloss_dw = dloss_dtp * dmodel_dw(t_u, w, b)\n",
    "    dloss_db = dloss_dtp * dmodel_db(t_u, w, b)\n",
    "    return torch.stack([dloss_dw.sum(), dloss_db.sum()])\n",
    "\n",
    "# how stack works\n",
    "a = torch.tensor([1,2,3])\n",
    "b = torch.tensor([4,5,6])\n",
    "torch.stack([a,b])\n",
    "\n",
    "# def training_loop(n_epochs, learning_rate,params, t_u, t_c):\n",
    "#     for epoch in range(1, n_epochs+1):\n",
    "#         w, b = params\n",
    "        \n",
    "#         t_p = model(t_u, w,b)\n",
    "#         loss = loss_fn(t_p, t_c)\n",
    "#         grad = grad_dn(t_u, t_c, t_p, w, b)\n",
    "        \n",
    "#         params = params - learning_rate * grad\n",
    "        \n",
    "#         print(\"Epoch : \", epoch, \" loss : \", loss)\n",
    "#     return params\n",
    "\n",
    "# training_loop(n_epochs = 100, learning_rate=1e-2, params= torch.tensor([1.0, 0.0]), t_u=t_u, t_c=t_c)\n",
    "\n",
    "\n",
    "def training_loop(n_epochs, learning_rate, params, t_u, t_c, print_params=True):\n",
    "    for epoch in range(1, n_epochs + 1):\n",
    "        w, b = params\n",
    "        t_p = model(t_u, w, b)\n",
    "        loss = loss_fn(t_p, t_c)\n",
    "        grad = grad_dn(t_u, t_c, t_p, w, b)\n",
    "        \n",
    "        params = params - learning_rate * grad\n",
    "        \n",
    "        if epoch in {1,2,3,10,11,99,100,4000,5000}:\n",
    "            print('Epoch loss :', epoch, \" loss \", float(loss))\n",
    "            if print_params:\n",
    "                print('  params: ', params)\n",
    "                print('  grad: ', grad)\n",
    "        \n",
    "        if epoch in {4, 12, 101}:\n",
    "            print('...')\n",
    "        \n",
    "        if not torch.isfinite(loss).all():\n",
    "            break\n",
    "    return params\n",
    "\n",
    "t_un = 0.1 * t_u #Normalizing input\n",
    "\n",
    "params = training_loop(n_epochs = 100, learning_rate=1e-2, params= torch.tensor([1.0, 0.0]), t_u=t_un, t_c=t_c)"
   ]
  },
  {
   "cell_type": "code",
   "execution_count": 35,
   "id": "65a88a83",
   "metadata": {},
   "outputs": [
    {
     "data": {
      "image/png": "[encoded data removed]",
      "text/plain": [
       "<Figure size 640x480 with 1 Axes>"
      ]
     },
     "metadata": {},
     "output_type": "display_data"
    }
   ],
   "source": [
    "plt.figure()\n",
    "plt.plot(t_c, t_u, 'ro')\n",
    "plt.plot(model(t_un, params[0],params[1]),t_u,'b-')\n",
    "plt.show()"
   ]
  },
  {
   "cell_type": "code",
   "execution_count": null,
   "id": "1c7d3023",
   "metadata": {},
   "outputs": [],
   "source": []
  },
  {
   "cell_type": "code",
   "execution_count": null,
   "id": "656fde97",
   "metadata": {},
   "outputs": [],
   "source": []
  },
  {
   "cell_type": "code",
   "execution_count": null,
   "id": "c2399b1f",
   "metadata": {},
   "outputs": [],
   "source": []
  },
  {
   "cell_type": "code",
   "execution_count": 36,
   "id": "d823f86f",
   "metadata": {},
   "outputs": [
    {
     "name": "stdout",
     "output_type": "stream",
     "text": [
      "Predicted Output:\n",
      "[[0.36149226]\n",
      " [0.58621226]\n",
      " [0.4915809 ]\n",
      " [0.66916176]]\n"
     ]
    }
   ],
   "source": [
    "import numpy as np\n",
    "\n",
    "def sigmoid(x):\n",
    "    return 1 / (1 + np.exp(-x))\n",
    "\n",
    "def sigmoid_derivative(x):\n",
    "    return x * (1 - x)\n",
    "\n",
    "def neural_network_fit(X, y, hidden_units=4, learning_rate=0.01, max_iter=1000):\n",
    "    np.random.seed(1)\n",
    "    input_units = X.shape[1]\n",
    "    output_units = y.shape[1]\n",
    "\n",
    "    # Initialize weights\n",
    "    hidden_weights = np.random.randn(input_units, hidden_units)\n",
    "    output_weights = np.random.randn(hidden_units, output_units)\n",
    "\n",
    "    for _ in range(max_iter):\n",
    "        # Forward propagation\n",
    "        hidden_layer_input = np.dot(X, hidden_weights)\n",
    "        hidden_layer_output = sigmoid(hidden_layer_input)\n",
    "        output_layer_input = np.dot(hidden_layer_output, output_weights)\n",
    "        predicted_output = sigmoid(output_layer_input)\n",
    "\n",
    "        # Backpropagation\n",
    "        output_error = y - predicted_output\n",
    "        output_delta = output_error * sigmoid_derivative(predicted_output)\n",
    "        hidden_error = output_delta.dot(output_weights.T)\n",
    "        hidden_delta = hidden_error * sigmoid_derivative(hidden_layer_output)\n",
    "\n",
    "        # Update weights\n",
    "        output_weights += hidden_layer_output.T.dot(output_delta) * learning_rate\n",
    "        hidden_weights += X.T.dot(hidden_delta) * learning_rate\n",
    "\n",
    "    return hidden_weights, output_weights\n",
    "\n",
    "# Example usage:\n",
    "X = np.array([[0, 0], [0, 1], [1, 0], [1, 1]])  # Input features\n",
    "y = np.array([[0], [1], [1], [0]])  # Target values\n",
    "\n",
    "hidden_weights, output_weights = neural_network_fit(X, y)\n",
    "\n",
    "# Test the trained model\n",
    "hidden_layer_input = np.dot(X, hidden_weights)\n",
    "hidden_layer_output = sigmoid(hidden_layer_input)\n",
    "output_layer_input = np.dot(hidden_layer_output, output_weights)\n",
    "predicted_output = sigmoid(output_layer_input)\n",
    "\n",
    "print(\"Predicted Output:\")\n",
    "print(predicted_output)\n"
   ]
  },
  {
   "cell_type": "code",
   "execution_count": null,
   "id": "75643e7b",
   "metadata": {},
   "outputs": [],
   "source": []
  }
 ],
 "metadata": {
  "kernelspec": {
   "display_name": "Python 3 (ipykernel)",
   "language": "python",
   "name": "python3"
  },
  "language_info": {
   "codemirror_mode": {
    "name": "ipython",
    "version": 3
   },
   "file_extension": ".py",
   "mimetype": "text/x-python",
   "name": "python",
   "nbconvert_exporter": "python",
   "pygments_lexer": "ipython3",
   "version": "3.11.5"
  }
 },
 "nbformat": 4,
 "nbformat_minor": 5
}
