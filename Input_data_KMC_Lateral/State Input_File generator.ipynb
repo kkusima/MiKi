{
 "cells": [
  {
   "cell_type": "code",
   "execution_count": 1,
   "id": "675875ee",
   "metadata": {},
   "outputs": [],
   "source": [
    "import os\n",
    "import matplotlib.pyplot as plt\n",
    "import numpy as np\n",
    "import pandas as pd\n",
    "import random"
   ]
  },
  {
   "cell_type": "code",
   "execution_count": 2,
   "id": "c1bddead",
   "metadata": {},
   "outputs": [
    {
     "data": {
      "text/plain": [
       "array([0.        , 0.11111111, 0.22222222, 0.33333333, 0.44444444,\n",
       "       0.55555556, 0.66666667, 0.77777778, 0.88888889, 1.        ])"
      ]
     },
     "execution_count": 2,
     "metadata": {},
     "output_type": "execute_result"
    }
   ],
   "source": [
    "no_sim=10#Number of possible coverages for each species #This increases how many total folders are made.\n",
    "Tot_no_sites = 18432 #Total Number of sites of which will be randomly filled\n",
    "A='O*'; B='CO*'\n",
    "\n",
    "theta_A = np.linspace(0, 1, no_sim) #Coverages of A\n",
    "theta_A"
   ]
  },
  {
   "cell_type": "code",
   "execution_count": 3,
   "id": "52f1258f",
   "metadata": {},
   "outputs": [
    {
     "name": "stdout",
     "output_type": "stream",
     "text": [
      "Total number of new folders made: 55\n",
      "Total number of simulation folders in the folder: 55\n",
      "CPU times: user 21min 17s, sys: 3.87 s, total: 21min 21s\n",
      "Wall time: 21min 38s\n"
     ]
    }
   ],
   "source": [
    "%%time\n",
    "main_folder = 'KMC_Simulation_Files'\n",
    "os.makedirs(main_folder)\n",
    "\n",
    "k=0 #Count for number of files created\n",
    "Array_tot_sites = np.arange(1,Tot_no_sites) #Array of all possible sites\n",
    "\n",
    "for i in np.arange(len(theta_A)): #looping through the A species possible coverages\n",
    "    if i==0:\n",
    "        theta_B = theta_A\n",
    "    else:\n",
    "        theta_B = theta_A[:-i]\n",
    "    for j in theta_B:         #looping through the corresponding remaining possible B species coverages\n",
    "        cov_A = theta_A[i]\n",
    "        cov_B = j  \n",
    "        folder_name = (\"Sim_A_{}_B_{}\".format(int(cov_A*100),int(cov_B*100) ))\n",
    "        file_name = 'state_input.dat'\n",
    "        folder_path = './'+main_folder+'/'+folder_name\n",
    "\n",
    "        if not os.path.exists(folder_path):\n",
    "            os.makedirs(folder_path) #Making the simulation folder:\n",
    "            k += 1 #Counting how many simulation folders have been made\n",
    "            if cov_A == 0 and cov_B ==0: #Accounting when you have empty surface, you dont need state input file\n",
    "                continue\n",
    "                \n",
    "            else:\n",
    "            #Creating the state_input file accordingly\n",
    "                file_path = os.path.join(folder_path, file_name)\n",
    "    #             print(file_path)\n",
    "                ofile=open(file_path,'w')\n",
    "                ofile.write(\"initial_state\\n\")\n",
    "\n",
    "                occupied_loc = [] #All site locations that are occupied\n",
    "\n",
    "                #For A : CO* #Choosing only x amount of active sites corresponds to A i.e based on the coverage\n",
    "                for m in np.arange(int(cov_A*Tot_no_sites)):\n",
    "                    Available_loc = list(set(Array_tot_sites) - set(occupied_loc)) #List of available sites to choose from\n",
    "                    if Available_loc!=[]: #Make sure there is something available\n",
    "                        loc_A = random.choice(Available_loc) #Extracting a random site location from the ones available\n",
    "                        occupied_loc.append(loc_A)\n",
    "                        ofile.write(\"   seed_on_sites %s %i\\n\" %(A,loc_A) )     \n",
    "\n",
    "                #For B : O*\n",
    "                for n in np.arange(int(cov_B*Tot_no_sites)):\n",
    "                    Available_loc = list(set(Array_tot_sites) - set(occupied_loc)) #List of available sites to choose from\n",
    "                    if Available_loc!=[]: #Make sure there is something available\n",
    "                        loc_B = random.choice(Available_loc) #Extracting a random site location from the ones available\n",
    "                        occupied_loc.append(loc_B)\n",
    "                        ofile.write(\"   seed_on_sites %s %i\\n\" %(B,loc_B) )                \n",
    "\n",
    "                ofile.write(\"end_initial_state\") \n",
    "            \n",
    "print('Total number of new folders made:',k)\n",
    "count = 0\n",
    "for item in os.listdir('./'+main_folder+'/'):\n",
    "    if item.startswith('Sim'):\n",
    "        count += 1\n",
    "print('Total number of simulation folders in the folder:',count)"
   ]
  },
  {
   "cell_type": "code",
   "execution_count": 4,
   "id": "76ffa552",
   "metadata": {},
   "outputs": [],
   "source": [
    "# import os\n",
    "# import shutil\n",
    "# def delete_folders(folder_name_prefix):\n",
    "#     for item in os.listdir():\n",
    "#         if os.path.isdir(item) and item.startswith(folder_name_prefix):\n",
    "#             shutil.rmtree(item)\n"
   ]
  },
  {
   "cell_type": "code",
   "execution_count": 5,
   "id": "a8b86e16",
   "metadata": {},
   "outputs": [],
   "source": [
    "# delete_folders('KMC_Simulation_Files')"
   ]
  },
  {
   "cell_type": "code",
   "execution_count": null,
   "id": "c6751401",
   "metadata": {},
   "outputs": [],
   "source": []
  }
 ],
 "metadata": {
  "kernelspec": {
   "display_name": "Python 3 (ipykernel)",
   "language": "python",
   "name": "python3"
  },
  "language_info": {
   "codemirror_mode": {
    "name": "ipython",
    "version": 3
   },
   "file_extension": ".py",
   "mimetype": "text/x-python",
   "name": "python",
   "nbconvert_exporter": "python",
   "pygments_lexer": "ipython3",
   "version": "3.9.7"
  }
 },
 "nbformat": 4,
 "nbformat_minor": 5
}
