{
 "cells": [
  {
   "cell_type": "code",
   "execution_count": 1,
   "id": "471198c7",
   "metadata": {},
   "outputs": [],
   "source": [
    "import numpy as np\n",
    "import pandas as pd\n",
    "import math\n",
    "import matplotlib.pyplot as plt"
   ]
  },
  {
   "cell_type": "markdown",
   "id": "e35a2746",
   "metadata": {},
   "source": [
    "# KINETICS\n",
    "***\n",
    "$\\mathbf{\\text{Micro Kinetic Model for (a Simple 4-Step Mechanism) CO Oxidation}}:$<br>\n",
    "#### [Link to Relevant Paper](https://pubs.acs.org/doi/10.1021/cs500377j) \n",
    "***\n",
    "$$\\require{mhchem}$$       \n",
    "---\n",
    "Overall Reaction: \n",
    "$$ CO + \\frac{1}{2} O_2 {\\stackrel{\\tiny{\\textrm{Pt/Pd}}}{\\rightleftharpoons}} CO_2 $$\n",
    "$Ea = 80kJ{mol}^{-1}->120kJ{mol}^{-1}$\n",
    "---\n",
    "Note Reations in the Reaction Mechanism may be reversible or irreversible\n",
    "\n",
    "Reaction 1:&emsp;Adsorption of CO / Desorption of CO*\n",
    "\n",
    "$$ CO(g) + * \\rightleftharpoons CO^{*} $$  <br> \n",
    "\n",
    "Reaction 2:&emsp;Adsorption of $O_2$ / Desorption of $O_2^*$\n",
    "\n",
    "$$ {O_2}(g) + * \\rightleftharpoons {O_2}^{*} $$  <br> \n",
    "\n",
    "Reaction 3:&emsp;Dissociation of ${O_2}^*$ / Recombination of O*\n",
    "\n",
    "$$ {O_2}^* + * \\rightleftharpoons 2{O}^* $$  <br> \n",
    "\n",
    "Reaction 4:&emsp;Surface Reaction of CO* and ${O_2}^*$ / Adsorption of $CO_2$\n",
    "\n",
    "$$ {CO}^{*} + {O}^{*} \\rightleftharpoons {{CO}_2}(g) + 2* $$  <br> \n",
    "\n",
    "***\n",
    "$\\mathbf{\\text{Modelling Proposed Reaction Mechanism}}:$<br>\n",
    "***\n",
    "${{k_i}^j= \\textrm{Rate constant/coefficient for reaction i,}} \\\\  \\hspace{0.5cm} \\textrm{for j = {f,r} ; where f = forward reaction and r  = the reverse reaction} \\\\ r_i = \\textrm{Rate of reaction for reaction i}$\n",
    "\n",
    "${\\theta_m = \\textrm{Surface Coverage of species m}} \\\\ \\sum_{m=1}^{N} \\theta_{m} = 1 \\\\ \\hspace{1.3cm} =\n",
    "\\theta_{CO} + \\theta_{O_2} + \\theta_{O} + \\theta_{*}$\n",
    "\n",
    "### The Atomic/Species Matrix ($\\nu$):\n",
    "\n",
    "The participating species for this surface reaction mechanism are:\n",
    "1. CO\n",
    "2. $O_2$\n",
    "3. $CO_2$\n",
    "4. $CO^*$\n",
    "5. $O^*$\n",
    "6. ${O_2}^*$\n",
    "7. *\n",
    "\n",
    "\\begin{equation}\n",
    "\\\n",
    "\\nu=\\begin{bmatrix}\n",
    "    &   CO    &   O_2   &   CO_2  &      CO^*    &     O*     &    O_2^*     &   *\\\\\n",
    "C   &   1     &   0     &   1     &      1       &     0      &     0        &   0\\\\\n",
    "O   &   1     &   2     &   2     &      1       &     1      &     2        &   0\\\\\n",
    "*   &   0     &   0     &   0     &      1       &     1      &     1        &   1\\end{bmatrix} \n",
    "\\\n",
    "\\end{equation}\n",
    "\n",
    "Atomic Matrix Size : (3x7)\n",
    "### The Stoichiometric Matrix (A):\n",
    "\n",
    "\\begin{equation}\n",
    "\\\n",
    "A=\\begin{bmatrix}\n",
    "    & P_{CO} & P_{O_2} & P_{CO_2} & \\theta_{CO} & \\theta_{O} & \\theta_{O_2} &\\theta_{*}\\\\\n",
    "r_1 &  -1     &   0     &   0     &      1       &     0      &     0        &  -1\\\\\n",
    "r_2 &   0     &  -1     &   0     &      0       &     0      &     1        &  -1\\\\\n",
    "r_3 &   0     &   0     &   0     &      0       &     2      &    -1        &  -1\\\\     \n",
    "r_4 &   0     &   0     &   1     &     -1       &    -1      &     0        &   2\\end{bmatrix}\n",
    "\\\n",
    "\\end{equation}\n",
    "\n",
    "Stoichiometric Matrix Size : (4x7)\n",
    "\n",
    "Note:\n",
    "\n",
    "- For Mass to be conserved:\n",
    "$$\\mathbf{A}\\mathbf{\\nu = 0}$$\n",
    "\n",
    "$i =$ species\n",
    "\n",
    "$j =$ reaction\n",
    "\n",
    "- To find the Rate of reaction of reaction j:\n",
    "\n",
    "$$ r_j = k_{j,f} \\prod_{i_f} P_{i,f} \\theta_{i,f}^{A_{i,j}} - k_{j,r} \\prod_{i_r} P_{i,r} \\theta_{i,r}^{A_{i,j}}  $$\n",
    "\n",
    "- To find the Rate of production of species i:\n",
    "$$R_{\\theta_i}=\\frac{d\\theta_i}{dt} = \\sum_j A_{j,i} \\cdot r_j $$\n",
    "\n",
    "#### Therefore:\n",
    "\n",
    "Rate Equations:&emsp;\n",
    "\n",
    "$$r_1 = k_{1}^f \\cdot \\textrm{P}_{CO} \\cdot \\theta_{*} - k_{1}^r \\cdot \\theta_{CO} $$\n",
    "\n",
    "$$r_2 = k_{2}^f \\cdot \\textrm{P}_{O_2} \\cdot \\theta_{*} - k_{2}^r \\cdot \\theta_{O_{2}} $$\n",
    "\n",
    "$$r_3 = k_{3}^f \\cdot \\theta_{O_2} \\cdot \\theta_{*} - k_{3}^r \\cdot \\theta_{O}^2 $$\n",
    "\n",
    "$$r_4 = k_{4}^f \\cdot \\theta_{CO} \\cdot \\theta_{O} - k_{4}^r \\cdot \\textrm{P}_{{CO}_2} \\cdot \\theta_{*}^2 $$\n",
    "\n",
    "The Corresponding Differential Equations corresponding to the rate of formations/productions of the different coverages:\n",
    "\n",
    "$$R_{\\theta_{CO}} = \\frac{d\\theta_{CO}}{dt} = r_1 - r_4$$\n",
    "\n",
    "$$R_{\\theta_{O_2}} = \\frac{d\\theta_{O_2}}{dt} = r_2 - r_3 $$\n",
    "\n",
    "$$R_{\\theta_{O}} = \\frac{d\\theta_{O}}{dt} = 2 r_3 - r_4 $$\n",
    "\n",
    "$$R_{\\theta_{*}} = \\frac{d\\theta_{*}}{dt} = 2 r_4 - r_1 - r_2 - r_3 $$\n",
    "\n"
   ]
  },
  {
   "cell_type": "markdown",
   "id": "2bf59212",
   "metadata": {},
   "source": [
    "# REACTOR MODELLING\n",
    "***"
   ]
  },
  {
   "cell_type": "code",
   "execution_count": 2,
   "id": "457652ac",
   "metadata": {},
   "outputs": [
    {
     "data": {
      "text/html": [
       "<img src=\"https://upload.wikimedia.org/wikipedia/commons/thumb/3/3b/Pipe-PFR.svg/464px-Pipe-PFR.svg.png?20081128031804\"/>"
      ],
      "text/plain": [
       "<IPython.core.display.Image object>"
      ]
     },
     "execution_count": 2,
     "metadata": {},
     "output_type": "execute_result"
    }
   ],
   "source": [
    "from IPython.display import Image\n",
    "Image(url='https://upload.wikimedia.org/wikipedia/commons/thumb/3/3b/Pipe-PFR.svg/464px-Pipe-PFR.svg.png?20081128031804')"
   ]
  },
  {
   "cell_type": "code",
   "execution_count": 3,
   "id": "0ba342a3",
   "metadata": {},
   "outputs": [
    {
     "data": {
      "text/html": [
       "<img src=\"http://websites.umich.edu/~elements/asyLearn/bits/pfrfinal/lec1-9.gif\"/>"
      ],
      "text/plain": [
       "<IPython.core.display.Image object>"
      ]
     },
     "execution_count": 3,
     "metadata": {},
     "output_type": "execute_result"
    }
   ],
   "source": [
    "Image(url='http://websites.umich.edu/~elements/asyLearn/bits/pfrfinal/lec1-9.gif')"
   ]
  },
  {
   "cell_type": "markdown",
   "id": "94bc4147",
   "metadata": {},
   "source": [
    "$$ \\left[ \\text{Rate of flow In} \\right] - \\left[ \\text{Rate of flow Out} \\right] + \\left[\\text{Rate of Generation}\\right]  = \\left[\\text{Rate of Accumulation}\\right] $$\n",
    "\n",
    "$$ F_{A0} - F_{A} + \\int_{0}^{V} r_A \\,dV = \\frac{dN_A}{dt} $$\n",
    "\n",
    "Note -> Assume Steady State:\n",
    "\n",
    "$$\\frac{dN_A}{dt} = 0 $$\n",
    "Therefore, \n",
    "$$F_{A0} - F_{A} + \\int_{0}^{V} r_A \\,dV = 0$$\n",
    "Differentiating gives:\n",
    "$$ \\frac{dF_A}{dV} = r_A $$"
   ]
  },
  {
   "cell_type": "code",
   "execution_count": null,
   "id": "904267d6",
   "metadata": {},
   "outputs": [],
   "source": []
  },
  {
   "cell_type": "code",
   "execution_count": null,
   "id": "62e06903",
   "metadata": {},
   "outputs": [],
   "source": []
  },
  {
   "cell_type": "code",
   "execution_count": null,
   "id": "79486a8c",
   "metadata": {},
   "outputs": [],
   "source": []
  },
  {
   "cell_type": "code",
   "execution_count": 6,
   "id": "32f3ef54",
   "metadata": {},
   "outputs": [
    {
     "data": {
      "text/html": [
       "<div>\n",
       "<style scoped>\n",
       "    .dataframe tbody tr th:only-of-type {\n",
       "        vertical-align: middle;\n",
       "    }\n",
       "\n",
       "    .dataframe tbody tr th {\n",
       "        vertical-align: top;\n",
       "    }\n",
       "\n",
       "    .dataframe thead th {\n",
       "        text-align: right;\n",
       "    }\n",
       "</style>\n",
       "<table border=\"1\" class=\"dataframe\">\n",
       "  <thead>\n",
       "    <tr style=\"text-align: right;\">\n",
       "      <th></th>\n",
       "      <th>V</th>\n",
       "      <th>T</th>\n",
       "      <th>CA</th>\n",
       "      <th>X</th>\n",
       "      <th>k</th>\n",
       "      <th>r</th>\n",
       "      <th>CB</th>\n",
       "      <th>CC</th>\n",
       "    </tr>\n",
       "  </thead>\n",
       "  <tbody>\n",
       "    <tr>\n",
       "      <th>0</th>\n",
       "      <td>0.5</td>\n",
       "      <td>439.193260</td>\n",
       "      <td>0.040529</td>\n",
       "      <td>0.010952</td>\n",
       "      <td>133.667587</td>\n",
       "      <td>0.219559</td>\n",
       "      <td>0.001235</td>\n",
       "      <td>0.001235</td>\n",
       "    </tr>\n",
       "    <tr>\n",
       "      <th>1</th>\n",
       "      <td>1.0</td>\n",
       "      <td>440.389365</td>\n",
       "      <td>0.039333</td>\n",
       "      <td>0.021930</td>\n",
       "      <td>142.252222</td>\n",
       "      <td>0.220074</td>\n",
       "      <td>0.002431</td>\n",
       "      <td>0.002431</td>\n",
       "    </tr>\n",
       "    <tr>\n",
       "      <th>2</th>\n",
       "      <td>1.5</td>\n",
       "      <td>441.588274</td>\n",
       "      <td>0.038175</td>\n",
       "      <td>0.032933</td>\n",
       "      <td>151.359057</td>\n",
       "      <td>0.220576</td>\n",
       "      <td>0.003589</td>\n",
       "      <td>0.003589</td>\n",
       "    </tr>\n",
       "    <tr>\n",
       "      <th>3</th>\n",
       "      <td>2.0</td>\n",
       "      <td>442.789921</td>\n",
       "      <td>0.037053</td>\n",
       "      <td>0.043962</td>\n",
       "      <td>161.017416</td>\n",
       "      <td>0.221062</td>\n",
       "      <td>0.004711</td>\n",
       "      <td>0.004711</td>\n",
       "    </tr>\n",
       "    <tr>\n",
       "      <th>4</th>\n",
       "      <td>2.5</td>\n",
       "      <td>443.994213</td>\n",
       "      <td>0.035966</td>\n",
       "      <td>0.055015</td>\n",
       "      <td>171.257879</td>\n",
       "      <td>0.221527</td>\n",
       "      <td>0.005798</td>\n",
       "      <td>0.005798</td>\n",
       "    </tr>\n",
       "    <tr>\n",
       "      <th>...</th>\n",
       "      <td>...</td>\n",
       "      <td>...</td>\n",
       "      <td>...</td>\n",
       "      <td>...</td>\n",
       "      <td>...</td>\n",
       "      <td>...</td>\n",
       "      <td>...</td>\n",
       "      <td>...</td>\n",
       "    </tr>\n",
       "    <tr>\n",
       "      <th>196</th>\n",
       "      <td>98.5</td>\n",
       "      <td>538.751566</td>\n",
       "      <td>0.001071</td>\n",
       "      <td>0.924706</td>\n",
       "      <td>9232.388474</td>\n",
       "      <td>0.010590</td>\n",
       "      <td>0.040693</td>\n",
       "      <td>0.040693</td>\n",
       "    </tr>\n",
       "    <tr>\n",
       "      <th>197</th>\n",
       "      <td>99.0</td>\n",
       "      <td>538.809257</td>\n",
       "      <td>0.001063</td>\n",
       "      <td>0.925236</td>\n",
       "      <td>9250.875176</td>\n",
       "      <td>0.010453</td>\n",
       "      <td>0.040701</td>\n",
       "      <td>0.040701</td>\n",
       "    </tr>\n",
       "    <tr>\n",
       "      <th>198</th>\n",
       "      <td>99.5</td>\n",
       "      <td>538.866202</td>\n",
       "      <td>0.001055</td>\n",
       "      <td>0.925758</td>\n",
       "      <td>9269.155638</td>\n",
       "      <td>0.010319</td>\n",
       "      <td>0.040709</td>\n",
       "      <td>0.040709</td>\n",
       "    </tr>\n",
       "    <tr>\n",
       "      <th>199</th>\n",
       "      <td>100.0</td>\n",
       "      <td>538.922416</td>\n",
       "      <td>0.001047</td>\n",
       "      <td>0.926274</td>\n",
       "      <td>9287.232991</td>\n",
       "      <td>0.010187</td>\n",
       "      <td>0.040717</td>\n",
       "      <td>0.040717</td>\n",
       "    </tr>\n",
       "    <tr>\n",
       "      <th>200</th>\n",
       "      <td>100.5</td>\n",
       "      <td>538.977913</td>\n",
       "      <td>0.001040</td>\n",
       "      <td>0.926784</td>\n",
       "      <td>9305.110311</td>\n",
       "      <td>0.010058</td>\n",
       "      <td>0.040724</td>\n",
       "      <td>0.040724</td>\n",
       "    </tr>\n",
       "  </tbody>\n",
       "</table>\n",
       "<p>201 rows × 8 columns</p>\n",
       "</div>"
      ],
      "text/plain": [
       "         V           T        CA         X            k         r        CB   \n",
       "0      0.5  439.193260  0.040529  0.010952   133.667587  0.219559  0.001235  \\\n",
       "1      1.0  440.389365  0.039333  0.021930   142.252222  0.220074  0.002431   \n",
       "2      1.5  441.588274  0.038175  0.032933   151.359057  0.220576  0.003589   \n",
       "3      2.0  442.789921  0.037053  0.043962   161.017416  0.221062  0.004711   \n",
       "4      2.5  443.994213  0.035966  0.055015   171.257879  0.221527  0.005798   \n",
       "..     ...         ...       ...       ...          ...       ...       ...   \n",
       "196   98.5  538.751566  0.001071  0.924706  9232.388474  0.010590  0.040693   \n",
       "197   99.0  538.809257  0.001063  0.925236  9250.875176  0.010453  0.040701   \n",
       "198   99.5  538.866202  0.001055  0.925758  9269.155638  0.010319  0.040709   \n",
       "199  100.0  538.922416  0.001047  0.926274  9287.232991  0.010187  0.040717   \n",
       "200  100.5  538.977913  0.001040  0.926784  9305.110311  0.010058  0.040724   \n",
       "\n",
       "           CC  \n",
       "0    0.001235  \n",
       "1    0.002431  \n",
       "2    0.003589  \n",
       "3    0.004711  \n",
       "4    0.005798  \n",
       "..        ...  \n",
       "196  0.040693  \n",
       "197  0.040701  \n",
       "198  0.040709  \n",
       "199  0.040717  \n",
       "200  0.040724  \n",
       "\n",
       "[201 rows x 8 columns]"
      ]
     },
     "execution_count": 6,
     "metadata": {},
     "output_type": "execute_result"
    }
   ],
   "source": [
    "def adiabatic_pfr(deltaV, finalV, FA0, FI0, Pressure, T0, E, deltaH, sum_reactant_coefficients, Cp, eps, A, R1=1.987, R2=0.082):\n",
    "    \"\"\"\n",
    "    This function is intended to be used for an adiabatic PFR at steady state with constant pressure\n",
    "        and a gas phase reaction of the form A --> B + 2C\n",
    "        No products are present at the start of the reaction\n",
    "    \n",
    "    deltaV is the volume step size in liters (L) that is needed in the discretization of the pfr design equation\n",
    "    finalV is the volume in liters (L) where the calculations stop. The calculations continue until finalV is reached\n",
    "    FA0 is the inlet flow rate of a in moles per minute (mol/min)\n",
    "    FI0 is the inlet flow rate of inerts in moles per minute (mol/min)\n",
    "    Pressure is the pressure of the reactor (atm)\n",
    "    T0 is the inlet stream temperature (K)\n",
    "    E is the activation energy in kilocalories per mole (kcal/mol)\n",
    "    deltaH is the enthalpy change of the reaction in calories per mol (cal/mol)\n",
    "    sum_reactant_coefficients is the sum of the reactant stoichiometric coefficients inluding inerts\n",
    "        the inert coefficient seems to be determined by FI0/FA0\n",
    "    Cp is the specific heat in calories per mole Kelvin (cal/(mol*K))\n",
    "    eps is the mole change which is equal to (number_of_products - number_of_reactants)/(number_of_reactants)\n",
    "    R1 is the ideal gas constant in calories per mole Kelvin (cal/(mol*K))\n",
    "    R2 is the ideal gas constant in atmosphere liters per mole Kelvin ((atm*L)/(mol*K))\n",
    "    A is the pre-exponential factor in the Arrhenius equation\n",
    "    \"\"\"\n",
    "    \n",
    "    #Going to keep track of the important values in the discretization with a two dimensional list... \n",
    "    #...this should probably be changed\n",
    "    \n",
    "    \n",
    "    \n",
    "    '''initialize pfr list (need to make this more efficient if time permits. numpy array?)'''\n",
    "    pfr_list = []\n",
    "    \n",
    "    \n",
    "    '''Initial and known values are set below'''\n",
    "    V = 0\n",
    "    T = T0\n",
    "    #consider requiring arguments of reactant and product stoichiometric coefficients (maybe as a list?)\n",
    "    #inert coefficient can be determined by FI0/FA0 if the A's coefficient is set to 1 (does this always hold?)\n",
    "    CA0 = Pressure/(R2*T0)/sum_reactant_coefficients\n",
    "    CA = CA0\n",
    "    X = 0                          #X represents the conversion of A (X=(CA0-CA)/CA0 if epsilon=0)\n",
    "                                   #In this case, the volume of the plug changes so X is kept track\n",
    "                                   #of throughout the discretization.\n",
    "    k = A*math.exp(-E*1000/(R1*T))\n",
    "    r = k*CA**2\n",
    "#     r = ## SS MIKI Rate of production at \n",
    "    \n",
    "    CB = CA0-CA\n",
    "    CC = CB\n",
    "    \n",
    "#     '''initial values are added into the list'''\n",
    "#     temp_list = [V, T, CA, X, k, r, CB, CC]\n",
    "#     pfr_list.append(temp_list)'''starting with the initial values, the properties at each sequential volume step can be calculated and \n",
    "#     added to the array until the final volume (finalV) is passed by one deltaV step'''\n",
    "    while V <= finalV:\n",
    "        V += deltaV\n",
    "        X += A*math.exp(-E/((R1/1000)*T))*CA**2*deltaV/FA0\n",
    "        T = T0-(deltaH/Cp)*X\n",
    "        CA = CA0*(1-X)/(1+eps*X)*(T0/T)\n",
    "        k=A*math.exp(-E*1000/(R1*T))\n",
    "        r=k*CA**2\n",
    "        CB = CA0-CA  #CB is the concentration of B\n",
    "        CC = CB  #CC is the concentration of C\n",
    "        temp_list = [V, T, CA, X, k, r, CB, CC]\n",
    "        pfr_list.append(temp_list)\n",
    "    return pfr_list\n",
    "df = pd.DataFrame(adiabatic_pfr(0.5, 100, 10, 10, 3, 438, 20, -7300, 2, 67, 3/2,1.2*10**12, R1=1.987, R2=0.082))\n",
    "df.columns = [\"V\", \"T\", \"CA\", \"X\", \"k\", \"r\", \"CB\", \"CC\"]\n",
    "df"
   ]
  },
  {
   "cell_type": "code",
   "execution_count": 7,
   "id": "ebe91c8c",
   "metadata": {},
   "outputs": [
    {
     "data": {
      "text/plain": [
       "Text(0.5, 1.0, 'PFR')"
      ]
     },
     "execution_count": 7,
     "metadata": {},
     "output_type": "execute_result"
    },
    {
     "data": {
      "image/png": "[encoded data removed]",
      "text/plain": [
       "<Figure size 640x480 with 1 Axes>"
      ]
     },
     "metadata": {},
     "output_type": "display_data"
    }
   ],
   "source": [
    "#Sample code for the above graphs\n",
    "plt.plot(df.V, df.r)\n",
    "plt.ylabel('rate of reaction')\n",
    "plt.xlabel('Volume')\n",
    "plt.title('PFR')"
   ]
  },
  {
   "cell_type": "code",
   "execution_count": 8,
   "id": "61a02166",
   "metadata": {},
   "outputs": [
    {
     "name": "stdout",
     "output_type": "stream",
     "text": [
      "Mass is conserved. \n",
      "\n"
     ]
    }
   ],
   "source": [
    "from main import *\n",
    "MKM = MKModel('Atomic.csv','Stoich.csv','Param.csv') #Defining the Model\n",
    "MKM.set_initial_coverages(init=[0,0,0,1]) #Sets the initial coverages of all the surface species (Note: Empty Sites are calculated Automatically. If no option is entered, default initial coverage is zero surface species coverage on the surface)\n",
    "MKM.set_rxnconditions() #Sets the Pressures and Temperature as defined from the Param file. (Note: One can also enter them manually - See main.py for syntax)\n",
    "MKM.set_limits_of_integration(Ti=0,Tf=1e5)#Sets the reange of time used in integration\n",
    "MKM.rtol = 1e-8\n",
    "MKM.abstol = 1e-8"
   ]
  },
  {
   "cell_type": "code",
   "execution_count": 9,
   "id": "5c033dc7",
   "metadata": {},
   "outputs": [],
   "source": [
    "def sol(V,N):\n",
    "    \n",
    "    NA = N[0] #Theta_CO \n",
    "    \n",
    "    Fa0 = 0.1\n",
    "    sum_reactant_coefficients = 2\n",
    "    R1 = 1.987\n",
    "    R2 = 0.082\n",
    "    Na0 = 0.01\n",
    "    \n",
    "    \n",
    "    T0 = 438\n",
    "    E = 20\n",
    "    deltaH = -7300\n",
    "    Cp = 67    \n",
    "#     A = 1.2*10**19    \n",
    "    T = T0-(deltaH/Cp)*((Na0 - N)/Na0)\n",
    "    A = [100,100,100,100,100,100,100,100]\n",
    "    \n",
    "#     MKM.k[0] = A*math.exp(-E*1000/(R1*T))\n",
    "    for i in np.arange(len(MKM.k)-1):\n",
    "        MKM.k[i] = A[i]*math.exp(-E*1000/(R1*T))\n",
    "    \n",
    "    \n",
    "#     ra = MKM.get_SS_rates_production()[0] \n",
    "    ra = MKM.k[0] * (N/V)**2\n",
    "    Ca0 = MKM.P[0] /(R2*T0)/sum_reactant_coefficients\n",
    "    D = ((-ra * Ca0 * V)/(Fa0)) + N/V\n",
    "    \n",
    "    D = np.transpose(D)\n",
    "    return D"
   ]
  },
  {
   "cell_type": "code",
   "execution_count": 10,
   "id": "337b8880",
   "metadata": {},
   "outputs": [],
   "source": [
    "from scipy.integrate import solve_ivp\n",
    "import matplotlib.pyplot as plt\n",
    "import numpy as np\n",
    "import pandas as pd\n",
    "from scipy import optimize\n",
    "\n",
    "def Kinetics(init,Vol,Teval=None):\n",
    "    V_span = (Vol[0], Vol[-1])\n",
    "    solve = solve_ivp(sol,V_span,init,method='BDF', t_eval=Teval, rtol = 1E-5,atol = 1E-5)\n",
    "    solv = np.transpose(solve.y)\n",
    "    vols = np.transpose(solve.t)\n",
    "    #print(k)\n",
    "    return vols, solv"
   ]
  },
  {
   "cell_type": "code",
   "execution_count": 11,
   "id": "43545f8f",
   "metadata": {},
   "outputs": [
    {
     "name": "stdout",
     "output_type": "stream",
     "text": [
      "CPU times: user 60.5 ms, sys: 1.69 ms, total: 62.1 ms\n",
      "Wall time: 62.9 ms\n"
     ]
    }
   ],
   "source": [
    "%%time\n",
    "Vol =np.linspace(0.01, 100, num=20)\n",
    "init = [0.1]\n",
    "Vols , Soln = Kinetics(init,Vol)"
   ]
  },
  {
   "cell_type": "code",
   "execution_count": 14,
   "id": "f9fd947b",
   "metadata": {},
   "outputs": [
    {
     "data": {
      "image/png": "[encoded data removed]",
      "text/plain": [
       "<Figure size 640x480 with 1 Axes>"
      ]
     },
     "metadata": {},
     "output_type": "display_data"
    }
   ],
   "source": [
    "plt.figure(1)\n",
    "plt.plot(Vols, Soln,'r-', label=r'$N_a :- CO$')\n",
    "plt.xlabel('Volume')\n",
    "plt.ylabel(\"NA, $mol$\")\n",
    "plt.legend(fontsize=15, loc='best')\n",
    "plt.show()\n"
   ]
  },
  {
   "cell_type": "code",
   "execution_count": 16,
   "id": "dffe2efe",
   "metadata": {},
   "outputs": [
    {
     "name": "stdout",
     "output_type": "stream",
     "text": [
      "[2.]\n"
     ]
    }
   ],
   "source": [
    "import scipy.optimize\n",
    "\n",
    "def f(x):\n",
    "  return x**2 - 4\n",
    "\n",
    "x0 = [1]\n",
    "\n",
    "solution = scipy.optimize.fsolve(f, x0)\n",
    "\n",
    "print(solution)"
   ]
  },
  {
   "cell_type": "code",
   "execution_count": null,
   "id": "1e38642f",
   "metadata": {},
   "outputs": [],
   "source": []
  }
 ],
 "metadata": {
  "kernelspec": {
   "display_name": "Python 3 (ipykernel)",
   "language": "python",
   "name": "python3"
  },
  "language_info": {
   "codemirror_mode": {
    "name": "ipython",
    "version": 3
   },
   "file_extension": ".py",
   "mimetype": "text/x-python",
   "name": "python",
   "nbconvert_exporter": "python",
   "pygments_lexer": "ipython3",
   "version": "3.9.7"
  }
 },
 "nbformat": 4,
 "nbformat_minor": 5
}
