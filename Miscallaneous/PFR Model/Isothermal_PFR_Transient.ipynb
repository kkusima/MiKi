{
 "cells": [
  {
   "cell_type": "markdown",
   "id": "1eef83f0",
   "metadata": {},
   "source": [
    "# KINETICS\n",
    "***\n",
    "$\\mathbf{\\text{Micro Kinetic Model for (a Simple 4-Step Mechanism) CO Oxidation}}:$<br>\n",
    "#### [Link to Relevant Paper](https://pubs.acs.org/doi/10.1021/cs500377j) \n",
    "\n",
    "Rxn 1:&emsp;   \n",
    "&emsp;&emsp;&emsp;&emsp;&emsp;&emsp;&emsp;&emsp; $ CO(g) + * \\rightleftharpoons CO^{*} $  <br> \n",
    "\n",
    "Rxn 2:&emsp;   \n",
    "&emsp;&emsp;&emsp;&emsp;&emsp;&emsp;&emsp;&emsp;$ {O_2}(g) + * \\rightleftharpoons {O_2}^{*} $  <br> \n",
    "\n",
    "Rxn 3:&emsp;   \n",
    "&emsp;&emsp;&emsp;&emsp;&emsp;&emsp;&emsp;&emsp;$ {O_2}^* + * \\rightleftharpoons 2{O}^* $  <br> \n",
    "\n",
    "Rxn 4:&emsp;   \n",
    "&emsp;&emsp;&emsp;&emsp;&emsp;&emsp;&emsp;&emsp;$ {CO}^{*} + {O}^{*} \\rightleftharpoons {{CO}_2}^* + * $  <br> \n",
    "\n",
    "Rxn 5:&emsp;  \n",
    "&emsp;&emsp;&emsp;&emsp;&emsp;&emsp;&emsp;&emsp;$ {CO}^{*} + {O_2}^{*} \\rightleftharpoons {{CO}_2}^* + O^* $  <br> \n",
    "\n",
    "Rxn 6:&emsp;  \n",
    "&emsp;&emsp;&emsp;&emsp;&emsp;&emsp;&emsp;&emsp;$ {CO_2}^{*} \\rightleftharpoons {{CO}_2}(g) + * $  <br> \n",
    "\n",
    "---------------------------------\n",
    "Rxn 7:&emsp;  \n",
    "&emsp;&emsp;&emsp;&emsp;&emsp;&emsp;&emsp;&emsp;$ {NO}{(g)} + *\\rightleftharpoons {{NO}^*} $  <br> \n",
    "\n",
    "Rxn 8:&emsp;  \n",
    "&emsp;&emsp;&emsp;&emsp;&emsp;&emsp;&emsp;&emsp;$ {NO}^*  + {O}^* \\rightleftharpoons {{{NO}_2}^*} + *$  <br> \n",
    "\n",
    "Rxn 9:&emsp;  \n",
    "&emsp;&emsp;&emsp;&emsp;&emsp;&emsp;&emsp;&emsp;$ {NO}^*  + {O_2}^* \\rightleftharpoons {{{NO}_2}^*} + O^*$  <br> \n",
    "\n",
    "Rxn 10:&emsp;  \n",
    "&emsp;&emsp;&emsp;&emsp;&emsp;&emsp;&emsp;&emsp;$ {{{NO}_2}^*} + *\\rightleftharpoons {NO}{(g)} + * $  <br> \n",
    "\n",
    "---------------------------------\n",
    "Rxn 11:&emsp;  \n",
    "&emsp;&emsp;&emsp;&emsp;&emsp;&emsp;&emsp;&emsp;$ {{{H_2}O}(g)} + *\\rightleftharpoons {{{H_2}O}^*}$  <br> \n",
    "\n",
    "Rxn 12:&emsp;  \n",
    "&emsp;&emsp;&emsp;&emsp;&emsp;&emsp;&emsp;&emsp;$ {{{H_2}O}^*} + *\\rightleftharpoons {H}^* + {OH}^* $  <br> \n",
    "\n",
    "Rxn 13:&emsp;  \n",
    "&emsp;&emsp;&emsp;&emsp;&emsp;&emsp;&emsp;&emsp;$ {CO}^* + {OH}^* \\rightleftharpoons {COOH}^* + * $  <br> \n",
    "\n",
    "Rxn 14:&emsp;  \n",
    "&emsp;&emsp;&emsp;&emsp;&emsp;&emsp;&emsp;&emsp;$ {COOH}^* + *\\rightleftharpoons {CO_2}^* + {H}^* $  <br> \n",
    "\n",
    "Rxn 15:&emsp;  \n",
    "&emsp;&emsp;&emsp;&emsp;&emsp;&emsp;&emsp;&emsp;$ 2{H^*} \\rightleftharpoons {H_2}^* + * $  <br> \n",
    "\n",
    "Rxn 16:&emsp;  \n",
    "&emsp;&emsp;&emsp;&emsp;&emsp;&emsp;&emsp;&emsp;$ {H_2}^* \\rightleftharpoons {H_2}(g) + * $  <br> \n",
    "\n",
    "---------------------------------\n",
    "Rxn 17:&emsp;  \n",
    "&emsp;&emsp;&emsp;&emsp;&emsp;&emsp;&emsp;&emsp;$ {O}^* + {H}^*\\rightleftharpoons {OH}^* + * $  <br> \n",
    "\n",
    "Rxn 18:&emsp;  \n",
    "&emsp;&emsp;&emsp;&emsp;&emsp;&emsp;&emsp;&emsp;$ 2{OH}^*  \\rightleftharpoons {{H_2}O}^* + {O}^* $  <br> \n"
   ]
  },
  {
   "cell_type": "markdown",
   "id": "e35a2746",
   "metadata": {},
   "source": [
    "\n",
    "***\n",
    "$\\mathbf{\\text{Modelling}}:$<br>\n",
    "***\n",
    "${{k_i}^j= \\textrm{Rate constant/coefficient for reaction i,}} \\\\  \\hspace{0.5cm} \\textrm{for j = {f,r} ; where f = forward reaction and r  = the reverse reaction} \\\\ r_i = \\textrm{Rate of reaction for reaction i}$\n",
    "\n",
    "${\\theta_m = \\textrm{Surface Coverage of species m}} \\\\ \\sum_{m=1}^{N} \\theta_{m} = 1 \\\\ \\hspace{1.3cm} =\n",
    "\\theta_{CO} + \\theta_{O_2} + \\theta_{O} + \\theta_{*}$\n",
    "\n",
    "\n",
    "### The Stoichiometric Matrix (A):\n",
    "\n",
    "\\begin{array}{|c|c|c|c|c|c|c|c|c|c|c|c|c|c|} \\hline\n",
    "r\\S & P_{CO} & P_{O2} & P_{CO2} & P_{NO} & P_{NO2} & P_{H2O} & P_{H2} & \\theta_{CO} & \\theta_{O} & \\theta_{O2} & \\theta_{CO2} & \\theta_{NO} & \\theta_{NO2} & \\theta_{H2O} & \\theta_H & \\theta_{OH} & \\theta_{COOH} & \\theta_{H2} & \\theta_* \\\\\\hline\n",
    "r1  & -1   & 0    & 0     & 0    & 0     & 0     & 0    & 1        & 0       & 0        & 0         & 0        & 0         & 0         & 0       & 0        & 0          & 0        & -1      \\\\\\hline\n",
    "r2  & 0    & -1   & 0     & 0    & 0     & 0     & 0    & 0        & 0       & 1        & 0         & 0        & 0         & 0         & 0       & 0        & 0          & 0        & -1      \\\\\\hline\n",
    "r3  & 0    & 0    & 0     & 0    & 0     & 0     & 0    & 0        & 2       & -1       & 0         & 0        & 0         & 0         & 0       & 0        & 0          & 0        & -1      \\\\\\hline\n",
    "r4  & 0    & 0    & 0     & 0    & 0     & 0     & 0    & -1       & -1      & 0        & 1         & 0        & 0         & 0         & 0       & 0        & 0          & 0        & 1       \\\\\\hline\n",
    "r5  & 0    & 0    & 0     & 0    & 0     & 0     & 0    & -1       & 1       & -1       & 1         & 0        & 0         & 0         & 0       & 0        & 0          & 0        & 0       \\\\\\hline\n",
    "r6  & 0    & 0    & 1     & 0    & 0     & 0     & 0    & 0        & 0       & 0        & -1        & 0        & 0         & 0         & 0       & 0        & 0          & 0        & 1       \\\\\\hline\n",
    "r7  & 0    & 0    & 0     & -1   & 0     & 0     & 0    & 0        & 0       & 0        & 0         & 1        & 0         & 0         & 0       & 0        & 0          & 0        & -1      \\\\\\hline\n",
    "r8  & 0    & 0    & 0     & 0    & 0     & 0     & 0    & 0        & -1      & 0        & 0         & -1       & 1         & 0         & 0       & 0        & 0          & 0        & 1       \\\\\\hline\n",
    "r9  & 0    & 0    & 0     & 0    & 0     & 0     & 0    & 0        & 1       & -1       & 0         & -1       & 1         & 0         & 0       & 0        & 0          & 0        & 0       \\\\\\hline\n",
    "r10 & 0    & 0    & 0     & 0    & 1     & 0     & 0    & 0        & 0       & 0        & 0         & 0        & -1        & 0         & 0       & 0        & 0          & 0        & 1       \\\\\\hline\n",
    "r11 & 0    & 0    & 0     & 0    & 0     & -1    & 0    & 0        & 0       & 0        & 0         & 0        & 0         & 1         & 0       & 0        & 0          & 0        & -1      \\\\\\hline\n",
    "r12 & 0    & 0    & 0     & 0    & 0     & 0     & 0    & 0        & 0       & 0        & 0         & 0        & 0         & -1        & 1       & 1        & 0          & 0        & -1      \\\\\\hline\n",
    "r13 & 0    & 0    & 0     & 0    & 0     & 0     & 0    & -1       & 0       & 0        & 0         & 0        & 0         & 0         & 0       & -1       & 1          & 0        & 1       \\\\\\hline\n",
    "r14 & 0    & 0    & 0     & 0    & 0     & 0     & 0    & 0        & 0       & 0        & 1         & 0        & 0         & 0         & 1       & 0        & -1         & 0        & -1      \\\\\\hline\n",
    "r15 & 0    & 0    & 0     & 0    & 0     & 0     & 0    & 0        & 0       & 0        & 0         & 0        & 0         & 0         & -2      & 0        & 0          & 1        & 1       \\\\\\hline\n",
    "r16 & 0    & 0    & 0     & 0    & 0     & 0     & 1    & 0        & 0       & 0        & 0         & 0        & 0         & 0         & 0       & 0        & 0          & -1       & 1       \\\\\\hline\n",
    "r17 & 0    & 0    & 0     & 0    & 0     & 0     & 0    & 0        & -1      & 0        & 0         & 0        & 0         & 0         & -1      & 1        & 0          & 0        & 1       \\\\\\hline\n",
    "r18 & 0    & 0    & 0     & 0    & 0     & 0     & 0    & 0        & 1       & 0        & 0         & 0        & 0         & 1         & 0       & -2       & 0          & 0        & 0 \\\\\\hline\n",
    "\\end{array}\n",
    "\n",
    "\n",
    "### The Atomic/Species Matrix ($\\nu$):\n",
    "\\begin{array}{|c|c|c|c|c|c|c|c|c|c|c|c|c|c|} \\hline\n",
    "A\\S & CO & O_2 & CO_2 & NO & NO_2 & H_2O & H_2 & CO^* & O^* & O_2^* & CO2^* & NO^* & NO_2^* & H_2O^* & H^* & OH^* & COOH^* & H_2^* & ^* \\\\\\hline\n",
    "C   & 1  & 0  & 1   & 0  & 0   & 0   & 0  & 1   & 0  & 0   & 1    & 0   & 0    & 0    & 0  & 0   & 1     & 0   & 0 \\\\\\hline\n",
    "O   & 1  & 2  & 2   & 1  & 2   & 1   & 0  & 1   & 1  & 2   & 2    & 1   & 2    & 1    & 0  & 1   & 2     & 0   & 0 \\\\\\hline\n",
    "N   & 0  & 0  & 0   & 1  & 1   & 0   & 0  & 0   & 0  & 0   & 0    & 1   & 1    & 0    & 0  & 0   & 0     & 0   & 0 \\\\\\hline\n",
    "H   & 0  & 0  & 0   & 0  & 0   & 2   & 2  & 0   & 0  & 0   & 0    & 0   & 0    & 2    & 1  & 1   & 1     & 2   & 0 \\\\\\hline\n",
    "*   & 0  & 0  & 0   & 0  & 0   & 0   & 0  & 1   & 1  & 1   & 1    & 1   & 1    & 1    & 1  & 1   & 1     & 1   & 1 \\\\\\hline  \n",
    "\\end{array}\n",
    "\n",
    "\n",
    "Note:\n",
    "\n",
    "- For Mass to be conserved:\n",
    "$$\\mathbf{A}\\mathbf{\\nu = 0}$$\n",
    "\n",
    "$i =$ species\n",
    "\n",
    "$j =$ reaction\n",
    "\n",
    "- To find the Rate of reaction of reaction j:\n",
    "\n",
    "$$ r_j = k_{j,f} \\prod_{i_f} P_{i,f} \\theta_{i,f}^{A_{i,j}} - k_{j,r} \\prod_{i_r} P_{i,r} \\theta_{i,r}^{A_{i,j}}  $$\n",
    "\n",
    "- To find the Rate of production of species i:\n",
    "$$R_{\\theta_i}=\\frac{d\\theta_i}{dt} = \\sum_j A_{j,i} \\cdot r_j $$\n",
    "\n"
   ]
  },
  {
   "cell_type": "code",
   "execution_count": null,
   "id": "7275e806",
   "metadata": {},
   "outputs": [],
   "source": [
    "import numpy as np\n",
    "import pandas as pd\n",
    "import math\n",
    "import matplotlib.pyplot as plt"
   ]
  },
  {
   "cell_type": "code",
   "execution_count": null,
   "id": "9db114d6",
   "metadata": {},
   "outputs": [],
   "source": [
    "from main import *\n",
    "%matplotlib notebook"
   ]
  },
  {
   "cell_type": "code",
   "execution_count": null,
   "id": "f8df32fc",
   "metadata": {},
   "outputs": [],
   "source": [
    "MKM1 = MKModel('Atomic.csv','Stoich.csv','Param.csv') #Defining the Model"
   ]
  },
  {
   "cell_type": "code",
   "execution_count": null,
   "id": "8f59304b",
   "metadata": {},
   "outputs": [],
   "source": [
    "MKM1.All_species"
   ]
  },
  {
   "cell_type": "code",
   "execution_count": null,
   "id": "1a5fd4d0",
   "metadata": {},
   "outputs": [],
   "source": [
    "MKM1.Gas_species"
   ]
  },
  {
   "cell_type": "code",
   "execution_count": null,
   "id": "1527cff9",
   "metadata": {},
   "outputs": [],
   "source": [
    "MKM1.Surface_species"
   ]
  },
  {
   "cell_type": "code",
   "execution_count": null,
   "id": "a34799f7",
   "metadata": {},
   "outputs": [],
   "source": [
    "MKM1.Reactions"
   ]
  },
  {
   "cell_type": "code",
   "execution_count": null,
   "id": "b4b8adf8",
   "metadata": {},
   "outputs": [],
   "source": [
    "MKM1.Stoich"
   ]
  },
  {
   "cell_type": "code",
   "execution_count": null,
   "id": "61dcc904",
   "metadata": {},
   "outputs": [],
   "source": [
    "MKM1.Atomic"
   ]
  },
  {
   "cell_type": "code",
   "execution_count": null,
   "id": "15414b7e",
   "metadata": {},
   "outputs": [],
   "source": [
    "MKM1.set_initial_coverages() #Sets the initial coverages of all the surface species (Note: Empty Sites are calculated Automatically. If no option is entered, default initial coverage is zero surface species coverage on the surface)\n",
    "MKM1.set_rxnconditions() #Sets the Pressures and Temperature as defined from the Param file. (Note: One can also enter them manually - See main.py for syntax)\n",
    "MKM1.set_limits_of_integration(Ti=0,Tf=50)#Sets the reange of time used in integration"
   ]
  },
  {
   "cell_type": "code",
   "execution_count": null,
   "id": "1faef7e5",
   "metadata": {},
   "outputs": [],
   "source": [
    "# MKM1.Thermo_Constraint = 'ON'"
   ]
  },
  {
   "cell_type": "code",
   "execution_count": null,
   "id": "0283f004",
   "metadata": {},
   "outputs": [],
   "source": [
    "# MKM1.Stoichiometric_numbers"
   ]
  },
  {
   "cell_type": "markdown",
   "id": "2bf59212",
   "metadata": {},
   "source": [
    "# REACTOR MODELLING\n",
    "***"
   ]
  },
  {
   "cell_type": "code",
   "execution_count": null,
   "id": "457652ac",
   "metadata": {},
   "outputs": [],
   "source": [
    "from IPython.display import Image\n",
    "Image(url='https://upload.wikimedia.org/wikipedia/commons/thumb/3/3b/Pipe-PFR.svg/464px-Pipe-PFR.svg.png?20081128031804')"
   ]
  },
  {
   "cell_type": "code",
   "execution_count": null,
   "id": "0ba342a3",
   "metadata": {},
   "outputs": [],
   "source": [
    "Image(url='http://websites.umich.edu/~elements/asyLearn/bits/pfrfinal/lec1-9.gif')"
   ]
  },
  {
   "cell_type": "markdown",
   "id": "94bc4147",
   "metadata": {},
   "source": [
    "$$ \\left[ \\text{Rate of flow In} \\right] - \\left[ \\text{Rate of flow Out} \\right] + \\left[\\text{Rate of Generation}\\right]  = \\left[\\text{Rate of Accumulation}\\right] $$\n",
    "\n",
    "$$ F_{A0} - F_{A} + \\int_{0}^{V} r_A \\,dV = \\frac{dN_A}{dt} $$\n",
    "\n",
    "Note -> Assume Steady State:\n",
    "\n",
    "$$\\frac{dN_A}{dt} = 0 $$\n",
    "Therefore, \n",
    "$$F_{A0} - F_{A} + \\int_{0}^{V} r_A \\,dV = 0$$\n",
    "\n",
    "As a result,\n",
    "$$\\frac{dF_A}{dV} = r_A $$\n",
    "$$ \\vdots $$\n",
    "$$\\frac{dF_i}{dV} = r_i $$"
   ]
  },
  {
   "cell_type": "code",
   "execution_count": null,
   "id": "ac701e60",
   "metadata": {},
   "outputs": [],
   "source": [
    "#Calculating molecular weights (needed to convert ppm to mol/L)\n",
    "from ase import Atoms\n",
    "\n",
    "MM_array = []\n",
    "for i in np.arange(len(MKM1.Gas_species)):\n",
    "    f = Atoms(MKM1.Gas_species[i])  \n",
    "    MM_mass=sum(f.get_masses()) #g/mol\n",
    "    MM_array.append(MM_mass) \n",
    "    "
   ]
  },
  {
   "cell_type": "code",
   "execution_count": null,
   "id": "bc137d8b",
   "metadata": {},
   "outputs": [],
   "source": [
    "Inverse_MM = np.reciprocal(MM_array)    #mol/g"
   ]
  },
  {
   "cell_type": "code",
   "execution_count": null,
   "id": "70db2698",
   "metadata": {},
   "outputs": [],
   "source": [
    "MKM1.Gas_species"
   ]
  },
  {
   "cell_type": "code",
   "execution_count": null,
   "id": "471d62be",
   "metadata": {},
   "outputs": [],
   "source": [
    "#Reactor Info\n",
    "Total_Volume = 5.0  #L\n",
    "Total_Pressure = 1.0 #atm\n",
    "Total_Flowrate = 658137 *(1/3600) ## Total Volumetric Flowrate L/s (GHSV * Cat.Vol) * (Convertion to per s)\n",
    "Volume_Step = 0.05 #Optional\n",
    "Volume = np.arange(0, Total_Volume+Volume_Step, Volume_Step, dtype=float) #Volume array #Can be customized #mandatory\n",
    "\n",
    "\n",
    "#Catalyst Info\n",
    "Site_density = 5e-6 #moles of sites/gram of catalyst\n",
    "Catalyst_gram =  0.05 #grams\n",
    "#NA = 6.022e23 #Avogadro's number (no. of molecules in a mole)\n",
    "\n"
   ]
  },
  {
   "cell_type": "code",
   "execution_count": null,
   "id": "c9944397",
   "metadata": {},
   "outputs": [],
   "source": [
    "###############Feed:\n",
    "#Feed Input Type : Concentration _ppm\n",
    "Feed_ppm = [511,0 , 10190, 200, 0,0,0] #CASE 42 example #assume rest is inert if not balanced (i.e add up to 100%)\n",
    "\n",
    "Feed_conc = np.multiply(Feed_ppm ,1e-3 ,Inverse_MM )#Convert from ppm (mg/L) to mol/L\n",
    "#Feed Input Type : Concentration _mol/L ^Comment above\n",
    "#Feed_ppm = np.multiply(Feed_conc,MM_array,1000) #Convert from mol/L to ppm (mg/L)\n",
    "\n",
    "Feed_Mol_frac = np.multiply(Feed_ppm, 1e-6) #convert from ppm to mol frac\n",
    "Feed_Partial_Pressures = np.array(Feed_Mol_frac)  * Total_Pressure\n",
    "\n",
    "F_rate = Feed_Mol_frac * Total_Flowrate #Feed Flowrate\n",
    "\n",
    "Flow_array = np.empty((len(Volume),len(Feed_conc)))\n",
    "t_span = np.linspace(0,25)\n",
    "\n",
    "# MKM1.k = #Instantaneous temperature effect on k"
   ]
  },
  {
   "cell_type": "code",
   "execution_count": null,
   "id": "1e98f198",
   "metadata": {},
   "outputs": [],
   "source": [
    "N = 100     # number of points to discretize the reactor volume on\n",
    "\n",
    "Sp = len(Feed_conc) # No. of species\n",
    "init = np.zeros((Sp,N))    # Concentration in reactor at t = 0()\n",
    "for i in np.arange(Sp):\n",
    "    print(i)\n",
    "    init[i,0] = Feed_conc[i]         # concentration at entrance at time = 0\n",
    "\n",
    "Volume = list(np.linspace(0, Total_Volume, N)) # discretized volume elements\n",
    "Volume = np.array(Volume*Sp).reshape(Sp,-1).reshape(-1)\n",
    "tspan = np.linspace(0, 25)    # time span to integrate over\n",
    "\n",
    "Vol = Volume\n",
    "ExpNoCovg = len(MKM1.Stoich.iloc[0,len(MKM1.P)+1:])\n",
    "SS_covg_array = np.empty((len(Volume)+1,ExpNoCovg))\n",
    "ss_covg = np.append(np.zeros(ExpNoCovg-1),1)"
   ]
  },
  {
   "cell_type": "code",
   "execution_count": null,
   "id": "06bbc4ed",
   "metadata": {},
   "outputs": [],
   "source": [
    "def method_of_lines(C_array,t):\n",
    "    ##Rate of prodcution for all species \n",
    "    rates_prod = MKM1.get_ODEs(_,cov=ss_covg)[:Sp]\n",
    "    rates_prod = rates_prod * (Site_density*Catalyst_gram)\n",
    "    ss_covg = MKM1.get_SS_coverages(tf = 1e4)\n",
    "    \n",
    "    D = []\n",
    "    C_array = C_array.reshape(Sp,N)\n",
    "    Volume = Vol.reshape(Sp,N)\n",
    "    for i in np.arange(Sp):\n",
    "        d_i = -Total_Flowrate * np.diff(C_array[i,:]) / np.diff(Volume[i,:]) - rates_prod[i]\n",
    "        D.append(d_i)  \n",
    "    D = np.array(D)\n",
    "    D = D.reshape(-1)\n",
    "    return np.concatenate([[0]*Sp, #C0 is constant at entrance\n",
    "                            D])"
   ]
  },
  {
   "cell_type": "code",
   "execution_count": null,
   "id": "49654efc",
   "metadata": {},
   "outputs": [],
   "source": [
    "np.shape(tspan)"
   ]
  },
  {
   "cell_type": "code",
   "execution_count": null,
   "id": "1ef71457",
   "metadata": {},
   "outputs": [],
   "source": [
    "%%time\n",
    "from scipy.integrate import odeint\n",
    "\n",
    "init = init.reshape(-1)\n",
    "sol = odeint(method_of_lines, init, tspan) #time, Volumeinit = init.reshape(-1)"
   ]
  },
  {
   "cell_type": "code",
   "execution_count": null,
   "id": "ac773938",
   "metadata": {},
   "outputs": [],
   "source": [
    "sol = sol.reshape(len(tspan),Sp,N)"
   ]
  },
  {
   "cell_type": "code",
   "execution_count": null,
   "id": "331f7550",
   "metadata": {},
   "outputs": [],
   "source": [
    "import matplotlib.pyplot as plt\n",
    "plt.figure()\n",
    "plt.plot(tspan, sol[:,0,-1])\n",
    "plt.xlabel('time')\n",
    "plt.ylabel('$C_A$ at exit')\n",
    "# plt.savefig('images/transient-pfr-1.png')"
   ]
  },
  {
   "cell_type": "code",
   "execution_count": null,
   "id": "69591c0b",
   "metadata": {},
   "outputs": [],
   "source": [
    "Volume = Volume.reshape(Sp,N)\n",
    "plt.figure()\n",
    "import matplotlib.pyplot as plt\n",
    "plt.plot(Volume[1], sol[-1,0,:])\n",
    "plt.xlabel('Volume')\n",
    "plt.ylabel('$C_A$ at t=inf')"
   ]
  },
  {
   "cell_type": "code",
   "execution_count": null,
   "id": "9c4f098e",
   "metadata": {},
   "outputs": [],
   "source": [
    "sol[-1,0,:]"
   ]
  },
  {
   "cell_type": "code",
   "execution_count": null,
   "id": "7473bdff",
   "metadata": {},
   "outputs": [],
   "source": []
  },
  {
   "cell_type": "code",
   "execution_count": null,
   "id": "43edb461",
   "metadata": {},
   "outputs": [],
   "source": []
  },
  {
   "cell_type": "code",
   "execution_count": null,
   "id": "5ea3216d",
   "metadata": {},
   "outputs": [],
   "source": []
  },
  {
   "cell_type": "code",
   "execution_count": null,
   "id": "538c0a39",
   "metadata": {},
   "outputs": [],
   "source": []
  },
  {
   "cell_type": "code",
   "execution_count": null,
   "id": "959385f2",
   "metadata": {},
   "outputs": [],
   "source": []
  },
  {
   "cell_type": "code",
   "execution_count": null,
   "id": "14bda95e",
   "metadata": {},
   "outputs": [],
   "source": []
  },
  {
   "cell_type": "code",
   "execution_count": null,
   "id": "4d7df29e",
   "metadata": {},
   "outputs": [],
   "source": []
  }
 ],
 "metadata": {
  "kernelspec": {
   "display_name": "Python 3 (ipykernel)",
   "language": "python",
   "name": "python3"
  },
  "language_info": {
   "codemirror_mode": {
    "name": "ipython",
    "version": 3
   },
   "file_extension": ".py",
   "mimetype": "text/x-python",
   "name": "python",
   "nbconvert_exporter": "python",
   "pygments_lexer": "ipython3",
   "version": "3.9.7"
  }
 },
 "nbformat": 4,
 "nbformat_minor": 5
}
