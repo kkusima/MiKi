{
 "cells": [
  {
   "cell_type": "markdown",
   "id": "3918a92c",
   "metadata": {},
   "source": [
    "***\n",
    "$$\\mathbf{\\text{How to run jupyter notebook on a cluster}}$$<br>\n",
    "$\\mathbf{\\text{Date: 05/29/23}}$<br>\n",
    "***\n"
   ]
  },
  {
   "cell_type": "markdown",
   "id": "1907f341",
   "metadata": {},
   "source": [
    "## Step 1: Make sure jupyter-notebook is installed and in your system path so as to be recognized whenever we try running jupyter notebook on the server\n",
    "\n",
    "    1.1. Check it's installed:\n",
    "    \n",
    "        -> Eg., check that in your local file if it has been installed: /home/.local/bin\n",
    "        -> If not installed then install it using 'pip install jupyter notebook'\n",
    "\n",
    "    1.2. Setting the Path\n",
    "    \n",
    "        -> Open the source file. Eg: vim .cshrc\n",
    "        -> Set the path to the jupyter notebook program. Eg.: setenv PATH ${PATH}:/home/<username>/.local/bin\n",
    "        -> Run source file: source .cshrc\n",
    "        \n",
    "## Step 2: Create and run batch file [bash_file].sh inside the same directory where you wish to run/open the jupyter notebook. The file should include the following:"
   ]
  },
  {
   "cell_type": "raw",
   "id": "950aca35",
   "metadata": {},
   "source": [
    "#!/bin/bash\n",
    "#BATCH -o jupyter-notebook-%j.log\n",
    "#SBATCH -N 1\n",
    "#SBATCH --ntasks-per-node=16\n",
    "#SBATCH --mem=40G\n",
    "#SBATCH --time=100:00:00\n",
    "#SBATCH --job-name=jupyter-notebook\n",
    "#SBATCH --mail-type=ALL\n",
    "#SBATCH --mail-user=<username>@uh.edu\n",
    "\n",
    "# get tunneling info\n",
    "XDG_RUNTIME_DIR=\"\"\n",
    "node=$(hostname -s)\n",
    "user=$(whoami)\n",
    "cluster=\"<cluster> \" #This can be carya,juniper,sabine,opuntia,sabine\n",
    "port=<port_number> #This can be any 4 digit number (eg 8889). Note that this is important since the user can not reuse the same port number on multiple clusters\n",
    "# print tunneling instructions jupyter-log \n",
    "echo -e \"\n",
    "\n",
    "Command to create ssh tunnel:\n",
    "ssh -N -f -L ${port}:${node}:${port} ${user}@${cluster}.rcdc.uh.edu\n",
    "\n",
    "Use a Browser on your local machine to go to:\n",
    "localhost:${port}  (prefix w/ https:// if using password) \n",
    "token will show up shortly\n",
    "\"\n",
    "# load modules or conda environments here if needed\n",
    "module load python/3.9\n",
    "# Run Jupyter\n",
    "jupyter notebook --no-browser --port=${port} --ip=${node}"
   ]
  },
  {
   "cell_type": "markdown",
   "id": "21e48424",
   "metadata": {},
   "source": [
    "In the file above make sure to update:\n",
    "\n",
    "    - < username > #Your login username. Eg. klkusima\n",
    "    - < cluster >  #Name of your cluster. Eg. carya\n",
    "    - < port_number >  #The desired port number. Eg. 8889"
   ]
  },
  {
   "cell_type": "markdown",
   "id": "436ad017",
   "metadata": {},
   "source": [
    "## Step 3:  Submit the batch file sbatch <bash_file>.sh\n",
    "\n",
    "    - Note: The batch file should be save and ran from the folder/directory that contains your desired jupyter notebook file\n",
    "    - Once running that this will start the time (as specified in the wall clock) that the jupyter files can run. The jupyter notebook won't open if the job is pending and/or if it hasn't started yet.\n",
    "    - A slurm-<jobID>.out file will be created that has the link to the website and the corresponding token needed to access the cluster in your local computer\n",
    "    \n",
    "<b>see example .out output file:</b>"
   ]
  },
  {
   "cell_type": "raw",
   "id": "7a51f917",
   "metadata": {},
   "source": [
    "Command to create ssh tunnel:\n",
    "ssh -N -f -L 8889:compute-5-10:8889 klkusima@carya.rcdc.uh.edu\n",
    "\n",
    "Use a Browser on your local machine to go to:\n",
    "localhost:8889  (prefix w/ https:// if using password)\n",
    "token will show up shortly\n",
    "\n",
    "/var/spool/slurm/slurmd/job1056332/slurm_script: line 28: module: command not found\n",
    "[W 00:31:43.269 NotebookApp] Error loading server extension jupyter_lsp\n",
    "    Traceback (most recent call last):\n",
    "      File \"/home/klkusima/.local/lib/python3.9/site-packages/notebook/notebookapp.py\", line 2050, in init_server_extensions\n",
    "        func(self)\n",
    "      File \"/home/klkusima/.local/lib/python3.9/site-packages/jupyter_lsp/serverextension.py\", line 76, in load_jupyter_server_extension\n",
    "        nbapp.io_loop.call_later(0, initialize, nbapp, virtual_documents_uri)\n",
    "    AttributeError: 'NotebookApp' object has no attribute 'io_loop'\n",
    "[W 2023-05-30 00:31:44.127 LabApp] 'port' has moved from NotebookApp to ServerApp. This config will be passed to ServerApp. Be sure to update your config before our next release.\n",
    "[W 2023-05-30 00:31:44.127 LabApp] 'ip' has moved from NotebookApp to ServerApp. This config will be passed to ServerApp. Be sure to update your config before our next release.\n",
    "[W 2023-05-30 00:31:44.127 LabApp] 'ip' has moved from NotebookApp to ServerApp. This config will be passed to ServerApp. Be sure to update your config before our next release.\n",
    "[W 2023-05-30 00:31:44.127 LabApp] 'ip' has moved from NotebookApp to ServerApp. This config will be passed to ServerApp. Be sure to update your config before our next release.\n",
    "[I 2023-05-30 00:31:44.130 LabApp] JupyterLab extension loaded from /home/klkusima/.local/lib/python3.9/site-packages/jupyterlab\n",
    "[I 2023-05-30 00:31:44.130 LabApp] JupyterLab application directory is /home/klkusima/.local/share/jupyter/lab\n",
    "[I 2023-05-30 00:31:44.131 LabApp] Extension Manager is 'pypi'.\n",
    "[I 00:31:44.155 NotebookApp] Serving notebooks from local directory: /project/grabow/klkusima/work/KMC/CO_Oxidation/Jupyter/KMC_output_varied_coverage\n",
    "[I 00:31:44.155 NotebookApp] Jupyter Notebook 6.5.4 is running at:\n",
    "[I 00:31:44.155 NotebookApp] http://compute-5-10:8889/?token=c84a59cff8c5ca8bcef897b94fe2fb70a67747b498c88f98\n",
    "[I 00:31:44.155 NotebookApp]  or http://127.0.0.1:8889/?token=c84a59cff8c5ca8bcef897b94fe2fb70a67747b498c88f98\n",
    "[I 00:31:44.155 NotebookApp] Use Control-C to stop this server and shut down all kernels (twice to skip confirmation).\n",
    "[C 00:31:44.172 NotebookApp]\n",
    "..................\n",
    "..................\n",
    ".................."
   ]
  },
  {
   "cell_type": "markdown",
   "id": "0148d0c9",
   "metadata": {},
   "source": [
    "<b> *** Steps below need to be repeated every time you need to open up the jupter job running on the server *** </b>\n",
    "\n",
    "## Step 4:  Create a tunnel on the local computer to contact the server's running job using the ssh prompt provided in the slurm output file. This establishes a bridge between the server and the local computer. The command to do this can be found in the beginning of the .out output file.\n",
    "\n",
    "    From the example above, run inside your local terminal: \n",
    "        ssh -N -f -L 8889:compute-5-10:8889 klkusima@carya.rcdc.uh.edu\n",
    "       \n",
    "     * Note that this step may need to be repeated if your computer has restarted\n",
    "        \n",
    "## Step 5: Copy the link (localhost:< port_number >) from the output file to a browser on the local computer and run it\n",
    "    \n",
    "    - If localhost:< port_number > doesn't work, try entering the full port number in your web browser:\n",
    "        example: l27.0.0.1:< port_number >\n",
    "        \n",
    "    - If it's the first time running the website link, you will need to insert the token\n",
    "    \n",
    "        From the example output file above, the token is : c84a59cff8c5ca8bcef897b94fe2fb70a67747b498c88f98\n",
    "    \n",
    "    "
   ]
  },
  {
   "cell_type": "markdown",
   "id": "50722ef5",
   "metadata": {},
   "source": [
    "# -Side Note:-\n",
    "\n",
    "   - For the duration of the wall clock time, you will be able to access a jupyter notebook in the folder you specified. Once the wall clock time is over, you will need to restart from step 1.\n",
    "   \n",
    "   - Displaying figure may not work in the cluster's version of jupyter notebook, below are the possible workarounds:\n",
    "   \n",
    "       i) apply <b> %matplotlib inline </b> at the very first line of your jupyter notebook to force matplolib to be used to plot the figure inline\n",
    "\n",
    "       ii) save the figure as a png so you can open it externally. The code: <b> plt.savefig(\"plot1.png\") </b>"
   ]
  }
 ],
 "metadata": {
  "kernelspec": {
   "display_name": "Python 3 (ipykernel)",
   "language": "python",
   "name": "python3"
  },
  "language_info": {
   "codemirror_mode": {
    "name": "ipython",
    "version": 3
   },
   "file_extension": ".py",
   "mimetype": "text/x-python",
   "name": "python",
   "nbconvert_exporter": "python",
   "pygments_lexer": "ipython3",
   "version": "3.9.7"
  }
 },
 "nbformat": 4,
 "nbformat_minor": 5
}
