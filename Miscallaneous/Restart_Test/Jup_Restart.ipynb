{
 "cells": [
  {
   "cell_type": "code",
   "execution_count": 1,
   "id": "69a4499a",
   "metadata": {},
   "outputs": [
    {
     "name": "stdout",
     "output_type": "stream",
     "text": [
      "Directory Present\n"
     ]
    },
    {
     "name": "stderr",
     "output_type": "stream",
     "text": [
      "sh: sbatch: command not found\n"
     ]
    },
    {
     "ename": "FileNotFoundError",
     "evalue": "[Errno 2] No such file or directory: '/Users/klkusima/Desktop/RASH_Research/CO_ox/Kinetics/OOP_Kinetics/MiKi/Miscallaneous/Restart_Test/Test_1/pressure_1e-05/history_output.txt'",
     "output_type": "error",
     "traceback": [
      "\u001b[0;31m---------------------------------------------------------------------------\u001b[0m",
      "\u001b[0;31mFileNotFoundError\u001b[0m                         Traceback (most recent call last)",
      "Cell \u001b[0;32mIn[1], line 87\u001b[0m\n\u001b[1;32m     84\u001b[0m \u001b[38;5;66;03m#Setting the history output file path \u001b[39;00m\n\u001b[1;32m     85\u001b[0m history_output \u001b[38;5;241m=\u001b[39m  history_output_file_path \u001b[38;5;241m+\u001b[39m \u001b[38;5;124m'\u001b[39m\u001b[38;5;124mhistory_output.txt\u001b[39m\u001b[38;5;124m'\u001b[39m\n\u001b[0;32m---> 87\u001b[0m \u001b[43mcreate_state_input_file\u001b[49m\u001b[43m(\u001b[49m\u001b[43mhistory_output\u001b[49m\u001b[43m,\u001b[49m\u001b[43mn_sites\u001b[49m\u001b[43m)\u001b[49m\n\u001b[1;32m     88\u001b[0m \u001b[38;5;66;03m#Updating the history output file path to correspond to the previous directory so that the correct history can be passed down to make the new state input for the next run\u001b[39;00m\n\u001b[1;32m     89\u001b[0m history_output_file_path \u001b[38;5;241m=\u001b[39m Simulation_directory \u001b[38;5;241m+\u001b[39m new_directory\n",
      "Cell \u001b[0;32mIn[1], line 22\u001b[0m, in \u001b[0;36mcreate_state_input_file\u001b[0;34m(file_name, n_sites)\u001b[0m\n\u001b[1;32m     21\u001b[0m \u001b[38;5;28;01mdef\u001b[39;00m \u001b[38;5;21mcreate_state_input_file\u001b[39m(file_name,n_sites):\n\u001b[0;32m---> 22\u001b[0m     history_output_file \u001b[38;5;241m=\u001b[39m \u001b[38;5;28;43mopen\u001b[39;49m\u001b[43m(\u001b[49m\u001b[43mfile_name\u001b[49m\u001b[43m,\u001b[49m\u001b[43m \u001b[49m\u001b[38;5;124;43m'\u001b[39;49m\u001b[38;5;124;43mr\u001b[39;49m\u001b[38;5;124;43m'\u001b[39;49m\u001b[43m)\u001b[49m\u001b[38;5;241m.\u001b[39mreadlines() \n\u001b[1;32m     23\u001b[0m     ssp_line \u001b[38;5;241m=\u001b[39m history_output_file[\u001b[38;5;241m1\u001b[39m]\n\u001b[1;32m     24\u001b[0m     surface_species \u001b[38;5;241m=\u001b[39m ssp_line[\u001b[38;5;241m16\u001b[39m:]\u001b[38;5;241m.\u001b[39msplit()\n",
      "File \u001b[0;32m~/opt/anaconda3/lib/python3.9/site-packages/IPython/core/interactiveshell.py:282\u001b[0m, in \u001b[0;36m_modified_open\u001b[0;34m(file, *args, **kwargs)\u001b[0m\n\u001b[1;32m    275\u001b[0m \u001b[38;5;28;01mif\u001b[39;00m file \u001b[38;5;129;01min\u001b[39;00m {\u001b[38;5;241m0\u001b[39m, \u001b[38;5;241m1\u001b[39m, \u001b[38;5;241m2\u001b[39m}:\n\u001b[1;32m    276\u001b[0m     \u001b[38;5;28;01mraise\u001b[39;00m \u001b[38;5;167;01mValueError\u001b[39;00m(\n\u001b[1;32m    277\u001b[0m         \u001b[38;5;124mf\u001b[39m\u001b[38;5;124m\"\u001b[39m\u001b[38;5;124mIPython won\u001b[39m\u001b[38;5;124m'\u001b[39m\u001b[38;5;124mt let you open fd=\u001b[39m\u001b[38;5;132;01m{\u001b[39;00mfile\u001b[38;5;132;01m}\u001b[39;00m\u001b[38;5;124m by default \u001b[39m\u001b[38;5;124m\"\u001b[39m\n\u001b[1;32m    278\u001b[0m         \u001b[38;5;124m\"\u001b[39m\u001b[38;5;124mas it is likely to crash IPython. If you know what you are doing, \u001b[39m\u001b[38;5;124m\"\u001b[39m\n\u001b[1;32m    279\u001b[0m         \u001b[38;5;124m\"\u001b[39m\u001b[38;5;124myou can use builtins\u001b[39m\u001b[38;5;124m'\u001b[39m\u001b[38;5;124m open.\u001b[39m\u001b[38;5;124m\"\u001b[39m\n\u001b[1;32m    280\u001b[0m     )\n\u001b[0;32m--> 282\u001b[0m \u001b[38;5;28;01mreturn\u001b[39;00m \u001b[43mio_open\u001b[49m\u001b[43m(\u001b[49m\u001b[43mfile\u001b[49m\u001b[43m,\u001b[49m\u001b[43m \u001b[49m\u001b[38;5;241;43m*\u001b[39;49m\u001b[43margs\u001b[49m\u001b[43m,\u001b[49m\u001b[43m \u001b[49m\u001b[38;5;241;43m*\u001b[39;49m\u001b[38;5;241;43m*\u001b[39;49m\u001b[43mkwargs\u001b[49m\u001b[43m)\u001b[49m\n",
      "\u001b[0;31mFileNotFoundError\u001b[0m: [Errno 2] No such file or directory: '/Users/klkusima/Desktop/RASH_Research/CO_ox/Kinetics/OOP_Kinetics/MiKi/Miscallaneous/Restart_Test/Test_1/pressure_1e-05/history_output.txt'"
     ]
    }
   ],
   "source": [
    "import os\n",
    "from matplotlib import pyplot as plt\n",
    "from matplotlib.pyplot import figure\n",
    "import pandas as pd\n",
    "import numpy as np\n",
    "\n",
    "Path = os.getcwd()\n",
    "frac_O2 = np.logspace(-5,-1,3)\n",
    "Simulation_directory = Path + '/Test_1/'\n",
    "Starting_surface_directory = Simulation_directory + 'starting_surface/'\n",
    "\n",
    "def replace_line(file_name, line_num, text): \n",
    "    ##This is a function to replace the line [line_num] in an input file [file_name] according to the [text] provided\n",
    "    lines = open(file_name, 'r').readlines()\n",
    "    lines[line_num] = text\n",
    "    out = open(file_name, 'w')\n",
    "    out.writelines(lines)\n",
    "    out.close()\n",
    "\n",
    "\n",
    "def create_state_input_file(file_name,n_sites):\n",
    "    history_output_file = open(file_name, 'r').readlines() \n",
    "    ssp_line = history_output_file[1]\n",
    "    surface_species = ssp_line[16:].split()\n",
    "    surface_species\n",
    "    lines = history_output_file[-(n_sites+1):][:-1] #Extracting lines corresponding to the last KMC event (added [:-1] to ignore the last line of the history output file)\n",
    "    site_loc = np.arange(1,n_sites+1,1) #Creating an array of total number of sites (added n_sites+1 to account for python counting)\n",
    "    lines = [i.split()for i in lines] #Splitting each line into its columns\n",
    "    last_config_array = np.array([[int(float(j)) for j in i] for i in lines]) #Converting string lists of lists to int list of lists\n",
    "    site_loc = last_config_array[:,0] #Extracting all possible surface sites\n",
    "    species_number = last_config_array[:,2]\n",
    "    #creating a dataframe of the relevant data (site location on the corresponding species number 0,1,2,...) The array needs to be transposed due to the making of an arry from two lists, the index is set to correspond to the site locations\n",
    "    df_config = pd.DataFrame(np.array((site_loc,species_number)).T, index = site_loc) \n",
    "    #Removing empty sites rows so as to have a dataframe ready to be used to make the state input file\n",
    "    df_config = df_config[df_config.iloc[:,1] != 0] #Only Keeping the values of whose second column doesn't have 0 (i.e an empty site)\n",
    "    #loop to replace the species number with the corresponding surface species string to be easily inputted in state input\n",
    "    for i in np.arange(len(df_config)):\n",
    "        val = df_config.iloc[i,1] #Extract the species number\n",
    "        species_replacement = surface_species[val-1]\n",
    "        df_config.iloc[i,1] = species_replacement\n",
    "\n",
    "    f = open(\"state_input.dat\", \"w+\")\n",
    "    f.write('initial_state')\n",
    "    for i in np.unique(df_config.iloc[:,1]):\n",
    "        unique_df = df_config[df_config.iloc[:,1]==i]\n",
    "        for j in np.arange(len(unique_df)):\n",
    "            out = unique_df.iloc[j,:] #output line to be plottes\n",
    "            f.write('\\n' + ' ' + ' ' + ' ' + 'seed_on_sites' + ' ' + '%s' % out[1] + ' ' + '%s' % out[0])\n",
    "\n",
    "    f.write('\\n' + 'end_initial_state' + '\\n')\n",
    "    f.close()\n",
    "\n",
    "\n",
    "if os.path.exists(Starting_surface_directory):\n",
    "    print('Directory Present')\n",
    "    os.chdir(Starting_surface_directory)\n",
    "    os.system('sbatch kmc.csh')\n",
    "    # os.system('JOBID=$(sbatch --parsable kmc.csh')\n",
    "    # os.system('sbatch --dependency after:$JOBID a_file.sh')\n",
    "\n",
    "history_output_file_path = Starting_surface_directory #Initializing the path where the first history output file will be used to inform the creation of the next state input file\n",
    "\n",
    "for i in np.arange(len(frac_O2)):\n",
    "    new_directory = 'pressure_' + str(frac_O2[i]) +'/'\n",
    "    os.chdir(Simulation_directory)\n",
    "    os.makedirs(new_directory)\n",
    "    os.chdir(Simulation_directory + new_directory)\n",
    "    #Copying the non-changing input files from the starting surface directory\n",
    "    os.system('cp '+ Starting_surface_directory +'/energetics_input.dat .')\n",
    "    os.system('cp '+ Starting_surface_directory +'/mechanism_input.dat .')\n",
    "    os.system('cp '+ Starting_surface_directory +'/lattice_input.dat .') \n",
    "    os.system('cp '+ Starting_surface_directory +'/kmc.csh .')\n",
    "    #Copying the simulation input file from the strating directory and changing a line according to new simulation conditions\n",
    "    os.system('cp '+ Starting_surface_directory +'/simulation_input.dat .')\n",
    "    replace_line('simulation_input.dat',12,'gas_molar_fracs           %s' % frac_O2[i] + '      %s' % 0.00 + '      %s' % 0.00 + '\\n')\n",
    "\n",
    "    #Extracting number of totals sites according to general_output file from the starting surface directory (Note this doesn't change since the surface size remains the same)\n",
    "    inp=open(Starting_surface_directory +'general_output.txt','r').readlines()\n",
    "    for i in np.arange(len(inp)):\n",
    "        if 'Total number of lattice sites:' in inp[i]:\n",
    "            val = i  #Line in text file where sentence is present.                       \n",
    "    n_sites = int(inp[val][35:]) #35 corresponds to the characters present before the number is outputted\n",
    "\n",
    "    #Setting the history output file path \n",
    "    history_output =  history_output_file_path + 'history_output.txt'\n",
    "\n",
    "    create_state_input_file(history_output,n_sites)\n",
    "    #Updating the history output file path to correspond to the previous directory so that the correct history can be passed down to make the new state input for the next run\n",
    "    history_output_file_path = Simulation_directory + new_directory"
   ]
  },
  {
   "cell_type": "code",
   "execution_count": null,
   "id": "0705c922",
   "metadata": {},
   "outputs": [],
   "source": []
  },
  {
   "cell_type": "code",
   "execution_count": null,
   "id": "4b6bf404",
   "metadata": {},
   "outputs": [],
   "source": []
  },
  {
   "cell_type": "code",
   "execution_count": null,
   "id": "aa03267c",
   "metadata": {},
   "outputs": [],
   "source": []
  },
  {
   "cell_type": "code",
   "execution_count": null,
   "id": "0e9ba39b",
   "metadata": {},
   "outputs": [],
   "source": []
  },
  {
   "cell_type": "code",
   "execution_count": null,
   "id": "e3061462",
   "metadata": {},
   "outputs": [],
   "source": []
  },
  {
   "cell_type": "code",
   "execution_count": null,
   "id": "2efbe4e3",
   "metadata": {},
   "outputs": [],
   "source": []
  },
  {
   "cell_type": "code",
   "execution_count": null,
   "id": "6e11346e",
   "metadata": {},
   "outputs": [],
   "source": []
  },
  {
   "cell_type": "code",
   "execution_count": null,
   "id": "2bf25fd6",
   "metadata": {},
   "outputs": [],
   "source": []
  },
  {
   "cell_type": "code",
   "execution_count": null,
   "id": "f35ad6d6",
   "metadata": {},
   "outputs": [],
   "source": []
  },
  {
   "cell_type": "code",
   "execution_count": null,
   "id": "151a683a",
   "metadata": {},
   "outputs": [],
   "source": []
  }
 ],
 "metadata": {
  "kernelspec": {
   "display_name": "Python 3 (ipykernel)",
   "language": "python",
   "name": "python3"
  },
  "language_info": {
   "codemirror_mode": {
    "name": "ipython",
    "version": 3
   },
   "file_extension": ".py",
   "mimetype": "text/x-python",
   "name": "python",
   "nbconvert_exporter": "python",
   "pygments_lexer": "ipython3",
   "version": "3.9.7"
  }
 },
 "nbformat": 4,
 "nbformat_minor": 5
}
