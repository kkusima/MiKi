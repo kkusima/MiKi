{
 "cells": [
  {
   "cell_type": "code",
   "execution_count": 1,
   "id": "9e284831",
   "metadata": {},
   "outputs": [],
   "source": [
    "import os\n",
    "import numpy as np\n",
    "import pandas as pd"
   ]
  },
  {
   "cell_type": "markdown",
   "id": "57d6f08d",
   "metadata": {},
   "source": [
    "Code for adding two new sites based on random atom placement\n",
    "\n",
    "Inputs : \n",
    "\n",
    "    -A lattice_output.txt File present in this directory (same directory as this code) \n",
    "    \n",
    "    -additional_sites names = ['fccPd','hcpPd']\n",
    "    \n",
    "    -no_added_atoms intended to be in the lattice\n",
    "    \n",
    "    -added_site_type_number = [3,4] (needs to be different from that already used in the lattice_output file provided)\n",
    "    \n",
    "    \n",
    "Output: An explicit lattice structure input file lattice_input.dat ready to use for kMC"
   ]
  },
  {
   "cell_type": "markdown",
   "id": "2f061147",
   "metadata": {},
   "source": [
    "### Inputs:"
   ]
  },
  {
   "cell_type": "code",
   "execution_count": 2,
   "id": "7162e33b",
   "metadata": {},
   "outputs": [],
   "source": [
    "Input_File_name = 'lattice_output.txt'\n",
    "no_added_atoms = 20\n",
    "additional_sites = ['fccPd','hcpPd']\n",
    "added_site_type_number = [3,4]\n",
    "\n",
    "Output_File_name = 'lattice_input.dat'"
   ]
  },
  {
   "cell_type": "markdown",
   "id": "6c35527c",
   "metadata": {},
   "source": [
    "#-----"
   ]
  },
  {
   "cell_type": "code",
   "execution_count": 3,
   "id": "e3936fd4",
   "metadata": {},
   "outputs": [],
   "source": [
    "#Reading from lattice output file\n",
    "file=open(Input_File_name,'r').readlines()\n",
    "b=[]\n",
    "for i in np.arange(len(file)): \n",
    "    b.append(file[i].split())                   #Dividing the rows into columns\n",
    "o = pd.DataFrame(data=b)                        #Final output\n",
    "#Removing first few rows with 0 in first column \n",
    "o = o[o.iloc[:,0] != '0' ]\n",
    "#Removing any empty lines\n",
    "o = o.dropna()\n",
    "\n",
    "#Converting non-coordinate columns from string numbers to int for better referencing\n",
    "o[o.columns[0]] = o.iloc[:,0].astype(int)\n",
    "o[o.columns[3:]] = o.iloc[:,3:].astype(int)\n",
    "\n",
    "#Extracting total number of sites\n",
    "Tot_n_sites = o.iloc[-1,0]\n",
    "\n",
    "#Extracting Max coordinate\n",
    "max_cord = o.iloc[:,4].max()\n",
    "\n",
    "#Extracting default site types\n",
    "def_site_types = o.iloc[:,3].unique()\n",
    "\n",
    "#Extracting default number of site types\n",
    "def_no_site_types = len(def_site_types)\n",
    "\n",
    "# #site names as manual inputs\n",
    "site_names = ['fcc','hcp']"
   ]
  },
  {
   "cell_type": "code",
   "execution_count": 4,
   "id": "8e786558",
   "metadata": {},
   "outputs": [],
   "source": [
    "def sequence_hex(def_df,n_add,hcp,fcc):\n",
    "    def_df = o\n",
    "    n_add = no_added_atoms\n",
    "    hcp = added_site_type_number[1]\n",
    "    fcc = added_site_type_number[0]\n",
    "\n",
    "    #Check if the added site type numbers already exist in dataframe\n",
    "    if def_df.iloc[:,3].isin([hcp,fcc]).any():\n",
    "        raise Exception(\"Error: The site type numbers are taken\")\n",
    "\n",
    "    #Calculating matrix of replacement\n",
    "\n",
    "    new_df = def_df\n",
    "    Tot_n_sites = def_df.iloc[-1,0]\n",
    "\n",
    "    n_size = int(np.sqrt(Tot_n_sites/2)) #the i size of ixi square lattice\n",
    "    mat_size = (n_size**2) * 2 #Matrix size\n",
    "    matrix = np.arange(2, mat_size+1, 2).reshape(n_size, n_size) #Creating an even number lattice matrix for diamond sequence\n",
    "    matrix\n",
    "\n",
    "    matrix = np.delete(matrix, (-1), axis=1) #Delete last column (Which translates to removing the top layer as candidate for starting the new orders)\n",
    "    matrix = np.delete(matrix, (-1), axis=0) #Delete last row (Which translates to removing the furthest layer as candidate for starting the new orders)\n",
    "    matrix_vector = matrix.reshape(-1)\n",
    "\n",
    "    max_atoms = (n_size-1)*2\n",
    "    if n_add > max_atoms:\n",
    "        raise Exception(\"Too many atoms are being added on the surface; Reduce no_added_atoms value to be less than\",max_atoms)\n",
    "    for i in np.arange(n_add):\n",
    "        try:\n",
    "            num  = np.random.choice(matrix_vector)\n",
    "        except ValueError:\n",
    "            print(\"There is no more space on the surface to place new sites\")\n",
    "            break\n",
    "\n",
    "        else:\n",
    "            sc = n_size*2 #Scale of which to scale locations as they are added to the diamond (8 for 4x4)\n",
    "            new_site_left = [num,num+1,num+2] #Creating Left Side of Diamond\n",
    "            new_site_right = [(x + sc -1) for x in new_site_left] #Creating right side of diamond\n",
    "\n",
    "\n",
    "            new_site_nos = new_site_left + new_site_right #Concatenating\n",
    "\n",
    "            new_site_type = [hcp, fcc] * len(new_site_left) #Creating list of corresponding site types\n",
    "\n",
    "            #using the new site_no and site_type arrays to change the dataframe\n",
    "            for i in np.arange(len(new_site_nos)):\n",
    "                new_df.iloc[new_site_nos[i]-1,3] = new_site_type[i]\n",
    "\n",
    "            #removing the chosen new sites from list of options\n",
    "            matrix_vector = np.array([i for i in matrix_vector if i not in new_site_nos])\n",
    "\n",
    "    #             #ADDING EXTREME EXCLUSION\n",
    "    #             proximity_base = [num+sc, num-sc]\n",
    "    #             proximity_top = [x + 2 for x in proximity_base]\n",
    "    #             proximity_bottom = [x - 2 for x in proximity_base]\n",
    "    #             proximity = proximity_base + proximity_top + proximity_bottom\n",
    "    #             #removing all proximity sites as potential new sites\n",
    "    #             matrix_vector = np.array([i for i in matrix_vector if i not in proximity])\n",
    "\n",
    "    return new_df"
   ]
  },
  {
   "cell_type": "code",
   "execution_count": 5,
   "id": "6b90c0da",
   "metadata": {},
   "outputs": [
    {
     "data": {
      "text/plain": [
       "array([0, 1, 2, 3, 4, 5])"
      ]
     },
     "execution_count": 5,
     "metadata": {},
     "output_type": "execute_result"
    }
   ],
   "source": [
    "new_site_nos = [1212,1213,1214,1283,1284,1285]\n",
    "np.arange(len(new_site_nos))"
   ]
  },
  {
   "cell_type": "code",
   "execution_count": 6,
   "id": "8e189bdc",
   "metadata": {},
   "outputs": [],
   "source": [
    "# new = sequence_hex(o,1,3,4)"
   ]
  },
  {
   "cell_type": "code",
   "execution_count": 7,
   "id": "d840feb8",
   "metadata": {},
   "outputs": [],
   "source": [
    "# new"
   ]
  },
  {
   "cell_type": "code",
   "execution_count": 8,
   "id": "c60373c1",
   "metadata": {},
   "outputs": [],
   "source": [
    "no_additional_sites = len(additional_sites)\n",
    "total_all_site_type = def_no_site_types+no_additional_sites\n",
    "list_of_all_site_number_strings = [str(x) for x in np.arange(1, total_all_site_type+1)]\n",
    "\n",
    "file_name = Output_File_name\n",
    "ofile=open(file_name,'w')\n",
    "ofile.write(\"lattice explicit\\n\")\n",
    "ofile.write(\"\\n\")\n",
    "ofile.write(\"n_sites         \"+str(Tot_n_sites)+\"\\n\")\n",
    "ofile.write(\"max_coord       \"+str(max_cord)+\"\\n\")\n",
    "ofile.write(\"n_site_types    \"+str(total_all_site_type)+\"\\n\")\n",
    "ofile.write(\"site_type_names \"+' '.join(site_names)+' '+' '.join(additional_sites) +\"\\n\")\n",
    "ofile.write(\"\\n\")\n",
    "ofile.write(\"##site_types    \"+' '.join(list_of_all_site_number_strings) +\"\\n\")\n",
    "ofile.write(\"\\n\")\n",
    "ofile.write(\"lattice_structure\\n\")\n",
    "\n",
    "# Making new lattice structure dataframe with replacement values\n",
    "new = sequence_hex(o,no_added_atoms,added_site_type_number[1],added_site_type_number[0])\n",
    "\n",
    "#Writing each line of the lattice structure accordingly\n",
    "for i in np.arange(np.shape(new)[0]):\n",
    "    ofile.write(\"         %s\"%(str(new.iloc[i,0]).rjust(5)) +\"       %s\"%(str(new.iloc[i,1]).rjust(5))\n",
    "                +\"       %s\"%(str(new.iloc[i,2]).rjust(5))\n",
    "                +\"       %s\"%(str(new.iloc[i,3]).rjust(5)))\n",
    "    \n",
    "    #Adding the neighbors:\n",
    "    for j in new.iloc[i,4:]:\n",
    "        ofile.write(\"     %s\"%(str(j)).rjust(5))\n",
    "        \n",
    "    ofile.write(\"\\n\")\n",
    "ofile.close()"
   ]
  },
  {
   "cell_type": "code",
   "execution_count": null,
   "id": "7abf1c97",
   "metadata": {},
   "outputs": [],
   "source": []
  }
 ],
 "metadata": {
  "kernelspec": {
   "display_name": "Python 3 (ipykernel)",
   "language": "python",
   "name": "python3"
  },
  "language_info": {
   "codemirror_mode": {
    "name": "ipython",
    "version": 3
   },
   "file_extension": ".py",
   "mimetype": "text/x-python",
   "name": "python",
   "nbconvert_exporter": "python",
   "pygments_lexer": "ipython3",
   "version": "3.10.9"
  }
 },
 "nbformat": 4,
 "nbformat_minor": 5
}
