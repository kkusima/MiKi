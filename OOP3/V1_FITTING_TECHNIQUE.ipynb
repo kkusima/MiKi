{
 "cells": [
  {
   "cell_type": "markdown",
   "metadata": {},
   "source": [
    "***\n",
    "$$\\mathbf{\\text{Author: Kenneth Kusima}}$$<br>\n",
    "$$\\mathbf{\\text{Python Kinetics Code}}$$<br>\n",
    "$\\mathbf{\\text{Date: 02/01/22}}$<br>\n",
    "***"
   ]
  },
  {
   "cell_type": "markdown",
   "metadata": {},
   "source": [
    "***\n",
    "$\\mathbf{\\text{Simple Micro Kinetic Model for CO Oxidation}}:$<br>\n",
    "***\n",
    "$$\\require{mhchem}$$       \n",
    "---\n",
    "Overall Reaction: \n",
    "$$ CO + \\frac{1}{2} O_2 {\\stackrel{\\tiny{\\textrm{Pt/Pd}}}{\\rightleftharpoons}} CO_2 $$\n",
    "---\n",
    "Note Reations in the Reaction Mechanism may be reversible or irreversible\n",
    "\n",
    "Reaction 1:&emsp;Adsorption of CO\n",
    "\n",
    "$$ CO + * \\rightleftharpoons CO^{*} $$\n",
    "\n",
    "Reaction 2:&emsp;Adsorption of $O_2$\n",
    "\n",
    "$$ O_2 + * \\rightleftharpoons {O_2}^{*} $$\n",
    "\n",
    "Reaction 3:&emsp;Dissociation of ${O_2}^*$ \n",
    "\n",
    "$$ {O_2}^* + * \\rightleftharpoons 2{O}^* $$\n",
    "\n",
    "Reaction 4:&emsp;Surface Reaction of $CO$ and $O_2$  \n",
    "\n",
    "$$ {CO}^{*} + {O}^{*} \\rightleftharpoons CO_2 + 2* $$\n",
    "\n"
   ]
  },
  {
   "cell_type": "markdown",
   "metadata": {},
   "source": [
    "***\n",
    "$\\mathbf{\\text{Modelling Proposed Reaction Mechanism}}:$<br>\n",
    "***\n",
    "${{k_i}^j= \\textrm{Rate constant/coefficient for reaction i,}} \\\\  \\hspace{0.5cm} \\textrm{for j = {f,r} ; where f = forward reaction and r  = the reverse reaction} \\\\ r_i = \\textrm{Rate of reaction for reaction i}$\n",
    "\n",
    "${\\theta_m = \\textrm{Surface Coverage of species m}} \\\\ \\sum_{m=1}^{N} \\theta_{m} = 1 \\\\ \\hspace{1.3cm} =\n",
    "\\theta_{CO} + \\theta_{O_2} + \\theta_{O} + \\theta_{*}$\n",
    "\n",
    "### The Atomic/Species Matrix ($\\nu$):\n",
    "\n",
    "The participating species for this surface reaction mechanism are:\n",
    "1. CO\n",
    "2. $O_2$\n",
    "3. $CO_2$\n",
    "4. $CO^*$\n",
    "5. $O^*$\n",
    "6. ${O_2}^*$\n",
    "7. *\n",
    "\n",
    "\\begin{equation}\n",
    "\\\n",
    "\\nu=\\begin{bmatrix}\n",
    "    &   CO    &   O_2   &   CO_2  &      CO^*    &     O*     &    O_2^*     &   *\\\\\n",
    "C   &   1     &   0     &   1     &      1       &     0      &     0        &   0\\\\\n",
    "O   &   1     &   2     &   2     &      1       &     1      &     2        &   0\\\\\n",
    "*   &   0     &   0     &   0     &      1       &     1      &     1        &   1\\end{bmatrix} \n",
    "\\\n",
    "\\end{equation}\n",
    "\n",
    "Atomic Matrix Size : (3x7)\n",
    "### The Stoichiometric Matrix (A):\n",
    "\n",
    "\\begin{equation}\n",
    "\\\n",
    "A=\\begin{bmatrix}\n",
    "    & P_{CO} & P_{O_2} & P_{CO_2} & \\theta_{CO} & \\theta_{O} & \\theta_{O_2} &\\theta_{*}\\\\\n",
    "r_1 &  -1     &   0     &   0     &      1       &     0      &     0        &  -1\\\\\n",
    "r_2 &   0     &  -1     &   0     &      0       &     0      &     1        &  -1\\\\\n",
    "r_3 &   0     &   0     &   0     &      0       &     2      &    -1        &  -1\\\\     \n",
    "r_4 &   0     &   0     &   1     &     -1       &    -1      &     0        &   2\\end{bmatrix} \n",
    "\\\n",
    "\\end{equation}\n",
    "\n",
    "Stoichiometric Matrix Size : (4x7)\n",
    "\n",
    "Note:\n",
    "\n",
    "- For Mass to be conserved:\n",
    "$$\\mathbf{A}\\mathbf{\\nu = 0}$$\n",
    "\n",
    "$i =$ species\n",
    "\n",
    "$j =$ reaction\n",
    "\n",
    "- To find the Rate of reaction of reaction j:\n",
    "\n",
    "$$ r_j = k_{j,f} \\prod_{i_f} P_{i,f} \\theta_{i,f}^{\\nu_i} - k_{j,r} \\prod_{i_r} P_{i,r} \\theta_{i,r}^{\\nu_i}  $$\n",
    "\n",
    "- To find the Rate of production of species i:\n",
    "$$R_{\\theta_i}=\\frac{d\\theta_i}{dt} = \\sum_j A_{j,i} \\cdot r_j $$\n",
    "\n",
    "#### Therefore:\n",
    "\n",
    "Rate Equations:&emsp;\n",
    "\n",
    "$$r_1 = k_{1}^f \\cdot \\textrm{P}_{CO} \\cdot \\theta_{*} - k_{1}^r \\cdot \\theta_{CO} $$\n",
    "\n",
    "$$r_2 = k_{2}^f \\cdot \\textrm{P}_{O_2} \\cdot \\theta_{*} - k_{2}^r \\cdot \\theta_{O_{2}} $$\n",
    "\n",
    "$$r_3 = k_{3}^f \\cdot \\theta_{O_2} \\cdot \\theta_{*} - k_{3}^r \\cdot \\theta_{O}^2 $$\n",
    "\n",
    "$$r_4 = k_{4}^f \\cdot \\theta_{CO} \\cdot \\theta_{O} - k_{4}^r \\cdot \\textrm{P}_{{CO}_2} \\cdot \\theta_{*}^2 $$\n",
    "\n",
    "The Corresponding Differential Equations corresponding to the rate of formations/productions of the different coverages:\n",
    "\n",
    "$$R_{\\theta_{CO}} = \\frac{d\\theta_{CO}}{dt} = r_1 - r_4$$\n",
    "\n",
    "$$R_{\\theta_{O_2}} = \\frac{d\\theta_{O_2}}{dt} = r_2 - r_3 $$\n",
    "\n",
    "$$R_{\\theta_{O}} = \\frac{d\\theta_{O}}{dt} = 2 r_3 - r_4 $$\n",
    "\n",
    "$$R_{\\theta_{*}} = \\frac{d\\theta_{*}}{dt} = 2 r_4 - r_1 - r_2 - r_3 $$\n",
    "\n"
   ]
  },
  {
   "cell_type": "code",
   "execution_count": 4,
   "metadata": {},
   "outputs": [],
   "source": [
    "#%matplotlib notebook\n",
    "from scipy.integrate import odeint\n",
    "from scipy.integrate import solve_ivp\n",
    "import matplotlib.pyplot as plt\n",
    "import numpy as np\n",
    "import pandas as pd\n",
    "from scipy import optimize"
   ]
  },
  {
   "cell_type": "code",
   "execution_count": 5,
   "metadata": {},
   "outputs": [
    {
     "name": "stdout",
     "output_type": "stream",
     "text": [
      "Reaction\\Stoichiometric Matrix:\n",
      "   r\\S  P_CO  P_O2  P_CO2  theta_CO  theta_O  theta_O2  theta_*\n",
      "0  r1    -1     0      0         1        0         0       -1\n",
      "1  r2     0    -1      0         0        0         1       -1\n",
      "2  r3     0     0      0         0        2        -1       -1\n",
      "3  r4     0     0      1        -1       -1         0        2\n",
      "\n",
      " Atomic\\Species Matrix:\n",
      "   A\\S  CO  O2  CO2  CO*  O*  O2*  *\n",
      "0   C   1   0    1    1   0    0  0\n",
      "1   O   1   2    2    1   1    2  0\n",
      "2   *   0   0    0    1   1    1  1\n",
      "\n",
      " Parameters Matrix:\n",
      "    Reaction_Descrp Parameter        Values        Units\n",
      "0              NaN         T  3.200000e+02            K\n",
      "1              NaN         R  8.314460e+00  JK^-1mol^-1\n",
      "2               CO        P1  1.000000e-08          bar\n",
      "3               O2        P2  1.000000e-08          bar\n",
      "4              CO2        P3  1.000000e-08          bar\n",
      "5               r1       k1f  2.000000e+00            -\n",
      "6              NaN       k1r  6.650000e-09            -\n",
      "7               r2       k2f  2.310000e+02            -\n",
      "8              NaN       k2r  1.150000e+05            -\n",
      "9               r3       k3f  6.130000e+08            -\n",
      "10             NaN       k3r  2.140000e-02            -\n",
      "11              r4       k4f  2.850000e-06            -\n",
      "12             NaN       k4r  5.000000e+02            -\n"
     ]
    }
   ],
   "source": [
    "Stoich = pd.read_csv(\"Stoich_1.csv\")    #Opening/Reading the Stoichiometric input file needed to be read\n",
    "Atomic = pd.read_csv(\"Atomic_1.csv\")     #Opening/Reading the Atomic input file needed to be read\n",
    "Param = pd.read_csv(\"Param_1.csv\")[:13]     #Opening/Reading the Parameter input file needed to be read   \n",
    "print(\"Reaction\\Stoichiometric Matrix:\\n\",Stoich)\n",
    "print(\"\\n Atomic\\Species Matrix:\\n\",Atomic)\n",
    "print(\"\\n Parameters Matrix:\\n\",Param)"
   ]
  },
  {
   "cell_type": "code",
   "execution_count": 6,
   "metadata": {},
   "outputs": [
    {
     "name": "stdout",
     "output_type": "stream",
     "text": [
      "Mass is conserved.\n"
     ]
    }
   ],
   "source": [
    "#Checking the mass balance\n",
    "at_mat = Atomic.iloc[0:,1:]           #The atomic matrix\n",
    "err = 0                               #For counting error\n",
    "for i in np.arange(len(Stoich)):    \n",
    "    st_mat = Stoich.iloc[i,1:]        #The stoichiometric matrix\n",
    "    res = np.dot(at_mat,st_mat)       #Performing the matrix product for every reaction i\n",
    "    if any(a != 0 for a in res):      #Verifies that the matrix product returns 0s (i.e mass is balanced)\n",
    "        print(\"Mass is not conserved in reaction %i. \\n ... Check and correct the Atomic or Stoichiometric Matrices\"%(i+1))\n",
    "        err +=1\n",
    "    elif (i == len(Stoich)-1 and err==0):    \n",
    "        print(\"Mass is conserved.\")"
   ]
  },
  {
   "cell_type": "code",
   "execution_count": 7,
   "metadata": {},
   "outputs": [],
   "source": [
    "#Extracting K values\n",
    "def kextract(Param):\n",
    "    #Evaluating Param file to find where the list of rate constants k starts\n",
    "    for j in np.arange(len(Param.iloc[:,1])):\n",
    "        if ('k1f' or 'k1') in Param.iloc[j,1]:\n",
    "            kstart = j #Row in the Param file where rate constants begin\n",
    "            break\n",
    "        else:\n",
    "            continue\n",
    "\n",
    "    #Rate Constants:\n",
    "    k = Param.iloc[kstart:,2].values #.values changes from pandas series to numpy array, allows for more optimization\n",
    "    return k"
   ]
  },
  {
   "cell_type": "code",
   "execution_count": 8,
   "metadata": {},
   "outputs": [],
   "source": [
    "def sol(t,u,k,Atomic,Stoich):\n",
    "    #Only need to change:\n",
    "   \n",
    "    #------------------------------------------\n",
    "    # 1 = CO ; 2 = O ; 3 = O2 ; 4 = *\n",
    "    #Surface Coverage \n",
    "    th1 = u[0] #Theta_CO \n",
    "    th2 = u[1] #Theta_O\n",
    "    th3 = u[2] #Theta_O2\n",
    "    th4 = u[3] #Theta_*\n",
    "    THETA = [th1,th2,th3,th4] #Coverages being investigated\n",
    "        #Partial Pressures (Assuming all same as P)\n",
    "    P1 = Param.iloc[1,2]#P_CO\n",
    "    P2 = Param.iloc[1,2]#P_O2\n",
    "    P3 = Param.iloc[1,2]#P_CO2\n",
    "    #------------------------------------------\n",
    "    \n",
    "    Nr = len(Stoich) #Number of rows in your your stoich matrix, i.e (Number of reactions)\n",
    "    \n",
    "\n",
    "    kf = k[0::2] #Pulling out the forward rxn rate constants (::2 means every other value, skip by a step of 2)\n",
    "    kr = k[1::2] #Pulling out the reverse rxn rate constants \n",
    "\n",
    "    D = []      #Empty Vector For holding rate of change of coverage values\n",
    "    r = [None] * Nr  #Empty Vector for holding rate of a specific reaction\n",
    "    \n",
    "    #Calculating the rates of reactions:\n",
    "    for j in np.arange(Nr):   #Looping through the reactions\n",
    "        matr = [P1,P2,P3]+THETA\n",
    "        fwd = []\n",
    "        rvs = []\n",
    "        for i in np.arange(len(Stoich.iloc[0,:])-1):\n",
    "            if Stoich.iloc[j,i+1]<0: #extracting only forward relevant rate parameters  #forward rxn reactants /encounter probability\n",
    "                fwd.append(matr[i]**abs(Stoich.iloc[j,i+1]))\n",
    "                \n",
    "            if Stoich.iloc[j,i+1]>0: #extracting only reverse relevant rate parameters  #reverse rxn reactants /encounter probability\n",
    "                rvs.append(matr[i]**abs(Stoich.iloc[j,i+1]))   \n",
    "                \n",
    "        r[j] = (kf[j]*np.prod(fwd)) - (kr[j]*np.prod(rvs)) #Calculating the rate of reaction\n",
    "    \n",
    "\n",
    "    #Differential Equations to calculate the change in coverages\n",
    "    for i in np.arange(len(Stoich.iloc[:,4:])):\n",
    "        dsum=0\n",
    "        for j in np.arange(Nr):\n",
    "            \n",
    "            dsum += Stoich.iloc[j,i+4]*r[j] #Calculating the rate of production of a species i\n",
    "        \n",
    "        D.append(dsum)\n",
    "\n",
    "    return D  #   CO |  O  |  O2   |  *\n",
    "\n",
    "def Kinetics(k,Atomic,Stoich,init,Time,Teval=None):\n",
    "    t_span = (Time[0], Time[-1])\n",
    "    solve = solve_ivp(sol,t_span,init, args=(k,Atomic,Stoich),method='BDF', t_eval=Teval, rtol = 1E-8,atol = 1E-8,h0 = 1E-50)\n",
    "    solv = np.transpose(solve.y)\n",
    "    #print(k)\n",
    "    return solv"
   ]
  },
  {
   "cell_type": "markdown",
   "metadata": {},
   "source": [
    "Running the ODE solver: (Getting the coverage profiles)"
   ]
  },
  {
   "cell_type": "code",
   "execution_count": 9,
   "metadata": {
    "scrolled": true
   },
   "outputs": [
    {
     "name": "stderr",
     "output_type": "stream",
     "text": [
      "/Users/klkusima/opt/anaconda3/lib/python3.9/site-packages/scipy/integrate/_ivp/common.py:39: UserWarning: The following arguments have no effect for a chosen solver: `h0`.\n",
      "  warn(\"The following arguments have no effect for a chosen solver: {}.\"\n"
     ]
    },
    {
     "name": "stdout",
     "output_type": "stream",
     "text": [
      "400\n",
      "CPU times: user 2.93 s, sys: 18.8 ms, total: 2.95 s\n",
      "Wall time: 2.94 s\n"
     ]
    }
   ],
   "source": [
    "%%time\n",
    "#initial values:\n",
    "TCO_in = 0.0\n",
    "TO_in = 0.0\n",
    "TO2_in = 0.0\n",
    "TE_in = 1 - TCO_in-TO_in-TO2_in\n",
    "#init      CO | O  | O2   | *\n",
    "init = [TCO_in,TO_in,TO2_in,TE_in]  #initial values\n",
    "\n",
    "Time =np.linspace(0, 6e6, num=1000)\n",
    "k = kextract(Param)\n",
    "t_span = (Time[0], Time[-1])\n",
    "solve = solve_ivp(sol,t_span,init, args=(k,Atomic,Stoich),method='BDF', rtol = 1E-6,atol = 1E-8)#Obtaining the resulting Concentration of Coverages\n",
    "solv = np.transpose(solve.y)\n",
    "time_sol = np.transpose(solve.t)\n",
    "\n",
    "print(len(time_sol))"
   ]
  },
  {
   "cell_type": "markdown",
   "metadata": {},
   "source": [
    "# Implementing MKM ToolKit"
   ]
  },
  {
   "cell_type": "code",
   "execution_count": 11,
   "metadata": {},
   "outputs": [],
   "source": [
    "from main import *\n",
    "# %matplotlib notebook"
   ]
  },
  {
   "cell_type": "code",
   "execution_count": 12,
   "metadata": {},
   "outputs": [
    {
     "name": "stdout",
     "output_type": "stream",
     "text": [
      "Mass is conserved. \n",
      "\n"
     ]
    },
    {
     "data": {
      "text/html": [
       "<div>\n",
       "<style scoped>\n",
       "    .dataframe tbody tr th:only-of-type {\n",
       "        vertical-align: middle;\n",
       "    }\n",
       "\n",
       "    .dataframe tbody tr th {\n",
       "        vertical-align: top;\n",
       "    }\n",
       "\n",
       "    .dataframe thead th {\n",
       "        text-align: right;\n",
       "    }\n",
       "</style>\n",
       "<table border=\"1\" class=\"dataframe\">\n",
       "  <thead>\n",
       "    <tr style=\"text-align: right;\">\n",
       "      <th></th>\n",
       "      <th>Time</th>\n",
       "      <th>C_CO</th>\n",
       "      <th>C_O</th>\n",
       "      <th>C_O2</th>\n",
       "      <th>C_E</th>\n",
       "    </tr>\n",
       "  </thead>\n",
       "  <tbody>\n",
       "    <tr>\n",
       "      <th>0</th>\n",
       "      <td>0.0</td>\n",
       "      <td>0.000000</td>\n",
       "      <td>0.000000</td>\n",
       "      <td>0.0</td>\n",
       "      <td>1.000000</td>\n",
       "    </tr>\n",
       "    <tr>\n",
       "      <th>1</th>\n",
       "      <td>0.1</td>\n",
       "      <td>0.006076</td>\n",
       "      <td>0.030490</td>\n",
       "      <td>0.0</td>\n",
       "      <td>0.963433</td>\n",
       "    </tr>\n",
       "    <tr>\n",
       "      <th>2</th>\n",
       "      <td>0.2</td>\n",
       "      <td>0.011013</td>\n",
       "      <td>0.055556</td>\n",
       "      <td>0.0</td>\n",
       "      <td>0.933431</td>\n",
       "    </tr>\n",
       "    <tr>\n",
       "      <th>3</th>\n",
       "      <td>0.3</td>\n",
       "      <td>0.014431</td>\n",
       "      <td>0.075792</td>\n",
       "      <td>0.0</td>\n",
       "      <td>0.909776</td>\n",
       "    </tr>\n",
       "    <tr>\n",
       "      <th>4</th>\n",
       "      <td>0.4</td>\n",
       "      <td>0.018989</td>\n",
       "      <td>0.098362</td>\n",
       "      <td>0.0</td>\n",
       "      <td>0.882650</td>\n",
       "    </tr>\n",
       "    <tr>\n",
       "      <th>...</th>\n",
       "      <td>...</td>\n",
       "      <td>...</td>\n",
       "      <td>...</td>\n",
       "      <td>...</td>\n",
       "      <td>...</td>\n",
       "    </tr>\n",
       "    <tr>\n",
       "      <th>246</th>\n",
       "      <td>24.6</td>\n",
       "      <td>0.008464</td>\n",
       "      <td>0.442763</td>\n",
       "      <td>0.0</td>\n",
       "      <td>0.548774</td>\n",
       "    </tr>\n",
       "    <tr>\n",
       "      <th>247</th>\n",
       "      <td>24.7</td>\n",
       "      <td>0.007541</td>\n",
       "      <td>0.442274</td>\n",
       "      <td>0.0</td>\n",
       "      <td>0.550184</td>\n",
       "    </tr>\n",
       "    <tr>\n",
       "      <th>248</th>\n",
       "      <td>24.8</td>\n",
       "      <td>0.008030</td>\n",
       "      <td>0.442491</td>\n",
       "      <td>0.0</td>\n",
       "      <td>0.549479</td>\n",
       "    </tr>\n",
       "    <tr>\n",
       "      <th>249</th>\n",
       "      <td>24.9</td>\n",
       "      <td>0.008084</td>\n",
       "      <td>0.441732</td>\n",
       "      <td>0.0</td>\n",
       "      <td>0.550184</td>\n",
       "    </tr>\n",
       "    <tr>\n",
       "      <th>250</th>\n",
       "      <td>25.0</td>\n",
       "      <td>0.007812</td>\n",
       "      <td>0.442383</td>\n",
       "      <td>0.0</td>\n",
       "      <td>0.549805</td>\n",
       "    </tr>\n",
       "  </tbody>\n",
       "</table>\n",
       "<p>251 rows × 5 columns</p>\n",
       "</div>"
      ],
      "text/plain": [
       "     Time      C_CO       C_O  C_O2       C_E\n",
       "0     0.0  0.000000  0.000000   0.0  1.000000\n",
       "1     0.1  0.006076  0.030490   0.0  0.963433\n",
       "2     0.2  0.011013  0.055556   0.0  0.933431\n",
       "3     0.3  0.014431  0.075792   0.0  0.909776\n",
       "4     0.4  0.018989  0.098362   0.0  0.882650\n",
       "..    ...       ...       ...   ...       ...\n",
       "246  24.6  0.008464  0.442763   0.0  0.548774\n",
       "247  24.7  0.007541  0.442274   0.0  0.550184\n",
       "248  24.8  0.008030  0.442491   0.0  0.549479\n",
       "249  24.9  0.008084  0.441732   0.0  0.550184\n",
       "250  25.0  0.007812  0.442383   0.0  0.549805\n",
       "\n",
       "[251 rows x 5 columns]"
      ]
     },
     "execution_count": 12,
     "metadata": {},
     "output_type": "execute_result"
    }
   ],
   "source": [
    "fit = Fitting('KMC_Coverages.csv','Atomic.csv','Stoich.csv','Param.csv',CovgDep=False) #covgdep = Allowing for coverage dependance to be considered in the fit\n",
    "fit.Input"
   ]
  },
  {
   "cell_type": "code",
   "execution_count": 13,
   "metadata": {},
   "outputs": [],
   "source": [
    "time_sol = fit.Input.to_numpy()[:,0]\n",
    "C_CO = fit.Input.to_numpy()[:,1]\n",
    "C_O = fit.Input.to_numpy()[:,2]\n",
    "C_O2 = fit.Input.to_numpy()[:,3]\n",
    "C_E = fit.Input.to_numpy()[:,4]"
   ]
  },
  {
   "cell_type": "markdown",
   "metadata": {},
   "source": [
    "Plotting:"
   ]
  },
  {
   "cell_type": "code",
   "execution_count": 14,
   "metadata": {},
   "outputs": [
    {
     "data": {
      "image/png": "[encoded data removed]",
      "text/plain": [
       "<Figure size 432x288 with 1 Axes>"
      ]
     },
     "metadata": {
      "needs_background": "light"
     },
     "output_type": "display_data"
    }
   ],
   "source": [
    "plt.figure(1)\n",
    "plt.plot(time_sol, C_CO,'r-', label='CO*')        \n",
    "plt.plot(time_sol, C_O,'g-', label='O*') \n",
    "plt.plot(time_sol, C_O2, 'b-', label='O2*') \n",
    "plt.plot(time_sol, C_E, 'k-', label='*') \n",
    "\n",
    "plt.xlabel('Time, s')\n",
    "plt.ylabel(\"Coverage, $ML$\")\n",
    "plt.legend(fontsize=15, loc='best')\n",
    "plt.show()"
   ]
  },
  {
   "cell_type": "code",
   "execution_count": 15,
   "metadata": {},
   "outputs": [
    {
     "data": {
      "image/png": "[encoded data removed]",
      "text/plain": [
       "<Figure size 432x288 with 1 Axes>"
      ]
     },
     "metadata": {
      "needs_background": "light"
     },
     "output_type": "display_data"
    }
   ],
   "source": [
    "n = 80\n",
    "Time_t = time_sol[::round(len(time_sol)/n)]\n",
    "C_t_CO = C_CO[::round(len(C_CO)/n)]\n",
    "C_t_O = C_O[::round(len(C_O)/n)]\n",
    "C_t_O2 = C_O2[::round(len(C_O2)/n)]\n",
    "C_t_E = C_E[::round(len(C_E)/n)]\n",
    "\n",
    "plt.figure(2)\n",
    "plt.plot(Time_t, C_t_CO,'rp', label='CO*')        \n",
    "plt.plot(Time_t, C_t_O,'gp', label='O*') \n",
    "plt.plot(Time_t, C_t_O2, 'bp', label='O2*') \n",
    "plt.plot(Time_t, C_t_E, 'kp', label='*')\n",
    "\n",
    "plt.xlabel('Time, s')\n",
    "plt.ylabel(\"Coverage, $ML$\")\n",
    "plt.title('Sampled Data')\n",
    "plt.legend(fontsize=15, loc='best')\n",
    "plt.show()"
   ]
  },
  {
   "cell_type": "code",
   "execution_count": 17,
   "metadata": {},
   "outputs": [
    {
     "name": "stdout",
     "output_type": "stream",
     "text": [
      "\n",
      " The Guess Parameters Matrix:\n",
      "    Reaction_Descrp Parameter        Values        Units\n",
      "0              NaN         T  3.200000e+02            K\n",
      "1              NaN         R  8.314460e+00  JK^-1mol^-1\n",
      "2               CO        P1  1.000000e-08          bar\n",
      "3               O2        P2  1.000000e-08          bar\n",
      "4              CO2        P3  1.000000e-08          bar\n",
      "5               r1       k1f  5.810000e-02            -\n",
      "6              NaN       k1r  6.650000e-09            -\n",
      "7               r2       k2f  7.690000e+02            -\n",
      "8              NaN       k2r  1.150000e+05            -\n",
      "9               r3       k3f  2.600000e+05            -\n",
      "10             NaN       k3r  2.140000e-02            -\n",
      "11              r4       k4f  1.350000e+00            -\n",
      "12             NaN       k4r  5.000000e+02            -\n",
      "\n",
      "\n"
     ]
    }
   ],
   "source": [
    "Guess_Param = pd.read_csv(\"Param.csv\")[:13]     #Opening/Reading the Parameter input file needed to be read   \n",
    "print(\"\\n The Guess Parameters Matrix:\\n\",Guess_Param)\n",
    "print(\"\\n\")"
   ]
  },
  {
   "cell_type": "code",
   "execution_count": 18,
   "metadata": {},
   "outputs": [],
   "source": [
    "Guessk = kextract(Guess_Param)"
   ]
  },
  {
   "cell_type": "code",
   "execution_count": 19,
   "metadata": {},
   "outputs": [],
   "source": [
    "C_dat = np.c_[C_t_CO,C_t_O,C_t_O2,C_t_E]\n",
    "\n",
    "def minfunc(Guessk,Atomic,Stoich,Time,Conc):\n",
    "    \n",
    "    Conc_init = Conc[0,:]\n",
    "    c_estim = Kinetics(Guessk,Atomic,Stoich,Conc_init,Time,Time)\n",
    "    w = 1e4\n",
    "    error_t = w*abs(Conc[:,0] - c_estim[:,0]) +w*abs(Conc[:,1] - c_estim[:,1])+w*abs(Conc[:,2] - c_estim[:,2])+w*abs(Conc[:,3] - c_estim[:,3])\n",
    "        \n",
    "    error = sum(error_t)\n",
    "    return error  "
   ]
  },
  {
   "cell_type": "markdown",
   "metadata": {},
   "source": [
    "### [ A ] Using Curve Fit [Link](https://docs.scipy.org/doc/scipy/reference/generated/scipy.optimize.curve_fit.html)\n",
    "\n",
    "### Simple Fitting - Testing out different Curve Fit functions"
   ]
  },
  {
   "cell_type": "code",
   "execution_count": 20,
   "metadata": {},
   "outputs": [
    {
     "name": "stdout",
     "output_type": "stream",
     "text": [
      "CPU times: user 81.3 ms, sys: 2.37 ms, total: 83.6 ms\n",
      "Wall time: 85.3 ms\n"
     ]
    },
    {
     "name": "stderr",
     "output_type": "stream",
     "text": [
      "<timed exec>:5: RuntimeWarning: divide by zero encountered in log\n",
      "<timed exec>:5: RuntimeWarning: invalid value encountered in multiply\n",
      "<timed exec>:5: RuntimeWarning: invalid value encountered in add\n",
      "<timed exec>:7: RuntimeWarning: overflow encountered in exp\n",
      "<timed exec>:7: RuntimeWarning: overflow encountered in multiply\n"
     ]
    }
   ],
   "source": [
    "%%time\n",
    "#5 - parameter function fitting\n",
    "def test_func(x, a, b,c,d,e):\n",
    "    func1 = (a*x)**5 + (b*x)**4 + (c*x)**3 + (d*x)**2 + (e*x)**1 #polynomial\n",
    "    func2 = b*np.exp(-x/abs(a)) + (1-b)*np.exp(-x/abs(c)) + (1-c)*np.exp(-x/abs(d)) + (1-d)*np.exp(-x/abs(e)) #quadruple exponential function ft from correlation time fitting\n",
    "    func3 = b*np.log(x/abs(a)) + (1-b)*np.log(x/abs(c)) + (1-c)*np.log(x/abs(d)) + (1-d)*np.log(x/abs(e)) #log version of see above\n",
    "    func4 = np.sin(x*a/np.pi)+np.cos(x*b/np.pi)+np.cos(x*c/np.pi)+np.sin(x*d/np.pi)+np.cos(x*e/np.pi) # fourier series\n",
    "    func5 = a * np.exp(-b * x) +  c * np.exp(-d * x) + e  #simple exponential fit\n",
    "    return  func5\n",
    "\n",
    "c_fit = np.empty([len(C_dat[0:,]),len(C_dat[0])])\n",
    "\n",
    "for i in np.arange(len(C_dat[0])):\n",
    "    x_values = Time_t\n",
    "    y_values = C_dat[:,i]\n",
    "    params, params_covariance = optimize.curve_fit(test_func, x_values, y_values, method ='lm', maxfev=5000,\n",
    "                                                   p0=[1, 1, 1, 1, 1])\n",
    "    res_a = test_func(x_values, *params)#[0], params[1],params[2],params[3],params[4])\n",
    "    \n",
    "    c_fit[:,i]=res_a    "
   ]
  },
  {
   "cell_type": "code",
   "execution_count": 21,
   "metadata": {},
   "outputs": [
    {
     "data": {
      "image/png": "[encoded data removed]",
      "text/plain": [
       "<Figure size 432x288 with 1 Axes>"
      ]
     },
     "metadata": {
      "needs_background": "light"
     },
     "output_type": "display_data"
    }
   ],
   "source": [
    "plt.figure(3)\n",
    "C_fit_CO = c_fit[:,0]\n",
    "C_fit_O = c_fit[:,1]\n",
    "C_fit_O2 = c_fit[:,2]\n",
    "C_fit_E = c_fit[:,3]\n",
    "\n",
    "\n",
    "#Replotting the extracted dataset\n",
    "plt.plot(Time_t, C_t_CO,'rp', label='CO*')        \n",
    "plt.plot(Time_t, C_t_O,'gp', label='O*') \n",
    "plt.plot(Time_t, C_t_O2, 'bp', label='O2*') \n",
    "plt.plot(Time_t, C_t_E, 'kp', label='*') \n",
    "\n",
    "#Plotting the fit\n",
    "\n",
    "plt.plot(Time_t, C_fit_CO,'r-', label='CO*')        \n",
    "plt.plot(Time_t, C_fit_O,'g-', label='O*') \n",
    "plt.plot(Time_t, C_fit_O2, 'b-', label='O2*') \n",
    "plt.plot(Time_t, C_fit_E, 'k-', label='*') \n",
    "\n",
    "\n",
    "plt.xlabel('Time, s')\n",
    "plt.ylabel(\"Coverage, $ML$\")\n",
    "plt.legend(fontsize=8, loc='best')\n",
    "plt.title(\"A.i: Using Curve Fit - Generic Functions\")\n",
    "plt.show()"
   ]
  },
  {
   "cell_type": "markdown",
   "metadata": {},
   "source": [
    "### Simple Fitting Using Curve Fit - Implementing Kinetic Function"
   ]
  },
  {
   "cell_type": "code",
   "execution_count": 25,
   "metadata": {},
   "outputs": [
    {
     "name": "stderr",
     "output_type": "stream",
     "text": [
      "/Users/klkusima/opt/anaconda3/lib/python3.9/site-packages/scipy/integrate/_ivp/common.py:39: UserWarning: The following arguments have no effect for a chosen solver: `h0`.\n",
      "  warn(\"The following arguments have no effect for a chosen solver: {}.\"\n"
     ]
    },
    {
     "name": "stdout",
     "output_type": "stream",
     "text": [
      "CPU times: user 20min 14s, sys: 24.7 s, total: 20min 38s\n",
      "Wall time: 19min\n"
     ]
    }
   ],
   "source": [
    "%%time\n",
    "from numpy import inf\n",
    "#k - parameter function fitting\n",
    "def test_func(x, *Guess):\n",
    "    #Guess = np.asarray(Guess)\n",
    "    Conc_init = C_dat[0,:]\n",
    "    func = Kinetics(Guess,Atomic,Stoich,Conc_init,Time_t,Time_t)\n",
    "    func = np.reshape(func, func.size)\n",
    "    return  func\n",
    "\n",
    "x_values = Time_t\n",
    "y_values = np.reshape(C_dat, C_dat.size)\n",
    "params, params_covariance = optimize.curve_fit(test_func, x_values, y_values, method ='trf',xtol=1e-8,ftol=1e-8\n",
    "                                               ,maxfev=1e5, bounds=(0,inf)\n",
    "                                                ,p0=Guessk)\n",
    "res_a = test_func(x_values, *params)\n",
    "    \n",
    "c_fit=res_a.reshape(np.shape(C_dat))    "
   ]
  },
  {
   "cell_type": "code",
   "execution_count": 26,
   "metadata": {},
   "outputs": [
    {
     "name": "stdout",
     "output_type": "stream",
     "text": [
      "[4.19506702e+00 1.58821408e+04 2.31455777e-03 2.43122226e+05\n",
      " 2.73022473e+05 8.82241500e+02 5.44497953e+01 5.71269010e+01]\n",
      "conf: [1.15587127e+04 3.59155505e+07 1.52696490e+03 5.48038584e+08\n",
      " 2.80114383e+09 3.56821134e+06 9.53207019e+05 1.29004729e+05]\n"
     ]
    }
   ],
   "source": [
    "print(params)\n",
    "print('conf:', np.sqrt(np.diag(params_covariance)))"
   ]
  },
  {
   "cell_type": "code",
   "execution_count": 27,
   "metadata": {},
   "outputs": [
    {
     "data": {
      "image/png": "[encoded data removed]",
      "text/plain": [
       "<Figure size 432x288 with 1 Axes>"
      ]
     },
     "metadata": {
      "needs_background": "light"
     },
     "output_type": "display_data"
    }
   ],
   "source": [
    "plt.figure(4)\n",
    "C_fit_CO = c_fit[:,0]\n",
    "C_fit_O = c_fit[:,1]\n",
    "C_fit_O2 = c_fit[:,2]\n",
    "C_fit_E = c_fit[:,3]\n",
    "\n",
    "\n",
    "#Replotting the extracted dataset\n",
    "plt.plot(Time_t, C_t_CO,'rp', label='CO*')        \n",
    "plt.plot(Time_t, C_t_O,'gp', label='O*') \n",
    "plt.plot(Time_t, C_t_O2, 'bp', label='O2*') \n",
    "plt.plot(Time_t, C_t_E, 'kp', label='*') \n",
    "\n",
    "#Plotting the fit\n",
    "\n",
    "plt.plot(Time_t, C_fit_CO,'r-', label='CO*')        \n",
    "plt.plot(Time_t, C_fit_O,'g-', label='O*') \n",
    "plt.plot(Time_t, C_fit_O2, 'b-', label='O2*') \n",
    "plt.plot(Time_t, C_fit_E, 'k-', label='*') \n",
    "\n",
    "\n",
    "plt.xlabel('Time, s')\n",
    "plt.ylabel(\"Coverage, $ML$\")\n",
    "plt.legend(fontsize=8, loc='best')\n",
    "plt.title(\"A.ii: Using Curve Fit - With Function Fit being of Kinetic Origin\")\n",
    "plt.show()"
   ]
  },
  {
   "cell_type": "markdown",
   "metadata": {},
   "source": [
    "# --------------------------------------------------------------------------------------"
   ]
  },
  {
   "cell_type": "markdown",
   "metadata": {},
   "source": [
    "### [ B ] Using Differential Evolution [Link](https://docs.scipy.org/doc/scipy/reference/generated/scipy.optimize.differential_evolution.html)"
   ]
  },
  {
   "cell_type": "code",
   "execution_count": 17,
   "metadata": {},
   "outputs": [
    {
     "name": "stderr",
     "output_type": "stream",
     "text": [
      "/Users/klkusima/opt/anaconda3/lib/python3.9/site-packages/scipy/integrate/_ivp/common.py:39: UserWarning: The following arguments have no effect for a chosen solver: `h0`.\n",
      "  warn(\"The following arguments have no effect for a chosen solver: {}.\"\n"
     ]
    },
    {
     "name": "stdout",
     "output_type": "stream",
     "text": [
      "differential_evolution step 1: f(x)= 1.08781\n",
      "differential_evolution step 2: f(x)= 1.08781\n",
      "differential_evolution step 3: f(x)= 1.08781\n",
      "differential_evolution step 4: f(x)= 0.88768\n",
      "differential_evolution step 5: f(x)= 0.887245\n",
      "CPU times: user 21min 37s, sys: 3.71 s, total: 21min 41s\n",
      "Wall time: 21min 41s\n"
     ]
    }
   ],
   "source": [
    "%%time\n",
    "from scipy.optimize import curve_fit, differential_evolution    \n",
    "Guessk = k*1.1\n",
    "def error_fun(Guessk,Atomic,Stoich,Time,Conc):\n",
    "    Conc_init = Conc[0,:]\n",
    "    y_estim = Kinetics(Guessk,Atomic,Stoich,Conc_init,Time,Time)\n",
    "    y_data = Conc\n",
    "    return np.sum((y_data - y_estim) ** 2)\n",
    "\n",
    "#max K Guess parameters\n",
    "sc = 1e2 #scaling value\n",
    "mkval = Guessk*sc #max kvals\n",
    "bounds = np.empty([len(mkval),2])\n",
    "for i in range(len(mkval)):\n",
    "    bounds[i] = (0,mkval[i])\n",
    "    \n",
    "res_b = differential_evolution(error_fun,\n",
    "                             bounds= bounds,\n",
    "                             args=(Atomic,Stoich,Time_t,C_dat),\n",
    "                             seed=42, maxiter=5,disp=True, polish=True,workers=1)"
   ]
  },
  {
   "cell_type": "code",
   "execution_count": 19,
   "metadata": {},
   "outputs": [
    {
     "name": "stdout",
     "output_type": "stream",
     "text": [
      "[6.90159725e+01 0.00000000e+00 8.65829635e+03 6.49132576e+06\n",
      " 5.43517747e+10 2.15730588e+00 1.36742023e-05 9.89030581e+02]\n"
     ]
    },
    {
     "name": "stderr",
     "output_type": "stream",
     "text": [
      "/Users/klkusima/opt/anaconda3/lib/python3.9/site-packages/scipy/integrate/_ivp/common.py:39: UserWarning: The following arguments have no effect for a chosen solver: `h0`.\n",
      "  warn(\"The following arguments have no effect for a chosen solver: {}.\"\n"
     ]
    },
    {
     "data": {
      "image/png": "[encoded data removed]",
      "text/plain": [
       "<Figure size 432x288 with 1 Axes>"
      ]
     },
     "metadata": {
      "needs_background": "light"
     },
     "output_type": "display_data"
    }
   ],
   "source": [
    "k_fit_b = res_b.x\n",
    "print(k_fit_b)\n",
    "c_fit = Kinetics(k_fit_b,Atomic,Stoich,init,Time_t,Time_t)\n",
    "\n",
    "C_fit_CO = c_fit[:,0]\n",
    "C_fit_O = c_fit[:,1]\n",
    "C_fit_O2 = c_fit[:,2]\n",
    "C_fit_E = c_fit[:,3]\n",
    "\n",
    "plt.figure(5)\n",
    "#Replotting the extracted dataset\n",
    "plt.plot(Time_t, C_t_CO,'rp', label='CO*')        \n",
    "plt.plot(Time_t, C_t_O,'gp', label='O*') \n",
    "plt.plot(Time_t, C_t_O2, 'bp', label='O2*') \n",
    "plt.plot(Time_t, C_t_E, 'kp', label='*') \n",
    "\n",
    "#Plotting the fit\n",
    "\n",
    "plt.plot(Time_t, C_fit_CO,'r-', label='CO*')        \n",
    "plt.plot(Time_t, C_fit_O,'g-', label='O*') \n",
    "plt.plot(Time_t, C_fit_O2, 'b-', label='O2*') \n",
    "plt.plot(Time_t, C_fit_E, 'k-', label='*') \n",
    "\n",
    "\n",
    "plt.xlabel('Time, s')\n",
    "plt.ylabel(\"Coverage, $ML$\")\n",
    "plt.legend(fontsize=8, loc='best')\n",
    "plt.title(\"B: Using Diff Evolution\")\n",
    "plt.show()"
   ]
  },
  {
   "cell_type": "markdown",
   "metadata": {},
   "source": [
    "### [ C ] Using SHGO - Simplicial homology global optimization [Link](https://docs.scipy.org/doc/scipy/reference/generated/scipy.optimize.shgo.html#scipy.optimize.shgo)"
   ]
  },
  {
   "cell_type": "code",
   "execution_count": 19,
   "metadata": {},
   "outputs": [
    {
     "name": "stdout",
     "output_type": "stream",
     "text": [
      "Splitting first generation\n"
     ]
    },
    {
     "name": "stderr",
     "output_type": "stream",
     "text": [
      "/Users/klkusima/opt/anaconda3/lib/python3.9/site-packages/scipy/integrate/_ivp/common.py:39: UserWarning: The following arguments have no effect for a chosen solver: `h0`.\n",
      "  warn(\"The following arguments have no effect for a chosen solver: {}.\"\n"
     ]
    },
    {
     "name": "stdout",
     "output_type": "stream",
     "text": [
      "Starting minimization at [5.e+01 5.e-08 5.e+03 5.e+06 5.e+09 5.e-03 5.e-07 5.e+03]...\n",
      "bounds in kwarg:\n",
      "[[0.0, 100.0], [0.0, 1.0000000000000001e-07], [0.0, 10000.0], [0.0, 10000000.0], [0.0, 10000000000.0], [0.0, 0.01], [0.0, 1e-06], [0.0, 10000.0]]\n",
      "lres =      fun: 4.337256188916157\n",
      "     jac: array([ 3.36128473e-03, -3.63898043e+06,  7.71284103e-05,  5.36441803e-07,\n",
      "       -4.35190916e-11,  4.37718506e+01, -6.91837706e+05,  3.29971313e-04])\n",
      " message: 'Optimization terminated successfully'\n",
      "    nfev: 9\n",
      "     nit: 5\n",
      "    njev: 1\n",
      "  status: 0\n",
      " success: True\n",
      "       x: array([5.e+01, 5.e-08, 5.e+03, 5.e+06, 5.e+09, 5.e-03, 5.e-07, 5.e+03])\n",
      "Successfully completed construction of complex.\n",
      "CPU times: user 4min 18s, sys: 1.06 s, total: 4min 19s\n",
      "Wall time: 4min 19s\n"
     ]
    }
   ],
   "source": [
    "%%time\n",
    "from scipy.optimize import shgo    \n",
    "\n",
    "def error_fun(Guessk,Atomic,Stoich,Time,Conc):\n",
    "    Conc_init = Conc[0,:]\n",
    "    y_estim = Kinetics(Guessk,Atomic,Stoich,Conc_init,Time,Time)\n",
    "    y_data = Conc\n",
    "    return np.sum((y_data - y_estim) ** 2)\n",
    "\n",
    "#max K Guess parameters\n",
    "sc = 1e2 #scaling value\n",
    "mkval = Guessk*sc #max kvals\n",
    "bounds = np.empty([len(mkval),2])\n",
    "for i in range(len(mkval)):\n",
    "    bounds[i] = (0,mkval[i])\n",
    "    \n",
    "res_c = shgo(error_fun,bounds= bounds,\n",
    "                     args=(Atomic,Stoich,Time_t,C_dat),\n",
    "                     iters=1, options = {'ftol': 1e-06, 'gtol': 1e-06,'maxfun': 10, 'maxiter': 2, 'disp' : True})"
   ]
  },
  {
   "cell_type": "code",
   "execution_count": 21,
   "metadata": {},
   "outputs": [],
   "source": [
    "def CI95(fvec, jac):\n",
    "    #Returns the 95% confidence interval on parameters\n",
    "    \n",
    "    rss = np.sum(fvec**2) # residual sum of squares\n",
    "    \n",
    "    n, p = jac.shape     # number of data points and parameters\n",
    "   \n",
    "    nmp = n - p          # the statistical degrees of freedom\n",
    "    \n",
    "    ssq = rss / nmp      # mean residual error\n",
    "    \n",
    "    J = np.matrix(jac)   # the Jacobian\n",
    "    \n",
    "    c = inv(J.T*J)       # covariance matrix\n",
    "    \n",
    "    pcov = c * ssq       # variance-covariance matrix.\n",
    "    # Diagonal terms provide error estimate based on uncorrelated parameters.\n",
    "    \n",
    "    err = np.sqrt(np.diag(np.abs(pcov))) * 1.96  # std. dev. x 1.96 -> 95% conf\n",
    "    # Here err is the full 95% area under the normal distribution curve. \n",
    "    return err"
   ]
  },
  {
   "cell_type": "code",
   "execution_count": 22,
   "metadata": {},
   "outputs": [
    {
     "name": "stdout",
     "output_type": "stream",
     "text": [
      "[5.e+01 5.e-08 5.e+03 5.e+06 5.e+09 5.e-03 5.e-07 5.e+03]\n"
     ]
    },
    {
     "data": {
      "image/png": "[encoded data removed]",
      "text/plain": [
       "<Figure size 432x288 with 1 Axes>"
      ]
     },
     "metadata": {
      "needs_background": "light"
     },
     "output_type": "display_data"
    }
   ],
   "source": [
    "k_fit_c = res_c.x\n",
    "print(k_fit_c)\n",
    "c_fit = Kinetics(k_fit_c,Atomic,Stoich,init,Time_t,Time_t)\n",
    "\n",
    "C_fit_CO = c_fit[:,0]\n",
    "C_fit_O = c_fit[:,1]\n",
    "C_fit_O2 = c_fit[:,2]\n",
    "C_fit_E = c_fit[:,3]\n",
    "\n",
    "plt.figure(6)\n",
    "#Replotting the extracted dataset\n",
    "plt.plot(Time_t, C_t_CO,'rp', label='CO*')        \n",
    "plt.plot(Time_t, C_t_O,'gp', label='O*') \n",
    "plt.plot(Time_t, C_t_O2, 'bp', label='O2*') \n",
    "plt.plot(Time_t, C_t_E, 'kp', label='*') \n",
    "\n",
    "#Plotting the fit\n",
    "\n",
    "plt.plot(Time_t, C_fit_CO,'r-', label='CO*')        \n",
    "plt.plot(Time_t, C_fit_O,'g-', label='O*') \n",
    "plt.plot(Time_t, C_fit_O2, 'b-', label='O2*') \n",
    "plt.plot(Time_t, C_fit_E, 'k-', label='*') \n",
    "\n",
    "\n",
    "plt.xlabel('Time, s')\n",
    "plt.ylabel(\"Coverage, $ML$\")\n",
    "plt.legend(fontsize=8, loc='best')\n",
    "plt.title(\"C: Using SHGO Evolution\")\n",
    "plt.show()"
   ]
  },
  {
   "cell_type": "markdown",
   "metadata": {},
   "source": [
    "### [ D ] Using Dual Annealing - Combination of CSA (Classical Simulated Annealing) and FSA (Fast Simulated Annealing)  [Link](https://docs.scipy.org/doc/scipy/reference/generated/scipy.optimize.dual_annealing.html?highlight=dual_annealing#scipy.optimize.dual_annealing)"
   ]
  },
  {
   "cell_type": "code",
   "execution_count": 23,
   "metadata": {},
   "outputs": [
    {
     "name": "stderr",
     "output_type": "stream",
     "text": [
      "/Users/klkusima/opt/anaconda3/lib/python3.9/site-packages/scipy/integrate/_ivp/common.py:39: UserWarning: The following arguments have no effect for a chosen solver: `h0`.\n",
      "  warn(\"The following arguments have no effect for a chosen solver: {}.\"\n"
     ]
    },
    {
     "name": "stdout",
     "output_type": "stream",
     "text": [
      "CPU times: user 2min 8s, sys: 479 ms, total: 2min 8s\n",
      "Wall time: 2min 8s\n"
     ]
    }
   ],
   "source": [
    "%%time\n",
    "from scipy.optimize import dual_annealing    \n",
    "\n",
    "def error_fun(Guessk,Atomic,Stoich,Time,Conc):\n",
    "    Conc_init = Conc[0,:]\n",
    "    y_estim = Kinetics(Guessk,Atomic,Stoich,Conc_init,Time,Time)\n",
    "    y_data = Conc\n",
    "    return np.sum((y_data - y_estim) ** 2)\n",
    "\n",
    "#max K Guess parameters\n",
    "sc = 1e2 #scaling value\n",
    "mkval = Guessk*sc #max kvals\n",
    "bounds = np.empty([len(mkval),2])\n",
    "for i in range(len(mkval)):\n",
    "    bounds[i] = (0,mkval[i])\n",
    "    \n",
    "res_d = dual_annealing(error_fun,bounds= bounds,\n",
    "                     args=(Atomic,Stoich,Time_t,C_dat),\n",
    "                     maxiter=10, maxfun = 100)"
   ]
  },
  {
   "cell_type": "code",
   "execution_count": 24,
   "metadata": {},
   "outputs": [
    {
     "name": "stdout",
     "output_type": "stream",
     "text": [
      "[9.51153567e+01 1.00000000e-07 5.50207940e+02 3.81803520e+06\n",
      " 9.70853355e+09 3.89212570e-03 1.00000000e-06 1.18806586e+03]\n"
     ]
    },
    {
     "data": {
      "image/png": "[encoded data removed]",
      "text/plain": [
       "<Figure size 432x288 with 1 Axes>"
      ]
     },
     "metadata": {
      "needs_background": "light"
     },
     "output_type": "display_data"
    }
   ],
   "source": [
    "k_fit_d = res_d.x\n",
    "print(k_fit_d)\n",
    "c_fit = Kinetics(k_fit_d,Atomic,Stoich,init,Time_t,Time_t)\n",
    "\n",
    "C_fit_CO = c_fit[:,0]\n",
    "C_fit_O = c_fit[:,1]\n",
    "C_fit_O2 = c_fit[:,2]\n",
    "C_fit_E = c_fit[:,3]\n",
    "\n",
    "plt.figure(7)\n",
    "#Replotting the extracted dataset\n",
    "plt.plot(Time_t, C_t_CO,'rp', label='CO*')        \n",
    "plt.plot(Time_t, C_t_O,'gp', label='O*') \n",
    "plt.plot(Time_t, C_t_O2, 'bp', label='O2*') \n",
    "plt.plot(Time_t, C_t_E, 'kp', label='*') \n",
    "\n",
    "#Plotting the fit\n",
    "\n",
    "plt.plot(Time_t, C_fit_CO,'r-', label='CO*')        \n",
    "plt.plot(Time_t, C_fit_O,'g-', label='O*') \n",
    "plt.plot(Time_t, C_fit_O2, 'b-', label='O2*') \n",
    "plt.plot(Time_t, C_fit_E, 'k-', label='*') \n",
    "\n",
    "\n",
    "plt.xlabel('Time, s')\n",
    "plt.ylabel(\"Coverage, $ML$\")\n",
    "plt.legend(fontsize=8, loc='best')\n",
    "plt.title(\"D: Using Dual Annealing\")\n",
    "plt.show()"
   ]
  },
  {
   "cell_type": "markdown",
   "metadata": {},
   "source": [
    "### [ E ]  Using SPLINES [Link](https://docs.scipy.org/doc/scipy/reference/generated/scipy.interpolate.UnivariateSpline.html?highlight=univariatespline#scipy.interpolate.UnivariateSpline)"
   ]
  },
  {
   "cell_type": "code",
   "execution_count": 25,
   "metadata": {
    "scrolled": true
   },
   "outputs": [
    {
     "data": {
      "image/png": "[encoded data removed]",
      "text/plain": [
       "<Figure size 432x288 with 1 Axes>"
      ]
     },
     "metadata": {
      "needs_background": "light"
     },
     "output_type": "display_data"
    },
    {
     "name": "stdout",
     "output_type": "stream",
     "text": [
      "CPU times: user 90 ms, sys: 2.33 ms, total: 92.4 ms\n",
      "Wall time: 93.3 ms\n"
     ]
    }
   ],
   "source": [
    "%%time\n",
    "from scipy.interpolate import UnivariateSpline, InterpolatedUnivariateSpline\n",
    "#fitting spline - loop\n",
    "C_fit_in = np.empty([len(x_values),4])\n",
    "for i in np.arange(4):\n",
    "    res_e = UnivariateSpline(x_values, C_dat[:,i], k=5)\n",
    "    res_e.set_smoothing_factor(1e-5)\n",
    "    C_fit_in[:,i] = res_e(x_values)\n",
    "    \n",
    "    \n",
    "C_fit_CO = C_fit_in[:,0]\n",
    "C_fit_O = C_fit_in[:,1]\n",
    "C_fit_O2 = C_fit_in[:,2]\n",
    "C_fit_E = C_fit_in[:,3]  \n",
    "\n",
    "plt.figure(8)\n",
    "\n",
    "#Replotting the extracted dataset\n",
    "plt.plot(Time_t, C_t_CO,'rp', label='CO*')        \n",
    "plt.plot(Time_t, C_t_O,'gp', label='O*') \n",
    "plt.plot(Time_t, C_t_O2, 'bp', label='O2*') \n",
    "plt.plot(Time_t, C_t_E, 'kp', label='*') \n",
    "\n",
    "#Plotting the fit\n",
    "\n",
    "plt.plot(Time_t, C_fit_CO,'r-', label='CO*')        \n",
    "plt.plot(Time_t, C_fit_O,'g-', label='O*') \n",
    "plt.plot(Time_t, C_fit_O2, 'b-', label='O2*') \n",
    "plt.plot(Time_t, C_fit_E, 'k-', label='*') \n",
    "\n",
    "plt.xlabel('Time, s')\n",
    "plt.ylabel(\"Coverage, $ML$\")\n",
    "plt.legend(fontsize=8, loc='best')\n",
    "plt.title(\"E: Using Splines\")\n",
    "plt.show()"
   ]
  },
  {
   "cell_type": "code",
   "execution_count": null,
   "metadata": {},
   "outputs": [],
   "source": []
  }
 ],
 "metadata": {
  "kernelspec": {
   "display_name": "Python 3 (ipykernel)",
   "language": "python",
   "name": "python3"
  },
  "language_info": {
   "codemirror_mode": {
    "name": "ipython",
    "version": 3
   },
   "file_extension": ".py",
   "mimetype": "text/x-python",
   "name": "python",
   "nbconvert_exporter": "python",
   "pygments_lexer": "ipython3",
   "version": "3.9.7"
  }
 },
 "nbformat": 4,
 "nbformat_minor": 4
}
