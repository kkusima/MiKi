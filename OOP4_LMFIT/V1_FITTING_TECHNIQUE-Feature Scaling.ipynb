{
 "cells": [
  {
   "cell_type": "markdown",
   "metadata": {},
   "source": [
    "***\n",
    "$$\\mathbf{\\text{Author: Kenneth Kusima}}$$<br>\n",
    "$$\\mathbf{\\text{Python Kinetics Code}}$$<br>\n",
    "$\\mathbf{\\text{Date: 02/01/22}}$<br>\n",
    "***"
   ]
  },
  {
   "cell_type": "markdown",
   "metadata": {},
   "source": [
    "***\n",
    "$\\mathbf{\\text{Simple Micro Kinetic Model for CO Oxidation}}:$<br>\n",
    "***\n",
    "$$\\require{mhchem}$$       \n",
    "---\n",
    "Overall Reaction: \n",
    "$$ CO + \\frac{1}{2} O_2 {\\stackrel{\\tiny{\\textrm{Pt/Pd}}}{\\rightleftharpoons}} CO_2 $$\n",
    "---\n",
    "Note Reations in the Reaction Mechanism may be reversible or irreversible\n",
    "\n",
    "Reaction 1:&emsp;Adsorption of CO\n",
    "\n",
    "$$ CO + * \\rightleftharpoons CO^{*} $$\n",
    "\n",
    "Reaction 2:&emsp;Adsorption of $O_2$\n",
    "\n",
    "$$ O_2 + * \\rightleftharpoons {O_2}^{*} $$\n",
    "\n",
    "Reaction 3:&emsp;Dissociation of ${O_2}^*$ \n",
    "\n",
    "$$ {O_2}^* + * \\rightleftharpoons 2{O}^* $$\n",
    "\n",
    "Reaction 4:&emsp;Surface Reaction of $CO$ and $O_2$  \n",
    "\n",
    "$$ {CO}^{*} + {O}^{*} \\rightleftharpoons CO_2 + 2* $$\n",
    "\n"
   ]
  },
  {
   "cell_type": "markdown",
   "metadata": {},
   "source": [
    "***\n",
    "$\\mathbf{\\text{Modelling Proposed Reaction Mechanism}}:$<br>\n",
    "***\n",
    "${{k_i}^j= \\textrm{Rate constant/coefficient for reaction i,}} \\\\  \\hspace{0.5cm} \\textrm{for j = {f,r} ; where f = forward reaction and r  = the reverse reaction} \\\\ r_i = \\textrm{Rate of reaction for reaction i}$\n",
    "\n",
    "${\\theta_m = \\textrm{Surface Coverage of species m}} \\\\ \\sum_{m=1}^{N} \\theta_{m} = 1 \\\\ \\hspace{1.3cm} =\n",
    "\\theta_{CO} + \\theta_{O_2} + \\theta_{O} + \\theta_{*}$\n",
    "\n",
    "### The Atomic/Species Matrix ($\\nu$):\n",
    "\n",
    "The participating species for this surface reaction mechanism are:\n",
    "1. CO\n",
    "2. $O_2$\n",
    "3. $CO_2$\n",
    "4. $CO^*$\n",
    "5. $O^*$\n",
    "6. ${O_2}^*$\n",
    "7. *\n",
    "\n",
    "\\begin{equation}\n",
    "\\\n",
    "\\nu=\\begin{bmatrix}\n",
    "    &   CO    &   O_2   &   CO_2  &      CO^*    &     O*     &    O_2^*     &   *\\\\\n",
    "C   &   1     &   0     &   1     &      1       &     0      &     0        &   0\\\\\n",
    "O   &   1     &   2     &   2     &      1       &     1      &     2        &   0\\\\\n",
    "*   &   0     &   0     &   0     &      1       &     1      &     1        &   1\\end{bmatrix} \n",
    "\\\n",
    "\\end{equation}\n",
    "\n",
    "Atomic Matrix Size : (3x7)\n",
    "### The Stoichiometric Matrix (A):\n",
    "\n",
    "\\begin{equation}\n",
    "\\\n",
    "A=\\begin{bmatrix}\n",
    "    & P_{CO} & P_{O_2} & P_{CO_2} & \\theta_{CO} & \\theta_{O} & \\theta_{O_2} &\\theta_{*}\\\\\n",
    "r_1 &  -1     &   0     &   0     &      1       &     0      &     0        &  -1\\\\\n",
    "r_2 &   0     &  -1     &   0     &      0       &     0      &     1        &  -1\\\\\n",
    "r_3 &   0     &   0     &   0     &      0       &     2      &    -1        &  -1\\\\     \n",
    "r_4 &   0     &   0     &   1     &     -1       &    -1      &     0        &   2\\end{bmatrix} \n",
    "\\\n",
    "\\end{equation}\n",
    "\n",
    "Stoichiometric Matrix Size : (4x7)\n",
    "\n",
    "Note:\n",
    "\n",
    "- For Mass to be conserved:\n",
    "$$\\mathbf{A}\\mathbf{\\nu = 0}$$\n",
    "\n",
    "$i =$ species\n",
    "\n",
    "$j =$ reaction\n",
    "\n",
    "- To find the Rate of reaction of reaction j:\n",
    "\n",
    "$$ r_j = k_{j,f} \\prod_{i_f} P_{i,f} \\theta_{i,f}^{\\nu_i} - k_{j,r} \\prod_{i_r} P_{i,r} \\theta_{i,r}^{\\nu_i}  $$\n",
    "\n",
    "- To find the Rate of production of species i:\n",
    "$$R_{\\theta_i}=\\frac{d\\theta_i}{dt} = \\sum_j A_{j,i} \\cdot r_j $$\n",
    "\n",
    "#### Therefore:\n",
    "\n",
    "Rate Equations:&emsp;\n",
    "\n",
    "$$r_1 = k_{1}^f \\cdot \\textrm{P}_{CO} \\cdot \\theta_{*} - k_{1}^r \\cdot \\theta_{CO} $$\n",
    "\n",
    "$$r_2 = k_{2}^f \\cdot \\textrm{P}_{O_2} \\cdot \\theta_{*} - k_{2}^r \\cdot \\theta_{O_{2}} $$\n",
    "\n",
    "$$r_3 = k_{3}^f \\cdot \\theta_{O_2} \\cdot \\theta_{*} - k_{3}^r \\cdot \\theta_{O}^2 $$\n",
    "\n",
    "$$r_4 = k_{4}^f \\cdot \\theta_{CO} \\cdot \\theta_{O} - k_{4}^r \\cdot \\textrm{P}_{{CO}_2} \\cdot \\theta_{*}^2 $$\n",
    "\n",
    "The Corresponding Differential Equations corresponding to the rate of formations/productions of the different coverages:\n",
    "\n",
    "$$R_{\\theta_{CO}} = \\frac{d\\theta_{CO}}{dt} = r_1 - r_4$$\n",
    "\n",
    "$$R_{\\theta_{O_2}} = \\frac{d\\theta_{O_2}}{dt} = r_2 - r_3 $$\n",
    "\n",
    "$$R_{\\theta_{O}} = \\frac{d\\theta_{O}}{dt} = 2 r_3 - r_4 $$\n",
    "\n",
    "$$R_{\\theta_{*}} = \\frac{d\\theta_{*}}{dt} = 2 r_4 - r_1 - r_2 - r_3 $$\n",
    "\n"
   ]
  },
  {
   "cell_type": "code",
   "execution_count": 1,
   "metadata": {},
   "outputs": [],
   "source": [
    "# %matplotlib notebook\n",
    "from scipy.integrate import odeint\n",
    "from scipy.integrate import solve_ivp\n",
    "import matplotlib.pyplot as plt\n",
    "import numpy as np\n",
    "import pandas as pd\n",
    "from scipy import optimize"
   ]
  },
  {
   "cell_type": "code",
   "execution_count": 2,
   "metadata": {},
   "outputs": [
    {
     "name": "stdout",
     "output_type": "stream",
     "text": [
      "Reaction\\Stoichiometric Matrix:\n",
      "   r\\S  P_CO  P_O2  P_CO2  theta_CO  theta_O  theta_O2  theta_*\n",
      "0  r1    -1     0      0         1        0         0       -1\n",
      "1  r2     0    -1      0         0        0         1       -1\n",
      "2  r3     0     0      0         0        2        -1       -1\n",
      "3  r4     0     0      1        -1       -1         0        2\n",
      "\n",
      " Atomic\\Species Matrix:\n",
      "   A\\S  CO  O2  CO2  CO*  O*  O2*  *\n",
      "0   C   1   0    1    1   0    0  0\n",
      "1   O   1   2    2    1   1    2  0\n",
      "2   *   0   0    0    1   1    1  1\n",
      "\n",
      " Parameters Matrix:\n",
      "    Reaction_Descrp Parameter        Values        Units\n",
      "0              NaN         T  3.200000e+02            K\n",
      "1              NaN         R  8.314460e+00  JK^-1mol^-1\n",
      "2               CO        P1  1.000000e-08          bar\n",
      "3               O2        P2  1.000000e-08          bar\n",
      "4              CO2        P3  1.000000e-08          bar\n",
      "5               r1       k1f  2.000000e+00            -\n",
      "6              NaN       k1r  6.650000e-09            -\n",
      "7               r2       k2f  2.310000e+02            -\n",
      "8              NaN       k2r  1.150000e+05            -\n",
      "9               r3       k3f  6.130000e+08            -\n",
      "10             NaN       k3r  2.140000e-02            -\n",
      "11              r4       k4f  2.850000e-06            -\n",
      "12             NaN       k4r  5.000000e+02            -\n"
     ]
    }
   ],
   "source": [
    "Stoich = pd.read_csv(\"Stoich_1.csv\")    #Opening/Reading the Stoichiometric input file needed to be read\n",
    "Atomic = pd.read_csv(\"Atomic_1.csv\")     #Opening/Reading the Atomic input file needed to be read\n",
    "Param = pd.read_csv(\"Param_1.csv\")[:13]     #Opening/Reading the Parameter input file needed to be read   \n",
    "print(\"Reaction\\Stoichiometric Matrix:\\n\",Stoich)\n",
    "print(\"\\n Atomic\\Species Matrix:\\n\",Atomic)\n",
    "print(\"\\n Parameters Matrix:\\n\",Param)"
   ]
  },
  {
   "cell_type": "code",
   "execution_count": 3,
   "metadata": {},
   "outputs": [
    {
     "name": "stdout",
     "output_type": "stream",
     "text": [
      "Mass is conserved.\n"
     ]
    }
   ],
   "source": [
    "#Checking the mass balance\n",
    "at_mat = Atomic.iloc[0:,1:]           #The atomic matrix\n",
    "err = 0                               #For counting error\n",
    "for i in np.arange(len(Stoich)):    \n",
    "    st_mat = Stoich.iloc[i,1:]        #The stoichiometric matrix\n",
    "    res = np.dot(at_mat,st_mat)       #Performing the matrix product for every reaction i\n",
    "    if any(a != 0 for a in res):      #Verifies that the matrix product returns 0s (i.e mass is balanced)\n",
    "        print(\"Mass is not conserved in reaction %i. \\n ... Check and correct the Atomic or Stoichiometric Matrices\"%(i+1))\n",
    "        err +=1\n",
    "    elif (i == len(Stoich)-1 and err==0):    \n",
    "        print(\"Mass is conserved.\")"
   ]
  },
  {
   "cell_type": "code",
   "execution_count": 4,
   "metadata": {},
   "outputs": [],
   "source": [
    "#Extracting K values\n",
    "def kextract(Param):\n",
    "    #Evaluating Param file to find where the list of rate constants k starts\n",
    "    for j in np.arange(len(Param.iloc[:,1])):\n",
    "        if ('k1f' or 'k1') in Param.iloc[j,1]:\n",
    "            kstart = j #Row in the Param file where rate constants begin\n",
    "            break\n",
    "        else:\n",
    "            continue\n",
    "\n",
    "    #Rate Constants:\n",
    "    k = Param.iloc[kstart:,2].values #.values changes from pandas series to numpy array, allows for more optimization\n",
    "    return k"
   ]
  },
  {
   "cell_type": "code",
   "execution_count": 5,
   "metadata": {},
   "outputs": [],
   "source": [
    "def sol(t,u,k,Atomic,Stoich):\n",
    "    #Only need to change:\n",
    "   \n",
    "    #------------------------------------------\n",
    "    # 1 = CO ; 2 = O ; 3 = O2 ; 4 = *\n",
    "    #Surface Coverage \n",
    "    th1 = u[0] #Theta_CO \n",
    "    th2 = u[1] #Theta_O\n",
    "    th3 = u[2] #Theta_O2\n",
    "    th4 = u[3] #Theta_*\n",
    "    THETA = [th1,th2,th3,th4] #Coverages being investigated\n",
    "        #Partial Pressures (Assuming all same as P)\n",
    "    P1 = Param.iloc[2,2]#P_CO\n",
    "    P2 = Param.iloc[3,2]#P_O2\n",
    "    P3 = Param.iloc[4,2]#P_CO2\n",
    "    #------------------------------------------\n",
    "    \n",
    "    Nr = len(Stoich) #Number of rows in your your stoich matrix, i.e (Number of reactions)\n",
    "    \n",
    "\n",
    "    kf = k[0::2] #Pulling out the forward rxn rate constants (::2 means every other value, skip by a step of 2)\n",
    "    kr = k[1::2] #Pulling out the reverse rxn rate constants \n",
    "\n",
    "    D = []      #Empty Vector For holding rate of change of coverage values\n",
    "    r = [None] * Nr  #Empty Vector for holding rate of a specific reaction\n",
    "    \n",
    "    #Calculating the rates of reactions:\n",
    "    for j in np.arange(Nr):   #Looping through the reactions\n",
    "        matr = [P1,P2,P3]+THETA\n",
    "        fwd = []\n",
    "        rvs = []\n",
    "        for i in np.arange(len(Stoich.iloc[0,:])-1):\n",
    "            if Stoich.iloc[j,i+1]<0: #extracting only forward relevant rate parameters  #forward rxn reactants /encounter probability\n",
    "                fwd.append(matr[i]**abs(Stoich.iloc[j,i+1]))\n",
    "                \n",
    "            if Stoich.iloc[j,i+1]>0: #extracting only reverse relevant rate parameters  #reverse rxn reactants /encounter probability\n",
    "                rvs.append(matr[i]**abs(Stoich.iloc[j,i+1]))   \n",
    "                \n",
    "        r[j] = (kf[j]*np.prod(fwd)) - (kr[j]*np.prod(rvs)) #Calculating the rate of reaction\n",
    "    \n",
    "\n",
    "    #Differential Equations to calculate the change in coverages\n",
    "    for i in np.arange(len(Stoich.iloc[:,4:])):\n",
    "        dsum=0\n",
    "        for j in np.arange(Nr):\n",
    "            \n",
    "            dsum += Stoich.iloc[j,i+4]*r[j] #Calculating the rate of production of a species i\n",
    "        \n",
    "        D.append(dsum)\n",
    "\n",
    "    return D  #   CO |  O  |  O2   |  *\n",
    "\n",
    "def Kinetics(k,Atomic,Stoich,init,Time,Teval=None):\n",
    "    t_span = (Time[0], Time[-1])\n",
    "    solve = solve_ivp(sol,t_span,init, args=(k,Atomic,Stoich),method='BDF', t_eval=Teval, rtol = 1E-8,atol = 1E-8)\n",
    "    solv = np.transpose(solve.y)\n",
    "    #print(k)\n",
    "    return solv\n"
   ]
  },
  {
   "cell_type": "markdown",
   "metadata": {},
   "source": [
    "Running the ODE solver: (Getting the coverage profiles)"
   ]
  },
  {
   "cell_type": "code",
   "execution_count": 6,
   "metadata": {},
   "outputs": [
    {
     "name": "stdout",
     "output_type": "stream",
     "text": [
      "216\n",
      "CPU times: user 2.02 s, sys: 13.8 ms, total: 2.04 s\n",
      "Wall time: 2.04 s\n"
     ]
    }
   ],
   "source": [
    "%%time\n",
    "#initial values:\n",
    "TCO_in = 0.0\n",
    "TO_in = 0.0\n",
    "TO2_in = 0.0\n",
    "TE_in = 1 - TCO_in-TO_in-TO2_in\n",
    "#init      CO | O  | O2   | *\n",
    "init = [TCO_in,TO_in,TO2_in,TE_in]  #initial values\n",
    "\n",
    "k = kextract(Param)\n",
    "actual = k #To be used to compare prediction\n",
    "Time =np.linspace(0, 6e6, num=1000)\n",
    "t_span = (Time[0], Time[-1])\n",
    "solve = solve_ivp(sol,t_span,init, args=(k,Atomic,Stoich),method='BDF', rtol = 1E-8,atol = 1E-8)#Obtaining the resulting Concentration of Coverages\n",
    "solv = np.transpose(solve.y)\n",
    "time_sol = np.transpose(solve.t)\n",
    "\n",
    "print(len(time_sol))"
   ]
  },
  {
   "cell_type": "markdown",
   "metadata": {},
   "source": [
    "Plotting:"
   ]
  },
  {
   "cell_type": "code",
   "execution_count": 7,
   "metadata": {
    "scrolled": false
   },
   "outputs": [
    {
     "data": {
      "image/png": "[encoded data removed]",
      "text/plain": [
       "<Figure size 432x288 with 1 Axes>"
      ]
     },
     "metadata": {
      "needs_background": "light"
     },
     "output_type": "display_data"
    }
   ],
   "source": [
    "# %matplotlib notebook\n",
    "C_CO = solv[:,0]\n",
    "C_O = solv[:,1]\n",
    "C_O2 = solv[:,2]\n",
    "C_E = solv[:,3]\n",
    "\n",
    "plt.figure(1)\n",
    "plt.plot(time_sol, C_CO,'r-', label='CO*')        \n",
    "plt.plot(time_sol, C_O,'g-', label='O*') \n",
    "plt.plot(time_sol, C_O2, 'b-', label='O2*') \n",
    "plt.plot(time_sol, C_E, 'k-', label='*') \n",
    "\n",
    "plt.xlabel('Time, s')\n",
    "plt.ylabel(\"Coverage, $ML$\")\n",
    "plt.legend(fontsize=15, loc='best')\n",
    "plt.show()"
   ]
  },
  {
   "cell_type": "markdown",
   "metadata": {},
   "source": [
    "# Implementing MKM ToolKit"
   ]
  },
  {
   "cell_type": "code",
   "execution_count": 8,
   "metadata": {},
   "outputs": [],
   "source": [
    "from main import *\n",
    "# %matplotlib notebook"
   ]
  },
  {
   "cell_type": "markdown",
   "metadata": {},
   "source": [
    "### Simulating Coverage profile with KMC Parameters"
   ]
  },
  {
   "cell_type": "code",
   "execution_count": 9,
   "metadata": {},
   "outputs": [
    {
     "name": "stdout",
     "output_type": "stream",
     "text": [
      "Mass is conserved. \n",
      "\n",
      "The KMC Model's relevant Parms are inputted in Param csv:\n"
     ]
    },
    {
     "data": {
      "text/plain": [
       "array([5.81e-02, 6.65e-09, 7.69e+02, 1.15e+05, 2.60e+05, 2.14e-02,\n",
       "       1.35e+00, 5.00e+02])"
      ]
     },
     "execution_count": 9,
     "metadata": {},
     "output_type": "execute_result"
    }
   ],
   "source": [
    "MKM1 = MKModel('Atomic.csv','Stoich.csv','Param.csv') #Defining the Model\n",
    "print(\"The KMC Model's relevant Parms are inputted in Param csv:\")\n",
    "MKM1.k"
   ]
  },
  {
   "cell_type": "code",
   "execution_count": 10,
   "metadata": {},
   "outputs": [
    {
     "data": {
      "text/plain": [
       "(0, 25)"
      ]
     },
     "execution_count": 10,
     "metadata": {},
     "output_type": "execute_result"
    }
   ],
   "source": [
    "MKM1.set_initial_coverages(init=[0,0,0,1]) #Sets the initial coverages of all the surface species (Note: Empty Sites are calculated Automatically. If no option is entered, default initial coverage is zero surface species coverage on the surface)\n",
    "MKM1.set_rxnconditions() #Sets the Pressures and Temperature as defined from the Param file. (Note: One can also enter them manually - See main.py for syntax)\n",
    "MKM1.set_limits_of_integration(0,25)"
   ]
  },
  {
   "cell_type": "code",
   "execution_count": 11,
   "metadata": {},
   "outputs": [
    {
     "data": {
      "text/plain": [
       "(0.0, 0.0001)"
      ]
     },
     "execution_count": 11,
     "metadata": {},
     "output_type": "execute_result"
    },
    {
     "data": {
      "image/png": "[encoded data removed]",
      "text/plain": [
       "<Figure size 432x288 with 1 Axes>"
      ]
     },
     "metadata": {
      "needs_background": "light"
     },
     "output_type": "display_data"
    }
   ],
   "source": [
    "#plt.figure()\n",
    "sola1,solta1= MKM1.solve_coverage(plot=True) #Obtains the coverages(sol) with respect to time(solt) and plots them if plot=True (Note: Additional options can be set manually - See main.py for syntax)\n",
    "plt.ylim([0,2e-10])\n",
    "plt.xlim([0,1e-4])"
   ]
  },
  {
   "cell_type": "markdown",
   "metadata": {},
   "source": [
    "### Attempting fit with older_version"
   ]
  },
  {
   "cell_type": "code",
   "execution_count": 12,
   "metadata": {},
   "outputs": [
    {
     "name": "stdout",
     "output_type": "stream",
     "text": [
      "Mass is conserved. \n",
      "\n"
     ]
    },
    {
     "data": {
      "text/html": [
       "<div>\n",
       "<style scoped>\n",
       "    .dataframe tbody tr th:only-of-type {\n",
       "        vertical-align: middle;\n",
       "    }\n",
       "\n",
       "    .dataframe tbody tr th {\n",
       "        vertical-align: top;\n",
       "    }\n",
       "\n",
       "    .dataframe thead th {\n",
       "        text-align: right;\n",
       "    }\n",
       "</style>\n",
       "<table border=\"1\" class=\"dataframe\">\n",
       "  <thead>\n",
       "    <tr style=\"text-align: right;\">\n",
       "      <th></th>\n",
       "      <th>Time</th>\n",
       "      <th>C_CO</th>\n",
       "      <th>C_O</th>\n",
       "      <th>C_O2</th>\n",
       "      <th>C_E</th>\n",
       "    </tr>\n",
       "  </thead>\n",
       "  <tbody>\n",
       "    <tr>\n",
       "      <th>0</th>\n",
       "      <td>0.0</td>\n",
       "      <td>0.000000</td>\n",
       "      <td>0.000000</td>\n",
       "      <td>0.0</td>\n",
       "      <td>1.000000</td>\n",
       "    </tr>\n",
       "    <tr>\n",
       "      <th>1</th>\n",
       "      <td>0.1</td>\n",
       "      <td>0.006076</td>\n",
       "      <td>0.030490</td>\n",
       "      <td>0.0</td>\n",
       "      <td>0.963433</td>\n",
       "    </tr>\n",
       "    <tr>\n",
       "      <th>2</th>\n",
       "      <td>0.2</td>\n",
       "      <td>0.011013</td>\n",
       "      <td>0.055556</td>\n",
       "      <td>0.0</td>\n",
       "      <td>0.933431</td>\n",
       "    </tr>\n",
       "    <tr>\n",
       "      <th>3</th>\n",
       "      <td>0.3</td>\n",
       "      <td>0.014431</td>\n",
       "      <td>0.075792</td>\n",
       "      <td>0.0</td>\n",
       "      <td>0.909776</td>\n",
       "    </tr>\n",
       "    <tr>\n",
       "      <th>4</th>\n",
       "      <td>0.4</td>\n",
       "      <td>0.018989</td>\n",
       "      <td>0.098362</td>\n",
       "      <td>0.0</td>\n",
       "      <td>0.882650</td>\n",
       "    </tr>\n",
       "    <tr>\n",
       "      <th>...</th>\n",
       "      <td>...</td>\n",
       "      <td>...</td>\n",
       "      <td>...</td>\n",
       "      <td>...</td>\n",
       "      <td>...</td>\n",
       "    </tr>\n",
       "    <tr>\n",
       "      <th>246</th>\n",
       "      <td>24.6</td>\n",
       "      <td>0.008464</td>\n",
       "      <td>0.442763</td>\n",
       "      <td>0.0</td>\n",
       "      <td>0.548774</td>\n",
       "    </tr>\n",
       "    <tr>\n",
       "      <th>247</th>\n",
       "      <td>24.7</td>\n",
       "      <td>0.007541</td>\n",
       "      <td>0.442274</td>\n",
       "      <td>0.0</td>\n",
       "      <td>0.550184</td>\n",
       "    </tr>\n",
       "    <tr>\n",
       "      <th>248</th>\n",
       "      <td>24.8</td>\n",
       "      <td>0.008030</td>\n",
       "      <td>0.442491</td>\n",
       "      <td>0.0</td>\n",
       "      <td>0.549479</td>\n",
       "    </tr>\n",
       "    <tr>\n",
       "      <th>249</th>\n",
       "      <td>24.9</td>\n",
       "      <td>0.008084</td>\n",
       "      <td>0.441732</td>\n",
       "      <td>0.0</td>\n",
       "      <td>0.550184</td>\n",
       "    </tr>\n",
       "    <tr>\n",
       "      <th>250</th>\n",
       "      <td>25.0</td>\n",
       "      <td>0.007812</td>\n",
       "      <td>0.442383</td>\n",
       "      <td>0.0</td>\n",
       "      <td>0.549805</td>\n",
       "    </tr>\n",
       "  </tbody>\n",
       "</table>\n",
       "<p>251 rows × 5 columns</p>\n",
       "</div>"
      ],
      "text/plain": [
       "     Time      C_CO       C_O  C_O2       C_E\n",
       "0     0.0  0.000000  0.000000   0.0  1.000000\n",
       "1     0.1  0.006076  0.030490   0.0  0.963433\n",
       "2     0.2  0.011013  0.055556   0.0  0.933431\n",
       "3     0.3  0.014431  0.075792   0.0  0.909776\n",
       "4     0.4  0.018989  0.098362   0.0  0.882650\n",
       "..    ...       ...       ...   ...       ...\n",
       "246  24.6  0.008464  0.442763   0.0  0.548774\n",
       "247  24.7  0.007541  0.442274   0.0  0.550184\n",
       "248  24.8  0.008030  0.442491   0.0  0.549479\n",
       "249  24.9  0.008084  0.441732   0.0  0.550184\n",
       "250  25.0  0.007812  0.442383   0.0  0.549805\n",
       "\n",
       "[251 rows x 5 columns]"
      ]
     },
     "execution_count": 12,
     "metadata": {},
     "output_type": "execute_result"
    }
   ],
   "source": [
    "fit = Fitting('KMC_Coverages.csv','Atomic.csv','Stoich.csv','Param.csv',CovgDep=False) #covgdep = Allowing for coverage dependance to be considered in the fit\n",
    "fit.Input"
   ]
  },
  {
   "cell_type": "code",
   "execution_count": 13,
   "metadata": {},
   "outputs": [],
   "source": [
    "time_sol = fit.Input.to_numpy()[:,0]\n",
    "C_CO = fit.Input.to_numpy()[:,1]\n",
    "C_O = fit.Input.to_numpy()[:,2]\n",
    "C_O2 = fit.Input.to_numpy()[:,3]\n",
    "C_E = fit.Input.to_numpy()[:,4]"
   ]
  },
  {
   "cell_type": "code",
   "execution_count": 14,
   "metadata": {},
   "outputs": [
    {
     "data": {
      "image/png": "[encoded data removed]",
      "text/plain": [
       "<Figure size 432x288 with 1 Axes>"
      ]
     },
     "metadata": {
      "needs_background": "light"
     },
     "output_type": "display_data"
    }
   ],
   "source": [
    "n = 80\n",
    "Time_t = time_sol[::round(len(time_sol)/n)]\n",
    "C_t_CO = C_CO[::round(len(C_CO)/n)]\n",
    "C_t_O = C_O[::round(len(C_O)/n)]\n",
    "C_t_O2 = C_O2[::round(len(C_O2)/n)]\n",
    "C_t_E = C_E[::round(len(C_E)/n)]\n",
    "\n",
    "plt.figure(2)\n",
    "plt.plot(Time_t, C_t_CO,'rp', label='CO*')        \n",
    "plt.plot(Time_t, C_t_O,'gp', label='O*') \n",
    "plt.plot(Time_t, C_t_O2, 'bp', label='O2*') \n",
    "plt.plot(Time_t, C_t_E, 'kp', label='*')\n",
    "\n",
    "plt.xlabel('Time, s')\n",
    "plt.ylabel(\"Coverage, $ML$\")\n",
    "plt.title('Sampled Data')\n",
    "plt.legend(fontsize=15, loc='best')\n",
    "plt.show()"
   ]
  },
  {
   "cell_type": "markdown",
   "metadata": {},
   "source": [
    "#### Normalizing"
   ]
  },
  {
   "cell_type": "code",
   "execution_count": 15,
   "metadata": {},
   "outputs": [
    {
     "data": {
      "image/png": "[encoded data removed]",
      "text/plain": [
       "<Figure size 432x288 with 1 Axes>"
      ]
     },
     "metadata": {
      "needs_background": "light"
     },
     "output_type": "display_data"
    }
   ],
   "source": [
    "#Feature Scaling - Normalization\n",
    "mint = min(Time_t)\n",
    "maxt = max(Time_t)\n",
    "Time_tn = (Time_t-mint)/(maxt-mint)\n",
    "minCO = min(C_t_CO)\n",
    "maxCO = max(C_t_CO)\n",
    "C_t_COn = (C_t_CO-minCO)/(maxCO-minCO)\n",
    "minO = min(C_t_O)\n",
    "maxO = max(C_t_O)\n",
    "C_t_On = (C_t_O-minO)/(maxO-minO)\n",
    "####ZERO VECTOR:\n",
    "minO2 = min(C_t_O2)\n",
    "maxO2 = max(C_t_O2)\n",
    "C_t_O2n = (C_t_O2)#-minO2)/(maxO2-minO2)\n",
    "##################\n",
    "minE = min(C_t_E)\n",
    "maxE = max(C_t_E)\n",
    "C_t_En = (C_t_E-minE)/(maxE-minE)\n",
    "\n",
    "plt.figure(3)\n",
    "plt.plot(Time_tn, C_t_COn,'rp', label='CO*')        \n",
    "plt.plot(Time_tn, C_t_On,'gp', label='O*') \n",
    "plt.plot(Time_tn, C_t_O2n, 'bp', label='O2*') \n",
    "plt.plot(Time_tn, C_t_En, 'kp', label='*')\n",
    "\n",
    "plt.xlabel('Time, s')\n",
    "plt.ylabel(\"Coverage, $ML$\")\n",
    "plt.title('Normalized Sampled Data')\n",
    "plt.legend(fontsize=15, loc='best')\n",
    "plt.show()"
   ]
  },
  {
   "cell_type": "code",
   "execution_count": 16,
   "metadata": {},
   "outputs": [
    {
     "name": "stdout",
     "output_type": "stream",
     "text": [
      "\n",
      " The Guess Parameters Matrix:\n",
      "    Reaction_Descrp Parameter        Values        Units\n",
      "0              NaN         T  3.200000e+02            K\n",
      "1              NaN         R  8.314460e+00  JK^-1mol^-1\n",
      "2               CO        P1  1.000000e-08          bar\n",
      "3               O2        P2  1.000000e-08          bar\n",
      "4              CO2        P3  1.000000e-08          bar\n",
      "5               r1       k1f  5.810000e-02            -\n",
      "6              NaN       k1r  6.650000e-09            -\n",
      "7               r2       k2f  7.690000e+02            -\n",
      "8              NaN       k2r  1.150000e+05            -\n",
      "9               r3       k3f  2.600000e+05            -\n",
      "10             NaN       k3r  2.140000e-02            -\n",
      "11              r4       k4f  1.350000e+00            -\n",
      "12             NaN       k4r  5.000000e+02            -\n",
      "\n",
      "\n"
     ]
    }
   ],
   "source": [
    "Guess_Param = pd.read_csv(\"Param.csv\")[:13]     #Opening/Reading the Parameter input file needed to be read   \n",
    "print(\"\\n The Guess Parameters Matrix:\\n\",Guess_Param)\n",
    "print(\"\\n\")"
   ]
  },
  {
   "cell_type": "code",
   "execution_count": 17,
   "metadata": {},
   "outputs": [],
   "source": [
    "Guessk = kextract(Guess_Param)"
   ]
  },
  {
   "cell_type": "markdown",
   "metadata": {},
   "source": [
    "$$ error = \\left <(c_{pred} - c_{actual})^2 \\right> $$"
   ]
  },
  {
   "cell_type": "code",
   "execution_count": 18,
   "metadata": {},
   "outputs": [],
   "source": [
    "C_dat = np.c_[C_t_CO,C_t_O,C_t_O2,C_t_E]\n",
    "C_datn = np.c_[C_t_COn,C_t_On,C_t_O2n,C_t_En] #Normalized Concentrations\n",
    "\n",
    "def minfunc(Guessk,Atomic,Stoich,Time,Conc):\n",
    "    Conc_init = Conc[0,:]\n",
    "    c_estim = Kinetics(Guessk,Atomic,Stoich,Conc_init,Time,Time)\n",
    "    c_estim[:,0] = (c_estim[:,0]-minCO)/(maxCO-minCO)\n",
    "    c_estim[:,1] = (c_estim[:,1]-minO)/(maxO-minO)\n",
    "    c_estim[:,2] = (c_estim[:,2]-minO2)/(maxO2-minO2)\n",
    "    c_estim[:,3] = (c_estim[:,3]-minE)/(maxE-minE)\n",
    "    w = 1\n",
    "    error_t = (w*(Conc[:,0] - c_estim[:,0])**2 +w*(Conc[:,1] - c_estim[:,1])**2 +w*(Conc[:,2] - c_estim[:,2])**2 +w*(Conc[:,3] - c_estim[:,3])**2)\n",
    "        \n",
    "    error = sum(error_t)\n",
    "    return error  "
   ]
  },
  {
   "cell_type": "markdown",
   "metadata": {},
   "source": [
    "### Simple Fitting Using Curve Fit - Implementing Kinetic Function"
   ]
  },
  {
   "cell_type": "code",
   "execution_count": 20,
   "metadata": {},
   "outputs": [
    {
     "name": "stdout",
     "output_type": "stream",
     "text": [
      "CPU times: user 19 µs, sys: 27 µs, total: 46 µs\n",
      "Wall time: 24.1 µs\n"
     ]
    }
   ],
   "source": [
    "%%time\n",
    "from numpy import inf\n",
    "def curvefitfn(C_dat,Time_t,C_datn,Time_tn,k,Atomic,Stoich,plt=False):\n",
    "    def test_func(x, *Guess):\n",
    "        #Guess = np.asarray(Guess)\n",
    "        Conc_init = C_dat[0,:]\n",
    "        func = Kinetics(Guess,Atomic,Stoich,Conc_init,Time_t,Time_t)\n",
    "        func[:,0] = (func[:,0]-minCO)/(maxCO-minCO)\n",
    "        func[:,1] = (func[:,1]-minO)/(maxO-minO)\n",
    "        func[:,2] = (func[:,2])#-minO2)/(maxO2-minO2)#Zero vector (Non-normalizable)\n",
    "        func[:,3] = (func[:,3]-minE)/(maxE-minE)\n",
    "        func = np.reshape(func, func.size)\n",
    "        return  func \n",
    "\n",
    "    x_values = Time_tn\n",
    "    y_values = np.reshape(C_datn, C_datn.size)\n",
    "    params, params_covariance = optimize.curve_fit(test_func, x_values, y_values, method ='trf', \n",
    "                                                    bounds=(0,inf), maxfev=1e4, ftol = 1e-8, xtol=1e-8\n",
    "                                                    ,p0=k)\n",
    "    yfit = test_func(x_values, *params)\n",
    "\n",
    "    c_fit=yfit.reshape(np.shape(C_datn)) \n",
    "    if plt==False:\n",
    "        return c_fit,params,params_covariance\n",
    "    else:\n",
    "        return c_fit"
   ]
  },
  {
   "cell_type": "markdown",
   "metadata": {},
   "source": [
    "## Using CurveFit : Varying inital k value guesses - *resizing the initial values"
   ]
  },
  {
   "cell_type": "code",
   "execution_count": 21,
   "metadata": {},
   "outputs": [],
   "source": [
    "val = 2 #Percent"
   ]
  },
  {
   "cell_type": "code",
   "execution_count": 37,
   "metadata": {},
   "outputs": [
    {
     "name": "stdout",
     "output_type": "stream",
     "text": [
      "Actual, k: \n",
      " [2.00e+00 6.65e-09 2.31e+02 1.15e+05 6.13e+08 2.14e-02 2.85e-06 5.00e+02] \n",
      "\n",
      "Initial guess, k_Guess: \n",
      " [2.0400e+00 6.7830e-09 2.3562e+02 1.1730e+05 6.2526e+08 2.1828e-02\n",
      " 2.9070e-06 5.1000e+02] \n",
      "\n",
      "final prediction, k_predict: \n",
      " [5.29066464e+06 7.73356735e-01 1.01444957e+07 4.35456917e+06\n",
      " 2.46572987e+07 7.10793678e-01 5.91139777e+00 9.88765028e+05] \n",
      "\n",
      "conf: [1.65575360e+06 2.10047197e-01 2.03475287e+06 3.82965774e+06\n",
      " 6.76327246e+05 5.40425624e-01 1.13445838e+00 1.99906364e+06]\n",
      "conf: [8.27876799e+05 3.15860446e+07 8.80845399e+03 3.33013717e+01\n",
      " 1.10330709e-03 2.52535338e+01 3.98055571e+05 3.99812727e+03]\n",
      "CPU times: user 9min 11s, sys: 24 s, total: 9min 35s\n",
      "Wall time: 7min 54s\n"
     ]
    },
    {
     "data": {
      "image/png": "[encoded data removed]",
      "text/plain": [
       "<Figure size 432x288 with 1 Axes>"
      ]
     },
     "metadata": {
      "needs_background": "light"
     },
     "output_type": "display_data"
    }
   ],
   "source": [
    "%%time\n",
    "from ipywidgets import interact_manual,interactive\n",
    "import ipywidgets as widgets\n",
    "\n",
    "fig, ax = plt.subplots()\n",
    "ax.plot(Time_tn, C_t_COn,'rp', label='CO*')        \n",
    "ax.plot(Time_tn, C_t_On,'gp', label='O*') \n",
    "ax.plot(Time_tn, C_t_O2n, 'bp', label='O2*') \n",
    "ax.plot(Time_tn, C_t_En, 'kp', label='*') \n",
    "ax.set_title(\"Using Curve Fit - With Function Fit being of Kinetic Origin\")\n",
    "ax.set_xlabel('Time, s')\n",
    "ax.set_ylabel(\"Coverage, $ML$\")\n",
    "ax.legend(fontsize=8, loc='best')\n",
    "const = k * (1+(val/100))\n",
    "fit,params,params_covariance = curvefitfn(C_dat,Time_t,C_datn,Time_tn,const,Atomic,Stoich,plt=False)\n",
    "ax.plot(Time_tn, fit[:,0], 'r-', label='CO fit')\n",
    "ax.plot(Time_tn, fit[:,1], 'g-', label='O fit')\n",
    "ax.plot(Time_tn, fit[:,2], 'b-', label='O2 fit')\n",
    "ax.plot(Time_tn, fit[:,3], 'k-', label='* fit')\n",
    "print('Actual, k: \\n',actual , '\\n')\n",
    "print('Initial guess, k_Guess: \\n', const, '\\n')\n",
    "print('final prediction, k_predict: \\n',params , '\\n')\n",
    "print('conf:', np.sqrt(np.diag(params_covariance)))\n",
    "print('conf:', np.sqrt(np.diag(params_covariance))/actual)\n"
   ]
  },
  {
   "cell_type": "markdown",
   "metadata": {},
   "source": [
    "## Using CurveFit : Varying inital k value guesses - *resizing the initial values with random numbers"
   ]
  },
  {
   "cell_type": "code",
   "execution_count": 57,
   "metadata": {
    "scrolled": false
   },
   "outputs": [
    {
     "name": "stdout",
     "output_type": "stream",
     "text": [
      "Actual, k: \n",
      " [2.00e+00 6.65e-09 2.31e+02 1.15e+05 6.13e+08 2.14e-02 2.85e-06 5.00e+02] \n",
      "\n",
      "Random resizing matirx: \n",
      " [0.1963138893558031, 38.6352550859892, 0.041361836294300444, 0.6236927377401753, 0.7178439239127283, 1.157505534755632, 6.6434097067089715, 1.1704188153764044] \n",
      "\n",
      "Initial guess, k_Guess: \n",
      " [3.92627779e-01 2.56924446e-07 9.55458418e+00 7.17246648e+04\n",
      " 4.40038325e+08 2.47706184e-02 1.89337177e-05 5.85209408e+02] \n",
      "\n",
      "final prediction, k_predict: \n",
      " [6.02820175e+06 5.12037472e-01 3.69712378e+07 1.46370926e+07\n",
      " 6.01477255e+06 1.55759953e-01 6.77558612e+00 9.35632562e-02] \n",
      "\n",
      "conf: [1.73283738e+05 8.55991826e-02 1.60307105e+07 1.20839861e+06\n",
      " 2.94002376e+06 2.55558973e-02 1.77692330e-01 2.66756275e+04]\n",
      "CPU times: user 10min 21s, sys: 25 s, total: 10min 46s\n",
      "Wall time: 9min 3s\n"
     ]
    },
    {
     "data": {
      "image/png": "[encoded data removed]",
      "text/plain": [
       "<Figure size 432x288 with 1 Axes>"
      ]
     },
     "metadata": {
      "needs_background": "light"
     },
     "output_type": "display_data"
    }
   ],
   "source": [
    "%%time\n",
    "from ipywidgets import interact_manual,interactive\n",
    "import ipywidgets as widgets\n",
    "\n",
    "fig, ax = plt.subplots()\n",
    "ax.plot(Time_tn, C_t_COn,'rp', label='CO*')        \n",
    "ax.plot(Time_tn, C_t_On,'gp', label='O*') \n",
    "ax.plot(Time_tn, C_t_O2n, 'bp', label='O2*') \n",
    "ax.plot(Time_tn, C_t_En, 'kp', label='*') \n",
    "ax.set_title(\"Using Curve Fit - With Function Fit being of Kinetic Origin\")\n",
    "ax.set_xlabel('Time, s')\n",
    "ax.set_ylabel(\"Coverage, $ML$\")\n",
    "ax.legend(fontsize=8, loc='best')\n",
    "#random matrix:\n",
    "ranmat = []\n",
    "for i in np.arange(len(actual)):\n",
    "    #ranmat.append( abs((1+(np.random.uniform(100,-100)/100))) )\n",
    "    ranmat.append( 10**(np.random.uniform(-2,2)) )\n",
    "const = actual * ranmat\n",
    "fit,params,params_covariance = curvefitfn(C_dat,Time_t,C_datn,Time_tn,const,Atomic,Stoich,plt=False)\n",
    "ax.plot(Time_tn, fit[:,0], 'r-', label='CO fit')\n",
    "ax.plot(Time_tn, fit[:,1], 'g-', label='O fit')\n",
    "ax.plot(Time_tn, fit[:,2], 'b-', label='O2 fit')\n",
    "ax.plot(Time_tn, fit[:,3], 'k-', label='* fit')\n",
    "print('Actual, k: \\n',actual , '\\n')\n",
    "print('Random resizing matirx: \\n', ranmat,'\\n')\n",
    "print('Initial guess, k_Guess: \\n', const, '\\n')\n",
    "print('final prediction, k_predict: \\n',params , '\\n')\n",
    "print('conf:', np.sqrt(np.diag(params_covariance)))"
   ]
  },
  {
   "cell_type": "markdown",
   "metadata": {},
   "source": [
    "# --------------------------------------------------------------------------------------"
   ]
  },
  {
   "cell_type": "code",
   "execution_count": 37,
   "metadata": {},
   "outputs": [],
   "source": [
    "from numdifftools import Jacobian, Hessian\n",
    "def jacf(x):\n",
    "            jac = Jacobian((lambda x: minfunc(x)),method='forward',order=3)(x).ravel()\n",
    "            # enablePrint()\n",
    "            # print(jac)\n",
    "            # blockPrint()\n",
    "            return jac"
   ]
  },
  {
   "cell_type": "markdown",
   "metadata": {},
   "source": [
    "## Using L-BFGS-B: Varying inital k value guesses - *resizing the initial values"
   ]
  },
  {
   "cell_type": "code",
   "execution_count": 38,
   "metadata": {},
   "outputs": [
    {
     "name": "stderr",
     "output_type": "stream",
     "text": [
      "<timed exec>:21: OptimizeWarning: Unknown solver options: xatol, fatol\n"
     ]
    },
    {
     "ename": "TypeError",
     "evalue": "jacf() takes 1 positional argument but 5 were given",
     "output_type": "error",
     "traceback": [
      "\u001b[0;31m---------------------------------------------------------------------------\u001b[0m",
      "\u001b[0;31mTypeError\u001b[0m                                 Traceback (most recent call last)",
      "\u001b[0;32m<timed exec>\u001b[0m in \u001b[0;36m<module>\u001b[0;34m\u001b[0m\n",
      "\u001b[0;32m~/opt/anaconda3/lib/python3.9/site-packages/scipy/optimize/_minimize.py\u001b[0m in \u001b[0;36mminimize\u001b[0;34m(fun, x0, args, method, jac, hess, hessp, bounds, constraints, tol, callback, options)\u001b[0m\n\u001b[1;32m    621\u001b[0m                                   **options)\n\u001b[1;32m    622\u001b[0m     \u001b[0;32melif\u001b[0m \u001b[0mmeth\u001b[0m \u001b[0;34m==\u001b[0m \u001b[0;34m'l-bfgs-b'\u001b[0m\u001b[0;34m:\u001b[0m\u001b[0;34m\u001b[0m\u001b[0;34m\u001b[0m\u001b[0m\n\u001b[0;32m--> 623\u001b[0;31m         return _minimize_lbfgsb(fun, x0, args, jac, bounds,\n\u001b[0m\u001b[1;32m    624\u001b[0m                                 callback=callback, **options)\n\u001b[1;32m    625\u001b[0m     \u001b[0;32melif\u001b[0m \u001b[0mmeth\u001b[0m \u001b[0;34m==\u001b[0m \u001b[0;34m'tnc'\u001b[0m\u001b[0;34m:\u001b[0m\u001b[0;34m\u001b[0m\u001b[0;34m\u001b[0m\u001b[0m\n",
      "\u001b[0;32m~/opt/anaconda3/lib/python3.9/site-packages/scipy/optimize/lbfgsb.py\u001b[0m in \u001b[0;36m_minimize_lbfgsb\u001b[0;34m(fun, x0, args, jac, bounds, disp, maxcor, ftol, gtol, eps, maxfun, maxiter, iprint, callback, maxls, finite_diff_rel_step, **unknown_options)\u001b[0m\n\u001b[1;32m    304\u001b[0m             \u001b[0miprint\u001b[0m \u001b[0;34m=\u001b[0m \u001b[0mdisp\u001b[0m\u001b[0;34m\u001b[0m\u001b[0;34m\u001b[0m\u001b[0m\n\u001b[1;32m    305\u001b[0m \u001b[0;34m\u001b[0m\u001b[0m\n\u001b[0;32m--> 306\u001b[0;31m     sf = _prepare_scalar_function(fun, x0, jac=jac, args=args, epsilon=eps,\n\u001b[0m\u001b[1;32m    307\u001b[0m                                   \u001b[0mbounds\u001b[0m\u001b[0;34m=\u001b[0m\u001b[0mnew_bounds\u001b[0m\u001b[0;34m,\u001b[0m\u001b[0;34m\u001b[0m\u001b[0;34m\u001b[0m\u001b[0m\n\u001b[1;32m    308\u001b[0m                                   finite_diff_rel_step=finite_diff_rel_step)\n",
      "\u001b[0;32m~/opt/anaconda3/lib/python3.9/site-packages/scipy/optimize/optimize.py\u001b[0m in \u001b[0;36m_prepare_scalar_function\u001b[0;34m(fun, x0, jac, args, bounds, epsilon, finite_diff_rel_step, hess)\u001b[0m\n\u001b[1;32m    259\u001b[0m     \u001b[0;31m# ScalarFunction caches. Reuse of fun(x) during grad\u001b[0m\u001b[0;34m\u001b[0m\u001b[0;34m\u001b[0m\u001b[0m\n\u001b[1;32m    260\u001b[0m     \u001b[0;31m# calculation reduces overall function evaluations.\u001b[0m\u001b[0;34m\u001b[0m\u001b[0;34m\u001b[0m\u001b[0m\n\u001b[0;32m--> 261\u001b[0;31m     sf = ScalarFunction(fun, x0, args, grad, hess,\n\u001b[0m\u001b[1;32m    262\u001b[0m                         finite_diff_rel_step, bounds, epsilon=epsilon)\n\u001b[1;32m    263\u001b[0m \u001b[0;34m\u001b[0m\u001b[0m\n",
      "\u001b[0;32m~/opt/anaconda3/lib/python3.9/site-packages/scipy/optimize/_differentiable_functions.py\u001b[0m in \u001b[0;36m__init__\u001b[0;34m(self, fun, x0, args, grad, hess, finite_diff_rel_step, finite_diff_bounds, epsilon)\u001b[0m\n\u001b[1;32m    157\u001b[0m \u001b[0;34m\u001b[0m\u001b[0m\n\u001b[1;32m    158\u001b[0m         \u001b[0mself\u001b[0m\u001b[0;34m.\u001b[0m\u001b[0m_update_grad_impl\u001b[0m \u001b[0;34m=\u001b[0m \u001b[0mupdate_grad\u001b[0m\u001b[0;34m\u001b[0m\u001b[0;34m\u001b[0m\u001b[0m\n\u001b[0;32m--> 159\u001b[0;31m         \u001b[0mself\u001b[0m\u001b[0;34m.\u001b[0m\u001b[0m_update_grad\u001b[0m\u001b[0;34m(\u001b[0m\u001b[0;34m)\u001b[0m\u001b[0;34m\u001b[0m\u001b[0;34m\u001b[0m\u001b[0m\n\u001b[0m\u001b[1;32m    160\u001b[0m \u001b[0;34m\u001b[0m\u001b[0m\n\u001b[1;32m    161\u001b[0m         \u001b[0;31m# Hessian Evaluation\u001b[0m\u001b[0;34m\u001b[0m\u001b[0;34m\u001b[0m\u001b[0m\n",
      "\u001b[0;32m~/opt/anaconda3/lib/python3.9/site-packages/scipy/optimize/_differentiable_functions.py\u001b[0m in \u001b[0;36m_update_grad\u001b[0;34m(self)\u001b[0m\n\u001b[1;32m    236\u001b[0m     \u001b[0;32mdef\u001b[0m \u001b[0m_update_grad\u001b[0m\u001b[0;34m(\u001b[0m\u001b[0mself\u001b[0m\u001b[0;34m)\u001b[0m\u001b[0;34m:\u001b[0m\u001b[0;34m\u001b[0m\u001b[0;34m\u001b[0m\u001b[0m\n\u001b[1;32m    237\u001b[0m         \u001b[0;32mif\u001b[0m \u001b[0;32mnot\u001b[0m \u001b[0mself\u001b[0m\u001b[0;34m.\u001b[0m\u001b[0mg_updated\u001b[0m\u001b[0;34m:\u001b[0m\u001b[0;34m\u001b[0m\u001b[0;34m\u001b[0m\u001b[0m\n\u001b[0;32m--> 238\u001b[0;31m             \u001b[0mself\u001b[0m\u001b[0;34m.\u001b[0m\u001b[0m_update_grad_impl\u001b[0m\u001b[0;34m(\u001b[0m\u001b[0;34m)\u001b[0m\u001b[0;34m\u001b[0m\u001b[0;34m\u001b[0m\u001b[0m\n\u001b[0m\u001b[1;32m    239\u001b[0m             \u001b[0mself\u001b[0m\u001b[0;34m.\u001b[0m\u001b[0mg_updated\u001b[0m \u001b[0;34m=\u001b[0m \u001b[0;32mTrue\u001b[0m\u001b[0;34m\u001b[0m\u001b[0;34m\u001b[0m\u001b[0m\n\u001b[1;32m    240\u001b[0m \u001b[0;34m\u001b[0m\u001b[0m\n",
      "\u001b[0;32m~/opt/anaconda3/lib/python3.9/site-packages/scipy/optimize/_differentiable_functions.py\u001b[0m in \u001b[0;36mupdate_grad\u001b[0;34m()\u001b[0m\n\u001b[1;32m    147\u001b[0m \u001b[0;34m\u001b[0m\u001b[0m\n\u001b[1;32m    148\u001b[0m             \u001b[0;32mdef\u001b[0m \u001b[0mupdate_grad\u001b[0m\u001b[0;34m(\u001b[0m\u001b[0;34m)\u001b[0m\u001b[0;34m:\u001b[0m\u001b[0;34m\u001b[0m\u001b[0;34m\u001b[0m\u001b[0m\n\u001b[0;32m--> 149\u001b[0;31m                 \u001b[0mself\u001b[0m\u001b[0;34m.\u001b[0m\u001b[0mg\u001b[0m \u001b[0;34m=\u001b[0m \u001b[0mgrad_wrapped\u001b[0m\u001b[0;34m(\u001b[0m\u001b[0mself\u001b[0m\u001b[0;34m.\u001b[0m\u001b[0mx\u001b[0m\u001b[0;34m)\u001b[0m\u001b[0;34m\u001b[0m\u001b[0;34m\u001b[0m\u001b[0m\n\u001b[0m\u001b[1;32m    150\u001b[0m \u001b[0;34m\u001b[0m\u001b[0m\n\u001b[1;32m    151\u001b[0m         \u001b[0;32melif\u001b[0m \u001b[0mgrad\u001b[0m \u001b[0;32min\u001b[0m \u001b[0mFD_METHODS\u001b[0m\u001b[0;34m:\u001b[0m\u001b[0;34m\u001b[0m\u001b[0;34m\u001b[0m\u001b[0m\n",
      "\u001b[0;32m~/opt/anaconda3/lib/python3.9/site-packages/scipy/optimize/_differentiable_functions.py\u001b[0m in \u001b[0;36mgrad_wrapped\u001b[0;34m(x)\u001b[0m\n\u001b[1;32m    144\u001b[0m             \u001b[0;32mdef\u001b[0m \u001b[0mgrad_wrapped\u001b[0m\u001b[0;34m(\u001b[0m\u001b[0mx\u001b[0m\u001b[0;34m)\u001b[0m\u001b[0;34m:\u001b[0m\u001b[0;34m\u001b[0m\u001b[0;34m\u001b[0m\u001b[0m\n\u001b[1;32m    145\u001b[0m                 \u001b[0mself\u001b[0m\u001b[0;34m.\u001b[0m\u001b[0mngev\u001b[0m \u001b[0;34m+=\u001b[0m \u001b[0;36m1\u001b[0m\u001b[0;34m\u001b[0m\u001b[0;34m\u001b[0m\u001b[0m\n\u001b[0;32m--> 146\u001b[0;31m                 \u001b[0;32mreturn\u001b[0m \u001b[0mnp\u001b[0m\u001b[0;34m.\u001b[0m\u001b[0matleast_1d\u001b[0m\u001b[0;34m(\u001b[0m\u001b[0mgrad\u001b[0m\u001b[0;34m(\u001b[0m\u001b[0mnp\u001b[0m\u001b[0;34m.\u001b[0m\u001b[0mcopy\u001b[0m\u001b[0;34m(\u001b[0m\u001b[0mx\u001b[0m\u001b[0;34m)\u001b[0m\u001b[0;34m,\u001b[0m \u001b[0;34m*\u001b[0m\u001b[0margs\u001b[0m\u001b[0;34m)\u001b[0m\u001b[0;34m)\u001b[0m\u001b[0;34m\u001b[0m\u001b[0;34m\u001b[0m\u001b[0m\n\u001b[0m\u001b[1;32m    147\u001b[0m \u001b[0;34m\u001b[0m\u001b[0m\n\u001b[1;32m    148\u001b[0m             \u001b[0;32mdef\u001b[0m \u001b[0mupdate_grad\u001b[0m\u001b[0;34m(\u001b[0m\u001b[0;34m)\u001b[0m\u001b[0;34m:\u001b[0m\u001b[0;34m\u001b[0m\u001b[0;34m\u001b[0m\u001b[0m\n",
      "\u001b[0;31mTypeError\u001b[0m: jacf() takes 1 positional argument but 5 were given"
     ]
    },
    {
     "data": {
      "image/png": "[encoded data removed]",
      "text/plain": [
       "<Figure size 432x288 with 1 Axes>"
      ]
     },
     "metadata": {
      "needs_background": "light"
     },
     "output_type": "display_data"
    }
   ],
   "source": [
    "%%time\n",
    "\n",
    "from ipywidgets import interact_manual,interactive\n",
    "import ipywidgets as widgets\n",
    "\n",
    "\n",
    "fig, ax = plt.subplots()\n",
    "ax.plot(Time_tn, C_t_COn,'rp', label='CO*')        \n",
    "ax.plot(Time_tn, C_t_On,'gp', label='O*') \n",
    "ax.plot(Time_tn, C_t_O2n, 'bp', label='O2*') \n",
    "ax.plot(Time_tn, C_t_En, 'kp', label='*') \n",
    "ax.set_title(\"Using L-BFGS-B\")\n",
    "ax.set_xlabel('Time, s')\n",
    "ax.set_ylabel(\"Coverage, $ML$\")\n",
    "ax.legend(fontsize=8, loc='best')\n",
    "const = k * (1+(val/100))\n",
    "#max K Guess parameters #Setting Bounds\n",
    "sc = 1e2 #scaling value\n",
    "mkval = const*sc #max kvals\n",
    "bounds = np.empty([len(mkval),2])\n",
    "for i in range(len(mkval)):\n",
    "    bounds[i] = (0,mkval[i])\n",
    "result = optimize.minimize(minfunc,const, method='L-BFGS-B',tol=1e-8\n",
    "                                                    ,jac= jacf\n",
    "                                                    ,options={'xatol': 1e-8, 'fatol': 1e-8,'gtol': 1e-8 \n",
    "                                                              ,'ftol': 1e-8,'maxfun': 1e3,'disp': False\n",
    "                                                              ,'maxiter': 1e3})\n",
    "k_fit = result.x\n",
    "fit = Kinetics(k_fit,Atomic,Stoich,init,Time_t,Time_t)\n",
    "fit[:,0] = (fit[:,0]-minCO)/(maxCO-minCO)\n",
    "fit[:,1] = (fit[:,1]-minO)/(maxO-minO)\n",
    "fit[:,2] = (fit[:,2]-minO2)/(maxO2-minO2)\n",
    "fit[:,3] = (fit[:,3]-minE)/(maxE-minE)\n",
    "ax.plot(Time_tn, fit[:,0], 'r-')\n",
    "ax.plot(Time_tn, fit[:,1], 'g-')\n",
    "ax.plot(Time_tn, fit[:,2], 'b-')\n",
    "ax.plot(Time_tn, fit[:,3], 'k-')\n",
    "print('Actual, k: \\n',actual , '\\n')\n",
    "print('Initial guess, k_Guess: \\n', const, '\\n')\n",
    "print('final prediction, k_predict: \\n',k_fit , '\\n')\n"
   ]
  },
  {
   "cell_type": "markdown",
   "metadata": {},
   "source": [
    "## Using L-BFGS-B: Varying inital k value guesses -*multyplying random error"
   ]
  },
  {
   "cell_type": "code",
   "execution_count": 59,
   "metadata": {},
   "outputs": [
    {
     "name": "stdout",
     "output_type": "stream",
     "text": [
      "Actual, k: \n",
      " [2.00e+00 6.65e-09 2.31e+02 1.15e+05 6.13e+08 2.14e-02 2.85e-06 5.00e+02] \n",
      "\n",
      "Initial guess, k_Guess: \n",
      " [3.98728307e+00 1.30794256e-08 3.22732748e+02 1.87822430e+05\n",
      " 1.96025554e+08 2.38002317e-02 5.67641635e-06 3.60013426e+02] \n",
      "\n",
      "final prediction, k_predict: \n",
      " [0.00000000e+00 1.30839158e-08 3.22732748e+04 1.87800485e+05\n",
      " 1.96025554e+08 0.00000000e+00 5.67641635e-06 1.61217440e+04] \n",
      "\n",
      "CPU times: user 21.1 s, sys: 190 ms, total: 21.3 s\n",
      "Wall time: 21 s\n"
     ]
    },
    {
     "data": {
      "image/png": "[encoded data removed]",
      "text/plain": [
       "<Figure size 432x288 with 1 Axes>"
      ]
     },
     "metadata": {
      "needs_background": "light"
     },
     "output_type": "display_data"
    }
   ],
   "source": [
    "%%time\n",
    "from ipywidgets import interact_manual,interactive\n",
    "import ipywidgets as widgets\n",
    "\n",
    "fig, ax = plt.subplots()\n",
    "ax.plot(Time_tn, C_t_COn,'rp', label='CO*')        \n",
    "ax.plot(Time_tn, C_t_On,'gp', label='O*') \n",
    "ax.plot(Time_tn, C_t_O2n, 'bp', label='O2*') \n",
    "ax.plot(Time_tn, C_t_En, 'kp', label='*') \n",
    "ax.set_title(\"Using L-BFGS-B\")\n",
    "ax.set_xlabel('Time, s')\n",
    "ax.set_ylabel(\"Coverage, $ML$\")\n",
    "ax.legend(fontsize=8, loc='best')\n",
    "#random matrix:\n",
    "ranmat = []\n",
    "for i in np.arange(len(actual)):\n",
    "    ranmat.append( abs((1+(np.random.uniform(100,-100)/100))) )\n",
    "const = actual * ranmat\n",
    "#max K Guess parameters #Setting Bounds\n",
    "sc = 1e2 #scaling value\n",
    "mkval = const*sc #max kvals\n",
    "bounds = np.empty([len(mkval),2])\n",
    "for i in range(len(mkval)):\n",
    "    bounds[i] = (0,mkval[i])\n",
    "result = optimize.minimize(minfunc,const,args=(Atomic,Stoich,Time_t,C_dat,), method=\"L-BFGS-B\",  bounds=bounds , options={'maxcor': 100, 'ftol': 1e-15, 'gtol': 1e-15, 'eps': 1e-18, 'maxfun': 15000,'disp': False,'maxiter': 50, 'iprint': - 1, 'maxls': 35})      \n",
    "k_fit = result.x\n",
    "fit = Kinetics(k_fit,Atomic,Stoich,init,Time_t,Time_t)\n",
    "fit[:,0] = (fit[:,0]-minCO)/(maxCO-minCO)\n",
    "fit[:,1] = (fit[:,1]-minO)/(maxO-minO)\n",
    "fit[:,2] = (fit[:,2]-minO2)/(maxO2-minO2)\n",
    "fit[:,3] = (fit[:,3]-minE)/(maxE-minE)\n",
    "line1, = plt.plot(Time_tn, fit[:,0], 'r-')\n",
    "line2, = plt.plot(Time_tn, fit[:,1], 'g-')\n",
    "line3, = plt.plot(Time_tn, fit[:,2], 'b-')\n",
    "line4, = plt.plot(Time_tn, fit[:,3], 'k-')\n",
    "print('Actual, k: \\n',actual , '\\n')\n",
    "print('Initial guess, k_Guess: \\n', const, '\\n')\n",
    "print('final prediction, k_predict: \\n',k_fit , '\\n')"
   ]
  },
  {
   "cell_type": "markdown",
   "metadata": {},
   "source": [
    "## Using L-BFGS-B : Varying inital k value guesses - *resizing the initial values with random numbers"
   ]
  },
  {
   "cell_type": "code",
   "execution_count": 60,
   "metadata": {},
   "outputs": [
    {
     "name": "stderr",
     "output_type": "stream",
     "text": [
      "/Users/klkusima/opt/anaconda3/lib/python3.9/site-packages/scipy/integrate/_ivp/base.py:20: ComplexWarning: Casting complex values to real discards the imaginary part\n",
      "  return np.asarray(fun(t, y), dtype=dtype)\n"
     ]
    },
    {
     "name": "stdout",
     "output_type": "stream",
     "text": [
      "Actual, k: \n",
      " [2.00e+00 6.65e-09 2.31e+02 1.15e+05 6.13e+08 2.14e-02 2.85e-06 5.00e+02] \n",
      "\n",
      "Random resizing matirx: \n",
      " [0.012181462038579949, 1.185372708796067, 1.3094156634381926, 0.9198278616818962, 1.2494410059264416, 0.9499312259364301, 1.5869428452654084, 0.2768581525006525] \n",
      "\n",
      "Initial guess, k_Guess: \n",
      " [2.43629241e-02 7.88272851e-09 3.02475018e+02 1.05780204e+05\n",
      " 7.65907337e+08 2.03285282e-02 4.52278711e-06 1.38429076e+02] \n",
      "\n",
      "final prediction, k_predict: \n",
      " [2.43629241e-02 7.88272851e-09 3.02475018e+02 1.05780204e+05\n",
      " 7.65907337e+08 2.03285282e-02 4.52278711e-06 1.38429076e+02] \n",
      "\n",
      "CPU times: user 983 ms, sys: 170 ms, total: 1.15 s\n",
      "Wall time: 798 ms\n"
     ]
    },
    {
     "data": {
      "image/png": "[encoded data removed]",
      "text/plain": [
       "<Figure size 432x288 with 1 Axes>"
      ]
     },
     "metadata": {
      "needs_background": "light"
     },
     "output_type": "display_data"
    }
   ],
   "source": [
    "%%time\n",
    "from ipywidgets import interact_manual,interactive\n",
    "import ipywidgets as widgets\n",
    "\n",
    "fig, ax = plt.subplots()\n",
    "ax.plot(Time_tn, C_t_COn,'rp', label='CO*')        \n",
    "ax.plot(Time_tn, C_t_On,'gp', label='O*') \n",
    "ax.plot(Time_tn, C_t_O2n, 'bp', label='O2*') \n",
    "ax.plot(Time_tn, C_t_En, 'kp', label='*') \n",
    "ax.set_title(\"Using L-BFGS-B\")\n",
    "ax.set_xlabel('Time, s')\n",
    "ax.set_ylabel(\"Coverage, $ML$\")\n",
    "ax.legend(fontsize=8, loc='best')\n",
    "#random matrix:\n",
    "ranmat = []\n",
    "for i in np.arange(len(actual)):\n",
    "    ranmat.append( abs((1+(np.random.uniform(100,-100)/100))) )\n",
    "const = actual * ranmat\n",
    "#max K Guess parameters #Setting Bounds\n",
    "sc = 1e2 #scaling value\n",
    "mkval = const*sc #max kvals\n",
    "bounds = np.empty([len(mkval),2])\n",
    "for i in range(len(mkval)):\n",
    "    bounds[i] = (0,mkval[i])\n",
    "result = optimize.minimize(minfunc,const,args=(Atomic,Stoich,Time_t,C_dat,), method=\"L-BFGS-B\", jac = 'cs', bounds=bounds , options={'maxcor': 100, 'ftol': 1e-3, 'gtol': 1e-15, 'eps': 1e-18, 'maxfun': 15000,'disp': False,'maxiter': 10, 'iprint': - 1, 'maxls': 35})      \n",
    "k_fit = result.x\n",
    "fit = Kinetics(k_fit,Atomic,Stoich,init,Time_t,Time_t)\n",
    "fit[:,0] = (fit[:,0]-minCO)/(maxCO-minCO)\n",
    "fit[:,1] = (fit[:,1]-minO)/(maxO-minO)\n",
    "fit[:,2] = (fit[:,2]-minO2)/(maxO2-minO2)\n",
    "fit[:,3] = (fit[:,3]-minE)/(maxE-minE)\n",
    "line1, = plt.plot(Time_tn, fit[:,0], 'r-')\n",
    "line2, = plt.plot(Time_tn, fit[:,1], 'g-')\n",
    "line3, = plt.plot(Time_tn, fit[:,2], 'b-')\n",
    "line4, = plt.plot(Time_tn, fit[:,3], 'k-')\n",
    "print('Actual, k: \\n',actual , '\\n')\n",
    "print('Random resizing matirx: \\n', ranmat,'\\n')\n",
    "print('Initial guess, k_Guess: \\n', const, '\\n')\n",
    "print('final prediction, k_predict: \\n',k_fit , '\\n')"
   ]
  },
  {
   "cell_type": "markdown",
   "metadata": {},
   "source": [
    "### [ B ] Using Differential Evolution [Link](https://docs.scipy.org/doc/scipy/reference/generated/scipy.optimize.differential_evolution.html)"
   ]
  },
  {
   "cell_type": "code",
   "execution_count": 61,
   "metadata": {},
   "outputs": [
    {
     "name": "stdout",
     "output_type": "stream",
     "text": [
      "CPU times: user 6min, sys: 1.02 s, total: 6min 1s\n",
      "Wall time: 6min\n"
     ]
    }
   ],
   "source": [
    "%%time\n",
    "from scipy.optimize import curve_fit, differential_evolution    \n",
    "\n",
    "def error_fun(Guessk,Atomic,Stoich,Time,Conc):\n",
    "    Conc_init = Conc[0,:]\n",
    "    y_estim = Kinetics(Guessk,Atomic,Stoich,Conc_init,Time,Time)\n",
    "    y_estim[:,0] = (y_estim[:,0]-minCO)/(maxCO-minCO)\n",
    "    y_estim[:,1] = (y_estim[:,1]-minO)/(maxO-minO)\n",
    "    y_estim[:,2] = (y_estim[:,2]-minO2)/(maxO2-minO2)\n",
    "    y_estim[:,3] = (y_estim[:,3]-minE)/(maxE-minE)    \n",
    "    y_data = Conc\n",
    "    return np.sum((y_data - y_estim) ** 2)\n",
    "\n",
    "#max K Guess parameters\n",
    "sc = 1e2 #scaling value\n",
    "mkval = Guessk*sc #max kvals\n",
    "bounds = np.empty([len(mkval),2])\n",
    "for i in range(len(mkval)):\n",
    "    bounds[i] = (0,mkval[i])\n",
    "    \n",
    "res = differential_evolution(error_fun,\n",
    "                             bounds= bounds,\n",
    "                             args=(Atomic,Stoich,Time_t,C_dat),\n",
    "                             seed=45, maxiter=7,disp=False, polish=True,workers=1)"
   ]
  },
  {
   "cell_type": "code",
   "execution_count": 62,
   "metadata": {},
   "outputs": [
    {
     "name": "stdout",
     "output_type": "stream",
     "text": [
      "[3.40203090e+00 6.65000000e-07 7.44867147e+04 1.50599621e+04\n",
      " 1.78206952e+07 0.00000000e+00 5.41564097e+00 3.59177845e+04]\n"
     ]
    },
    {
     "data": {
      "image/png": "[encoded data removed]",
      "text/plain": [
       "<Figure size 432x288 with 1 Axes>"
      ]
     },
     "metadata": {
      "needs_background": "light"
     },
     "output_type": "display_data"
    }
   ],
   "source": [
    "k_fit = res.x\n",
    "print(k_fit)\n",
    "c_fit = Kinetics(k_fit,Atomic,Stoich,C_dat[0,:],Time_t,Time_t)\n",
    "\n",
    "C_fit_CO = (c_fit[:,0]-minCO)/(maxCO-minCO)\n",
    "C_fit_O = (c_fit[:,1]-minO)/(maxO-minO)\n",
    "C_fit_O2 = (c_fit[:,2]-minO2)/(maxO2-minO2)\n",
    "C_fit_E = (c_fit[:,3]-minE)/(maxE-minE)\n",
    "\n",
    "plt.figure()\n",
    "#Replotting the extracted dataset\n",
    "plt.plot(Time_tn, C_t_COn,'rp', label='CO*')        \n",
    "plt.plot(Time_tn, C_t_On,'gp', label='O*') \n",
    "plt.plot(Time_tn, C_t_O2n, 'bp', label='O2*') \n",
    "plt.plot(Time_tn, C_t_En, 'kp', label='*') \n",
    "\n",
    "#Plotting the fit\n",
    "\n",
    "plt.plot(Time_tn, C_fit_CO,'r-', label='CO*')        \n",
    "plt.plot(Time_tn, C_fit_O,'g-', label='O*') \n",
    "plt.plot(Time_tn, C_fit_O2, 'b-', label='O2*') \n",
    "plt.plot(Time_tn, C_fit_E, 'k-', label='*') \n",
    "\n",
    "\n",
    "plt.xlabel('Time, s')\n",
    "plt.ylabel(\"Coverage, $ML$\")\n",
    "plt.legend(fontsize=8, loc='best')\n",
    "plt.title(\"Using Diff Evolution\")\n",
    "plt.show()"
   ]
  },
  {
   "cell_type": "markdown",
   "metadata": {},
   "source": [
    "### [ C ] Using SHGO - Simplicial homology global optimization [Link](https://docs.scipy.org/doc/scipy/reference/generated/scipy.optimize.shgo.html#scipy.optimize.shgo)"
   ]
  },
  {
   "cell_type": "code",
   "execution_count": 63,
   "metadata": {},
   "outputs": [
    {
     "name": "stdout",
     "output_type": "stream",
     "text": [
      "Splitting first generation\n",
      "Starting minimization at [0.00e+00 6.65e-07 7.69e+04 0.00e+00 1.30e+07 0.00e+00 0.00e+00 2.50e+04]...\n",
      "bounds in kwarg:\n",
      "[[0.0, 1.4525], [4.9875e-07, 6.65e-07], [57675.0, 76900.0], [0.0, 2875000.0], [6500000.0, 19500000.0], [0.0, 0.5349999999999999], [0.0, 33.75], [12500.0, 37500.0]]\n",
      "lres =      fun: 21.48097299232191\n",
      "     jac: array([ 2.90870667e-05, -5.06616402e+00, -6.84261322e-05,  1.90734863e-06,\n",
      "        7.15255737e-07, -2.38418579e-07, -2.14576721e-06, -1.90734863e-06])\n",
      " message: 'Optimization terminated successfully'\n",
      "    nfev: 83\n",
      "     nit: 9\n",
      "    njev: 9\n",
      "  status: 0\n",
      " success: True\n",
      "       x: array([0.00000000e+00, 6.65000000e-07, 7.69000000e+04, 7.48319313e-06,\n",
      "       1.30000000e+07, 2.55394865e-05, 3.02881984e+00, 2.49999996e+04])\n",
      "Starting minimization at [0.00e+00 6.65e-07 7.69e+04 0.00e+00 2.60e+07 0.00e+00 6.75e+01 5.00e+04]...\n",
      "bounds in kwarg:\n",
      "[[0.0, 1.4525], [4.9875e-07, 6.65e-07], [57675.0, 76900.0], [0.0, 2875000.0], [19500000.0, 26000000.0], [0.0, 0.5349999999999999], [33.75, 101.25], [37500.0, 50000.0]]\n",
      "lres =      fun: 21.671914227267767\n",
      "     jac: array([ 2.71797180e-05, -2.88803124e+00, -6.41345978e-05,  2.38418579e-07,\n",
      "       -1.66893005e-06, -1.66893005e-06,  5.52630424e-03, -3.09944153e-06])\n",
      " message: 'Optimization terminated successfully'\n",
      "    nfev: 72\n",
      "     nit: 8\n",
      "    njev: 8\n",
      "  status: 0\n",
      " success: True\n",
      "       x: array([1.33065826e-15, 6.64999996e-07, 7.69000000e+04, 1.95617961e-02,\n",
      "       2.60000000e+07, 8.23911170e-05, 3.37500000e+01, 5.00000000e+04])\n",
      "Successfully completed construction of complex.\n",
      "CPU times: user 25min 23s, sys: 3.79 s, total: 25min 27s\n",
      "Wall time: 25min 24s\n"
     ]
    }
   ],
   "source": [
    "%%time\n",
    "from scipy.optimize import shgo    \n",
    "\n",
    "def error_fun(Guessk,Atomic,Stoich,Time,Conc):\n",
    "    Conc_init = Conc[0,:]\n",
    "    y_estim = Kinetics(Guessk,Atomic,Stoich,Conc_init,Time,Time)\n",
    "    y_estim[:,0] = (y_estim[:,0]-minCO)/(maxCO-minCO)\n",
    "    y_estim[:,1] = (y_estim[:,1]-minO)/(maxO-minO)\n",
    "    y_estim[:,2] = (y_estim[:,2]-minO2)/(maxO2-minO2)\n",
    "    y_estim[:,3] = (y_estim[:,3]-minE)/(maxE-minE)    \n",
    "    y_data = Conc\n",
    "    return np.sum((y_data - y_estim) ** 2)\n",
    "\n",
    "#max K Guess parameters\n",
    "sc = 1e2 #scaling value\n",
    "mkval = Guessk*sc #max kvals\n",
    "bounds = np.empty([len(mkval),2])\n",
    "for i in range(len(mkval)):\n",
    "    bounds[i] = (0,mkval[i])\n",
    "    \n",
    "res_c = shgo(error_fun,bounds= bounds,\n",
    "                     args=(Atomic,Stoich,Time_t,C_dat),\n",
    "                     iters=1, options = {'ftol': 1e-10, 'gtol': 1e-10,'maxfun': 900, 'maxiter': 3, 'disp' : True})"
   ]
  },
  {
   "cell_type": "code",
   "execution_count": 64,
   "metadata": {},
   "outputs": [],
   "source": [
    "def CI95(fvec, jac):\n",
    "    #Returns the 95% confidence interval on parameters\n",
    "    \n",
    "    rss = np.sum(fvec**2) # residual sum of squares\n",
    "    \n",
    "    n, p = jac.shape     # number of data points and parameters\n",
    "   \n",
    "    nmp = n - p          # the statistical degrees of freedom\n",
    "    \n",
    "    ssq = rss / nmp      # mean residual error\n",
    "    \n",
    "    J = np.matrix(jac)   # the Jacobian\n",
    "    \n",
    "    c = inv(J.T*J)       # covariance matrix\n",
    "    \n",
    "    pcov = c * ssq       # variance-covariance matrix.\n",
    "    # Diagonal terms provide error estimate based on uncorrelated parameters.\n",
    "    \n",
    "    err = np.sqrt(np.diag(np.abs(pcov))) * 1.96  # std. dev. x 1.96 -> 95% conf\n",
    "    # Here err is the full 95% area under the normal distribution curve. \n",
    "    return err"
   ]
  },
  {
   "cell_type": "code",
   "execution_count": 65,
   "metadata": {},
   "outputs": [
    {
     "name": "stdout",
     "output_type": "stream",
     "text": [
      "[0.00000000e+00 6.65000000e-07 7.69000000e+04 7.48319313e-06\n",
      " 1.30000000e+07 2.55394865e-05 3.02881984e+00 2.49999996e+04]\n"
     ]
    },
    {
     "data": {
      "image/png": "[encoded data removed]",
      "text/plain": [
       "<Figure size 432x288 with 1 Axes>"
      ]
     },
     "metadata": {
      "needs_background": "light"
     },
     "output_type": "display_data"
    }
   ],
   "source": [
    "k_fit_c = res_c.x\n",
    "print(k_fit_c)\n",
    "c_fit = Kinetics(k_fit_c,Atomic,Stoich,C_dat[0,:],Time_t,Time_t)\n",
    "\n",
    "C_fit_CO = (c_fit[:,0]-minCO)/(maxCO-minCO)\n",
    "C_fit_O = (c_fit[:,1]-minO)/(maxO-minO)\n",
    "C_fit_O2 = (c_fit[:,2]-minO2)/(maxO2-minO2)\n",
    "C_fit_E = (c_fit[:,3]-minE)/(maxE-minE)\n",
    "\n",
    "plt.figure()\n",
    "#Replotting the extracted dataset\n",
    "plt.plot(Time_tn, C_t_COn,'rp', label='CO*')        \n",
    "plt.plot(Time_tn, C_t_On,'gp', label='O*') \n",
    "plt.plot(Time_tn, C_t_O2n, 'bp', label='O2*') \n",
    "plt.plot(Time_tn, C_t_En, 'kp', label='*') \n",
    "\n",
    "#Plotting the fit\n",
    "\n",
    "plt.plot(Time_tn, C_fit_CO,'r-', label='CO*')        \n",
    "plt.plot(Time_tn, C_fit_O,'g-', label='O*') \n",
    "plt.plot(Time_tn, C_fit_O2, 'b-', label='O2*') \n",
    "plt.plot(Time_tn, C_fit_E, 'k-', label='*') \n",
    "\n",
    "\n",
    "plt.xlabel('Time, s')\n",
    "plt.ylabel(\"Coverage, $ML$\")\n",
    "plt.legend(fontsize=8, loc='best')\n",
    "plt.title(\"C: Using SHGO Evolution\")\n",
    "plt.show()"
   ]
  },
  {
   "cell_type": "markdown",
   "metadata": {},
   "source": [
    "### [ D ] Using Dual Annealing - Combination of CSA (Classical Simulated Annealing) and FSA (Fast Simulated Annealing)  [Link](https://docs.scipy.org/doc/scipy/reference/generated/scipy.optimize.dual_annealing.html?highlight=dual_annealing#scipy.optimize.dual_annealing)"
   ]
  },
  {
   "cell_type": "code",
   "execution_count": 66,
   "metadata": {},
   "outputs": [
    {
     "name": "stdout",
     "output_type": "stream",
     "text": [
      "CPU times: user 2min 35s, sys: 517 ms, total: 2min 36s\n",
      "Wall time: 2min 35s\n"
     ]
    }
   ],
   "source": [
    "%%time\n",
    "from scipy.optimize import dual_annealing    \n",
    "\n",
    "def error_fun(Guessk,Atomic,Stoich,Time,Conc):\n",
    "    Conc_init = Conc[0,:]\n",
    "    y_estim = Kinetics(Guessk,Atomic,Stoich,Conc_init,Time,Time)\n",
    "    y_estim[:,0] = (y_estim[:,0]-minCO)/(maxCO-minCO)\n",
    "    y_estim[:,1] = (y_estim[:,1]-minO)/(maxO-minO)\n",
    "    y_estim[:,2] = (y_estim[:,2]-minO2)/(maxO2-minO2)\n",
    "    y_estim[:,3] = (y_estim[:,3]-minE)/(maxE-minE)    \n",
    "    y_data = Conc\n",
    "    return np.sum((y_data - y_estim) ** 2)\n",
    "\n",
    "#max K Guess parameters\n",
    "sc = 1e2 #scaling value\n",
    "mkval = Guessk*sc #max kvals\n",
    "bounds = np.empty([len(mkval),2])\n",
    "for i in range(len(mkval)):\n",
    "    bounds[i] = (0,mkval[i])\n",
    "    \n",
    "res_d = dual_annealing(error_fun,bounds= bounds,\n",
    "                     args=(Atomic,Stoich,Time_t,C_dat),\n",
    "                     maxiter=10, maxfun = 5000, seed=45)"
   ]
  },
  {
   "cell_type": "code",
   "execution_count": 67,
   "metadata": {},
   "outputs": [
    {
     "name": "stdout",
     "output_type": "stream",
     "text": [
      "[3.54995745e+00 6.65000000e-07 7.28089995e+04 1.78518234e+06\n",
      " 2.44566680e+07 0.00000000e+00 1.74900469e+00 1.87529712e+04]\n"
     ]
    },
    {
     "data": {
      "image/png": "[encoded data removed]",
      "text/plain": [
       "<Figure size 432x288 with 1 Axes>"
      ]
     },
     "metadata": {
      "needs_background": "light"
     },
     "output_type": "display_data"
    }
   ],
   "source": [
    "k_fit_d = res_d.x\n",
    "print(k_fit_d)\n",
    "c_fit = Kinetics(k_fit_d,Atomic,Stoich,C_dat[0,:],Time_t,Time_t)\n",
    "\n",
    "C_fit_CO = (c_fit[:,0]-minCO)/(maxCO-minCO)\n",
    "C_fit_O = (c_fit[:,1]-minO)/(maxO-minO)\n",
    "C_fit_O2 = (c_fit[:,2]-minO2)/(maxO2-minO2)\n",
    "C_fit_E = (c_fit[:,3]-minE)/(maxE-minE)\n",
    "\n",
    "plt.figure()\n",
    "#Replotting the extracted dataset\n",
    "plt.plot(Time_tn, C_t_COn,'rp', label='CO*')        \n",
    "plt.plot(Time_tn, C_t_On,'gp', label='O*') \n",
    "plt.plot(Time_tn, C_t_O2n, 'bp', label='O2*') \n",
    "plt.plot(Time_tn, C_t_En, 'kp', label='*') \n",
    "\n",
    "#Plotting the fit\n",
    "\n",
    "plt.plot(Time_tn, C_fit_CO,'r-', label='CO*')        \n",
    "plt.plot(Time_tn, C_fit_O,'g-', label='O*') \n",
    "plt.plot(Time_tn, C_fit_O2, 'b-', label='O2*') \n",
    "plt.plot(Time_tn, C_fit_E, 'k-', label='*') \n",
    "\n",
    "\n",
    "plt.xlabel('Time, s')\n",
    "plt.ylabel(\"Coverage, $ML$\")\n",
    "plt.legend(fontsize=8, loc='best')\n",
    "plt.title(\"D: Using Dual Annealing\")\n",
    "plt.show()"
   ]
  },
  {
   "cell_type": "markdown",
   "metadata": {},
   "source": [
    "### Simple Fitting Using SPLINES"
   ]
  },
  {
   "cell_type": "code",
   "execution_count": 68,
   "metadata": {},
   "outputs": [
    {
     "data": {
      "image/png": "[encoded data removed]",
      "text/plain": [
       "<Figure size 432x288 with 1 Axes>"
      ]
     },
     "metadata": {
      "needs_background": "light"
     },
     "output_type": "display_data"
    },
    {
     "name": "stdout",
     "output_type": "stream",
     "text": [
      "CPU times: user 180 ms, sys: 113 ms, total: 293 ms\n",
      "Wall time: 99.1 ms\n"
     ]
    }
   ],
   "source": [
    "%%time\n",
    "from scipy.interpolate import UnivariateSpline, InterpolatedUnivariateSpline\n",
    "#fitting spline - loop\n",
    "x_values = Time_tn\n",
    "C_fit_in = np.empty([len(x_values),4])\n",
    "for i in np.arange(4):\n",
    "    a = UnivariateSpline(x_values, C_datn[:,i], k=5)\n",
    "    a.set_smoothing_factor(1e-5)\n",
    "    C_fit_in[:,i] = a(x_values)\n",
    "    \n",
    "    \n",
    "C_fit_CO = C_fit_in[:,0]\n",
    "C_fit_O = C_fit_in[:,1]\n",
    "C_fit_O2 = C_fit_in[:,2]\n",
    "C_fit_E = C_fit_in[:,3]  \n",
    "\n",
    "plt.figure()\n",
    "\n",
    "#Replotting the extracted dataset\n",
    "plt.plot(Time_tn, C_t_COn,'rp', label='CO*')        \n",
    "plt.plot(Time_tn, C_t_On,'gp', label='O*') \n",
    "plt.plot(Time_tn, C_t_O2n, 'bp', label='O2*') \n",
    "plt.plot(Time_tn, C_t_En, 'kp', label='*') \n",
    "\n",
    "#Plotting the fit\n",
    "\n",
    "plt.plot(Time_tn, C_fit_CO,'r-', label='CO*')        \n",
    "plt.plot(Time_tn, C_fit_O,'g-', label='O*') \n",
    "plt.plot(Time_tn, C_fit_O2, 'b-', label='O2*') \n",
    "plt.plot(Time_tn, C_fit_E, 'k-', label='*') \n",
    "\n",
    "plt.xlabel('Time, s')\n",
    "plt.ylabel(\"Coverage, $ML$\")\n",
    "plt.legend(fontsize=8, loc='best')\n",
    "plt.title(\"Using Splines\")\n",
    "plt.show()"
   ]
  },
  {
   "cell_type": "code",
   "execution_count": null,
   "metadata": {},
   "outputs": [],
   "source": []
  },
  {
   "cell_type": "code",
   "execution_count": null,
   "metadata": {},
   "outputs": [],
   "source": []
  }
 ],
 "metadata": {
  "kernelspec": {
   "display_name": "Python 3 (ipykernel)",
   "language": "python",
   "name": "python3"
  },
  "language_info": {
   "codemirror_mode": {
    "name": "ipython",
    "version": 3
   },
   "file_extension": ".py",
   "mimetype": "text/x-python",
   "name": "python",
   "nbconvert_exporter": "python",
   "pygments_lexer": "ipython3",
   "version": "3.9.7"
  }
 },
 "nbformat": 4,
 "nbformat_minor": 4
}
