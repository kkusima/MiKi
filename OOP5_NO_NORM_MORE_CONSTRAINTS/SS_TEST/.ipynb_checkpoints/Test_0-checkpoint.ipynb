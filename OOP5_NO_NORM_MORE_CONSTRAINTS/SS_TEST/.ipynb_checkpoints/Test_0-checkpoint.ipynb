{
 "cells": [
  {
   "cell_type": "code",
   "execution_count": 12,
   "id": "feec1665",
   "metadata": {},
   "outputs": [],
   "source": [
    "# from main import *\n",
    "import numpy as np\n",
    "import matplotlib.pyplot as plt\n",
    "%matplotlib notebook"
   ]
  },
  {
   "cell_type": "code",
   "execution_count": 20,
   "id": "cc67ed45",
   "metadata": {},
   "outputs": [
    {
     "name": "stdout",
     "output_type": "stream",
     "text": [
      "0.5691552331335052 4.9175178374121636e-12 0.1857916754910425 0.24505309137053477\n"
     ]
    }
   ],
   "source": [
    "from scipy import optimize\n",
    "from scipy.optimize import fsolve\n",
    "from scipy.optimize import least_squares\n",
    "\n",
    "from math import exp\n",
    "\n",
    "def equations(vars,k1f,k1r,k2f,k2r,k3f,k3r,k4f,k4r,P1,P2,P3):\n",
    "    th1,th2,th3,th4 = vars\n",
    "    #CO, O2, O, *\n",
    "    #Rates of reaction\n",
    "    r1 = k1f*P1*th4 - k1r*th1\n",
    "    r2 = k2f*P2*th4 - k2r*th2\n",
    "    r3 = k3f*th2*(th4) - k3r*(th3**2)\n",
    "    r4 = k4f*th1*th3 - k4r*P3*(th4**2)    \n",
    "    \n",
    "    #Rate of change of surface coverages\n",
    "    D1 = r1-r4               #Rate of Formation of CO*\n",
    "    D2 = r2-r3               #Rate of Formation of O_2*\n",
    "    D3 = (2*r3)-r4           #Rate of Formation of O*\n",
    "#     D4 = (2*r4)-r3-r2-r1     #Rate of Formation of *\n",
    "   \n",
    "    D4 = th1 + th2 +th3 +th4 - 1\n",
    "    \n",
    "    return [D1,D2,D3,D4]\n",
    "\n",
    " #Partial Pressures\n",
    "P1 = 1e-8 #P_CO\n",
    "P2 = 1e-8 #P_O2\n",
    "P3 = 1e-8 #P_CO2\n",
    "\n",
    "k1f = 2.00e+00\n",
    "k1r = 6.65e-09\n",
    "k2f = 2.31e+02\n",
    "k2r = 1.15e+05\n",
    "k3f = 6.13e+08\n",
    "k3r = 2.14e-02\n",
    "k4f = 2.85e-06\n",
    "k4r = 5.00e+02\n",
    "\n",
    "th1,th2,th3,th4 =  fsolve(equations, [0.5684699710924666, 4.928697550313424e-12, 0.18613321390156262, 0.24539681500104268],args=(k1f,k1r,k2f,k2r,k3f,k3r,k4f,k4r,P1,P2,P3),xtol=1e-12,maxfev=10000,factor=10)\n",
    "\n",
    "print(th1,th2,th3,th4)"
   ]
  },
  {
   "cell_type": "code",
   "execution_count": 21,
   "id": "9af97ee2",
   "metadata": {},
   "outputs": [
    {
     "data": {
      "text/plain": [
       "[6.63838286523647e-10,\n",
       " -7.44952125753326e-15,\n",
       " -3.309090739603946e-10,\n",
       " 4.440892098500626e-16]"
      ]
     },
     "execution_count": 21,
     "metadata": {},
     "output_type": "execute_result"
    }
   ],
   "source": [
    "#CO, O2, O, * !!\n",
    "check = [0.5684699710924666, 4.928697550313424e-12, 0.18613321390156262, 0.24539681500104268]\n",
    "\n",
    "pr=optimize.fsolve(equations, (check),args=(k1f,k1r,k2f,k2r,k3f,k3r,k4f,k4r,P1,P2,P3))\n",
    "equations(check,k1f,k1r,k2f,k2r,k3f,k3r,k4f,k4r,P1,P2,P3)"
   ]
  },
  {
   "cell_type": "code",
   "execution_count": 22,
   "id": "4adff6a9",
   "metadata": {},
   "outputs": [
    {
     "data": {
      "text/plain": [
       "[2.1482707688614682e-20,\n",
       " -3.247127273078962e-16,\n",
       " 6.494468421977106e-16,\n",
       " -1.1102230246251565e-16]"
      ]
     },
     "execution_count": 22,
     "metadata": {},
     "output_type": "execute_result"
    }
   ],
   "source": [
    "equations(pr,k1f,k1r,k2f,k2r,k3f,k3r,k4f,k4r,P1,P2,P3)"
   ]
  },
  {
   "cell_type": "code",
   "execution_count": null,
   "id": "9cd90dc7",
   "metadata": {},
   "outputs": [],
   "source": [
    "# from numpy import *\n",
    "# from scipy import stats\n",
    "# from scipy import optimize\n",
    "# HF, M1F, x=1000.,900.,10.\n",
    "# def f(p):\n",
    "#     P1 = 1e-8 #P_CO\n",
    "#     P2 = 1e-8 #P_O2\n",
    "#     P3 = 1e-8 #P_CO2\n",
    "\n",
    "#     k1f = 2.00e+00\n",
    "#     k1r = 6.65e-09\n",
    "#     k2f = 2.31e+02\n",
    "#     k2r = 1.15e+05\n",
    "#     k3f = 6.13e+08\n",
    "#     k3r = 2.14e-02\n",
    "#     k4f = 2.85e-06\n",
    "#     k4r = 5.00e+02\n",
    "#     return abs(sum(array(equations(p,k1f,k1r,k2f,k2r,k3f,k3r,k4f,k4r,P1,P2,P3))**2)-0)\n",
    "# optimize.fmin(f, (2.61549596e-01, 1.49201621e-11, 3.56525382e-01, 2.97396334e-01),xtol=1e-13,ftol= 1e-8,maxiter=1000)"
   ]
  },
  {
   "cell_type": "code",
   "execution_count": null,
   "id": "87a46c4b",
   "metadata": {},
   "outputs": [],
   "source": [
    "# array([1.29882699e+00, 1.26977151e-10, 1.58176594e+00, 7.10794312e-01])\n",
    "# optimize.fsolve(equations, (1.29882699e+00, 1.26977151e-10, 1.58176594e+00, 7.10794312e-01))\n",
    "# array([ 1.29882699e+00, 1.26977151e-10, 1.58176594e+00, 7.10794312e-01])\n",
    "# pr=optimize.fsolve(equations, (check),args=(k1f,k1r,k2f,k2r,k3f,k3r,k4f,k4r,P1,P2,P3))\n",
    "# equations(pr,k1f,k1r,k2f,k2r,k3f,k3r,k4f,k4r,P1,P2,P3)"
   ]
  },
  {
   "cell_type": "code",
   "execution_count": null,
   "id": "eeb04eaf",
   "metadata": {},
   "outputs": [],
   "source": [
    "# pr"
   ]
  },
  {
   "cell_type": "code",
   "execution_count": null,
   "id": "6659e5ca",
   "metadata": {},
   "outputs": [],
   "source": []
  }
 ],
 "metadata": {
  "kernelspec": {
   "display_name": "Python 3 (ipykernel)",
   "language": "python",
   "name": "python3"
  },
  "language_info": {
   "codemirror_mode": {
    "name": "ipython",
    "version": 3
   },
   "file_extension": ".py",
   "mimetype": "text/x-python",
   "name": "python",
   "nbconvert_exporter": "python",
   "pygments_lexer": "ipython3",
   "version": "3.9.7"
  }
 },
 "nbformat": 4,
 "nbformat_minor": 5
}
