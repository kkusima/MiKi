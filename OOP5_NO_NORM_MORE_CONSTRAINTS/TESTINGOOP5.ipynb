{
 "cells": [
  {
   "cell_type": "code",
   "execution_count": 1,
   "id": "453ae7e1",
   "metadata": {},
   "outputs": [],
   "source": [
    "from main import *\n",
    "import numpy as np\n",
    "import matplotlib.pyplot as plt\n",
    "%matplotlib notebook"
   ]
  },
  {
   "cell_type": "code",
   "execution_count": 2,
   "id": "0b32248d",
   "metadata": {},
   "outputs": [
    {
     "name": "stdout",
     "output_type": "stream",
     "text": [
      "Mass is conserved. \n",
      "\n",
      "CPU times: user 23.6 ms, sys: 1.99 ms, total: 25.6 ms\n",
      "Wall time: 24.7 ms\n"
     ]
    }
   ],
   "source": [
    "%%time \n",
    "#Fitting for Model 1: (without CD) #using curve_fit\n",
    "fit = Fitting('KMC_Steady_Kinetic_Input.csv','Atomic.csv','Stoich.csv','Param.csv',Input_Type='iCovg_iRates') #covgdep = Allowing for coverage dependance to be considered in the fit\n",
    "fit.set_rxnconditions() #Sets the Pressures and Temperature as defined from the Param file. (Note: One can also enter them manually - See main.py for syntax)\n",
    "fit.set_limits_of_integration(fit.Input.iloc[0,0],fit.Input.iloc[-1,0])\n",
    "fit.n_extract = 0.5"
   ]
  },
  {
   "cell_type": "code",
   "execution_count": 3,
   "id": "f0907e6c",
   "metadata": {},
   "outputs": [],
   "source": [
    "kfit1 = np.array([7.24446662e+06, 1.48359014e+04, 9.21074095e+06, 6.35719296e+00,\n",
    " 1.26711213e+06, 2.06799121e+04, 2.25184309e+05, 4.08984436e+06])\n",
    "fit.MKM.k = kfit1\n",
    "sola1,solta1= MKM1.solve_coverage(plot=True) #Obtains the coverages(sol) with respect to time(solt) and plots them if plot=True (Note: Additional options can be set manually - See main.py for syntax)"
   ]
  },
  {
   "cell_type": "code",
   "execution_count": 4,
   "id": "b9259b26",
   "metadata": {},
   "outputs": [
    {
     "data": {
      "text/plain": [
       "array([7.24446662e+06, 1.48359014e+04, 9.21074095e+06, 6.35719296e+00,\n",
       "       1.26711213e+06, 2.06799121e+04, 2.25184309e+05, 4.08984436e+06])"
      ]
     },
     "execution_count": 4,
     "metadata": {},
     "output_type": "execute_result"
    }
   ],
   "source": [
    "fit.MKM.k"
   ]
  },
  {
   "cell_type": "code",
   "execution_count": 5,
   "id": "46cca351",
   "metadata": {},
   "outputs": [
    {
     "name": "stdout",
     "output_type": "stream",
     "text": [
      "Warning: STEADY STATE MAY NOT HAVE BEEN REACHED. Difference in a set of last two rates of production terms is NOT less than 1e-7. Last terms are returned anyways.\n"
     ]
    }
   ],
   "source": [
    "a = fit.MKM.get_SS_rates_production()[:len(fit.MKM.Pextract())]"
   ]
  },
  {
   "cell_type": "code",
   "execution_count": 6,
   "id": "184e3f29",
   "metadata": {},
   "outputs": [
    {
     "name": "stdout",
     "output_type": "stream",
     "text": [
      "[-0.03356377 -0.01678209  0.03356377]\n"
     ]
    }
   ],
   "source": [
    "print(a)"
   ]
  },
  {
   "cell_type": "code",
   "execution_count": 10,
   "id": "7961a7f3",
   "metadata": {},
   "outputs": [],
   "source": [
    "actual = np.array([-0.021159,-0.024414,0.028754])"
   ]
  },
  {
   "cell_type": "code",
   "execution_count": 11,
   "id": "5edff156",
   "metadata": {},
   "outputs": [],
   "source": [
    "#Calculating %difference\n",
    "pd = np.empty(len(a))\n",
    "for i in np.arange(len(a)):\n",
    "    pd[i] = np.abs((actual[i]-a[i])/(actual[i]))*100"
   ]
  },
  {
   "cell_type": "code",
   "execution_count": 12,
   "id": "e0c0f364",
   "metadata": {},
   "outputs": [
    {
     "name": "stdout",
     "output_type": "stream",
     "text": [
      "[58.626437   31.26038243 16.72729985]\n"
     ]
    }
   ],
   "source": [
    "print(pd)"
   ]
  },
  {
   "cell_type": "code",
   "execution_count": null,
   "id": "94506c61",
   "metadata": {},
   "outputs": [],
   "source": []
  }
 ],
 "metadata": {
  "kernelspec": {
   "display_name": "Python 3 (ipykernel)",
   "language": "python",
   "name": "python3"
  },
  "language_info": {
   "codemirror_mode": {
    "name": "ipython",
    "version": 3
   },
   "file_extension": ".py",
   "mimetype": "text/x-python",
   "name": "python",
   "nbconvert_exporter": "python",
   "pygments_lexer": "ipython3",
   "version": "3.9.7"
  }
 },
 "nbformat": 4,
 "nbformat_minor": 5
}
