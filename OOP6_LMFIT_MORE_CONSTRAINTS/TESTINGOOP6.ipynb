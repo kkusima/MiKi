{
 "cells": [
  {
   "cell_type": "code",
   "execution_count": 1,
   "id": "ff3999fb",
   "metadata": {},
   "outputs": [],
   "source": [
    "from main import *\n",
    "import numpy as np\n",
    "import matplotlib.pyplot as plt\n",
    "%matplotlib notebook"
   ]
  },
  {
   "cell_type": "code",
   "execution_count": 2,
   "id": "1ea0146a",
   "metadata": {},
   "outputs": [
    {
     "name": "stdout",
     "output_type": "stream",
     "text": [
      "Mass is conserved. \n",
      "\n",
      "CPU times: user 20.4 ms, sys: 1.45 ms, total: 21.8 ms\n",
      "Wall time: 21.7 ms\n"
     ]
    }
   ],
   "source": [
    "%%time \n",
    "#Fitting for Model 1: (without CD) #using curve_fit\n",
    "fit = Fitting('KMC_NonDynamic_Data_iCovg_iRates.csv','Atomic.csv','Stoich.csv','Param.csv',Input_Type='iCovg_iRates') #covgdep = Allowing for coverage dependance to be considered in the fit\n",
    "fit.set_rxnconditions() #Sets the Pressures and Temperature as defined from the Param file. (Note: One can also enter them manually - See main.py for syntax)\n",
    "fit.set_limits_of_integration(fit.Input.iloc[0,0],fit.Input.iloc[-1,0])\n",
    "fit.n_extract = 0.5"
   ]
  },
  {
   "cell_type": "code",
   "execution_count": 3,
   "id": "b909f6c4",
   "metadata": {},
   "outputs": [],
   "source": [
    "kfit1 = np.array([7.62920766e+06, 7.84283749e-12, 1.14810513e+09, 3.31188781e+06,\n",
    " 3.89302597e+04, 1.05772855e-01 ,8.84950863e+00 ,3.71041706e+01])\n",
    "fit.MKM.k = kfit1\n",
    "sola1,solta1= MKM1.solve_coverage(plot=True) #Obtains the coverages(sol) with respect to time(solt) and plots them if plot=True (Note: Additional options can be set manually - See main.py for syntax)"
   ]
  },
  {
   "cell_type": "code",
   "execution_count": 4,
   "id": "b3e61bd5",
   "metadata": {},
   "outputs": [
    {
     "data": {
      "text/plain": [
       "array([7.62920766e+06, 7.84283749e-12, 1.14810513e+09, 3.31188781e+06,\n",
       "       3.89302597e+04, 1.05772855e-01, 8.84950863e+00, 3.71041706e+01])"
      ]
     },
     "execution_count": 4,
     "metadata": {},
     "output_type": "execute_result"
    }
   ],
   "source": [
    "fit.MKM.k"
   ]
  },
  {
   "cell_type": "code",
   "execution_count": 5,
   "id": "2eccab10",
   "metadata": {},
   "outputs": [
    {
     "name": "stdout",
     "output_type": "stream",
     "text": [
      "Warning: STEADY STATE MAY NOT HAVE BEEN REACHED. Difference in a set of last two rates of production terms is NOT less than 1e-7. Last terms are returned anyways.\n"
     ]
    }
   ],
   "source": [
    "a = fit.MKM.get_SS_rates_production()[:len(fit.MKM.Pextract())]"
   ]
  },
  {
   "cell_type": "code",
   "execution_count": 6,
   "id": "f7d519a3",
   "metadata": {},
   "outputs": [
    {
     "name": "stdout",
     "output_type": "stream",
     "text": [
      "[-0.04221952 -0.02111715  0.04222021]\n"
     ]
    }
   ],
   "source": [
    "print(a)"
   ]
  },
  {
   "cell_type": "code",
   "execution_count": 7,
   "id": "e8b3c953",
   "metadata": {},
   "outputs": [],
   "source": [
    "actual = np.array([-0.025828993055555468, -0.034275173611110994, 0.033962673611110994])"
   ]
  },
  {
   "cell_type": "code",
   "execution_count": 8,
   "id": "caa9687d",
   "metadata": {},
   "outputs": [],
   "source": [
    "#Calculating %difference\n",
    "pd = np.empty(len(a))\n",
    "for i in np.arange(len(a)):\n",
    "    pd[i] = np.abs((actual[i]-a[i])/(actual[i]))*100"
   ]
  },
  {
   "cell_type": "code",
   "execution_count": 9,
   "id": "e33c6fb8",
   "metadata": {},
   "outputs": [
    {
     "name": "stdout",
     "output_type": "stream",
     "text": [
      "[63.45786091 38.38936302 24.31355239]\n"
     ]
    }
   ],
   "source": [
    "print(pd)"
   ]
  }
 ],
 "metadata": {
  "kernelspec": {
   "display_name": "Python 3 (ipykernel)",
   "language": "python",
   "name": "python3"
  },
  "language_info": {
   "codemirror_mode": {
    "name": "ipython",
    "version": 3
   },
   "file_extension": ".py",
   "mimetype": "text/x-python",
   "name": "python",
   "nbconvert_exporter": "python",
   "pygments_lexer": "ipython3",
   "version": "3.9.7"
  }
 },
 "nbformat": 4,
 "nbformat_minor": 5
}
