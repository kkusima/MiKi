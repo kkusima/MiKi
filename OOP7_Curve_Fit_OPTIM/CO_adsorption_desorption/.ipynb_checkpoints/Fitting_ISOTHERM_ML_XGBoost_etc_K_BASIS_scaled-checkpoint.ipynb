{
 "cells": [
  {
   "cell_type": "code",
   "execution_count": null,
   "id": "bdb4943d",
   "metadata": {},
   "outputs": [],
   "source": [
    "import glob, os\n",
    "import matplotlib.pyplot as plt\n",
    "import numpy as np\n",
    "import pandas as pd\n",
    "import shutil\n",
    "%matplotlib notebook\n",
    "from main import *"
   ]
  },
  {
   "cell_type": "code",
   "execution_count": null,
   "id": "e33c2087",
   "metadata": {},
   "outputs": [],
   "source": [
    "#Extracting the SS coverages previously saved and extracted from kMC files\n",
    "ss_COVG_NONLAT = pd.read_csv('SS_Covg_nonLat.csv')\n",
    "ss_COVG_LAT = pd.read_csv('SS_Covg_Lat.csv')"
   ]
  },
  {
   "cell_type": "code",
   "execution_count": null,
   "id": "05c079a1",
   "metadata": {},
   "outputs": [],
   "source": [
    "#Isolating pressures and ss coverages\n",
    "Prs_non_lat = ss_COVG_NONLAT.iloc[:,0].to_numpy()\n",
    "Prs_lat = ss_COVG_LAT.iloc[:,0].to_numpy()\n",
    "ss_covg_non_lat = ss_COVG_NONLAT.iloc[:,1].to_numpy()\n",
    "ss_covg_lat = ss_COVG_LAT.iloc[:,1].to_numpy()"
   ]
  },
  {
   "cell_type": "code",
   "execution_count": null,
   "id": "52260572",
   "metadata": {},
   "outputs": [],
   "source": [
    "#Simulation times from each kMC simulation\n",
    "t0,tf = 0,750.000000000102"
   ]
  },
  {
   "cell_type": "code",
   "execution_count": null,
   "id": "ac17e0f9",
   "metadata": {},
   "outputs": [],
   "source": [
    "%%time\n",
    "#Performing SS MIKI MKM simulations for non lateral case\n",
    "from main import *\n",
    "MKM = MKModel('Atomic.csv','Stoich.csv','Param.csv')\n",
    "MKM.Thermo_Constraint = 'OFF'\n",
    "MKM.set_limits_of_integration(t0,tf)\n",
    "MKM.rate_const_correction='None'\n",
    "MKM_SS_covg_NONLAT = []\n",
    "Prs = Prs_non_lat\n",
    "for i in np.arange(len(Prs)):\n",
    "    MKM.set_rxnconditions(Pr=[Prs[i]])\n",
    "    MKM_SS_covg_NONLAT = np.append(MKM_SS_covg_NONLAT,MKM.get_SS_coverages(print_warning=False)[0])"
   ]
  },
  {
   "cell_type": "code",
   "execution_count": null,
   "id": "0601301e",
   "metadata": {},
   "outputs": [],
   "source": [
    "plt.figure()\n",
    "plt.semilogx(Prs_lat,ss_covg_lat,'o',label='kMC (With lateral interaction)')\n",
    "plt.semilogx(Prs_non_lat,ss_covg_non_lat,'*',label='kMC (No lateral interaction)')\n",
    "plt.semilogx(Prs_non_lat,MKM_SS_covg_NONLAT,'-',label='MKM isotherm')\n",
    "# plt.semilogx(Prs,MKM_SS_covg_LAT,'-',label='MKM isotherm')\n",
    "plt.legend()\n",
    "plt.title('CO adsorption_desorption isotherm')\n",
    "plt.xlabel('Pressure, [bar]')\n",
    "plt.ylabel('CO Coverage, [ML]')\n",
    "plt.show()"
   ]
  },
  {
   "cell_type": "code",
   "execution_count": null,
   "id": "b4757933",
   "metadata": {},
   "outputs": [],
   "source": [
    "# For lateral only\n",
    "##Step 1: Calculating Ki based on isotherm equation\n",
    "Ki_lateral = []\n",
    "for i in np.arange(len(Prs_lat)):\n",
    "    Ki_lateral.append(ss_covg_lat[i]/((1-ss_covg_lat[i]) * Prs_lat[i]))\n",
    "    \n",
    "##Step 2: Calculating fi(theta)\n",
    "Keq = MKM.k[0]/MKM.k[1]\n",
    "fi_theta = []\n",
    "for i in np.arange(len(Prs_lat)):\n",
    "    fi_theta.append(Ki_lateral[i]/Keq)\n",
    "    \n",
    "##Therefore need to train ML model (for lateral interactions considered) where x is theta and y is fi_theta\n",
    "##Step 3: MLM model\n",
    "print('For Lateral:\\n')\n",
    "print('Pressure, SS_coverage_CO, K_from_isoeqn, f(theta)')\n",
    "print(np.array([Prs_lat,ss_covg_lat,Ki_lateral,fi_theta]).T)"
   ]
  },
  {
   "cell_type": "code",
   "execution_count": null,
   "id": "ecc825f4",
   "metadata": {},
   "outputs": [],
   "source": [
    "import numpy as np\n",
    "import pandas as pd\n",
    "import matplotlib.pyplot as plt\n",
    "from gplearn.genetic import SymbolicRegressor\n",
    "import sklearn\n",
    "from sklearn.ensemble import RandomForestRegressor\n",
    "from sklearn.tree import DecisionTreeRegressor\n",
    "from sympy import *\n",
    "from sklearn.utils.random import check_random_state\n",
    "import graphviz\n",
    "import time"
   ]
  },
  {
   "cell_type": "code",
   "execution_count": null,
   "id": "52950453",
   "metadata": {},
   "outputs": [],
   "source": [
    "data = np.array([ss_covg_lat, fi_theta]).T\n",
    "columns = ['theta', 'f(theta)']\n",
    "df = pd.DataFrame(data = data, columns = columns)\n",
    "df.head()"
   ]
  },
  {
   "cell_type": "code",
   "execution_count": null,
   "id": "341bccb6",
   "metadata": {},
   "outputs": [],
   "source": [
    "plt.figure(dpi = 100)\n",
    "plt.title('ss_theta vs f_theta')\n",
    "plt.scatter(df['theta'], df['f(theta)'])\n",
    "plt.ylabel(r'$f(\\theta)$')\n",
    "plt.xlabel(r'$\\theta$')"
   ]
  },
  {
   "cell_type": "code",
   "execution_count": null,
   "id": "6b6e559f",
   "metadata": {},
   "outputs": [],
   "source": [
    "X = df[['theta']]\n",
    "y = df['f(theta)']\n",
    "y_true = y\n",
    "X_train, X_test, y_train, y_test = sklearn.model_selection.train_test_split(X, y, test_size=0.30, random_state=42)\n",
    "X_train.shape, X_test.shape, y_train.shape, y_test.shape"
   ]
  },
  {
   "cell_type": "code",
   "execution_count": null,
   "id": "59a25e6e",
   "metadata": {},
   "outputs": [],
   "source": [
    "def ML_model(algorithm=\"XGBoost\", X_train = X_train, Y_train = y_train):\n",
    "    \n",
    "    #XGBoost Algorithm\n",
    "    #https://xgboost.readthedocs.io/en/stable/python/python_api.html\n",
    "    if algorithm==\"XGBoost\":  \n",
    "        import xgboost as xgb\n",
    "\n",
    "        reg = xgb.XGBRegressor(booster='gbtree',    \n",
    "                               n_estimators=15000,\n",
    "                               objective='reg:squarederror',\n",
    "                               max_depth=20,\n",
    "                               learning_rate=0.01)\n",
    "        reg.fit(X_train, Y_train,\n",
    "                eval_set=[(X_train, Y_train)],\n",
    "                verbose=False)\n",
    "    \n",
    "    #Artificial Neural Network\n",
    "    #https://scikit-learn.org/stable/modules/generated/sklearn.neural_network.MLPRegressor.html#sklearn.neural_network.MLPRegressor\n",
    "    elif algorithm==\"ANN\":\n",
    "        from sklearn.neural_network import MLPRegressor\n",
    "        No_H_nodes_per_layer = 568\n",
    "        print('Number of Hidden layer nodes per layer : ',No_H_nodes_per_layer)\n",
    "        No_H_layers = 64\n",
    "        print('Number of Hidden layers: ',No_H_layers)\n",
    "\n",
    "        hidden_layers = No_H_nodes_per_layer*np.ones(No_H_layers) \n",
    "        hidden_layer_sizes = tuple(tuple(int(item) for item in hidden_layers))\n",
    "        reg = MLPRegressor(hidden_layer_sizes=hidden_layer_sizes,\n",
    "                            activation='relu', \n",
    "                            solver='adam')\n",
    "#                            ,random_state=42, \n",
    "#                             max_iter=300)\n",
    "\n",
    "        reg.fit(X_train, Y_train)\n",
    "    \n",
    "    #K-Nearest Neighbor\n",
    "    #https://scikit-learn.org/stable/modules/generated/sklearn.neighbors.KNeighborsRegressor.html\n",
    "    elif algorithm==\"KNN\":\n",
    "        from sklearn.neighbors import KNeighborsRegressor\n",
    "\n",
    "        reg = KNeighborsRegressor(n_neighbors=50, weights='distance',p=1)\n",
    "        reg.fit(X_train, Y_train)\n",
    "    \n",
    "    #RandomForest \n",
    "    #https://scikit-learn.org/stable/modules/generated/sklearn.ensemble.RandomForestRegressor.html#sklearn.ensemble.RandomForestRegressor\n",
    "    elif algorithm=='RandomForest':\n",
    "        from sklearn.ensemble import RandomForestRegressor\n",
    "        \n",
    "        reg = RandomForestRegressor(n_estimators=10000, criterion='squared_error', random_state=24)\n",
    "\n",
    "        reg.fit(X_train, Y_train)\n",
    "        \n",
    "        print('Features:',X_train.columns)\n",
    "        \n",
    "        print('\\nFeature Importance:\\n',reg.feature_importances_) #Shows which features are chosen most when doing splits #gives the most information\n",
    "        \n",
    "    elif algorithm=='DecisionTree':\n",
    "        from sklearn import tree\n",
    "        reg = tree.DecisionTreeRegressor()#criterion='poisson',max_depth=20,min_samples_leaf=10,min_samples_split=20\n",
    "        \n",
    "        reg.fit(X_train, Y_train)\n",
    "        \n",
    "        print('Features:',X_train.columns)\n",
    "        \n",
    "        print('\\nFeature Importance:\\n',reg.feature_importances_) #Shows which features are chosen most when doing splits #gives the most information\n",
    "\n",
    "    return reg"
   ]
  },
  {
   "cell_type": "code",
   "execution_count": null,
   "id": "942d876a",
   "metadata": {},
   "outputs": [],
   "source": [
    "import time\n",
    "######### OPTIONS: 'XGBoost','ANN','KNN','RandomForest'#########\n",
    "################################################################\n",
    "ALGORITHM_NAME = \"RandomForest\"\n",
    "################################################################\n",
    "\n",
    "start_time = time.time()\n",
    "reg = ML_model(algorithm = 'RandomForest')\n",
    "end_time = time.time()\n",
    "\n",
    "elapsed_time = end_time - start_time\n",
    "print(\"\\nElapsed Model Training Time: \\n\", elapsed_time, \"seconds \\n\", elapsed_time/60, \"minutes\")"
   ]
  },
  {
   "cell_type": "code",
   "execution_count": null,
   "id": "219b3f12",
   "metadata": {},
   "outputs": [],
   "source": [
    "Y_output = reg.predict(X_test)"
   ]
  },
  {
   "cell_type": "code",
   "execution_count": null,
   "id": "cba150fc",
   "metadata": {},
   "outputs": [],
   "source": [
    "from math import sqrt\n",
    "from sklearn.metrics import mean_squared_error\n",
    "#Calculating the root mean squared of the test set\n",
    "print('Root Mean Squared Error:\\n',sqrt(mean_squared_error(Y_output, y_test)))"
   ]
  },
  {
   "cell_type": "code",
   "execution_count": null,
   "id": "93c8bb2c",
   "metadata": {},
   "outputs": [],
   "source": [
    "%%time\n",
    "#Performing SS MIKI MKM simulations for lateral case\n",
    "from main import *\n",
    "MKMCD = MKModel('Atomic.csv','Stoich.csv','Param.csv')\n",
    "MKMCD.Thermo_Constraint = 'OFF'\n",
    "MKMCD.set_limits_of_integration(t0,tf)\n",
    "colmn = len(MKMCD.Stoich.iloc[0,1:]) - len(MKMCD.P) #Number of columns (i.e rate coefficients = no. of surface species being investigated)\n",
    "row = len(MKMCD.k) #number of rows = number of rate constants (i.e reaction steps)\n",
    "MKM_SS_covg_LAT = []\n",
    "Prs = Prs_lat #Lateral pressures## TO BE PREDICTED###########################################################\n",
    "for i in np.arange(len(Prs)):\n",
    "    MKMCD.set_rxnconditions(Pr=[Prs[i]])\n",
    "    MKM_SS_covg_LAT = np.append(MKM_SS_covg_LAT,MKMCD.get_SS_coverages(print_warning=True)[0])    "
   ]
  },
  {
   "cell_type": "code",
   "execution_count": null,
   "id": "19c7868b",
   "metadata": {},
   "outputs": [],
   "source": [
    "##Step 4-> Getting predicted _f(theta)\n",
    "f_theta_pred = reg.predict(np.array([MKM_SS_covg_LAT]).T)\n",
    "# f_theta_pred = np.exp(0.03483852*(MKM_SS_covg_LAT**3))\n",
    "# f_theta_pred = np.exp(-MKM_SS_covg_LAT)-np.exp(MKM_SS_covg_LAT)\n",
    "\n",
    "##Step 5-> Recalculating Ki_lateral from Keq : f = Ki/Keq\n",
    "Ki_lateral_pred = []\n",
    "for i in np.arange(len(Prs)):\n",
    "    Ki_lateral_pred.append(f_theta_pred[i]*Keq)\n",
    "\n",
    "##Step6-> Calculating predicted theta\n",
    "ML_theta_pred = []\n",
    "for i in np.arange(len(Prs)):\n",
    "    ML_theta_pred.append((Ki_lateral_pred[i]*Prs[i])/(1+(Ki_lateral_pred[i]*Prs[i])))"
   ]
  },
  {
   "cell_type": "code",
   "execution_count": null,
   "id": "62bbaf29",
   "metadata": {},
   "outputs": [],
   "source": [
    "print('Root Mean Squared Error:\\n',sqrt(mean_squared_error(y, f_theta_pred)))\n",
    "print('Root Mean Squared Error:\\n',sqrt(mean_squared_error(ss_covg_lat, ML_theta_pred)))"
   ]
  },
  {
   "cell_type": "code",
   "execution_count": null,
   "id": "bde095c4",
   "metadata": {},
   "outputs": [],
   "source": [
    "plt.figure()\n",
    "plt.semilogx(Prs,ML_theta_pred,'-',label='ML lateral prediction')\n",
    "plt.semilogx(Prs_lat,ss_covg_lat,'o',label='kMC (With lateral interaction)')\n",
    "plt.semilogx(Prs_non_lat,ss_covg_non_lat,'*',label='kMC (No lateral interaction)')\n",
    "plt.semilogx(Prs_non_lat,MKM_SS_covg_NONLAT,'-',label='MKM isotherm')\n",
    "# plt.semilogx(Prs,MKM_SS_covg_LAT,'-',label='MKM isotherm')\n",
    "plt.legend()\n",
    "plt.title('CO adsorption_desorption isotherm')\n",
    "plt.xlabel('Pressure, [bar]')\n",
    "plt.ylabel('CO Coverage, [ML]')\n",
    "plt.show()"
   ]
  },
  {
   "cell_type": "code",
   "execution_count": null,
   "id": "de04e01b",
   "metadata": {},
   "outputs": [],
   "source": [
    "plt.figure()\n",
    "plt.plot(Prs,ML_theta_pred,'-',label='ML lateral prediction')\n",
    "plt.plot(Prs_lat,ss_covg_lat,'o',label='kMC (With lateral interaction)')\n",
    "plt.plot(Prs_non_lat,ss_covg_non_lat,'*',label='kMC (No lateral interaction)')\n",
    "plt.plot(Prs_non_lat,MKM_SS_covg_NONLAT,'-',label='MKM isotherm')\n",
    "# plt.semilogx(Prs,MKM_SS_covg_LAT,'-',label='MKM isotherm')\n",
    "plt.legend()\n",
    "plt.title('CO adsorption_desorption isotherm')\n",
    "plt.xlabel('Pressure, [bar]')\n",
    "plt.ylabel('CO Coverage, [ML]')\n",
    "plt.show()"
   ]
  },
  {
   "cell_type": "code",
   "execution_count": null,
   "id": "19e51a7f",
   "metadata": {},
   "outputs": [],
   "source": []
  },
  {
   "cell_type": "code",
   "execution_count": null,
   "id": "17de17ea",
   "metadata": {},
   "outputs": [],
   "source": []
  },
  {
   "cell_type": "code",
   "execution_count": null,
   "id": "da553531",
   "metadata": {},
   "outputs": [],
   "source": [
    "##Step4: Return model based on "
   ]
  },
  {
   "cell_type": "code",
   "execution_count": null,
   "id": "628d3652",
   "metadata": {},
   "outputs": [],
   "source": []
  },
  {
   "cell_type": "code",
   "execution_count": null,
   "id": "eaa8ba27",
   "metadata": {},
   "outputs": [],
   "source": []
  },
  {
   "cell_type": "code",
   "execution_count": null,
   "id": "33be74c0",
   "metadata": {},
   "outputs": [],
   "source": []
  },
  {
   "cell_type": "code",
   "execution_count": null,
   "id": "569c1e39",
   "metadata": {},
   "outputs": [],
   "source": []
  },
  {
   "cell_type": "code",
   "execution_count": null,
   "id": "feea9ebb",
   "metadata": {},
   "outputs": [],
   "source": []
  },
  {
   "cell_type": "code",
   "execution_count": null,
   "id": "56e99575",
   "metadata": {},
   "outputs": [],
   "source": []
  }
 ],
 "metadata": {
  "kernelspec": {
   "display_name": "Python 3 (ipykernel)",
   "language": "python",
   "name": "python3"
  },
  "language_info": {
   "codemirror_mode": {
    "name": "ipython",
    "version": 3
   },
   "file_extension": ".py",
   "mimetype": "text/x-python",
   "name": "python",
   "nbconvert_exporter": "python",
   "pygments_lexer": "ipython3",
   "version": "3.9.7"
  }
 },
 "nbformat": 4,
 "nbformat_minor": 5
}
