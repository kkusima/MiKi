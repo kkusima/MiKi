{
 "cells": [
  {
   "cell_type": "code",
   "execution_count": 1,
   "id": "410d5eae",
   "metadata": {},
   "outputs": [],
   "source": [
    "import numpy as np\n",
    "import pandas as pd\n",
    "import matplotlib.pyplot as plt\n",
    "from gplearn.genetic import SymbolicRegressor\n",
    "import sklearn\n",
    "from sklearn.ensemble import RandomForestRegressor\n",
    "from sklearn.tree import DecisionTreeRegressor\n",
    "from sympy import *\n",
    "from sklearn.utils.random import check_random_state\n",
    "import graphviz\n",
    "import time"
   ]
  },
  {
   "cell_type": "markdown",
   "id": "7e1ffc62",
   "metadata": {},
   "source": [
    "Link: https://medium.com/analytics-vidhya/python-symbolic-regression-with-gplearn-cbc24dbbc271\n",
    "        \n",
    "Link: https://iagml.github.io/notebooks/symbolic_regression.html        "
   ]
  },
  {
   "cell_type": "code",
   "execution_count": 2,
   "id": "2728e375",
   "metadata": {},
   "outputs": [],
   "source": [
    "nsample = 1000\n",
    "sig = 0.2"
   ]
  },
  {
   "cell_type": "code",
   "execution_count": 3,
   "id": "7d69b573",
   "metadata": {},
   "outputs": [],
   "source": [
    "def Hz(z):\n",
    "    H0 = 67.3\n",
    "    return z**2 + z**3 + H0*z + np.log(z)"
   ]
  },
  {
   "cell_type": "code",
   "execution_count": 4,
   "id": "e83aeb7a",
   "metadata": {},
   "outputs": [],
   "source": [
    "rng = check_random_state(0)\n",
    "z = rng.uniform(0, 10, nsample)\n",
    "H = Hz(z) + sig*np.random.normal(size=nsample)"
   ]
  },
  {
   "cell_type": "code",
   "execution_count": 5,
   "id": "a34b075c",
   "metadata": {},
   "outputs": [
    {
     "data": {
      "text/html": [
       "<div>\n",
       "<style scoped>\n",
       "    .dataframe tbody tr th:only-of-type {\n",
       "        vertical-align: middle;\n",
       "    }\n",
       "\n",
       "    .dataframe tbody tr th {\n",
       "        vertical-align: top;\n",
       "    }\n",
       "\n",
       "    .dataframe thead th {\n",
       "        text-align: right;\n",
       "    }\n",
       "</style>\n",
       "<table border=\"1\" class=\"dataframe\">\n",
       "  <thead>\n",
       "    <tr style=\"text-align: right;\">\n",
       "      <th></th>\n",
       "      <th>z</th>\n",
       "      <th>H (z)</th>\n",
       "    </tr>\n",
       "  </thead>\n",
       "  <tbody>\n",
       "    <tr>\n",
       "      <th>0</th>\n",
       "      <td>5.488135</td>\n",
       "      <td>566.538728</td>\n",
       "    </tr>\n",
       "    <tr>\n",
       "      <th>1</th>\n",
       "      <td>7.151894</td>\n",
       "      <td>899.935384</td>\n",
       "    </tr>\n",
       "    <tr>\n",
       "      <th>2</th>\n",
       "      <td>6.027634</td>\n",
       "      <td>662.698815</td>\n",
       "    </tr>\n",
       "    <tr>\n",
       "      <th>3</th>\n",
       "      <td>5.448832</td>\n",
       "      <td>559.964414</td>\n",
       "    </tr>\n",
       "    <tr>\n",
       "      <th>4</th>\n",
       "      <td>4.236548</td>\n",
       "      <td>380.550698</td>\n",
       "    </tr>\n",
       "  </tbody>\n",
       "</table>\n",
       "</div>"
      ],
      "text/plain": [
       "          z       H (z)\n",
       "0  5.488135  566.538728\n",
       "1  7.151894  899.935384\n",
       "2  6.027634  662.698815\n",
       "3  5.448832  559.964414\n",
       "4  4.236548  380.550698"
      ]
     },
     "execution_count": 5,
     "metadata": {},
     "output_type": "execute_result"
    }
   ],
   "source": [
    "data = np.array([z, H]).T\n",
    "columns = ['z', 'H (z)']\n",
    "df = pd.DataFrame(data = data, columns = columns)\n",
    "df.head()"
   ]
  },
  {
   "cell_type": "code",
   "execution_count": 6,
   "id": "f719d07e",
   "metadata": {},
   "outputs": [
    {
     "data": {
      "text/plain": [
       "Text(0.5, 0, '$z$')"
      ]
     },
     "execution_count": 6,
     "metadata": {},
     "output_type": "execute_result"
    },
    {
     "data": {
      "image/png": "[encoded data removed]",
      "text/plain": [
       "<Figure size 640x480 with 1 Axes>"
      ]
     },
     "metadata": {},
     "output_type": "display_data"
    }
   ],
   "source": [
    "plt.figure(dpi = 100)\n",
    "plt.title('Huble parameter evolution')\n",
    "plt.scatter(df['z'], df['H (z)'])\n",
    "plt.ylabel(r'$H (z)$')\n",
    "plt.xlabel(r'$z$')"
   ]
  },
  {
   "cell_type": "code",
   "execution_count": 7,
   "id": "991563dd",
   "metadata": {},
   "outputs": [
    {
     "data": {
      "text/plain": [
       "((700, 1), (300, 1), (700,), (300,))"
      ]
     },
     "execution_count": 7,
     "metadata": {},
     "output_type": "execute_result"
    }
   ],
   "source": [
    "X = df[['z']]\n",
    "y = df['H (z)']\n",
    "y_true = y\n",
    "X_train, X_test, y_train, y_test = sklearn.model_selection.train_test_split(X, y, test_size=0.30, random_state=42)\n",
    "X_train.shape, X_test.shape, y_train.shape, y_test.shape"
   ]
  },
  {
   "cell_type": "code",
   "execution_count": 11,
   "id": "49f1806f",
   "metadata": {},
   "outputs": [],
   "source": [
    "function_set = ['add', 'log', 'mul']\n"
   ]
  },
  {
   "cell_type": "code",
   "execution_count": 12,
   "id": "5626329b",
   "metadata": {},
   "outputs": [],
   "source": [
    "est_gp = SymbolicRegressor(population_size=5000,function_set=function_set,\n",
    "                           generations=20, stopping_criteria=0.01,\n",
    "                           p_crossover=0.7, p_subtree_mutation=0.1,\n",
    "                           p_hoist_mutation=0.05, p_point_mutation=0.1,\n",
    "                           max_samples=0.9, verbose=1,\n",
    "                           parsimony_coefficient=0.01, random_state=0)"
   ]
  },
  {
   "cell_type": "code",
   "execution_count": 13,
   "id": "a928cee8",
   "metadata": {},
   "outputs": [
    {
     "name": "stdout",
     "output_type": "stream",
     "text": [
      "    |   Population Average    |             Best Individual              |\n",
      "---- ------------------------- ------------------------------------------ ----------\n",
      " Gen   Length          Fitness   Length          Fitness      OOB Fitness  Time Left\n",
      "   0    23.36      3.00551e+11       56          134.189          129.271     59.54s\n",
      "   1    34.58          2065.19       29          58.0267           59.537      1.01m\n",
      "   2    40.26          4106.54       90          44.2909          46.9511      1.03m\n",
      "   3    57.25          5114.97       90          40.2516          40.2472      1.13m\n",
      "   4    66.77            97184       50          34.0429          39.0425      1.23m\n",
      "   5    80.13           902733      163          32.5613          34.1115      1.24m\n",
      "   6    91.84           785895       57            30.07          30.6128      1.32m\n",
      "   7    95.31      1.11503e+06       59          30.0276          32.2058      1.03m\n",
      "   8   106.47          90810.1      184           28.692          28.5006      1.28m\n",
      "   9   114.93           159825      153          24.8638           23.013      1.03m\n",
      "  10    92.60           664921      151          23.1089          23.2959     45.09s\n",
      "  11    87.91           419553      155          21.6076          21.4176     36.97s\n",
      "  12    98.11           850503      196          18.2831          17.0713     34.98s\n",
      "  13   141.33          32182.1      206          17.1328          18.7235     42.11s\n",
      "  14   159.87          2526.13      205          6.24001          4.27644     39.45s\n",
      "  15   179.66          90527.2      211          5.50858          6.37388     32.59s\n",
      "  16   196.11          27107.1      203          4.80273          5.18788     25.45s\n",
      "  17   203.41          94332.6      160          4.22376          3.90262     18.64s\n",
      "  18   207.89          2931.85      253          4.00884          3.42586      9.82s\n",
      "  19   209.39          2723.17      222           3.5989          4.86196      0.00s\n",
      "Time to fit: 124.31445813179016 seconds\n"
     ]
    }
   ],
   "source": [
    "t0 = time.time()\n",
    "est_gp.fit(X_train, y_train)\n",
    "print('Time to fit:', time.time() - t0, 'seconds')"
   ]
  },
  {
   "cell_type": "code",
   "execution_count": 14,
   "id": "4b605064",
   "metadata": {},
   "outputs": [
    {
     "name": "stdout",
     "output_type": "stream",
     "text": [
      "Time to predict: 0.0014567375183105469 seconds\n"
     ]
    }
   ],
   "source": [
    "t0 = time.time()\n",
    "y_gp1 = est_gp.predict(X_test)\n",
    "print('Time to predict:', time.time() - t0, 'seconds')"
   ]
  },
  {
   "cell_type": "code",
   "execution_count": 15,
   "id": "d16066ee",
   "metadata": {},
   "outputs": [
    {
     "name": "stdout",
     "output_type": "stream",
     "text": [
      "R2: 0.9996460795420555\n"
     ]
    }
   ],
   "source": [
    "score_gp1 = est_gp.score(X_test, y_test)\n",
    "print('R2:', score_gp1)"
   ]
  },
  {
   "cell_type": "code",
   "execution_count": 16,
   "id": "f357e34f",
   "metadata": {},
   "outputs": [],
   "source": [
    "converter = {\n",
    "    'add': lambda x, y : x + y,\n",
    "    'sub': lambda x, y : x - y,\n",
    "    'mul': lambda x, y : x*y,\n",
    "    'div': lambda x, y : x/y,\n",
    "    'sqrt': lambda x : x**0.5,\n",
    "    'log': lambda x : log(x),\n",
    "    'abs': lambda x : abs(x),\n",
    "    'neg': lambda x : -x,\n",
    "    'inv': lambda x : 1/x,\n",
    "    'max': lambda x, y : max(x, y),\n",
    "    'min': lambda x, y : min(x, y),\n",
    "    'sin': lambda x : sin(x),\n",
    "    'cos': lambda x : cos(x),\n",
    "    'pow': lambda x, y : x**y,\n",
    "}"
   ]
  },
  {
   "cell_type": "code",
   "execution_count": 17,
   "id": "133f28e8",
   "metadata": {},
   "outputs": [
    {
     "data": {
      "text/latex": [
       "$\\displaystyle \\left(- 0.604 X_{0} + \\log{\\left(0.163 X_{0} - 0.15 \\right)}\\right) \\log{\\left(X_{0}^{2} \\left(X_{0}^{2} - 0.37004 X_{0} \\log{\\left(- 0.116 X_{0} \\right)} \\log{\\left(X_{0} \\right)} + 2 X_{0} + \\log{\\left(\\left(X_{0} + 0.218\\right) \\log{\\left(X_{0} \\right)} + \\left(X_{0}^{2} - 0.0377018671840115 + i \\pi\\right) \\left(X_{0}^{2} + 0.423 X_{0} \\left(X_{0} - 0.248\\right) + 5 X_{0} + 0.095\\right) \\right)}\\right) \\right)} \\log{\\left(0.163 X_{0} - 0.15 \\right)} \\log{\\left(2 X_{0} + \\log{\\left(X_{0} \\right)} \\right)} \\log{\\left(9 X_{0} + \\log{\\left(X_{0} \\right)} + \\log{\\left(2 X_{0} + \\log{\\left(X_{0} \\right)} \\right)} + 0.243741612224254 + 0.086 i \\pi \\right)} + \\left(X_{0} + \\log{\\left(X_{0} \\right)} + \\log{\\left(2 X_{0} \\log{\\left(X_{0} \\right)} + X_{0} + 0.002184 \\right)} + 1.041\\right) \\left(X_{0}^{2} + X_{0} - 0.478 \\log{\\left(2 X_{0} \\right)} + \\log{\\left(\\left(X_{0} + 0.218\\right) \\log{\\left(X_{0} \\right)} + \\left(X_{0}^{2} - 0.0377018671840115 + i \\pi\\right) \\left(X_{0}^{2} + 7 X_{0} - 1.06975209117265\\right) \\right)} + 0.6\\right)$"
      ],
      "text/plain": [
       "(-0.604*X0 + log(0.163*X0 - 0.15))*log(X0**2*(X0**2 - 0.37004*X0*log(-0.116*X0)*log(X0) + 2*X0 + log((X0 + 0.218)*log(X0) + (X0**2 - 0.0377018671840115 + I*pi)*(X0**2 + 0.423*X0*(X0 - 0.248) + 5*X0 + 0.095))))*log(0.163*X0 - 0.15)*log(2*X0 + log(X0))*log(9*X0 + log(X0) + log(2*X0 + log(X0)) + 0.243741612224254 + 0.086*I*pi) + (X0 + log(X0) + log(2*X0*log(X0) + X0 + 0.002184) + 1.041)*(X0**2 + X0 - 0.478*log(2*X0) + log((X0 + 0.218)*log(X0) + (X0**2 - 0.0377018671840115 + I*pi)*(X0**2 + 7*X0 - 1.06975209117265)) + 0.6)"
      ]
     },
     "execution_count": 17,
     "metadata": {},
     "output_type": "execute_result"
    }
   ],
   "source": [
    "next_e = sympify(str(est_gp._program), locals=converter)\n",
    "next_e"
   ]
  },
  {
   "cell_type": "code",
   "execution_count": 18,
   "id": "76c457ee",
   "metadata": {},
   "outputs": [
    {
     "data": {
      "text/plain": [
       "0.9996460795420555"
      ]
     },
     "execution_count": 18,
     "metadata": {},
     "output_type": "execute_result"
    }
   ],
   "source": [
    "y_gp = est_gp.predict(X_test)\n",
    "score_gp1 = est_gp.score(X_test, y_test)\n",
    "score_gp1"
   ]
  },
  {
   "cell_type": "code",
   "execution_count": 19,
   "id": "7df7ac46",
   "metadata": {},
   "outputs": [
    {
     "data": {
      "text/plain": [
       "Text(0.5, 0, 'z')"
      ]
     },
     "execution_count": 19,
     "metadata": {},
     "output_type": "execute_result"
    },
    {
     "data": {
      "image/png": "[encoded data removed]",
      "text/plain": [
       "<Figure size 640x480 with 2 Axes>"
      ]
     },
     "metadata": {},
     "output_type": "display_data"
    }
   ],
   "source": [
    "fig = plt.figure(constrained_layout=False, dpi=100)\n",
    "gs = fig.add_gridspec(nrows=7, ncols=1)\n",
    "f_ax1 = fig.add_subplot(gs[0:5,0])\n",
    "plt.title('H (z) comparison')\n",
    "plt.scatter(X_test, y_test, label = 'True function')\n",
    "plt.scatter(X_test, y_gp1, marker = 'v', s = 10, label = 'Symbolic function')\n",
    "plt.legend()\n",
    "plt.ylabel('H (z)')\n",
    "f_ax2 = fig.add_subplot(gs[5:7, 0])\n",
    "plt.scatter(X_test, 1. - y_gp1/y_test, marker = 's', s = 10)\n",
    "plt.ylabel('Residual')\n",
    "plt.xlabel('z')"
   ]
  },
  {
   "cell_type": "code",
   "execution_count": null,
   "id": "bd2ecc54",
   "metadata": {},
   "outputs": [],
   "source": []
  },
  {
   "cell_type": "code",
   "execution_count": null,
   "id": "a99fa99e",
   "metadata": {},
   "outputs": [],
   "source": []
  }
 ],
 "metadata": {
  "kernelspec": {
   "display_name": "Python 3 (ipykernel)",
   "language": "python",
   "name": "python3"
  },
  "language_info": {
   "codemirror_mode": {
    "name": "ipython",
    "version": 3
   },
   "file_extension": ".py",
   "mimetype": "text/x-python",
   "name": "python",
   "nbconvert_exporter": "python",
   "pygments_lexer": "ipython3",
   "version": "3.9.7"
  }
 },
 "nbformat": 4,
 "nbformat_minor": 5
}
