{
 "cells": [
  {
   "cell_type": "code",
   "execution_count": 1,
   "id": "410d5eae",
   "metadata": {},
   "outputs": [],
   "source": [
    "import numpy as np\n",
    "import pandas as pd\n",
    "import matplotlib.pyplot as plt\n",
    "from gplearn.genetic import SymbolicRegressor\n",
    "import sklearn\n",
    "from sklearn.ensemble import RandomForestRegressor\n",
    "from sklearn.tree import DecisionTreeRegressor\n",
    "from sympy import *\n",
    "from sklearn.utils.random import check_random_state\n",
    "import graphviz\n",
    "import time"
   ]
  },
  {
   "cell_type": "markdown",
   "id": "7e1ffc62",
   "metadata": {},
   "source": [
    "Link: https://medium.com/analytics-vidhya/python-symbolic-regression-with-gplearn-cbc24dbbc271\n",
    "        \n",
    "Link: https://iagml.github.io/notebooks/symbolic_regression.html        "
   ]
  },
  {
   "cell_type": "code",
   "execution_count": 2,
   "id": "2728e375",
   "metadata": {},
   "outputs": [],
   "source": [
    "nsample = 1000\n",
    "sig = 0.2"
   ]
  },
  {
   "cell_type": "code",
   "execution_count": 3,
   "id": "7d69b573",
   "metadata": {},
   "outputs": [],
   "source": [
    "def Hz(z):\n",
    "    return z**2 + z**3 "
   ]
  },
  {
   "cell_type": "code",
   "execution_count": 18,
   "id": "e83aeb7a",
   "metadata": {},
   "outputs": [
    {
     "name": "stdout",
     "output_type": "stream",
     "text": [
      "1000\n"
     ]
    }
   ],
   "source": [
    "rng = check_random_state(0)\n",
    "z = rng.uniform(0, 10, nsample)\n",
    "print(len(z))\n",
    "H = Hz(z) + sig*np.random.normal(size=nsample)"
   ]
  },
  {
   "cell_type": "code",
   "execution_count": 5,
   "id": "a34b075c",
   "metadata": {},
   "outputs": [
    {
     "data": {
      "text/html": [
       "<div>\n",
       "<style scoped>\n",
       "    .dataframe tbody tr th:only-of-type {\n",
       "        vertical-align: middle;\n",
       "    }\n",
       "\n",
       "    .dataframe tbody tr th {\n",
       "        vertical-align: top;\n",
       "    }\n",
       "\n",
       "    .dataframe thead th {\n",
       "        text-align: right;\n",
       "    }\n",
       "</style>\n",
       "<table border=\"1\" class=\"dataframe\">\n",
       "  <thead>\n",
       "    <tr style=\"text-align: right;\">\n",
       "      <th></th>\n",
       "      <th>z</th>\n",
       "      <th>H (z)</th>\n",
       "    </tr>\n",
       "  </thead>\n",
       "  <tbody>\n",
       "    <tr>\n",
       "      <th>0</th>\n",
       "      <td>5.488135</td>\n",
       "      <td>195.498256</td>\n",
       "    </tr>\n",
       "    <tr>\n",
       "      <th>1</th>\n",
       "      <td>7.151894</td>\n",
       "      <td>417.007129</td>\n",
       "    </tr>\n",
       "    <tr>\n",
       "      <th>2</th>\n",
       "      <td>6.027634</td>\n",
       "      <td>255.344801</td>\n",
       "    </tr>\n",
       "    <tr>\n",
       "      <th>3</th>\n",
       "      <td>5.448832</td>\n",
       "      <td>191.820520</td>\n",
       "    </tr>\n",
       "    <tr>\n",
       "      <th>4</th>\n",
       "      <td>4.236548</td>\n",
       "      <td>93.864788</td>\n",
       "    </tr>\n",
       "  </tbody>\n",
       "</table>\n",
       "</div>"
      ],
      "text/plain": [
       "          z       H (z)\n",
       "0  5.488135  195.498256\n",
       "1  7.151894  417.007129\n",
       "2  6.027634  255.344801\n",
       "3  5.448832  191.820520\n",
       "4  4.236548   93.864788"
      ]
     },
     "execution_count": 5,
     "metadata": {},
     "output_type": "execute_result"
    }
   ],
   "source": [
    "data = np.array([z, H]).T\n",
    "columns = ['z', 'H (z)']\n",
    "df = pd.DataFrame(data = data, columns = columns)\n",
    "df.head()"
   ]
  },
  {
   "cell_type": "code",
   "execution_count": 6,
   "id": "f719d07e",
   "metadata": {},
   "outputs": [
    {
     "data": {
      "text/plain": [
       "Text(0.5, 0, '$z$')"
      ]
     },
     "execution_count": 6,
     "metadata": {},
     "output_type": "execute_result"
    },
    {
     "data": {
      "image/png": "[encoded data removed]",
      "text/plain": [
       "<Figure size 640x480 with 1 Axes>"
      ]
     },
     "metadata": {},
     "output_type": "display_data"
    }
   ],
   "source": [
    "plt.figure(dpi = 100)\n",
    "plt.title('Huble parameter evolution')\n",
    "plt.scatter(df['z'], df['H (z)'])\n",
    "plt.ylabel(r'$H (z)$')\n",
    "plt.xlabel(r'$z$')"
   ]
  },
  {
   "cell_type": "code",
   "execution_count": 7,
   "id": "991563dd",
   "metadata": {},
   "outputs": [
    {
     "data": {
      "text/plain": [
       "((700, 1), (300, 1), (700,), (300,))"
      ]
     },
     "execution_count": 7,
     "metadata": {},
     "output_type": "execute_result"
    }
   ],
   "source": [
    "X = df[['z']]\n",
    "y = df['H (z)']\n",
    "y_true = y\n",
    "X_train, X_test, y_train, y_test = sklearn.model_selection.train_test_split(X, y, test_size=0.30, random_state=42)\n",
    "X_train.shape, X_test.shape, y_train.shape, y_test.shape"
   ]
  },
  {
   "cell_type": "code",
   "execution_count": 8,
   "id": "49f1806f",
   "metadata": {},
   "outputs": [],
   "source": [
    "function_set = ['add', 'log', 'mul']\n"
   ]
  },
  {
   "cell_type": "code",
   "execution_count": 9,
   "id": "5626329b",
   "metadata": {},
   "outputs": [],
   "source": [
    "est_gp = SymbolicRegressor(population_size=5000,function_set=function_set,\n",
    "                           generations=20, stopping_criteria=0.01,\n",
    "                           p_crossover=0.7, p_subtree_mutation=0.1,\n",
    "                           p_hoist_mutation=0.05, p_point_mutation=0.1,\n",
    "                           max_samples=0.9, verbose=1,\n",
    "                           parsimony_coefficient=0.01, random_state=0)"
   ]
  },
  {
   "cell_type": "code",
   "execution_count": 10,
   "id": "a928cee8",
   "metadata": {},
   "outputs": [
    {
     "name": "stdout",
     "output_type": "stream",
     "text": [
      "    |   Population Average    |             Best Individual              |\n",
      "---- ------------------------- ------------------------------------------ ----------\n",
      " Gen   Length          Fitness   Length          Fitness      OOB Fitness  Time Left\n",
      "   0    23.36      3.00551e+11       78          5.49506          5.23918      1.02m\n",
      "   1    32.77          1760.84       15          2.02768          2.39786      1.00m\n",
      "   2    33.52          1880.09       12          0.19734         0.215427     58.10s\n",
      "   3    26.27          1765.52       13         0.161452          0.19973     45.54s\n",
      "   4    18.24          1067.41       13         0.163283         0.183255     35.89s\n",
      "   5    14.43          1213.38        9         0.159931         0.211198     31.65s\n",
      "   6    11.44          702.351        9         0.159808         0.212302     26.04s\n",
      "   7     8.45          1098.73        7         0.160244          0.20838     22.52s\n",
      "   8     7.14           877.23        7         0.159773         0.212621     19.65s\n",
      "   9     7.09          824.741        7         0.160001         0.210567     18.28s\n",
      "  10     7.03          855.718        7         0.160488         0.206187     16.23s\n",
      "  11     6.93          847.676        7         0.159802         0.212358     14.74s\n",
      "  12     7.17          900.397        7         0.160218         0.208617     12.48s\n",
      "  13     7.05           902.72        7         0.159497         0.215103     10.79s\n",
      "  14     7.02          905.195        7         0.159642         0.213802      9.27s\n",
      "  15     7.18          1400.66        7         0.159989         0.210677      7.16s\n",
      "  16     7.10          1553.42        7         0.159822         0.212178      5.43s\n",
      "  17     7.11          1207.79        7         0.159802         0.212359      3.73s\n",
      "  18     7.11          858.422        7         0.160687         0.204393      1.85s\n",
      "  19     7.09          837.462        7          0.16054         0.205718      0.00s\n",
      "Time to fit: 43.19520711898804 seconds\n"
     ]
    }
   ],
   "source": [
    "t0 = time.time()\n",
    "est_gp.fit(X_train, y_train)\n",
    "print('Time to fit:', time.time() - t0, 'seconds')"
   ]
  },
  {
   "cell_type": "code",
   "execution_count": 11,
   "id": "4b605064",
   "metadata": {},
   "outputs": [
    {
     "name": "stdout",
     "output_type": "stream",
     "text": [
      "Time to predict: 0.0006999969482421875 seconds\n"
     ]
    }
   ],
   "source": [
    "t0 = time.time()\n",
    "y_gp1 = est_gp.predict(X_test)\n",
    "print('Time to predict:', time.time() - t0, 'seconds')"
   ]
  },
  {
   "cell_type": "code",
   "execution_count": 12,
   "id": "d16066ee",
   "metadata": {},
   "outputs": [
    {
     "name": "stdout",
     "output_type": "stream",
     "text": [
      "R2: 0.999999573947163\n"
     ]
    }
   ],
   "source": [
    "score_gp1 = est_gp.score(X_test, y_test)\n",
    "print('R2:', score_gp1)"
   ]
  },
  {
   "cell_type": "code",
   "execution_count": 13,
   "id": "f357e34f",
   "metadata": {},
   "outputs": [],
   "source": [
    "converter = {\n",
    "    'add': lambda x, y : x + y,\n",
    "    'sub': lambda x, y : x - y,\n",
    "    'mul': lambda x, y : x*y,\n",
    "    'div': lambda x, y : x/y,\n",
    "    'sqrt': lambda x : x**0.5,\n",
    "    'log': lambda x : log(x),\n",
    "    'abs': lambda x : abs(x),\n",
    "    'neg': lambda x : -x,\n",
    "    'inv': lambda x : 1/x,\n",
    "    'max': lambda x, y : max(x, y),\n",
    "    'min': lambda x, y : min(x, y),\n",
    "    'sin': lambda x : sin(x),\n",
    "    'cos': lambda x : cos(x),\n",
    "    'pow': lambda x, y : x**y,\n",
    "}"
   ]
  },
  {
   "cell_type": "code",
   "execution_count": 14,
   "id": "133f28e8",
   "metadata": {},
   "outputs": [
    {
     "data": {
      "text/latex": [
       "$\\displaystyle X_{0} \\left(X_{0}^{2} + X_{0}\\right)$"
      ],
      "text/plain": [
       "X0*(X0**2 + X0)"
      ]
     },
     "execution_count": 14,
     "metadata": {},
     "output_type": "execute_result"
    }
   ],
   "source": [
    "next_e = sympify(str(est_gp._program), locals=converter)\n",
    "next_e"
   ]
  },
  {
   "cell_type": "code",
   "execution_count": 15,
   "id": "76c457ee",
   "metadata": {},
   "outputs": [
    {
     "data": {
      "text/plain": [
       "0.999999573947163"
      ]
     },
     "execution_count": 15,
     "metadata": {},
     "output_type": "execute_result"
    }
   ],
   "source": [
    "y_gp = est_gp.predict(X_test)\n",
    "score_gp1 = est_gp.score(X_test, y_test)\n",
    "score_gp1"
   ]
  },
  {
   "cell_type": "code",
   "execution_count": 16,
   "id": "7df7ac46",
   "metadata": {},
   "outputs": [
    {
     "data": {
      "text/plain": [
       "Text(0.5, 0, 'z')"
      ]
     },
     "execution_count": 16,
     "metadata": {},
     "output_type": "execute_result"
    },
    {
     "data": {
      "image/png": "[encoded data removed]",
      "text/plain": [
       "<Figure size 640x480 with 2 Axes>"
      ]
     },
     "metadata": {},
     "output_type": "display_data"
    }
   ],
   "source": [
    "fig = plt.figure(constrained_layout=False, dpi=100)\n",
    "gs = fig.add_gridspec(nrows=7, ncols=1)\n",
    "f_ax1 = fig.add_subplot(gs[0:5,0])\n",
    "plt.title('H (z) comparison')\n",
    "plt.scatter(X_test, y_test, label = 'True function')\n",
    "plt.scatter(X_test, y_gp1, marker = 'v', s = 10, label = 'Symbolic function')\n",
    "plt.legend()\n",
    "plt.ylabel('H (z)')\n",
    "f_ax2 = fig.add_subplot(gs[5:7, 0])\n",
    "plt.scatter(X_test, 1. - y_gp1/y_test, marker = 's', s = 10)\n",
    "plt.ylabel('Residual')\n",
    "plt.xlabel('z')"
   ]
  },
  {
   "cell_type": "code",
   "execution_count": null,
   "id": "bd2ecc54",
   "metadata": {},
   "outputs": [],
   "source": []
  },
  {
   "cell_type": "code",
   "execution_count": null,
   "id": "a99fa99e",
   "metadata": {},
   "outputs": [],
   "source": []
  }
 ],
 "metadata": {
  "kernelspec": {
   "display_name": "Python 3 (ipykernel)",
   "language": "python",
   "name": "python3"
  },
  "language_info": {
   "codemirror_mode": {
    "name": "ipython",
    "version": 3
   },
   "file_extension": ".py",
   "mimetype": "text/x-python",
   "name": "python",
   "nbconvert_exporter": "python",
   "pygments_lexer": "ipython3",
   "version": "3.9.7"
  }
 },
 "nbformat": 4,
 "nbformat_minor": 5
}
