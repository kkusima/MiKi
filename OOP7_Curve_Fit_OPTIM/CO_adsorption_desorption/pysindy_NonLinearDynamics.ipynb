{
 "cells": [
  {
   "cell_type": "code",
   "execution_count": 1,
   "id": "205ae450",
   "metadata": {},
   "outputs": [
    {
     "name": "stdout",
     "output_type": "stream",
     "text": [
      "Collecting pysindy\n",
      "  Downloading pysindy-1.7.5-py3-none-any.whl (121 kB)\n",
      "\u001b[2K     \u001b[90m━━━━━━━━━━━━━━━━━━━━━━━━━━━━━━━━━━━━━━━\u001b[0m \u001b[32m121.0/121.0 kB\u001b[0m \u001b[31m3.0 MB/s\u001b[0m eta \u001b[36m0:00:00\u001b[0m\n",
      "\u001b[?25hRequirement already satisfied: scikit-learn>=0.23 in /Users/klkusima/opt/anaconda3/lib/python3.9/site-packages (from pysindy) (1.2.1)\n",
      "Requirement already satisfied: numpy in /Users/klkusima/opt/anaconda3/lib/python3.9/site-packages (from pysindy) (1.22.0)\n",
      "Requirement already satisfied: scipy in /Users/klkusima/opt/anaconda3/lib/python3.9/site-packages (from pysindy) (1.10.1)\n",
      "Collecting derivative (from pysindy)\n",
      "  Downloading derivative-0.6.0-py3-none-any.whl (14 kB)\n",
      "Requirement already satisfied: matplotlib in /Users/klkusima/opt/anaconda3/lib/python3.9/site-packages (from pysindy) (3.6.2)\n",
      "Collecting cmake (from pysindy)\n",
      "  Downloading cmake-3.27.7-py2.py3-none-macosx_10_10_universal2.macosx_10_10_x86_64.macosx_11_0_arm64.macosx_11_0_universal2.whl (47.4 MB)\n",
      "\u001b[2K     \u001b[90m━━━━━━━━━━━━━━━━━━━━━━━━━━━━━━━━━━━━━━━━\u001b[0m \u001b[32m47.4/47.4 MB\u001b[0m \u001b[31m12.1 MB/s\u001b[0m eta \u001b[36m0:00:00\u001b[0m00:01\u001b[0m00:01\u001b[0m\n",
      "\u001b[?25hCollecting scs!=2.1.4,>=2.1 (from pysindy)\n",
      "  Downloading scs-3.2.3-cp39-cp39-macosx_10_9_x86_64.whl (11.6 MB)\n",
      "\u001b[2K     \u001b[90m━━━━━━━━━━━━━━━━━━━━━━━━━━━━━━━━━━━━━━━━\u001b[0m \u001b[32m11.6/11.6 MB\u001b[0m \u001b[31m9.9 MB/s\u001b[0m eta \u001b[36m0:00:00\u001b[0m:00:01\u001b[0m00:01\u001b[0m\n",
      "\u001b[?25hRequirement already satisfied: joblib>=1.1.1 in /Users/klkusima/opt/anaconda3/lib/python3.9/site-packages (from scikit-learn>=0.23->pysindy) (1.1.1)\n",
      "Requirement already satisfied: threadpoolctl>=2.0.0 in /Users/klkusima/opt/anaconda3/lib/python3.9/site-packages (from scikit-learn>=0.23->pysindy) (2.2.0)\n",
      "Requirement already satisfied: contourpy>=1.0.1 in /Users/klkusima/opt/anaconda3/lib/python3.9/site-packages (from matplotlib->pysindy) (1.0.5)\n",
      "Requirement already satisfied: cycler>=0.10 in /Users/klkusima/opt/anaconda3/lib/python3.9/site-packages (from matplotlib->pysindy) (0.11.0)\n",
      "Requirement already satisfied: fonttools>=4.22.0 in /Users/klkusima/opt/anaconda3/lib/python3.9/site-packages (from matplotlib->pysindy) (4.25.0)\n",
      "Requirement already satisfied: kiwisolver>=1.0.1 in /Users/klkusima/opt/anaconda3/lib/python3.9/site-packages (from matplotlib->pysindy) (1.4.4)\n",
      "Requirement already satisfied: packaging>=20.0 in /Users/klkusima/opt/anaconda3/lib/python3.9/site-packages (from matplotlib->pysindy) (22.0)\n",
      "Requirement already satisfied: pillow>=6.2.0 in /Users/klkusima/opt/anaconda3/lib/python3.9/site-packages (from matplotlib->pysindy) (9.3.0)\n",
      "Requirement already satisfied: pyparsing>=2.2.1 in /Users/klkusima/opt/anaconda3/lib/python3.9/site-packages (from matplotlib->pysindy) (3.0.9)\n",
      "Requirement already satisfied: python-dateutil>=2.7 in /Users/klkusima/opt/anaconda3/lib/python3.9/site-packages (from matplotlib->pysindy) (2.8.2)\n",
      "Requirement already satisfied: six>=1.5 in /Users/klkusima/opt/anaconda3/lib/python3.9/site-packages (from python-dateutil>=2.7->matplotlib->pysindy) (1.16.0)\n",
      "Installing collected packages: cmake, scs, derivative, pysindy\n",
      "Successfully installed cmake-3.27.7 derivative-0.6.0 pysindy-1.7.5 scs-3.2.3\n",
      "Note: you may need to restart the kernel to use updated packages.\n"
     ]
    }
   ],
   "source": [
    "pip install pysindy"
   ]
  },
  {
   "cell_type": "code",
   "execution_count": 2,
   "id": "d4be3872",
   "metadata": {},
   "outputs": [],
   "source": [
    "import numpy as np\n",
    "import pysindy as ps\n",
    "\n",
    "t = np.linspace(0, 1, 100)\n",
    "x = 3 * np.exp(-2 * t)\n",
    "y = 0.5 * np.exp(t)\n",
    "X = np.stack((x, y), axis=-1)  # First column is x, second is y"
   ]
  },
  {
   "cell_type": "code",
   "execution_count": 3,
   "id": "51c60f9b",
   "metadata": {},
   "outputs": [
    {
     "data": {
      "text/html": [
       "<style>#sk-container-id-1 {color: black;background-color: white;}#sk-container-id-1 pre{padding: 0;}#sk-container-id-1 div.sk-toggleable {background-color: white;}#sk-container-id-1 label.sk-toggleable__label {cursor: pointer;display: block;width: 100%;margin-bottom: 0;padding: 0.3em;box-sizing: border-box;text-align: center;}#sk-container-id-1 label.sk-toggleable__label-arrow:before {content: \"▸\";float: left;margin-right: 0.25em;color: #696969;}#sk-container-id-1 label.sk-toggleable__label-arrow:hover:before {color: black;}#sk-container-id-1 div.sk-estimator:hover label.sk-toggleable__label-arrow:before {color: black;}#sk-container-id-1 div.sk-toggleable__content {max-height: 0;max-width: 0;overflow: hidden;text-align: left;background-color: #f0f8ff;}#sk-container-id-1 div.sk-toggleable__content pre {margin: 0.2em;color: black;border-radius: 0.25em;background-color: #f0f8ff;}#sk-container-id-1 input.sk-toggleable__control:checked~div.sk-toggleable__content {max-height: 200px;max-width: 100%;overflow: auto;}#sk-container-id-1 input.sk-toggleable__control:checked~label.sk-toggleable__label-arrow:before {content: \"▾\";}#sk-container-id-1 div.sk-estimator input.sk-toggleable__control:checked~label.sk-toggleable__label {background-color: #d4ebff;}#sk-container-id-1 div.sk-label input.sk-toggleable__control:checked~label.sk-toggleable__label {background-color: #d4ebff;}#sk-container-id-1 input.sk-hidden--visually {border: 0;clip: rect(1px 1px 1px 1px);clip: rect(1px, 1px, 1px, 1px);height: 1px;margin: -1px;overflow: hidden;padding: 0;position: absolute;width: 1px;}#sk-container-id-1 div.sk-estimator {font-family: monospace;background-color: #f0f8ff;border: 1px dotted black;border-radius: 0.25em;box-sizing: border-box;margin-bottom: 0.5em;}#sk-container-id-1 div.sk-estimator:hover {background-color: #d4ebff;}#sk-container-id-1 div.sk-parallel-item::after {content: \"\";width: 100%;border-bottom: 1px solid gray;flex-grow: 1;}#sk-container-id-1 div.sk-label:hover label.sk-toggleable__label {background-color: #d4ebff;}#sk-container-id-1 div.sk-serial::before {content: \"\";position: absolute;border-left: 1px solid gray;box-sizing: border-box;top: 0;bottom: 0;left: 50%;z-index: 0;}#sk-container-id-1 div.sk-serial {display: flex;flex-direction: column;align-items: center;background-color: white;padding-right: 0.2em;padding-left: 0.2em;position: relative;}#sk-container-id-1 div.sk-item {position: relative;z-index: 1;}#sk-container-id-1 div.sk-parallel {display: flex;align-items: stretch;justify-content: center;background-color: white;position: relative;}#sk-container-id-1 div.sk-item::before, #sk-container-id-1 div.sk-parallel-item::before {content: \"\";position: absolute;border-left: 1px solid gray;box-sizing: border-box;top: 0;bottom: 0;left: 50%;z-index: -1;}#sk-container-id-1 div.sk-parallel-item {display: flex;flex-direction: column;z-index: 1;position: relative;background-color: white;}#sk-container-id-1 div.sk-parallel-item:first-child::after {align-self: flex-end;width: 50%;}#sk-container-id-1 div.sk-parallel-item:last-child::after {align-self: flex-start;width: 50%;}#sk-container-id-1 div.sk-parallel-item:only-child::after {width: 0;}#sk-container-id-1 div.sk-dashed-wrapped {border: 1px dashed gray;margin: 0 0.4em 0.5em 0.4em;box-sizing: border-box;padding-bottom: 0.4em;background-color: white;}#sk-container-id-1 div.sk-label label {font-family: monospace;font-weight: bold;display: inline-block;line-height: 1.2em;}#sk-container-id-1 div.sk-label-container {text-align: center;}#sk-container-id-1 div.sk-container {/* jupyter's `normalize.less` sets `[hidden] { display: none; }` but bootstrap.min.css set `[hidden] { display: none !important; }` so we also need the `!important` here to be able to override the default hidden behavior on the sphinx rendered scikit-learn.org. See: https://github.com/scikit-learn/scikit-learn/issues/21755 */display: inline-block !important;position: relative;}#sk-container-id-1 div.sk-text-repr-fallback {display: none;}</style><div id=\"sk-container-id-1\" class=\"sk-top-container\"><div class=\"sk-text-repr-fallback\"><pre>SINDy(differentiation_method=FiniteDifference(),\n",
       "      feature_library=PolynomialLibrary(), feature_names=[&#x27;x&#x27;, &#x27;y&#x27;],\n",
       "      optimizer=STLSQ())</pre><b>In a Jupyter environment, please rerun this cell to show the HTML representation or trust the notebook. <br />On GitHub, the HTML representation is unable to render, please try loading this page with nbviewer.org.</b></div><div class=\"sk-container\" hidden><div class=\"sk-item sk-dashed-wrapped\"><div class=\"sk-label-container\"><div class=\"sk-label sk-toggleable\"><input class=\"sk-toggleable__control sk-hidden--visually\" id=\"sk-estimator-id-1\" type=\"checkbox\" ><label for=\"sk-estimator-id-1\" class=\"sk-toggleable__label sk-toggleable__label-arrow\">SINDy</label><div class=\"sk-toggleable__content\"><pre>SINDy(differentiation_method=FiniteDifference(),\n",
       "      feature_library=PolynomialLibrary(), feature_names=[&#x27;x&#x27;, &#x27;y&#x27;],\n",
       "      optimizer=STLSQ())</pre></div></div></div><div class=\"sk-parallel\"><div class=\"sk-parallel-item\"><div class=\"sk-item\"><div class=\"sk-label-container\"><div class=\"sk-label sk-toggleable\"><input class=\"sk-toggleable__control sk-hidden--visually\" id=\"sk-estimator-id-2\" type=\"checkbox\" ><label for=\"sk-estimator-id-2\" class=\"sk-toggleable__label sk-toggleable__label-arrow\">feature_library: PolynomialLibrary</label><div class=\"sk-toggleable__content\"><pre>PolynomialLibrary()</pre></div></div></div><div class=\"sk-serial\"><div class=\"sk-item\"><div class=\"sk-estimator sk-toggleable\"><input class=\"sk-toggleable__control sk-hidden--visually\" id=\"sk-estimator-id-3\" type=\"checkbox\" ><label for=\"sk-estimator-id-3\" class=\"sk-toggleable__label sk-toggleable__label-arrow\">PolynomialLibrary</label><div class=\"sk-toggleable__content\"><pre>PolynomialLibrary()</pre></div></div></div></div></div></div><div class=\"sk-parallel-item\"><div class=\"sk-item\"><div class=\"sk-label-container\"><div class=\"sk-label sk-toggleable\"><input class=\"sk-toggleable__control sk-hidden--visually\" id=\"sk-estimator-id-4\" type=\"checkbox\" ><label for=\"sk-estimator-id-4\" class=\"sk-toggleable__label sk-toggleable__label-arrow\">optimizer: STLSQ</label><div class=\"sk-toggleable__content\"><pre>STLSQ()</pre></div></div></div><div class=\"sk-serial\"><div class=\"sk-item\"><div class=\"sk-estimator sk-toggleable\"><input class=\"sk-toggleable__control sk-hidden--visually\" id=\"sk-estimator-id-5\" type=\"checkbox\" ><label for=\"sk-estimator-id-5\" class=\"sk-toggleable__label sk-toggleable__label-arrow\">STLSQ</label><div class=\"sk-toggleable__content\"><pre>STLSQ()</pre></div></div></div></div></div></div></div></div></div></div>"
      ],
      "text/plain": [
       "SINDy(differentiation_method=FiniteDifference(),\n",
       "      feature_library=PolynomialLibrary(), feature_names=['x', 'y'],\n",
       "      optimizer=STLSQ())"
      ]
     },
     "execution_count": 3,
     "metadata": {},
     "output_type": "execute_result"
    }
   ],
   "source": [
    "model = ps.SINDy(feature_names=[\"x\", \"y\"])\n",
    "model.fit(X, t=t)"
   ]
  },
  {
   "cell_type": "code",
   "execution_count": 4,
   "id": "8d649d46",
   "metadata": {},
   "outputs": [
    {
     "name": "stdout",
     "output_type": "stream",
     "text": [
      "(x)' = -2.000 x\n",
      "(y)' = 1.000 y\n"
     ]
    }
   ],
   "source": [
    "model.print()"
   ]
  },
  {
   "cell_type": "code",
   "execution_count": null,
   "id": "0b0d52bc",
   "metadata": {},
   "outputs": [],
   "source": []
  }
 ],
 "metadata": {
  "kernelspec": {
   "display_name": "Python 3 (ipykernel)",
   "language": "python",
   "name": "python3"
  },
  "language_info": {
   "codemirror_mode": {
    "name": "ipython",
    "version": 3
   },
   "file_extension": ".py",
   "mimetype": "text/x-python",
   "name": "python",
   "nbconvert_exporter": "python",
   "pygments_lexer": "ipython3",
   "version": "3.9.7"
  }
 },
 "nbformat": 4,
 "nbformat_minor": 5
}
