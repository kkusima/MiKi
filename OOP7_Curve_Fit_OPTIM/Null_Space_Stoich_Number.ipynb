{
 "cells": [
  {
   "cell_type": "code",
   "execution_count": 1,
   "id": "fdeb8ee3",
   "metadata": {},
   "outputs": [],
   "source": [
    "from main import *\n",
    "import numpy as np\n",
    "import matplotlib.pyplot as plt\n",
    "%matplotlib notebook\n",
    "\n",
    "import numpy as np\n",
    "from scipy.linalg import null_space"
   ]
  },
  {
   "cell_type": "code",
   "execution_count": 2,
   "id": "5d5bfb31",
   "metadata": {},
   "outputs": [
    {
     "name": "stdout",
     "output_type": "stream",
     "text": [
      "Mass is conserved. \n",
      "\n",
      "Thermodynamically constrained (with pseudo Keq)\n"
     ]
    }
   ],
   "source": [
    "MKM1 = MKModel('Atomic_1.csv','Stoich_1.csv','Param_1.csv') #Defining the Model"
   ]
  },
  {
   "cell_type": "code",
   "execution_count": 52,
   "id": "ac50b8e0",
   "metadata": {},
   "outputs": [
    {
     "data": {
      "text/plain": [
       "array([[-1, 0, 0, 1, 0, 0, -1],\n",
       "       [0, -1, 0, 0, 0, 1, -1],\n",
       "       [0, 0, 0, 0, 2, -1, -1],\n",
       "       [0, 0, 1, -1, -1, 0, 2]], dtype=object)"
      ]
     },
     "execution_count": 52,
     "metadata": {},
     "output_type": "execute_result"
    }
   ],
   "source": [
    "mat  = MKM1.Stoich.to_numpy()[:,1:]\n",
    "mat"
   ]
  },
  {
   "cell_type": "code",
   "execution_count": 4,
   "id": "c4358331",
   "metadata": {},
   "outputs": [
    {
     "data": {
      "text/plain": [
       "3"
      ]
     },
     "execution_count": 4,
     "metadata": {},
     "output_type": "execute_result"
    }
   ],
   "source": [
    "len(MKM1.P)"
   ]
  },
  {
   "cell_type": "code",
   "execution_count": 5,
   "id": "0a217b95",
   "metadata": {},
   "outputs": [],
   "source": [
    "import numpy as np\n",
    "from numpy.linalg import svd\n",
    "\n",
    "def null(A, atol=1e-13, rtol=0):\n",
    "    A = np.atleast_2d(A)\n",
    "    u, s, vh = svd(A)\n",
    "    tol = max(atol, rtol * s[0])\n",
    "    nnz = (s >= tol).sum()\n",
    "    ns = vh[nnz:].conj().T\n",
    "    return ns"
   ]
  },
  {
   "cell_type": "code",
   "execution_count": 6,
   "id": "543ae0d7",
   "metadata": {},
   "outputs": [
    {
     "data": {
      "text/plain": [
       "array([[-1,  0,  0,  1,  0,  0, -1],\n",
       "       [ 0, -1,  0,  0,  0,  1, -1],\n",
       "       [ 0,  0,  0,  0,  2, -1, -1],\n",
       "       [ 0,  0,  1, -1, -1,  0,  2]])"
      ]
     },
     "execution_count": 6,
     "metadata": {},
     "output_type": "execute_result"
    }
   ],
   "source": [
    "A = np.array([[-1,0,0,1,0,0,-1],\n",
    "              [0,-1,0,0,0,1,-1],\n",
    "              [0,0,0,0,2,-1,-1],\n",
    "              [0,0,1,-1,-1,0,2]])\n",
    "A"
   ]
  },
  {
   "cell_type": "code",
   "execution_count": 7,
   "id": "97ba7e7e",
   "metadata": {},
   "outputs": [
    {
     "data": {
      "text/plain": [
       "0.6324555320336759"
      ]
     },
     "execution_count": 7,
     "metadata": {},
     "output_type": "execute_result"
    }
   ],
   "source": [
    "val = np.max(np.abs(null_space(A[:,3:].T)))\n",
    "np.abs(null_space(A[:,3:].T))/val\n",
    "np.linalg.norm(val)"
   ]
  },
  {
   "cell_type": "code",
   "execution_count": 8,
   "id": "bd7ea698",
   "metadata": {},
   "outputs": [
    {
     "data": {
      "text/plain": [
       "3"
      ]
     },
     "execution_count": 8,
     "metadata": {},
     "output_type": "execute_result"
    }
   ],
   "source": [
    "np.linalg.matrix_rank(A[:,3:])"
   ]
  },
  {
   "cell_type": "code",
   "execution_count": 9,
   "id": "4b1b2cd7",
   "metadata": {},
   "outputs": [
    {
     "data": {
      "text/plain": [
       "array([[0.5],\n",
       "       [0.5],\n",
       "       [0.5],\n",
       "       [0.5]])"
      ]
     },
     "execution_count": 9,
     "metadata": {},
     "output_type": "execute_result"
    }
   ],
   "source": [
    "null(A[:,3:])"
   ]
  },
  {
   "cell_type": "code",
   "execution_count": 10,
   "id": "33861327",
   "metadata": {
    "scrolled": true
   },
   "outputs": [
    {
     "data": {
      "text/plain": [
       "array([[ 1.11022302e-16],\n",
       "       [-4.44089210e-16],\n",
       "       [ 0.00000000e+00],\n",
       "       [ 1.11022302e-16]])"
      ]
     },
     "execution_count": 10,
     "metadata": {},
     "output_type": "execute_result"
    }
   ],
   "source": [
    "np.dot(A[:,3:],null_space(A[:,3:]))"
   ]
  },
  {
   "cell_type": "code",
   "execution_count": 11,
   "id": "88bac73f",
   "metadata": {},
   "outputs": [
    {
     "data": {
      "text/plain": [
       "array([[-1,  0,  0,  1,  0,  0, -1],\n",
       "       [ 0, -1,  0,  0,  0,  1, -1],\n",
       "       [ 0,  0,  0,  0,  2, -1, -1],\n",
       "       [ 0,  0,  1, -1, -1,  0,  2],\n",
       "       [ 0,  0,  1, -1,  1, -1,  1]])"
      ]
     },
     "execution_count": 11,
     "metadata": {},
     "output_type": "execute_result"
    }
   ],
   "source": [
    "#5 steps\n",
    "A_n = np.array([[-1,0,0,1,0,0,-1],\n",
    "              [0,-1,0,0,0,1,-1],\n",
    "              [0,0,0,0,2,-1,-1],\n",
    "              [0,0,1,-1,-1,0,2],\n",
    "              [0,0,1,-1,1,-1,1]])\n",
    "A_n"
   ]
  },
  {
   "cell_type": "code",
   "execution_count": 12,
   "id": "1eb1f5b0",
   "metadata": {},
   "outputs": [
    {
     "data": {
      "text/plain": [
       "array([[-0.5546544 ,  0.51360205],\n",
       "       [-0.2773272 ,  0.25680103],\n",
       "       [-0.39227005, -0.4236243 ],\n",
       "       [-0.66959725, -0.16682327],\n",
       "       [ 0.11494285,  0.68042532]])"
      ]
     },
     "execution_count": 12,
     "metadata": {},
     "output_type": "execute_result"
    }
   ],
   "source": [
    "null_space(A_n[:,3:].T)"
   ]
  },
  {
   "cell_type": "code",
   "execution_count": 13,
   "id": "076390bf",
   "metadata": {},
   "outputs": [
    {
     "data": {
      "text/plain": [
       "array([[-1,  0,  0,  1,  0,  0, -1],\n",
       "       [ 0, -1,  0,  0,  0,  1, -1],\n",
       "       [ 0,  0,  0,  0,  2, -1, -1],\n",
       "       [ 0,  0,  1, -1, -1,  0,  2]])"
      ]
     },
     "execution_count": 13,
     "metadata": {},
     "output_type": "execute_result"
    }
   ],
   "source": [
    "A"
   ]
  },
  {
   "cell_type": "code",
   "execution_count": 60,
   "id": "7754b4a5",
   "metadata": {},
   "outputs": [
    {
     "data": {
      "text/plain": [
       "array([[-1,  0,  0,  1,  0,  0, -1],\n",
       "       [ 0, -1,  0,  0,  0,  1, -1],\n",
       "       [ 0,  0,  0,  0,  2, -1, -1],\n",
       "       [ 0,  0,  1, -1, -1,  0,  2],\n",
       "       [ 0,  0,  1, -1,  1, -1,  1]])"
      ]
     },
     "execution_count": 60,
     "metadata": {},
     "output_type": "execute_result"
    }
   ],
   "source": [
    "A_n"
   ]
  },
  {
   "cell_type": "code",
   "execution_count": 65,
   "id": "ff437be1",
   "metadata": {},
   "outputs": [],
   "source": [
    "mat = mat.astype(float)"
   ]
  },
  {
   "cell_type": "code",
   "execution_count": 66,
   "id": "d0f2febb",
   "metadata": {},
   "outputs": [
    {
     "name": "stdout",
     "output_type": "stream",
     "text": [
      "The matrix is linearly independent.\n"
     ]
    }
   ],
   "source": [
    "matrix = mat\n",
    "rank = np.linalg.matrix_rank(matrix)\n",
    "\n",
    "# Check if the matrix is linearly independent\n",
    "\n",
    "if rank == min(matrix.shape):\n",
    "    print(\"The matrix is linearly independent.\")\n",
    "else:\n",
    "    print(\"The matrix is linearly dependent.\")"
   ]
  },
  {
   "cell_type": "code",
   "execution_count": 50,
   "id": "8e094b70",
   "metadata": {},
   "outputs": [
    {
     "name": "stdout",
     "output_type": "stream",
     "text": [
      "Dependent rows: [4]\n"
     ]
    }
   ],
   "source": [
    "\n",
    "def find_dependent_rows(data_matrix, tolerance=1e-10):\n",
    "    \"\"\"\n",
    "    Finds and returns a list of dependent rows in the given data matrix using SVD.\n",
    "\n",
    "    Parameters:\n",
    "        data_matrix (numpy.ndarray): The data matrix as a 2D array.\n",
    "        tolerance (float, optional): Tolerance value for considering a singular value as zero.\n",
    "                                     Default is 1e-10.\n",
    "\n",
    "    Returns:\n",
    "        list: A list of row indices that are dependent (linearly dependent rows).\n",
    "    \"\"\"\n",
    "    # Perform SVD on the data matrix\n",
    "    _, singular_values, _ = np.linalg.svd(data_matrix)\n",
    "\n",
    "    # Set a threshold for identifying zero singular values\n",
    "    threshold = tolerance * max(data_matrix.shape) * singular_values[0]\n",
    "\n",
    "    # Find the dependent rows based on singular values\n",
    "    dependent_rows = [i for i, s in enumerate(singular_values) if abs(s) < threshold]\n",
    "\n",
    "    return dependent_rows\n",
    "\n",
    "# Example usage:\n",
    "data = A_n\n",
    "\n",
    "dependent_rows = find_dependent_rows(data)\n",
    "print(\"Dependent rows:\", dependent_rows)"
   ]
  },
  {
   "cell_type": "code",
   "execution_count": 35,
   "id": "e428b284",
   "metadata": {},
   "outputs": [
    {
     "ename": "ValueError",
     "evalue": "matmul: Input operand 1 has a mismatch in its core dimension 0, with gufunc signature (n?,k),(k,m?)->(n?,m?) (size 7 is different from 4)",
     "output_type": "error",
     "traceback": [
      "\u001b[0;31m---------------------------------------------------------------------------\u001b[0m",
      "\u001b[0;31mValueError\u001b[0m                                Traceback (most recent call last)",
      "Cell \u001b[0;32mIn[35], line 11\u001b[0m\n\u001b[1;32m      8\u001b[0m U, S, V \u001b[38;5;241m=\u001b[39m la\u001b[38;5;241m.\u001b[39msvd(S)\n\u001b[1;32m     10\u001b[0m \u001b[38;5;66;03m# Check if the matrix is independent\u001b[39;00m\n\u001b[0;32m---> 11\u001b[0m \u001b[38;5;28;01mif\u001b[39;00m np\u001b[38;5;241m.\u001b[39mallclose(\u001b[43mU\u001b[49m\u001b[43m \u001b[49m\u001b[38;5;241;43m@\u001b[39;49m\u001b[43m \u001b[49m\u001b[43mV\u001b[49m, np\u001b[38;5;241m.\u001b[39meye(np\u001b[38;5;241m.\u001b[39mshape(S)[\u001b[38;5;241m1\u001b[39m])):\n\u001b[1;32m     12\u001b[0m   \u001b[38;5;28mprint\u001b[39m(\u001b[38;5;124m\"\u001b[39m\u001b[38;5;124mThe matrix is independent\u001b[39m\u001b[38;5;124m\"\u001b[39m)\n\u001b[1;32m     13\u001b[0m \u001b[38;5;28;01melse\u001b[39;00m:\n",
      "\u001b[0;31mValueError\u001b[0m: matmul: Input operand 1 has a mismatch in its core dimension 0, with gufunc signature (n?,k),(k,m?)->(n?,m?) (size 7 is different from 4)"
     ]
    }
   ],
   "source": [
    "import numpy as np\n",
    "import scipy.linalg as la\n",
    "\n",
    "# Create a matrix\n",
    "S = A\n",
    "\n",
    "# Perform SVD on the matrix\n",
    "U, S, V = la.svd(S)\n",
    "\n",
    "# Check if the matrix is independent\n",
    "if np.allclose(U @ V, np.eye(np.shape(S)[1])):\n",
    "  print(\"The matrix is independent\")\n",
    "else:\n",
    "  print(\"The matrix is not independent\")"
   ]
  },
  {
   "cell_type": "code",
   "execution_count": 34,
   "id": "dd0a8fad",
   "metadata": {},
   "outputs": [
    {
     "data": {
      "text/plain": [
       "4"
      ]
     },
     "execution_count": 34,
     "metadata": {},
     "output_type": "execute_result"
    }
   ],
   "source": []
  },
  {
   "cell_type": "code",
   "execution_count": 148,
   "id": "7e7491f2",
   "metadata": {},
   "outputs": [
    {
     "data": {
      "text/plain": [
       "array([[ 1,  0,  0, -1],\n",
       "       [ 0,  0,  1, -1],\n",
       "       [ 0,  2, -1, -1],\n",
       "       [-1, -1,  0,  2],\n",
       "       [-1,  1, -1,  1]])"
      ]
     },
     "execution_count": 148,
     "metadata": {},
     "output_type": "execute_result"
    }
   ],
   "source": [
    "A_n[:,3:]"
   ]
  },
  {
   "cell_type": "code",
   "execution_count": 28,
   "id": "d0e12ee2",
   "metadata": {},
   "outputs": [
    {
     "name": "stdout",
     "output_type": "stream",
     "text": [
      "[0. 0. 0. 0. 0. 0. 0.]\n"
     ]
    }
   ],
   "source": [
    "import numpy as np\n",
    "from scipy.linalg import lstsq\n",
    "\n",
    "# x = np.linalg.lstsq(A,b)[0]\n",
    "# Solve for the dependent rows\n",
    "x, res, rank, s = lstsq(A_n, np.zeros(len(A_n)))\n",
    "\n",
    "# Print the dependent rows\n",
    "print(x)"
   ]
  },
  {
   "cell_type": "code",
   "execution_count": 115,
   "id": "76cc936c",
   "metadata": {},
   "outputs": [
    {
     "name": "stderr",
     "output_type": "stream",
     "text": [
      "/var/folders/_p/qwgws2w95qxf051hv3d15ky5_tzjzl/T/ipykernel_73727/3510499109.py:1: FutureWarning: `rcond` parameter will change to the default of machine precision times ``max(M, N)`` where M and N are the input matrix dimensions.\n",
      "To use the future default and silence this warning we advise to pass `rcond=None`, to keep using the old, explicitly pass `rcond=-1`.\n",
      "  rank, pivots, rank_eq, info = np.linalg.lstsq(A_n[:,3:], np.ones(A_n[:,3:].shape[0]))\n"
     ]
    },
    {
     "data": {
      "text/plain": [
       "array([], dtype=float64)"
      ]
     },
     "execution_count": 115,
     "metadata": {},
     "output_type": "execute_result"
    }
   ],
   "source": [
    "rank, pivots, rank_eq, info = np.linalg.lstsq(A_n[:,3:], np.ones(A_n[:,3:].shape[0]))\n",
    "pivots"
   ]
  },
  {
   "cell_type": "code",
   "execution_count": 37,
   "id": "cbb129eb",
   "metadata": {},
   "outputs": [
    {
     "data": {
      "text/plain": [
       "array([[0.81515838, 0.75482501],\n",
       "       [0.40757919, 0.37741251],\n",
       "       [0.57650713, 0.62258749],\n",
       "       [0.98408631, 0.24517499],\n",
       "       [0.16892794, 1.        ]])"
      ]
     },
     "execution_count": 37,
     "metadata": {},
     "output_type": "execute_result"
    }
   ],
   "source": [
    "val = np.max(np.abs(null_space(A_n[:,3:].T)))\n",
    "np.abs(null_space(A_n[:,3:].T))/val"
   ]
  },
  {
   "cell_type": "code",
   "execution_count": 19,
   "id": "172b6e04",
   "metadata": {},
   "outputs": [
    {
     "data": {
      "text/plain": [
       "3"
      ]
     },
     "execution_count": 19,
     "metadata": {},
     "output_type": "execute_result"
    }
   ],
   "source": [
    "np.linalg.matrix_rank(A_n[:,3:])"
   ]
  },
  {
   "cell_type": "code",
   "execution_count": 9,
   "id": "63fbacbb",
   "metadata": {},
   "outputs": [
    {
     "data": {
      "text/plain": [
       "array([[-0.5],\n",
       "       [-0.5],\n",
       "       [-0.5],\n",
       "       [-0.5]])"
      ]
     },
     "execution_count": 9,
     "metadata": {},
     "output_type": "execute_result"
    }
   ],
   "source": [
    "null(A_n[:,3:])"
   ]
  },
  {
   "cell_type": "code",
   "execution_count": 18,
   "id": "98535414",
   "metadata": {},
   "outputs": [
    {
     "data": {
      "text/plain": [
       "3"
      ]
     },
     "execution_count": 18,
     "metadata": {},
     "output_type": "execute_result"
    }
   ],
   "source": [
    "np.linalg.matrix_rank(A_n[:,3:])"
   ]
  },
  {
   "cell_type": "code",
   "execution_count": 10,
   "id": "e34103ec",
   "metadata": {
    "scrolled": true
   },
   "outputs": [
    {
     "data": {
      "text/plain": [
       "array([[-1.11022302e-16],\n",
       "       [-4.44089210e-16],\n",
       "       [-2.22044605e-16],\n",
       "       [ 4.44089210e-16],\n",
       "       [ 1.11022302e-16]])"
      ]
     },
     "execution_count": 10,
     "metadata": {},
     "output_type": "execute_result"
    }
   ],
   "source": [
    "np.dot(A_n[:,3:],null_space(A_n[:,3:]))"
   ]
  },
  {
   "cell_type": "code",
   "execution_count": 48,
   "id": "83dd1d2f",
   "metadata": {},
   "outputs": [],
   "source": [
    "B = np.array([[-1,0,0,0,1,0,0,0,0,0,-1],\n",
    "              [0,-1,0,0,0,1,0,0,0,0,-1],\n",
    "              [0,0,0,0,0,-1,1,1,0,0,-1],\n",
    "              [0,0,0,0,-1,0,0,-1,1,0,1],\n",
    "              [0,0,0,0,0,0,1,0,-1,1,-1],\n",
    "              [0,0,0,1,0,0,-2,0,0,0,2],\n",
    "              [0,0,1,0,0,0,0,0,0,-1,1]])\n"
   ]
  },
  {
   "cell_type": "code",
   "execution_count": 51,
   "id": "fdea7fbb",
   "metadata": {},
   "outputs": [
    {
     "data": {
      "text/plain": [
       "(7, 1)"
      ]
     },
     "execution_count": 51,
     "metadata": {},
     "output_type": "execute_result"
    }
   ],
   "source": [
    "val = np.max(np.abs(null_space(B[:,4:].T)))\n",
    "s = np.abs(null_space(B[:,4:].T))/val\n",
    "np.shape(s)"
   ]
  },
  {
   "cell_type": "code",
   "execution_count": 12,
   "id": "6e1b7f91",
   "metadata": {},
   "outputs": [
    {
     "data": {
      "text/plain": [
       "array([[-0.37796447],\n",
       "       [-0.37796447],\n",
       "       [-0.37796447],\n",
       "       [-0.37796447],\n",
       "       [-0.37796447],\n",
       "       [-0.37796447],\n",
       "       [-0.37796447]])"
      ]
     },
     "execution_count": 12,
     "metadata": {},
     "output_type": "execute_result"
    }
   ],
   "source": [
    "null_space(B[:,4:])"
   ]
  },
  {
   "cell_type": "code",
   "execution_count": 13,
   "id": "5de6283d",
   "metadata": {},
   "outputs": [
    {
     "data": {
      "text/plain": [
       "array([[ 3.88578059e-16],\n",
       "       [-1.66533454e-16],\n",
       "       [-2.22044605e-16],\n",
       "       [ 0.00000000e+00],\n",
       "       [-5.55111512e-17],\n",
       "       [ 0.00000000e+00],\n",
       "       [ 5.55111512e-17]])"
      ]
     },
     "execution_count": 13,
     "metadata": {},
     "output_type": "execute_result"
    }
   ],
   "source": [
    "np.dot(B[:,4:],null_space(B[:,4:]))"
   ]
  },
  {
   "cell_type": "code",
   "execution_count": null,
   "id": "4aa7791f",
   "metadata": {},
   "outputs": [],
   "source": []
  }
 ],
 "metadata": {
  "kernelspec": {
   "display_name": "Python 3 (ipykernel)",
   "language": "python",
   "name": "python3"
  },
  "language_info": {
   "codemirror_mode": {
    "name": "ipython",
    "version": 3
   },
   "file_extension": ".py",
   "mimetype": "text/x-python",
   "name": "python",
   "nbconvert_exporter": "python",
   "pygments_lexer": "ipython3",
   "version": "3.9.7"
  }
 },
 "nbformat": 4,
 "nbformat_minor": 5
}
