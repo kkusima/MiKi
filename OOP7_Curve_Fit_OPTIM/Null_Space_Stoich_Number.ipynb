{
 "cells": [
  {
   "cell_type": "code",
   "execution_count": 29,
   "id": "fdeb8ee3",
   "metadata": {},
   "outputs": [],
   "source": [
    "from main import *\n",
    "import numpy as np\n",
    "import matplotlib.pyplot as plt\n",
    "%matplotlib notebook\n",
    "\n",
    "import numpy as np\n",
    "from scipy.linalg import null_space"
   ]
  },
  {
   "cell_type": "code",
   "execution_count": 30,
   "id": "0a217b95",
   "metadata": {},
   "outputs": [],
   "source": [
    "import numpy as np\n",
    "from numpy.linalg import svd\n",
    "\n",
    "def null(A, atol=1e-13, rtol=0):\n",
    "    A = np.atleast_2d(A)\n",
    "    u, s, vh = svd(A)\n",
    "    tol = max(atol, rtol * s[0])\n",
    "    nnz = (s >= tol).sum()\n",
    "    ns = vh[nnz:].conj().T\n",
    "    return ns"
   ]
  },
  {
   "cell_type": "code",
   "execution_count": 31,
   "id": "543ae0d7",
   "metadata": {},
   "outputs": [
    {
     "data": {
      "text/plain": [
       "array([[-1,  0,  0,  1,  0,  0, -1],\n",
       "       [ 0, -1,  0,  0,  0,  1, -1],\n",
       "       [ 0,  0,  0,  0,  2, -1, -1],\n",
       "       [ 0,  0,  1, -1, -1,  0,  2]])"
      ]
     },
     "execution_count": 31,
     "metadata": {},
     "output_type": "execute_result"
    }
   ],
   "source": [
    "A = np.array([[-1,0,0,1,0,0,-1],\n",
    "              [0,-1,0,0,0,1,-1],\n",
    "              [0,0,0,0,2,-1,-1],\n",
    "              [0,0,1,-1,-1,0,2]])\n",
    "A"
   ]
  },
  {
   "cell_type": "code",
   "execution_count": 32,
   "id": "97ba7e7e",
   "metadata": {},
   "outputs": [
    {
     "data": {
      "text/plain": [
       "array([[1. ],\n",
       "       [0.5],\n",
       "       [0.5],\n",
       "       [1. ]])"
      ]
     },
     "execution_count": 32,
     "metadata": {},
     "output_type": "execute_result"
    }
   ],
   "source": [
    "val = np.max(np.abs(null_space(A[:,3:].T)))\n",
    "np.abs(null_space(A[:,3:].T))/val\n"
   ]
  },
  {
   "cell_type": "code",
   "execution_count": 33,
   "id": "bd7ea698",
   "metadata": {},
   "outputs": [
    {
     "data": {
      "text/plain": [
       "3"
      ]
     },
     "execution_count": 33,
     "metadata": {},
     "output_type": "execute_result"
    }
   ],
   "source": [
    "np.linalg.matrix_rank(A[:,3:])"
   ]
  },
  {
   "cell_type": "code",
   "execution_count": 34,
   "id": "4b1b2cd7",
   "metadata": {},
   "outputs": [
    {
     "data": {
      "text/plain": [
       "array([[0.5],\n",
       "       [0.5],\n",
       "       [0.5],\n",
       "       [0.5]])"
      ]
     },
     "execution_count": 34,
     "metadata": {},
     "output_type": "execute_result"
    }
   ],
   "source": [
    "null(A[:,3:])"
   ]
  },
  {
   "cell_type": "code",
   "execution_count": 35,
   "id": "33861327",
   "metadata": {
    "scrolled": true
   },
   "outputs": [
    {
     "data": {
      "text/plain": [
       "array([[ 1.11022302e-16],\n",
       "       [-4.44089210e-16],\n",
       "       [ 0.00000000e+00],\n",
       "       [ 1.11022302e-16]])"
      ]
     },
     "execution_count": 35,
     "metadata": {},
     "output_type": "execute_result"
    }
   ],
   "source": [
    "np.dot(A[:,3:],null_space(A[:,3:]))"
   ]
  },
  {
   "cell_type": "code",
   "execution_count": 36,
   "id": "88bac73f",
   "metadata": {},
   "outputs": [
    {
     "data": {
      "text/plain": [
       "array([[-1,  0,  0,  1,  0,  0, -1],\n",
       "       [ 0, -1,  0,  0,  0,  1, -1],\n",
       "       [ 0,  0,  0,  0,  2, -1, -1],\n",
       "       [ 0,  0,  1, -1, -1,  0,  2],\n",
       "       [ 0,  0,  1, -1,  1, -1,  1]])"
      ]
     },
     "execution_count": 36,
     "metadata": {},
     "output_type": "execute_result"
    }
   ],
   "source": [
    "#5 steps\n",
    "A_n = np.array([[-1,0,0,1,0,0,-1],\n",
    "              [0,-1,0,0,0,1,-1],\n",
    "              [0,0,0,0,2,-1,-1],\n",
    "              [0,0,1,-1,-1,0,2],\n",
    "              [0,0,1,-1,1,-1,1]])\n",
    "A_n"
   ]
  },
  {
   "cell_type": "code",
   "execution_count": 42,
   "id": "498a4ca6",
   "metadata": {},
   "outputs": [
    {
     "data": {
      "text/plain": [
       "array([[-0.5546544 ,  0.51360205],\n",
       "       [-0.2773272 ,  0.25680103],\n",
       "       [-0.39227005, -0.4236243 ],\n",
       "       [-0.66959725, -0.16682327],\n",
       "       [ 0.11494285,  0.68042532]])"
      ]
     },
     "execution_count": 42,
     "metadata": {},
     "output_type": "execute_result"
    }
   ],
   "source": [
    "null_space(A_n[:,3:].T)"
   ]
  },
  {
   "cell_type": "code",
   "execution_count": 47,
   "id": "483202c4",
   "metadata": {},
   "outputs": [
    {
     "name": "stdout",
     "output_type": "stream",
     "text": [
      "The matrix is linearly dependent.\n"
     ]
    }
   ],
   "source": [
    "matrix = A_n\n",
    "rank = np.linalg.matrix_rank(matrix)\n",
    "\n",
    "# Check if the matrix is linearly independent\n",
    "\n",
    "if rank == min(matrix.shape):\n",
    "    print(\"The matrix is linearly independent.\")\n",
    "else:\n",
    "    print(\"The matrix is linearly dependent.\")"
   ]
  },
  {
   "cell_type": "code",
   "execution_count": 37,
   "id": "cbb129eb",
   "metadata": {},
   "outputs": [
    {
     "data": {
      "text/plain": [
       "array([[0.81515838, 0.75482501],\n",
       "       [0.40757919, 0.37741251],\n",
       "       [0.57650713, 0.62258749],\n",
       "       [0.98408631, 0.24517499],\n",
       "       [0.16892794, 1.        ]])"
      ]
     },
     "execution_count": 37,
     "metadata": {},
     "output_type": "execute_result"
    }
   ],
   "source": [
    "val = np.max(np.abs(null_space(A_n[:,3:].T)))\n",
    "np.abs(null_space(A_n[:,3:].T))/val"
   ]
  },
  {
   "cell_type": "code",
   "execution_count": 19,
   "id": "172b6e04",
   "metadata": {},
   "outputs": [
    {
     "data": {
      "text/plain": [
       "3"
      ]
     },
     "execution_count": 19,
     "metadata": {},
     "output_type": "execute_result"
    }
   ],
   "source": [
    "np.linalg.matrix_rank(A_n[:,3:])"
   ]
  },
  {
   "cell_type": "code",
   "execution_count": 9,
   "id": "63fbacbb",
   "metadata": {},
   "outputs": [
    {
     "data": {
      "text/plain": [
       "array([[-0.5],\n",
       "       [-0.5],\n",
       "       [-0.5],\n",
       "       [-0.5]])"
      ]
     },
     "execution_count": 9,
     "metadata": {},
     "output_type": "execute_result"
    }
   ],
   "source": [
    "null(A_n[:,3:])"
   ]
  },
  {
   "cell_type": "code",
   "execution_count": 18,
   "id": "98535414",
   "metadata": {},
   "outputs": [
    {
     "data": {
      "text/plain": [
       "3"
      ]
     },
     "execution_count": 18,
     "metadata": {},
     "output_type": "execute_result"
    }
   ],
   "source": [
    "np.linalg.matrix_rank(A_n[:,3:])"
   ]
  },
  {
   "cell_type": "code",
   "execution_count": 10,
   "id": "e34103ec",
   "metadata": {
    "scrolled": true
   },
   "outputs": [
    {
     "data": {
      "text/plain": [
       "array([[-1.11022302e-16],\n",
       "       [-4.44089210e-16],\n",
       "       [-2.22044605e-16],\n",
       "       [ 4.44089210e-16],\n",
       "       [ 1.11022302e-16]])"
      ]
     },
     "execution_count": 10,
     "metadata": {},
     "output_type": "execute_result"
    }
   ],
   "source": [
    "np.dot(A_n[:,3:],null_space(A_n[:,3:]))"
   ]
  },
  {
   "cell_type": "code",
   "execution_count": 48,
   "id": "83dd1d2f",
   "metadata": {},
   "outputs": [],
   "source": [
    "B = np.array([[-1,0,0,0,1,0,0,0,0,0,-1],\n",
    "              [0,-1,0,0,0,1,0,0,0,0,-1],\n",
    "              [0,0,0,0,0,-1,1,1,0,0,-1],\n",
    "              [0,0,0,0,-1,0,0,-1,1,0,1],\n",
    "              [0,0,0,0,0,0,1,0,-1,1,-1],\n",
    "              [0,0,0,1,0,0,-2,0,0,0,2],\n",
    "              [0,0,1,0,0,0,0,0,0,-1,1]])\n"
   ]
  },
  {
   "cell_type": "code",
   "execution_count": 50,
   "id": "01873038",
   "metadata": {},
   "outputs": [
    {
     "data": {
      "text/plain": [
       "array([[1.],\n",
       "       [1.],\n",
       "       [1.],\n",
       "       [1.],\n",
       "       [1.],\n",
       "       [1.],\n",
       "       [1.]])"
      ]
     },
     "execution_count": 50,
     "metadata": {},
     "output_type": "execute_result"
    }
   ],
   "source": [
    "val = np.max(np.abs(null_space(B[:,4:].T)))\n",
    "np.abs(null_space(B[:,4:].T))/val"
   ]
  },
  {
   "cell_type": "code",
   "execution_count": 12,
   "id": "6e1b7f91",
   "metadata": {},
   "outputs": [
    {
     "data": {
      "text/plain": [
       "array([[-0.37796447],\n",
       "       [-0.37796447],\n",
       "       [-0.37796447],\n",
       "       [-0.37796447],\n",
       "       [-0.37796447],\n",
       "       [-0.37796447],\n",
       "       [-0.37796447]])"
      ]
     },
     "execution_count": 12,
     "metadata": {},
     "output_type": "execute_result"
    }
   ],
   "source": [
    "null_space(B[:,4:])"
   ]
  },
  {
   "cell_type": "code",
   "execution_count": 13,
   "id": "5de6283d",
   "metadata": {},
   "outputs": [
    {
     "data": {
      "text/plain": [
       "array([[ 3.88578059e-16],\n",
       "       [-1.66533454e-16],\n",
       "       [-2.22044605e-16],\n",
       "       [ 0.00000000e+00],\n",
       "       [-5.55111512e-17],\n",
       "       [ 0.00000000e+00],\n",
       "       [ 5.55111512e-17]])"
      ]
     },
     "execution_count": 13,
     "metadata": {},
     "output_type": "execute_result"
    }
   ],
   "source": [
    "np.dot(B[:,4:],null_space(B[:,4:]))"
   ]
  },
  {
   "cell_type": "code",
   "execution_count": null,
   "id": "4aa7791f",
   "metadata": {},
   "outputs": [],
   "source": []
  }
 ],
 "metadata": {
  "kernelspec": {
   "display_name": "Python 3 (ipykernel)",
   "language": "python",
   "name": "python3"
  },
  "language_info": {
   "codemirror_mode": {
    "name": "ipython",
    "version": 3
   },
   "file_extension": ".py",
   "mimetype": "text/x-python",
   "name": "python",
   "nbconvert_exporter": "python",
   "pygments_lexer": "ipython3",
   "version": "3.9.7"
  }
 },
 "nbformat": 4,
 "nbformat_minor": 5
}
