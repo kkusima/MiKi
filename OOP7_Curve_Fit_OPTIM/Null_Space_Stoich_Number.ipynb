{
 "cells": [
  {
   "cell_type": "code",
   "execution_count": 1,
   "id": "fdeb8ee3",
   "metadata": {},
   "outputs": [],
   "source": [
    "from main import *\n",
    "import numpy as np\n",
    "import matplotlib.pyplot as plt\n",
    "%matplotlib notebook\n",
    "\n",
    "import numpy as np\n",
    "from scipy.linalg import null_space"
   ]
  },
  {
   "cell_type": "code",
   "execution_count": 2,
   "id": "63316eb0",
   "metadata": {},
   "outputs": [
    {
     "name": "stdout",
     "output_type": "stream",
     "text": [
      "Mass is conserved. \n",
      "\n",
      "Thermodynamically constrained (with pseudo Keq)\n"
     ]
    }
   ],
   "source": [
    "MKM1 = MKModel('Atomic_1.csv','Stoich_1.csv','Param_1.csv') #Defining the Model"
   ]
  },
  {
   "cell_type": "code",
   "execution_count": 3,
   "id": "592900aa",
   "metadata": {},
   "outputs": [
    {
     "data": {
      "text/plain": [
       "array([[-1, 0, 0, 1, 0, 0, -1],\n",
       "       [0, -1, 0, 0, 0, 1, -1],\n",
       "       [0, 0, 0, 0, 2, -1, -1],\n",
       "       [0, 0, 1, -1, -1, 0, 2]], dtype=object)"
      ]
     },
     "execution_count": 3,
     "metadata": {},
     "output_type": "execute_result"
    }
   ],
   "source": [
    "mat  = MKM1.Stoich.to_numpy()[:,1:]\n",
    "mat"
   ]
  },
  {
   "cell_type": "code",
   "execution_count": 4,
   "id": "88bac73f",
   "metadata": {},
   "outputs": [
    {
     "data": {
      "text/plain": [
       "array([[-1,  0,  0,  1,  0,  0, -1],\n",
       "       [ 0, -1,  0,  0,  0,  1, -1],\n",
       "       [ 0,  0,  0,  0,  2, -1, -1],\n",
       "       [ 0,  0,  1, -1, -1,  0,  2],\n",
       "       [ 0,  0,  1, -1,  1, -1,  1]])"
      ]
     },
     "execution_count": 4,
     "metadata": {},
     "output_type": "execute_result"
    }
   ],
   "source": [
    "#5 steps\n",
    "A_n = np.array([[-1,0,0,1,0,0,-1],\n",
    "              [0,-1,0,0,0,1,-1],\n",
    "              [0,0,0,0,2,-1,-1],\n",
    "              [0,0,1,-1,-1,0,2],\n",
    "              [0,0,1,-1,1,-1,1]])\n",
    "A_n"
   ]
  },
  {
   "cell_type": "code",
   "execution_count": 5,
   "id": "a9ca8359",
   "metadata": {},
   "outputs": [],
   "source": [
    "mat = mat.astype(float)"
   ]
  },
  {
   "cell_type": "code",
   "execution_count": 6,
   "id": "b9ec0eb5",
   "metadata": {},
   "outputs": [
    {
     "name": "stdout",
     "output_type": "stream",
     "text": [
      "The matrix is linearly dependent.\n"
     ]
    }
   ],
   "source": [
    "matrix = A_n\n",
    "rank = np.linalg.matrix_rank(matrix)\n",
    "\n",
    "# Check if the matrix is linearly independent\n",
    "\n",
    "if rank == min(matrix.shape):\n",
    "    print(\"The matrix is linearly independent.\")\n",
    "else:\n",
    "    print(\"The matrix is linearly dependent.\")"
   ]
  },
  {
   "cell_type": "code",
   "execution_count": 7,
   "id": "91f3e9df",
   "metadata": {},
   "outputs": [
    {
     "name": "stdout",
     "output_type": "stream",
     "text": [
      "The matrix is linearly independent.\n"
     ]
    }
   ],
   "source": [
    "matrix = mat\n",
    "rank = np.linalg.matrix_rank(matrix)\n",
    "\n",
    "# Check if the matrix is linearly independent\n",
    "\n",
    "if rank == min(matrix.shape):\n",
    "    print(\"The matrix is linearly independent.\")\n",
    "else:\n",
    "    print(\"The matrix is linearly dependent.\")"
   ]
  },
  {
   "cell_type": "code",
   "execution_count": 8,
   "id": "2d78de8f",
   "metadata": {},
   "outputs": [
    {
     "name": "stdout",
     "output_type": "stream",
     "text": [
      "Dependent rows: [4]\n"
     ]
    }
   ],
   "source": [
    "\n",
    "def find_dependent_rows(data_matrix, tolerance=1e-10):\n",
    "    \"\"\"\n",
    "    Finds and returns a list of dependent rows in the given data matrix using SVD.\n",
    "\n",
    "    Parameters:\n",
    "        data_matrix (numpy.ndarray): The data matrix as a 2D array.\n",
    "        tolerance (float, optional): Tolerance value for considering a singular value as zero.\n",
    "                                     Default is 1e-10.\n",
    "\n",
    "    Returns:\n",
    "        list: A list of row indices that are dependent (linearly dependent rows).\n",
    "    \"\"\"\n",
    "    # Perform SVD on the data matrix\n",
    "    _, singular_values, _ = np.linalg.svd(data_matrix)\n",
    "\n",
    "    # Set a threshold for identifying zero singular values\n",
    "    threshold = tolerance * max(data_matrix.shape) * singular_values[0]\n",
    "\n",
    "    # Find the dependent rows based on singular values\n",
    "    dependent_rows = [i for i, s in enumerate(singular_values) if abs(s) < threshold]\n",
    "\n",
    "    return dependent_rows\n",
    "\n",
    "# Example usage:\n",
    "data = A_n\n",
    "\n",
    "dependent_rows = find_dependent_rows(data)\n",
    "print(\"Dependent rows:\", dependent_rows)"
   ]
  },
  {
   "cell_type": "code",
   "execution_count": 9,
   "id": "ace1d174",
   "metadata": {},
   "outputs": [
    {
     "name": "stdout",
     "output_type": "stream",
     "text": [
      "Dependent rows: []\n"
     ]
    }
   ],
   "source": [
    "# Example usage:\n",
    "data = mat\n",
    "\n",
    "dependent_rows = find_dependent_rows(data)\n",
    "print(\"Dependent rows:\", dependent_rows)"
   ]
  }
 ],
 "metadata": {
  "kernelspec": {
   "display_name": "Python 3 (ipykernel)",
   "language": "python",
   "name": "python3"
  },
  "language_info": {
   "codemirror_mode": {
    "name": "ipython",
    "version": 3
   },
   "file_extension": ".py",
   "mimetype": "text/x-python",
   "name": "python",
   "nbconvert_exporter": "python",
   "pygments_lexer": "ipython3",
   "version": "3.9.7"
  }
 },
 "nbformat": 4,
 "nbformat_minor": 5
}
