{
 "cells": [
  {
   "cell_type": "code",
   "execution_count": 18,
   "id": "f77ed889",
   "metadata": {},
   "outputs": [],
   "source": [
    "%matplotlib notebook\n",
    "import matplotlib.pyplot as plt\n",
    "import numpy as np\n",
    "import glob\n",
    "import pandas as pd"
   ]
  },
  {
   "cell_type": "code",
   "execution_count": 19,
   "id": "5c2eefe6",
   "metadata": {},
   "outputs": [
    {
     "data": {
      "text/html": [
       "<div>\n",
       "<style scoped>\n",
       "    .dataframe tbody tr th:only-of-type {\n",
       "        vertical-align: middle;\n",
       "    }\n",
       "\n",
       "    .dataframe tbody tr th {\n",
       "        vertical-align: top;\n",
       "    }\n",
       "\n",
       "    .dataframe thead th {\n",
       "        text-align: right;\n",
       "    }\n",
       "</style>\n",
       "<table border=\"1\" class=\"dataframe\">\n",
       "  <thead>\n",
       "    <tr style=\"text-align: right;\">\n",
       "      <th></th>\n",
       "      <th>Mol_frac</th>\n",
       "      <th>Pressure</th>\n",
       "      <th>Sim_number</th>\n",
       "      <th>Occurence</th>\n",
       "    </tr>\n",
       "  </thead>\n",
       "  <tbody>\n",
       "    <tr>\n",
       "      <th>0</th>\n",
       "      <td>O2_0.5_CO_0.5_CO2_0.0</td>\n",
       "      <td>O2_0.5_CO_0.5_CO2_0.0/1e-06_bar</td>\n",
       "      <td>O2_0.5_CO_0.5_CO2_0.0/1e-06_bar/Sim_A_25_B_0</td>\n",
       "      <td>1.0</td>\n",
       "    </tr>\n",
       "    <tr>\n",
       "      <th>1</th>\n",
       "      <td>O2_0.5_CO_0.5_CO2_0.0</td>\n",
       "      <td>O2_0.5_CO_0.5_CO2_0.0/1e-06_bar</td>\n",
       "      <td>O2_0.5_CO_0.5_CO2_0.0/1e-06_bar/Sim_A_75_B_25</td>\n",
       "      <td>1.0</td>\n",
       "    </tr>\n",
       "    <tr>\n",
       "      <th>2</th>\n",
       "      <td>O2_0.5_CO_0.5_CO2_0.0</td>\n",
       "      <td>O2_0.5_CO_0.5_CO2_0.0/1e-06_bar</td>\n",
       "      <td>O2_0.5_CO_0.5_CO2_0.0/1e-06_bar/Sim_A_0_B_25</td>\n",
       "      <td>1.0</td>\n",
       "    </tr>\n",
       "    <tr>\n",
       "      <th>3</th>\n",
       "      <td>O2_0.5_CO_0.5_CO2_0.0</td>\n",
       "      <td>O2_0.5_CO_0.5_CO2_0.0/1e-06_bar</td>\n",
       "      <td>O2_0.5_CO_0.5_CO2_0.0/1e-06_bar/Sim_A_0_B_100</td>\n",
       "      <td>1.0</td>\n",
       "    </tr>\n",
       "    <tr>\n",
       "      <th>4</th>\n",
       "      <td>O2_0.5_CO_0.5_CO2_0.0</td>\n",
       "      <td>O2_0.5_CO_0.5_CO2_0.0/1e-06_bar</td>\n",
       "      <td>O2_0.5_CO_0.5_CO2_0.0/1e-06_bar/Sim_A_50_B_50</td>\n",
       "      <td>1.0</td>\n",
       "    </tr>\n",
       "    <tr>\n",
       "      <th>...</th>\n",
       "      <td>...</td>\n",
       "      <td>...</td>\n",
       "      <td>...</td>\n",
       "      <td>...</td>\n",
       "    </tr>\n",
       "    <tr>\n",
       "      <th>265</th>\n",
       "      <td>O2_1.0_CO_0.0_CO2_0.0</td>\n",
       "      <td>O2_1.0_CO_0.0_CO2_0.0/10.0_bar</td>\n",
       "      <td>O2_1.0_CO_0.0_CO2_0.0/10.0_bar/Sim_A_0_B_75</td>\n",
       "      <td>1.0</td>\n",
       "    </tr>\n",
       "    <tr>\n",
       "      <th>266</th>\n",
       "      <td>O2_1.0_CO_0.0_CO2_0.0</td>\n",
       "      <td>O2_1.0_CO_0.0_CO2_0.0/10.0_bar</td>\n",
       "      <td>O2_1.0_CO_0.0_CO2_0.0/10.0_bar/Sim_A_75_B_0</td>\n",
       "      <td>1.0</td>\n",
       "    </tr>\n",
       "    <tr>\n",
       "      <th>267</th>\n",
       "      <td>O2_1.0_CO_0.0_CO2_0.0</td>\n",
       "      <td>O2_1.0_CO_0.0_CO2_0.0/10.0_bar</td>\n",
       "      <td>O2_1.0_CO_0.0_CO2_0.0/10.0_bar/Sim_A_50_B_25</td>\n",
       "      <td>1.0</td>\n",
       "    </tr>\n",
       "    <tr>\n",
       "      <th>268</th>\n",
       "      <td>O2_1.0_CO_0.0_CO2_0.0</td>\n",
       "      <td>O2_1.0_CO_0.0_CO2_0.0/10.0_bar</td>\n",
       "      <td>O2_1.0_CO_0.0_CO2_0.0/10.0_bar/Sim_A_0_B_50</td>\n",
       "      <td>1.0</td>\n",
       "    </tr>\n",
       "    <tr>\n",
       "      <th>269</th>\n",
       "      <td>O2_1.0_CO_0.0_CO2_0.0</td>\n",
       "      <td>O2_1.0_CO_0.0_CO2_0.0/10.0_bar</td>\n",
       "      <td>O2_1.0_CO_0.0_CO2_0.0/10.0_bar/Sim_A_25_B_75</td>\n",
       "      <td>1.0</td>\n",
       "    </tr>\n",
       "  </tbody>\n",
       "</table>\n",
       "<p>270 rows × 4 columns</p>\n",
       "</div>"
      ],
      "text/plain": [
       "                  Mol_frac                         Pressure  \\\n",
       "0    O2_0.5_CO_0.5_CO2_0.0  O2_0.5_CO_0.5_CO2_0.0/1e-06_bar   \n",
       "1    O2_0.5_CO_0.5_CO2_0.0  O2_0.5_CO_0.5_CO2_0.0/1e-06_bar   \n",
       "2    O2_0.5_CO_0.5_CO2_0.0  O2_0.5_CO_0.5_CO2_0.0/1e-06_bar   \n",
       "3    O2_0.5_CO_0.5_CO2_0.0  O2_0.5_CO_0.5_CO2_0.0/1e-06_bar   \n",
       "4    O2_0.5_CO_0.5_CO2_0.0  O2_0.5_CO_0.5_CO2_0.0/1e-06_bar   \n",
       "..                     ...                              ...   \n",
       "265  O2_1.0_CO_0.0_CO2_0.0   O2_1.0_CO_0.0_CO2_0.0/10.0_bar   \n",
       "266  O2_1.0_CO_0.0_CO2_0.0   O2_1.0_CO_0.0_CO2_0.0/10.0_bar   \n",
       "267  O2_1.0_CO_0.0_CO2_0.0   O2_1.0_CO_0.0_CO2_0.0/10.0_bar   \n",
       "268  O2_1.0_CO_0.0_CO2_0.0   O2_1.0_CO_0.0_CO2_0.0/10.0_bar   \n",
       "269  O2_1.0_CO_0.0_CO2_0.0   O2_1.0_CO_0.0_CO2_0.0/10.0_bar   \n",
       "\n",
       "                                        Sim_number  Occurence  \n",
       "0     O2_0.5_CO_0.5_CO2_0.0/1e-06_bar/Sim_A_25_B_0        1.0  \n",
       "1    O2_0.5_CO_0.5_CO2_0.0/1e-06_bar/Sim_A_75_B_25        1.0  \n",
       "2     O2_0.5_CO_0.5_CO2_0.0/1e-06_bar/Sim_A_0_B_25        1.0  \n",
       "3    O2_0.5_CO_0.5_CO2_0.0/1e-06_bar/Sim_A_0_B_100        1.0  \n",
       "4    O2_0.5_CO_0.5_CO2_0.0/1e-06_bar/Sim_A_50_B_50        1.0  \n",
       "..                                             ...        ...  \n",
       "265    O2_1.0_CO_0.0_CO2_0.0/10.0_bar/Sim_A_0_B_75        1.0  \n",
       "266    O2_1.0_CO_0.0_CO2_0.0/10.0_bar/Sim_A_75_B_0        1.0  \n",
       "267   O2_1.0_CO_0.0_CO2_0.0/10.0_bar/Sim_A_50_B_25        1.0  \n",
       "268    O2_1.0_CO_0.0_CO2_0.0/10.0_bar/Sim_A_0_B_50        1.0  \n",
       "269   O2_1.0_CO_0.0_CO2_0.0/10.0_bar/Sim_A_25_B_75        1.0  \n",
       "\n",
       "[270 rows x 4 columns]"
      ]
     },
     "execution_count": 19,
     "metadata": {},
     "output_type": "execute_result"
    }
   ],
   "source": [
    "Sim_number = []\n",
    "Pressures = []\n",
    "Mol_frac = []\n",
    "Simulation = glob.glob('Mol_Fraction_variation/O2*/*_bar/Sim_*')\n",
    "for i in np.arange(len(Simulation)):\n",
    "    Sim_number.append(Simulation[i][23:])\n",
    "    Pressures.append(Simulation[i].rsplit('/',1)[0][23:])\n",
    "    Mol_frac.append(Simulation[i].rsplit('/',1)[0].rsplit('/',1)[0][23:])\n",
    "    \n",
    "    \n",
    "df = pd.DataFrame(np.array([Mol_frac,Pressures,Sim_number,np.ones(len(Sim_number))]).T)\n",
    "df.columns = ['Mol_frac', 'Pressure', 'Sim_number','Occurence']\n",
    "df[\"Occurence\"] = pd.to_numeric(df[\"Occurence\"])\n",
    "df"
   ]
  },
  {
   "cell_type": "code",
   "execution_count": 20,
   "id": "69b10caf",
   "metadata": {},
   "outputs": [],
   "source": [
    "df = df[df[\"Mol_frac\"] == 'O2_0.5_CO_0.5_CO2_0.0'].iloc[:,1:]"
   ]
  },
  {
   "cell_type": "code",
   "execution_count": 21,
   "id": "5fe620d3",
   "metadata": {},
   "outputs": [
    {
     "data": {
      "text/plain": [
       "1e-06"
      ]
     },
     "execution_count": 21,
     "metadata": {},
     "output_type": "execute_result"
    }
   ],
   "source": [
    "float(str(df.iloc[:,0][1]).rsplit('/',1)[1].rsplit('_bar',1)[0])"
   ]
  },
  {
   "cell_type": "code",
   "execution_count": 22,
   "id": "92f2b38c",
   "metadata": {},
   "outputs": [
    {
     "data": {
      "text/plain": [
       "90"
      ]
     },
     "execution_count": 22,
     "metadata": {},
     "output_type": "execute_result"
    }
   ],
   "source": [
    "len(df.iloc[:,2])"
   ]
  },
  {
   "cell_type": "code",
   "execution_count": 23,
   "id": "e8dee290",
   "metadata": {},
   "outputs": [
    {
     "data": {
      "text/html": [
       "<div>\n",
       "<style scoped>\n",
       "    .dataframe tbody tr th:only-of-type {\n",
       "        vertical-align: middle;\n",
       "    }\n",
       "\n",
       "    .dataframe tbody tr th {\n",
       "        vertical-align: top;\n",
       "    }\n",
       "\n",
       "    .dataframe thead th {\n",
       "        text-align: right;\n",
       "    }\n",
       "</style>\n",
       "<table border=\"1\" class=\"dataframe\">\n",
       "  <thead>\n",
       "    <tr style=\"text-align: right;\">\n",
       "      <th></th>\n",
       "      <th>Pressure</th>\n",
       "      <th>Sim_number</th>\n",
       "      <th>Occurence</th>\n",
       "    </tr>\n",
       "  </thead>\n",
       "  <tbody>\n",
       "    <tr>\n",
       "      <th>0</th>\n",
       "      <td>0.000001</td>\n",
       "      <td>[25, 0]</td>\n",
       "      <td>1.0</td>\n",
       "    </tr>\n",
       "    <tr>\n",
       "      <th>1</th>\n",
       "      <td>0.000001</td>\n",
       "      <td>[75, 25]</td>\n",
       "      <td>1.0</td>\n",
       "    </tr>\n",
       "    <tr>\n",
       "      <th>2</th>\n",
       "      <td>0.000001</td>\n",
       "      <td>[0, 25]</td>\n",
       "      <td>1.0</td>\n",
       "    </tr>\n",
       "    <tr>\n",
       "      <th>3</th>\n",
       "      <td>0.000001</td>\n",
       "      <td>[0, 100]</td>\n",
       "      <td>1.0</td>\n",
       "    </tr>\n",
       "    <tr>\n",
       "      <th>4</th>\n",
       "      <td>0.000001</td>\n",
       "      <td>[50, 50]</td>\n",
       "      <td>1.0</td>\n",
       "    </tr>\n",
       "    <tr>\n",
       "      <th>...</th>\n",
       "      <td>...</td>\n",
       "      <td>...</td>\n",
       "      <td>...</td>\n",
       "    </tr>\n",
       "    <tr>\n",
       "      <th>85</th>\n",
       "      <td>10.000000</td>\n",
       "      <td>[0, 75]</td>\n",
       "      <td>1.0</td>\n",
       "    </tr>\n",
       "    <tr>\n",
       "      <th>86</th>\n",
       "      <td>10.000000</td>\n",
       "      <td>[75, 0]</td>\n",
       "      <td>1.0</td>\n",
       "    </tr>\n",
       "    <tr>\n",
       "      <th>87</th>\n",
       "      <td>10.000000</td>\n",
       "      <td>[50, 25]</td>\n",
       "      <td>1.0</td>\n",
       "    </tr>\n",
       "    <tr>\n",
       "      <th>88</th>\n",
       "      <td>10.000000</td>\n",
       "      <td>[0, 50]</td>\n",
       "      <td>1.0</td>\n",
       "    </tr>\n",
       "    <tr>\n",
       "      <th>89</th>\n",
       "      <td>10.000000</td>\n",
       "      <td>[25, 75]</td>\n",
       "      <td>1.0</td>\n",
       "    </tr>\n",
       "  </tbody>\n",
       "</table>\n",
       "<p>90 rows × 3 columns</p>\n",
       "</div>"
      ],
      "text/plain": [
       "     Pressure Sim_number  Occurence\n",
       "0    0.000001    [25, 0]        1.0\n",
       "1    0.000001   [75, 25]        1.0\n",
       "2    0.000001    [0, 25]        1.0\n",
       "3    0.000001   [0, 100]        1.0\n",
       "4    0.000001   [50, 50]        1.0\n",
       "..        ...        ...        ...\n",
       "85  10.000000    [0, 75]        1.0\n",
       "86  10.000000    [75, 0]        1.0\n",
       "87  10.000000   [50, 25]        1.0\n",
       "88  10.000000    [0, 50]        1.0\n",
       "89  10.000000   [25, 75]        1.0\n",
       "\n",
       "[90 rows x 3 columns]"
      ]
     },
     "execution_count": 23,
     "metadata": {},
     "output_type": "execute_result"
    }
   ],
   "source": [
    "import re\n",
    "labels = df\n",
    "Sim_number_label = []\n",
    "Pressures_label = []\n",
    "Mol_frac_label = []\n",
    "for i in np.arange(len(df.iloc[:,0])):\n",
    "    Pressures_label.append(float(str(df.iloc[:,0][i]).rsplit('/',1)[1].rsplit('_bar',1)[0]))\n",
    "    s = Simulation[i].rsplit('/',1)[0].rsplit('/',1)[0][23:]\n",
    "    p = re.compile(r'\\d+\\.\\d+')  # Compile a pattern to capture float values\n",
    "    floats = [float(i) for i in p.findall(s)]  # Convert strings to float\n",
    "    Mol_frac_label.append(str(floats))\n",
    "    \n",
    "    s = Simulation[i][23:].rsplit('/',1)[1]\n",
    "    p = re.compile(r'\\d+')  # Compile a pattern to capture float values\n",
    "    floats = [int(float(i)) for i in p.findall(s)]  # Convert strings to float\n",
    "    Sim_number_label.append(str(floats))\n",
    "    \n",
    "# labels=labels.assign(Pressure=Mol_frac_label)\n",
    "labels=labels.assign(Pressure=Pressures_label)\n",
    "labels=labels.assign(Sim_number=Sim_number_label)\n",
    "labels"
   ]
  },
  {
   "cell_type": "code",
   "execution_count": 24,
   "id": "ceeab99c",
   "metadata": {},
   "outputs": [
    {
     "data": {
      "text/plain": [
       "['[25, 25]',\n",
       " '[75, 0]',\n",
       " '[25, 0]',\n",
       " '[0, 50]',\n",
       " '[100, 0]',\n",
       " '[25, 50]',\n",
       " '[25, 75]',\n",
       " '[0, 75]',\n",
       " '[50, 0]',\n",
       " '[0, 25]',\n",
       " '[50, 50]',\n",
       " '[0, 100]',\n",
       " '[75, 25]',\n",
       " '[0, 0]',\n",
       " '[50, 25]']"
      ]
     },
     "execution_count": 24,
     "metadata": {},
     "output_type": "execute_result"
    }
   ],
   "source": [
    "inner = df.groupby(['Pressure']).sum()\n",
    "outer = df.groupby(['Sim_number','Pressure']).sum()\n",
    "\n",
    "unique_outer_strings = set()    \n",
    "for s in list(labels.iloc[:,0]):\n",
    "# Assuming the strings are comma-separated values, you may modify this based on your actual input format\n",
    "    unique_outer_strings.add(s)\n",
    "unique_outer_strings = list(unique_outer_strings)\n",
    "inner_label = unique_outer_strings\n",
    "\n",
    "\n",
    "unique_inner_strings = set()    \n",
    "for s in list(labels.iloc[:,1]):\n",
    "# Assuming the strings are comma-separated values, you may modify this based on your actual input format\n",
    "    unique_inner_strings.add(s)\n",
    "unique_inner_strings = list(unique_inner_strings)\n",
    "outer_label = unique_inner_strings\n",
    "\n",
    "outer_label"
   ]
  },
  {
   "cell_type": "code",
   "execution_count": 25,
   "id": "2a8c109c",
   "metadata": {},
   "outputs": [
    {
     "data": {
      "text/plain": [
       "90"
      ]
     },
     "execution_count": 25,
     "metadata": {},
     "output_type": "execute_result"
    }
   ],
   "source": [
    "len(outer.values[:,0])"
   ]
  },
  {
   "cell_type": "code",
   "execution_count": 26,
   "id": "3b8692f0",
   "metadata": {},
   "outputs": [
    {
     "data": {
      "text/plain": [
       "Index(['O2_0.5_CO_0.5_CO2_0.0/0.001_bar', 'O2_0.5_CO_0.5_CO2_0.0/0.1_bar',\n",
       "       'O2_0.5_CO_0.5_CO2_0.0/1.0_bar', 'O2_0.5_CO_0.5_CO2_0.0/10.0_bar',\n",
       "       'O2_0.5_CO_0.5_CO2_0.0/1e-06_bar', 'O2_0.5_CO_0.5_CO2_0.0/20.0_bar'],\n",
       "      dtype='object', name='Pressure')"
      ]
     },
     "execution_count": 26,
     "metadata": {},
     "output_type": "execute_result"
    }
   ],
   "source": [
    "inner.index"
   ]
  },
  {
   "cell_type": "code",
   "execution_count": 27,
   "id": "459ac410",
   "metadata": {},
   "outputs": [
    {
     "data": {
      "text/plain": [
       "array([90.])"
      ]
     },
     "execution_count": 27,
     "metadata": {},
     "output_type": "execute_result"
    }
   ],
   "source": [
    "outer.values.sum().flatten()"
   ]
  },
  {
   "cell_type": "code",
   "execution_count": 28,
   "id": "a95598df",
   "metadata": {},
   "outputs": [
    {
     "data": {
      "text/plain": [
       "90"
      ]
     },
     "execution_count": 28,
     "metadata": {},
     "output_type": "execute_result"
    }
   ],
   "source": [
    "len(outer.values.flatten())"
   ]
  },
  {
   "cell_type": "code",
   "execution_count": 29,
   "id": "6265befd",
   "metadata": {},
   "outputs": [
    {
     "data": {
      "text/plain": [
       "12"
      ]
     },
     "execution_count": 29,
     "metadata": {},
     "output_type": "execute_result"
    }
   ],
   "source": [
    "len(inner.values.flatten())"
   ]
  },
  {
   "cell_type": "code",
   "execution_count": 30,
   "id": "bcb8d997",
   "metadata": {},
   "outputs": [
    {
     "data": {
      "text/plain": [
       "90"
      ]
     },
     "execution_count": 30,
     "metadata": {},
     "output_type": "execute_result"
    }
   ],
   "source": [
    "len(outer_label*len(inner.values[:,1].astype(float).flatten()))"
   ]
  },
  {
   "cell_type": "code",
   "execution_count": 31,
   "id": "52c0c574",
   "metadata": {},
   "outputs": [
    {
     "data": {
      "text/plain": [
       "6"
      ]
     },
     "execution_count": 31,
     "metadata": {},
     "output_type": "execute_result"
    }
   ],
   "source": [
    "# plt.cm.Greens(np.linspace(0.2, 1, len(inner.index)))\n",
    "len(inner.values[:,1].flatten())"
   ]
  },
  {
   "cell_type": "code",
   "execution_count": 3,
   "id": "6a2f57b9",
   "metadata": {},
   "outputs": [
    {
     "ename": "NameError",
     "evalue": "name 'outer_label' is not defined",
     "output_type": "error",
     "traceback": [
      "\u001b[0;31m---------------------------------------------------------------------------\u001b[0m",
      "\u001b[0;31mNameError\u001b[0m                                 Traceback (most recent call last)",
      "Cell \u001b[0;32mIn[3], line 12\u001b[0m\n\u001b[1;32m      9\u001b[0m shades_of_green \u001b[38;5;241m=\u001b[39m \u001b[38;5;124m'\u001b[39m\u001b[38;5;124my\u001b[39m\u001b[38;5;124m'\u001b[39m\n\u001b[1;32m     10\u001b[0m shades_of_blue \u001b[38;5;241m=\u001b[39m \u001b[38;5;124m'\u001b[39m\u001b[38;5;124mb\u001b[39m\u001b[38;5;124m'\u001b[39m\u001b[38;5;66;03m# plt.cm.Blues(np.linspace(0.2, 1, len(inner.index)))\u001b[39;00m\n\u001b[0;32m---> 12\u001b[0m outer_label_ \u001b[38;5;241m=\u001b[39m \u001b[43mouter_label\u001b[49m\u001b[38;5;241m*\u001b[39m\u001b[38;5;28mlen\u001b[39m(inner\u001b[38;5;241m.\u001b[39mvalues[:,\u001b[38;5;241m1\u001b[39m]\u001b[38;5;241m.\u001b[39mastype(\u001b[38;5;28mfloat\u001b[39m)\u001b[38;5;241m.\u001b[39mflatten())\n\u001b[1;32m     13\u001b[0m w,p \u001b[38;5;241m=\u001b[39m ax\u001b[38;5;241m.\u001b[39mpie(outer\u001b[38;5;241m.\u001b[39mvalues[:,\u001b[38;5;241m0\u001b[39m]\u001b[38;5;241m.\u001b[39mflatten(), labels \u001b[38;5;241m=\u001b[39m outer_label_, abeldistance\u001b[38;5;241m=\u001b[39m\u001b[38;5;241m1.05\u001b[39m, colors\u001b[38;5;241m=\u001b[39mshades_of_green, \n\u001b[1;32m     14\u001b[0m              radius\u001b[38;5;241m=\u001b[39m\u001b[38;5;241m1\u001b[39m\u001b[38;5;241m+\u001b[39m(size), wedgeprops\u001b[38;5;241m=\u001b[39m{\u001b[38;5;124m\"\u001b[39m\u001b[38;5;124mlinewidth\u001b[39m\u001b[38;5;124m\"\u001b[39m: \u001b[38;5;241m1\u001b[39m, \u001b[38;5;124m\"\u001b[39m\u001b[38;5;124medgecolor\u001b[39m\u001b[38;5;124m\"\u001b[39m: \u001b[38;5;124m\"\u001b[39m\u001b[38;5;124mwhite\u001b[39m\u001b[38;5;124m\"\u001b[39m}, \n\u001b[1;32m     15\u001b[0m              textprops\u001b[38;5;241m=\u001b[39m{\u001b[38;5;124m'\u001b[39m\u001b[38;5;124mfontsize\u001b[39m\u001b[38;5;124m'\u001b[39m: \u001b[38;5;241m5\u001b[39m, \u001b[38;5;124m'\u001b[39m\u001b[38;5;124mcolor\u001b[39m\u001b[38;5;124m'\u001b[39m:\u001b[38;5;124m'\u001b[39m\u001b[38;5;124mblack\u001b[39m\u001b[38;5;124m'\u001b[39m, \u001b[38;5;124m'\u001b[39m\u001b[38;5;124mweight\u001b[39m\u001b[38;5;124m'\u001b[39m:\u001b[38;5;124m'\u001b[39m\u001b[38;5;124mbold\u001b[39m\u001b[38;5;124m'\u001b[39m},\n\u001b[1;32m     16\u001b[0m                frame\u001b[38;5;241m=\u001b[39m\u001b[38;5;28;01mFalse\u001b[39;00m, startangle\u001b[38;5;241m=\u001b[39m\u001b[38;5;241m0\u001b[39m, pctdistance\u001b[38;5;241m=\u001b[39m\u001b[38;5;241m1\u001b[39m)\n\u001b[1;32m     18\u001b[0m \u001b[38;5;66;03m# set required distance per segment from chart center\u001b[39;00m\n",
      "\u001b[0;31mNameError\u001b[0m: name 'outer_label' is not defined"
     ]
    },
    {
     "data": {
      "image/png": "[encoded data removed]",
      "text/plain": [
       "<Figure size 1500x600 with 1 Axes>"
      ]
     },
     "metadata": {},
     "output_type": "display_data"
    }
   ],
   "source": [
    "import matplotlib.pyplot as plt\n",
    "from matplotlib.patheffects import withStroke\n",
    "\n",
    "import numpy as np\n",
    "\n",
    "fig, ax = plt.subplots(figsize=(15,6))\n",
    "size = 0.3\n",
    "\n",
    "shades_of_green = 'y'\n",
    "shades_of_blue = 'b'# plt.cm.Blues(np.linspace(0.2, 1, len(inner.index)))\n",
    "\n",
    "outer_label_ = outer_label*len(inner.values[:,1].astype(float).flatten())\n",
    "w,p = ax.pie(outer.values[:,0].flatten(), labels = outer_label_, abeldistance=1.05, colors=shades_of_green, \n",
    "             radius=1+(size), wedgeprops={\"linewidth\": 1, \"edgecolor\": \"white\"}, \n",
    "             textprops={'fontsize': 5, 'color':'black', 'weight':'bold'},\n",
    "               frame=False, startangle=0, pctdistance=1)\n",
    "\n",
    "# set required distance per segment from chart center\n",
    "pctdists = [1-(size)+0.2]*len(outer.values.flatten())\n",
    "\n",
    "for t, d in zip(p, pctdists):\n",
    "    xi, yi = t.get_position()\n",
    "    ri = np.sqrt(xi**2+yi**2)\n",
    "    phi = np.arctan2(yi,xi)\n",
    "    x = d*ri*np.cos(phi)\n",
    "    y = d*ri*np.sin(phi)\n",
    "    t.set_position((x,y))\n",
    "    \n",
    "# w, l, p = ax.pie(inner.values[:,1].astype(float).flatten(), radius=1,\n",
    "# #        labels=inner.index,\n",
    "#        colors=shades_of_blue,\n",
    "#        wedgeprops=dict(width=size, edgecolor='w'))\n",
    "\n",
    "# w,l,p = ax.pie(inner.values[:,1].flatten(), radius=1, colors=shades_of_blue,)\n",
    "\n",
    "w,p = ax.pie(inner.values[:,1].flatten(), labels = inner_label, colors=shades_of_blue, radius=1, wedgeprops={\"linewidth\": 1, \"edgecolor\": \"white\"}, \n",
    "               frame=False, startangle=0, pctdistance=1)\n",
    "\n",
    "# set required distance per segment from chart center\n",
    "pctdists = [.5]*len(inner.values[:,1].flatten())\n",
    "\n",
    "for t, d in zip(p, pctdists):\n",
    "    xi, yi = t.get_position()\n",
    "    ri = np.sqrt(xi**2+yi**2)\n",
    "    phi = np.arctan2(yi,xi)\n",
    "    x = d*ri*np.cos(phi)\n",
    "    y = d*ri*np.sin(phi)\n",
    "    t.set_position((x,y))\n",
    "\n",
    "\n",
    "# # set required distance per segment from chart center\n",
    "# pctdists = [.92, .3, .3, .3]\n",
    "\n",
    "# for t, d in zip(p, pctdists):\n",
    "#     xi, yi = t.get_position()\n",
    "#     ri = np.sqrt(xi**2+yi**2)\n",
    "#     phi = np.arctan2(yi,xi)\n",
    "#     x = d*ri*np.cos(phi)\n",
    "#     y = d*ri*np.sin(phi)\n",
    "#     t.set_position((x,y))\n",
    "\n",
    "\n",
    "# ax.set(aspect=\"equal\", title='Pie plot with `ax.pie`')\n",
    "plt.show()"
   ]
  },
  {
   "cell_type": "code",
   "execution_count": null,
   "id": "361a5191",
   "metadata": {},
   "outputs": [],
   "source": [
    "inner.values[:,1].flatten()"
   ]
  },
  {
   "cell_type": "code",
   "execution_count": null,
   "id": "c6a73af8",
   "metadata": {
    "scrolled": true
   },
   "outputs": [],
   "source": [
    "outer = df.groupby(['Pressure']).sum()\n",
    "inner = df.groupby(['Sim_number','Pressu\\re']).sum()"
   ]
  },
  {
   "cell_type": "code",
   "execution_count": null,
   "id": "ee67f416",
   "metadata": {},
   "outputs": [],
   "source": [
    "import matplotlib.pyplot as plt\n",
    "from matplotlib.patheffects import withStroke\n",
    "\n",
    "import numpy as np\n",
    "\n",
    "fig, ax = plt.subplots(figsize=(15,6))\n",
    "size = 0.3\n",
    "\n",
    "shades_of_green = plt.cm.Greens(np.linspace(0.2, 1, len(inner.index)))\n",
    "shades_of_blue = plt.cm.Blues(np.linspace(0.2, 1, len(inner.index)))\n",
    "\n",
    "\n",
    "ax.pie(outer.values[:,1].flatten(), radius=1+(size), \n",
    "#        labels = inner.index,\n",
    "       colors=shades_of_green,\n",
    "       wedgeprops=dict(width=size, edgecolor='w'))\n",
    "\n",
    "ax.pie(inner.values[:,0].astype(float).flatten(), radius=1,\n",
    "#        labels=inner.index,\n",
    "       colors=shades_of_blue,\n",
    "       wedgeprops=dict(width=size, edgecolor='w'))\n",
    "\n",
    "# ax.set(aspect=\"equal\", title='Pie plot with `ax.pie`')\n",
    "plt.show()"
   ]
  },
  {
   "cell_type": "code",
   "execution_count": null,
   "id": "d13cba3d",
   "metadata": {},
   "outputs": [],
   "source": []
  },
  {
   "cell_type": "code",
   "execution_count": null,
   "id": "07ae6ac4",
   "metadata": {},
   "outputs": [],
   "source": [
    "import matplotlib.pyplot as plt\n",
    "import numpy as np\n",
    "\n",
    "# set chart style\n",
    "# plt.style.use('_mpl-gallery-nogrid')\n",
    "\n",
    "# set data\n",
    "x = [0.1, 2, 3, 4]\n",
    "\n",
    "# set colors of segments\n",
    "colors = plt.get_cmap('GnBu')(np.linspace(0.2, 0.7, len(x)))\n",
    "\n",
    "# plot\n",
    "fig, ax = plt.subplots()\n",
    "w,l,p = ax.pie(x, colors=colors, radius=3, wedgeprops={\"linewidth\": 1, \"edgecolor\": \"white\"}, \n",
    "               frame=False, startangle=0, autopct='%.1f%%', pctdistance=1)\n",
    "\n",
    "# set required distance per segment from chart center\n",
    "pctdists = [.92, .3, .3, .3]\n",
    "\n",
    "for t, d in zip(p, pctdists):\n",
    "    xi, yi = t.get_position()\n",
    "    ri = np.sqrt(xi**2+yi**2)\n",
    "    phi = np.arctan2(yi,xi)\n",
    "    x = d*ri*np.cos(phi)\n",
    "    y = d*ri*np.sin(phi)\n",
    "    t.set_position((x,y))\n",
    "\n",
    "plt.show()"
   ]
  },
  {
   "cell_type": "code",
   "execution_count": null,
   "id": "1dd640cd",
   "metadata": {},
   "outputs": [],
   "source": []
  },
  {
   "cell_type": "code",
   "execution_count": 2,
   "id": "50e162fd",
   "metadata": {},
   "outputs": [
    {
     "data": {
      "image/png": "[encoded data removed]",
      "text/plain": [
       "<Figure size 1000x1000 with 1 Axes>"
      ]
     },
     "metadata": {},
     "output_type": "display_data"
    }
   ],
   "source": [
    "import numpy as np\n",
    "import matplotlib.pyplot as plt\n",
    "\n",
    "def mypie(slices,labels,colors):\n",
    "\n",
    "    colordict={}\n",
    "    for l,c in zip(labels,colors):\n",
    "#         print l,c\n",
    "        colordict[l]=c\n",
    "\n",
    "    fig = plt.figure(figsize=[10, 10])\n",
    "    ax = fig.add_subplot(111)\n",
    "\n",
    "    pie_wedge_collection = ax.pie(slices, labels=labels, labeldistance=1.05)#, autopct=make_autopct(slices))\n",
    "\n",
    "    for pie_wedge in pie_wedge_collection[0]:\n",
    "        pie_wedge.set_edgecolor('white')\n",
    "        pie_wedge.set_facecolor(colordict[pie_wedge.get_label()])\n",
    "\n",
    "    titlestring = 'Issues'\n",
    "\n",
    "    ax.set_title(titlestring)\n",
    "\n",
    "    return fig,ax,pie_wedge_collection\n",
    "\n",
    "slices = [37, 39, 39, 38, 62, 21, 15,  9,  6,  7,  6,  5,  4, 3]\n",
    "cmap = plt.cm.prism\n",
    "colors = cmap(np.linspace(0., 1., len(slices)))\n",
    "labels = [u'TI', u'Con', u'FR', u'TraI', u'Bug', u'Data', u'Int', u'KB', u'Other', u'Dep', u'PW', u'Uns', u'Perf', u'Dep']\n",
    "\n",
    "fig,ax,pie_wedge_collection = mypie(slices,labels,colors)\n",
    "\n",
    "plt.show()"
   ]
  },
  {
   "cell_type": "code",
   "execution_count": null,
   "id": "37025ade",
   "metadata": {},
   "outputs": [],
   "source": []
  }
 ],
 "metadata": {
  "kernelspec": {
   "display_name": "Python 3 (ipykernel)",
   "language": "python",
   "name": "python3"
  },
  "language_info": {
   "codemirror_mode": {
    "name": "ipython",
    "version": 3
   },
   "file_extension": ".py",
   "mimetype": "text/x-python",
   "name": "python",
   "nbconvert_exporter": "python",
   "pygments_lexer": "ipython3",
   "version": "3.9.7"
  }
 },
 "nbformat": 4,
 "nbformat_minor": 5
}
